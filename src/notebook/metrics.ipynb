{
 "cells": [
  {
   "cell_type": "code",
   "execution_count": 1,
   "metadata": {},
   "outputs": [
    {
     "name": "stderr",
     "output_type": "stream",
     "text": [
      "\u001b[32m\u001b[1m    Updating\u001b[22m\u001b[39m registry at `~/.julia/registries/General.toml`\n"
     ]
    },
    {
     "name": "stderr",
     "output_type": "stream",
     "text": [
      "\u001b[32m\u001b[1m  No Changes\u001b[22m\u001b[39m to `~/Documents/vscode/DevCommunities/Project.toml`\n",
      "\u001b[32m\u001b[1m  No Changes\u001b[22m\u001b[39m to `~/Documents/vscode/DevCommunities/Manifest.toml`\n"
     ]
    },
    {
     "name": "stderr",
     "output_type": "stream",
     "text": [
      "\u001b[33m\u001b[1m┌ \u001b[22m\u001b[39m\u001b[33m\u001b[1mWarning: \u001b[22m\u001b[39mThe plotting functionality of HyperNetX will not work!\n",
      "\u001b[33m\u001b[1m│ \u001b[22m\u001b[39mConda Python HyperNetX not found.\n",
      "\u001b[33m\u001b[1m│ \u001b[22m\u001b[39mTo test your installation try running `using PyCall;pyimport(\"networkx\");pyimport(\"hypernetx\")`\n",
      "\u001b[33m\u001b[1m└ \u001b[22m\u001b[39m\u001b[90m@ SimpleHypergraphs ~/.julia/packages/SimpleHypergraphs/lfXYf/src/SimpleHypergraphs.jl:62\u001b[39m\n"
     ]
    },
    {
     "name": "stderr",
     "output_type": "stream",
     "text": [
      "┌ Warning: The plotting functionality of HyperNetX will not work!\n",
      "│ Conda Python HyperNetX not found.\n",
      "│ To test your installation try running `using PyCall;pyimport(\"networkx\");pyimport(\"hypernetx\")`\n",
      "└ @ SimpleHypergraphs /Users/ddevin/.julia/packages/SimpleHypergraphs/lfXYf/src/SimpleHypergraphs.jl:62\n"
     ]
    },
    {
     "data": {
      "text/plain": [
       "20-element Vector{String}:\n",
       " \"apl\"\n",
       " \"bash\"\n",
       " \"c#\"\n",
       " \"clojure\"\n",
       " \"dart\"\n",
       " \"delphi\"\n",
       " \"elixir\"\n",
       " \"f#\"\n",
       " \"go\"\n",
       " \"html\"\n",
       " \"javascript\"\n",
       " \"julia\"\n",
       " \"kotlin\"\n",
       " \"lisp\"\n",
       " \"python\"\n",
       " \"rust\"\n",
       " \"solidity\"\n",
       " \"sql\"\n",
       " \"swift\"\n",
       " \"typescript\""
      ]
     },
     "metadata": {},
     "output_type": "display_data"
    }
   ],
   "source": [
    "using Pkg\n",
    "Pkg.update()\n",
    "Pkg.instantiate()\n",
    "\n",
    "using DevCommunities\n",
    "using SimpleHypergraphs\n",
    "\n",
    "# g = build_hg(\"../../hgs/apl.hg\")\n",
    "# num_nodes = nhv(g[1])\n",
    "# num_edges = nhe(g[1])\n",
    "# println(\"Number of nodes: $num_nodes\")\n",
    "# println(\"Number of edges: $num_edges\")\n",
    "\n",
    "my_tags_so = [\"rust\" ,\"elixir\",\"clojure\", \"typescript\" ,\"julia\", \"python\", \"delphi\", \"go\" ,\"sql\", \"c#\" ,\"kotlin\", \"swift\" ,\"dart\" ,\"html\", \"solidity\", \"javascript\", \"f#\", \"bash\" ,\"lisp\", \"apl\"]\n",
    "# order by lexigraphical order\n",
    "my_tags_so = sort(my_tags_so)"
   ]
  },
  {
   "cell_type": "code",
   "execution_count": null,
   "metadata": {},
   "outputs": [],
   "source": [
    "\n",
    "\n",
    "# for i in 1:length(my_tags_so)\n",
    "#     g = build_hg(\"../../hgs/apl.hg\")\n",
    "#     num_nodes = nhv(g[1])\n",
    "#     num_edges = nhe(g[1])\n",
    "#     println(\"Number of nodes: $num_nodes\")\n",
    "#     println(\"Number of edges: $num_edges\")\n",
    "# end"
   ]
  },
  {
   "cell_type": "code",
   "execution_count": null,
   "metadata": {},
   "outputs": [],
   "source": [
    "\n",
    "# rm_pa = random_model(num_nodes, num_edges)\n",
    "# average on 10 run | grafo casuale = numero nodes del real graph\n",
    "# preferential attachament\n",
    "# hg_save(\"../../randoms/random500\", rm1)\n",
    "# end\n",
    "#1000x1000\n",
    "# motifs_random = [0,87,472,256977,14,112208,0,218303,501,3758514,0,5467523,9213,319352,7407153,144547536,0,32143,0,412031,4,1688973,0,302,112254,1626941]\n",
    "#100x100\n",
    "# motifs_random = [0,6,299,2346,11,724,118,5423,30,12916,2,14070,107,1885,20589,86915,0,519,1,3951,4,5240,0,11,695,3849]\n",
    "#500x500\n",
    "# motifs_random = [3,19,849,77852,62,17699,35,100549,1168,870515,9,959371,7729,154033,1519553,16308126,0,9921,5,120155,2,226943,0,140,17499,257965]\n",
    "\n",
    "\n",
    "rm_pa = random_preferential_model(num_nodes, 0.8)\n",
    "hg_save(\"../../randoms/randomPIPE\", rm_pa)\n",
    "\n",
    "# open file\n",
    "r = open(\"../../randoms/randomPIPE\")\n",
    "# substitue in each line \"=true\" with \",\"\n",
    "run(`sed -i '' 's/=true/,/g' ../../randoms/randomPIPE`)\n",
    "# remove first line\n",
    "run(`sed -i '' '1d' ../../randoms/randomPIPE`)\n",
    "# hash and rewriting id\n",
    "run(`python3 rewrite.py ../../randoms/randomPIPE $num_edges`)"
   ]
  },
  {
   "cell_type": "code",
   "execution_count": 13,
   "metadata": {},
   "outputs": [
    {
     "data": {
      "text/plain": [
       "build_hg_randoms (generic function with 1 method)"
      ]
     },
     "metadata": {},
     "output_type": "display_data"
    }
   ],
   "source": [
    "function build_hg_randoms(path)\n",
    "\n",
    "    nodes = Dict{Int,Int}()\n",
    "    degree_nodes = Dict{Int,Int}()\n",
    "    nodes_per_edge = Dict{Int,Vector{Int}}()\n",
    "\n",
    "    print(nodes)\n",
    "    hg = Hypergraph(0,0)\n",
    "    for line in eachline(\"../../hgs/apl.hg\")\n",
    "        # split elemnts of the line by comma\n",
    "        d = split(line, \",\")\n",
    "        vs = map(x -> parse(Int,(strip(replace(x, r\"\\[|\\]\" => \"\")))), d)\n",
    "        for v in vs\n",
    "            if !haskey(nodes, v)\n",
    "                v_id = SimpleHypergraphs.add_vertex!(hg)\n",
    "                push!(nodes, v=>v_id)\n",
    "            end\n",
    "        end\n",
    "        # add he \n",
    "        vertices = Dict{Int, Bool}(nodes[v] => true for v in vs)\n",
    "\n",
    "        # count degree of each node\n",
    "        for v in vs\n",
    "            if !haskey(degree_nodes, v)\n",
    "                degree_nodes[v] = 0\n",
    "            end\n",
    "            degree_nodes[v] += 1\n",
    "        end\n",
    "        \n",
    "        he_id = SimpleHypergraphs.add_hyperedge!(hg; vertices = vertices)\n",
    "        push!(nodes_per_edge, he_id => vs)  \n",
    "    end\n",
    "\n",
    "    sum_degree_nodes = sum(values(degree_nodes))\n",
    "    sum_degree_edges = sum(values(length(nodes_per_edge)))\n",
    "\n",
    "    function prob_nodes(v)\n",
    "        return degree_nodes[v]/sum_degree_nodes\n",
    "    end\n",
    "\n",
    "    function prob_edges(e)\n",
    "        return length(nodes_per_edge[e])/sum_degree_edges\n",
    "    end\n",
    "\n",
    "    random_nodes_probs = Dict{Int,Float64}()\n",
    "    random_edges_probs = Dict{Int,Float64}()\n",
    "\n",
    "    for key in keys(nodes)\n",
    "        pr = prob_nodes(key)\n",
    "        random_nodes_probs[key] = pr\n",
    "    end\n",
    "\n",
    "    for key in keys(nodes_per_edge)\n",
    "        pr = prob_edges(key)\n",
    "        random_edges_probs[key] = pr\n",
    "    end\n",
    "\n",
    "    random_nodes = Dict{Int,Int}()\n",
    "    random_nodes_per_edge = Dict{Int,Vector{Int}}()\n",
    "\n",
    "    random_hg = Hypergraph(0,0)\n",
    "\n",
    "    for i in 1:sum_degree_nodes\n",
    "        v = sample(collect(keys(sort(random_nodes_probs))), pweights(ProbabilityWeights(collect(values(sort(random_nodes_probs))))))\n",
    "        e = sample(collect(keys(sort(random_edges_probs))), pweights(ProbabilityWeights(collect(values(sort(random_edges_probs))))))\n",
    "        if !haskey(random_nodes, v)\n",
    "            v_id = SimpleHypergraphs.add_vertex!(random_hg)\n",
    "            push!(random_nodes, v=>v_id)\n",
    "        end\n",
    "\n",
    "        if !haskey(random_nodes_per_edge, e)\n",
    "            random_nodes_per_edge[e] = []\n",
    "        end\n",
    "        random_nodes_per_edge[e] = push!(random_nodes_per_edge[e], v)        \n",
    "    end\n",
    "\n",
    "    for key in keys(random_nodes_per_edge)\n",
    "        vertices = Dict{Int, Bool}(random_nodes[v] => true for v in random_nodes_per_edge[key])\n",
    "        he_id = SimpleHypergraphs.add_hyperedge!(random_hg; vertices = vertices)\n",
    "    end\n",
    "\n",
    "        return random_hg\n",
    "    end"
   ]
  },
  {
   "cell_type": "code",
   "execution_count": 14,
   "metadata": {},
   "outputs": [
    {
     "name": "stdout",
     "output_type": "stream",
     "text": [
      "Dict{Int64, Int64}()"
     ]
    },
    {
     "data": {
      "text/plain": [
       "909×958 Hypergraph{Bool, Nothing, Nothing, Dict{Int64, Bool}}:\n",
       " nothing  nothing  nothing  nothing  …  nothing  true             nothing\n",
       " nothing  nothing  nothing  nothing     nothing      nothing      nothing\n",
       " nothing  nothing  nothing  nothing     nothing      nothing  true\n",
       " nothing  nothing  nothing  nothing     nothing      nothing      nothing\n",
       " nothing  nothing  nothing  nothing     nothing      nothing      nothing\n",
       " nothing  nothing  nothing  nothing  …  nothing      nothing      nothing\n",
       " nothing  nothing  nothing  nothing     nothing      nothing      nothing\n",
       " nothing  nothing  nothing  nothing     nothing      nothing      nothing\n",
       " nothing  nothing  nothing  nothing     nothing      nothing      nothing\n",
       " nothing  nothing  nothing  nothing     nothing      nothing      nothing\n",
       " ⋮                                   ⋱  ⋮                     \n",
       " nothing  nothing  nothing  nothing  …  nothing      nothing      nothing\n",
       " nothing  nothing  nothing  nothing     nothing      nothing      nothing\n",
       " nothing  nothing  nothing  nothing     nothing      nothing      nothing\n",
       " nothing  nothing  nothing  nothing     nothing      nothing      nothing\n",
       " nothing  nothing  nothing  nothing     nothing      nothing      nothing\n",
       " nothing  nothing  nothing  nothing  …  nothing      nothing      nothing\n",
       " nothing  nothing  nothing  nothing     nothing      nothing      nothing\n",
       " nothing  nothing  nothing  nothing     nothing      nothing      nothing\n",
       " nothing  nothing  nothing  nothing     nothing      nothing      nothing"
      ]
     },
     "metadata": {},
     "output_type": "display_data"
    }
   ],
   "source": [
    "using StatsBase\n",
    "rg = build_hg_randoms(\"../../hgs/apl.hg\")\n",
    "\n",
    "\n",
    "\n",
    "# println(nhv(random_hg))\n",
    "# println(nhe(random_hg))\n",
    "# hg_save(\"../../randoms/realRandom\", random_hg)\n"
   ]
  },
  {
   "cell_type": "code",
   "execution_count": null,
   "metadata": {},
   "outputs": [],
   "source": [
    "all_arrays = []\n",
    "for i in 1:4\n",
    "    # g = build_hg(\"../../hgs/apl.hg\")\n",
    "    println(\"building hg for tag: \"*my_tags_so[i])\n",
    "    g = build_hg(\"../../hgs/\"*my_tags_so[i]*\".hg\")\n",
    "    num_nodes = nhv(g[1])\n",
    "    num_edges = nhe(g[1])\n",
    "    println(\"Number of nodes: $num_nodes\")\n",
    "    println(\"Number of edges: $num_edges\")\n",
    "\n",
    "    total_random_motif_count = [0 for i in 1:26]\n",
    "    # generate 5 model and do average counting\n",
    "    for i in range(1,4)\n",
    "        rm_pa = random_preferential_model(num_nodes, 0.8)\n",
    "        hg_save(\"../../randoms/randomPIPE\", rm_pa)\n",
    "        \n",
    "        # open file\n",
    "        r1 = open(\"../../randoms/randomPIPE\")\n",
    "        # substitue in each line \"=true\" with \",\"\n",
    "        run(`sed -i '' 's/=true/,/g' ../../randoms/randomPIPE`)\n",
    "        # remove first line\n",
    "        run(`sed -i '' '1d' ../../randoms/randomPIPE`)\n",
    "        # hash and rewriting id\n",
    "        run(`python3 rewrite.py ../../randoms/randomPIPE $num_edges`)\n",
    "        \n",
    "        run(`bash /Users/ddevin/Documents/MoCHy/run_exact.sh \"/Users/ddevin/Documents/vscode/DevCommunities/randoms/randomPIPE.hg\"`)\n",
    "        # run(`bash /Users/ddevin/Documents/MoCHy/run_exact.sh \"/Users/ddevin/Documents/vscode/DevCommunities/hgs/apl.hg\"`)\n",
    "        close(r1)\n",
    "        r2 = open(\"/Users/ddevin/Documents/vscode/DevCommunities/script_dump/dumpPIPE.txt\")\n",
    "        array = []\n",
    "        for line in eachline(r2)\n",
    "            if occursin(\"motif\", line)\n",
    "                if occursin(\"counting\", line)\n",
    "                    continue\n",
    "                end\n",
    "                # find integers in line after \":\"\n",
    "                motif = parse.(Int64, split(line, \":\")[2:end])\n",
    "                push!(array, motif[1])\n",
    "            end\n",
    "        end\n",
    "        # array of any to array of integers\n",
    "        array = convert(Array{Int64}, array)\n",
    "        total_random_motif_count = [x + y for (x, y) in zip(array, total_random_motif_count)]\n",
    "        close(r2)\n",
    "        println(\"done with random model \"*string(i))\n",
    "        flush(stdout)\n",
    "        # flush\n",
    "    end\n",
    "\n",
    "    total_random_motif_count = [x / 5 for x in total_random_motif_count]\n",
    "    total_random_motif_count = ceil.(Int64, total_random_motif_count)\n",
    "    println(total_random_motif_count)\n",
    "    push!(all_arrays, total_random_motif_count)\n",
    "end\n",
    "\n",
    "println(all_arrays)\n",
    "# write to file\n",
    "open(\"/Users/ddevin/Documents/vscode/DevCommunities/results/all_motifs_counted.csv\", \"a\") do io\n",
    "    for i in 1:4\n",
    "        for j in 1:26\n",
    "            write(io, string(my_tags_so[i]))\n",
    "            write(io, string(all_arrays[i][j]))\n",
    "            write(io, \",\")\n",
    "        end\n",
    "    end\n",
    "end\n",
    "\n",
    "\n",
    "\n"
   ]
  },
  {
   "cell_type": "code",
   "execution_count": null,
   "metadata": {},
   "outputs": [],
   "source": [
    "total_random_motif_count\n",
    "# convert float64 to integers with ceil of number"
   ]
  },
  {
   "cell_type": "code",
   "execution_count": null,
   "metadata": {},
   "outputs": [],
   "source": [
    "# num_motifs = [1077,818707,23,7,5702,6152,25,1,131,27,10,4,0,0,0,0,5,1,8390,1397,41097,124693,9,582,145,53]\n",
    "num_motifs = [2070, 11469, 44796591, 58275821, 16910646, 34130003, 16, 93583226, 404737, 293960662, 70840, 175279493, 1, 4172338, 55998189, 362027234, 0, 0, 31323, 12423927, 14751, 27466910, 0, 152556, 716568, 7659269]\n",
    "\n",
    "function cps(motifs, motifs_random)\n",
    "    eps = 1 #fixed in the paper\n",
    "    deltas = []\n",
    "    sum_deltas = 0\n",
    "    for i in 1:length(motifs)\n",
    "        t = (motifs[i]-motifs_random[i])/(motifs[i]+motifs_random[i]+eps)\n",
    "        push!(deltas, t)\n",
    "        sum_deltas += t^2\n",
    "    end\n",
    "    cp = []\n",
    "    for i in 1:length(motifs)\n",
    "        push!(cp, deltas[i]/sqrt(sum_deltas))\n",
    "    end\n",
    "    return cp\n",
    "end\n",
    "\n",
    "# cp = cps(num_motifs, motifs_random)\n",
    "# println(cp)"
   ]
  },
  {
   "cell_type": "code",
   "execution_count": null,
   "metadata": {},
   "outputs": [],
   "source": [
    "using CSV, DataFrames\n",
    "data = CSV.read(\"../../hgs/motifs.csv\", DataFrame, header=false)\n",
    "\n",
    "# for each column create an array of the values\n",
    "w = open(\"../../results/cpprofilesAPL.csv\", \"w\")\n",
    "\n",
    "for i in 1:size(data, 2)\n",
    "    col = data[:, i]\n",
    "    col = convert(Array{Int64, 1}, col)\n",
    "    cp = cps(col, num_motifs)\n",
    "    new_line = join(cp, \",\")\n",
    "    \n",
    "    write(w, new_line * \"\\n\")\n",
    "end\n",
    "close(w)\n",
    "\n"
   ]
  },
  {
   "cell_type": "code",
   "execution_count": null,
   "metadata": {},
   "outputs": [],
   "source": [
    "using Plots, LinearAlgebra\n",
    "using DelimitedFiles\n",
    "# read matrix from csv file\n",
    "m = readdlm(\"../../results/cpprofiles1000.csv\", ',', Float64)\n",
    "h = heatmap(m)"
   ]
  },
  {
   "cell_type": "code",
   "execution_count": null,
   "metadata": {},
   "outputs": [],
   "source": [
    "using Plots, LinearAlgebra\n",
    "using DelimitedFiles\n",
    "# read matrix from csv file\n",
    "m = readdlm(\"../../results/cpprofiles100.csv\", ',', Float64)\n",
    "heatmap(m, yflip=true)"
   ]
  },
  {
   "cell_type": "code",
   "execution_count": null,
   "metadata": {},
   "outputs": [],
   "source": [
    "# read matrix from csv file\n",
    "m = readdlm(\"../../results/cpprofiles500.csv\", ',', Float64)\n",
    "heatmap(m, yflip=true)"
   ]
  },
  {
   "cell_type": "code",
   "execution_count": null,
   "metadata": {},
   "outputs": [],
   "source": [
    "ccs = SimpleHypergraphs.get_connected_components(g[1])\n",
    "ccs = sort(ccs, by=length, rev=true)\n",
    "# distribution of component sizes\n",
    "ccs_len = length.(ccs)\n",
    "\n"
   ]
  },
  {
   "cell_type": "code",
   "execution_count": null,
   "metadata": {},
   "outputs": [],
   "source": [
    "using PyPlot\n",
    "dict_degree = DevCommunities.degree_histogram(g[1], normalized=true)\n",
    "# bar plot of the degree distribution\n",
    "fig,axs = subplots()\n",
    "axs.bar(collect(keys(dict_degree)), collect(values(dict_degree)), color=\"red\")\n",
    "gcf()\n"
   ]
  }
 ],
 "metadata": {
  "kernelspec": {
   "display_name": "Julia 1.8.3",
   "language": "julia",
   "name": "julia-1.8"
  },
  "language_info": {
   "file_extension": ".jl",
   "mimetype": "application/julia",
   "name": "julia",
   "version": "1.8.3"
  },
  "orig_nbformat": 4
 },
 "nbformat": 4,
 "nbformat_minor": 2
}
