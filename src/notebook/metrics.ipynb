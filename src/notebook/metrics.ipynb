{
 "cells": [
  {
   "cell_type": "code",
   "execution_count": 8,
   "metadata": {},
   "outputs": [
    {
     "data": {
      "text/plain": [
       "20-element Vector{String}:\n",
       " \"apl\"\n",
       " \"bash\"\n",
       " \"c#\"\n",
       " \"clojure\"\n",
       " \"dart\"\n",
       " \"delphi\"\n",
       " \"elixir\"\n",
       " \"f#\"\n",
       " \"go\"\n",
       " \"html\"\n",
       " \"javascript\"\n",
       " \"julia\"\n",
       " \"kotlin\"\n",
       " \"lisp\"\n",
       " \"python\"\n",
       " \"rust\"\n",
       " \"solidity\"\n",
       " \"sql\"\n",
       " \"swift\"\n",
       " \"typescript\""
      ]
     },
     "metadata": {},
     "output_type": "display_data"
    }
   ],
   "source": [
    "using Pkg\n",
    "# Pkg.update()\n",
    "Pkg.instantiate()\n",
    "\n",
    "using DevCommunities\n",
    "using SimpleHypergraphs\n",
    "using StatsBase\n",
    "\n",
    "# g = build_hg(\"../../hgs/apl.hg\")\n",
    "# num_nodes = nhv(g[1])\n",
    "# num_edges = nhe(g[1])\n",
    "# println(\"Number of nodes: $num_nodes\")\n",
    "# println(\"Number of edges: $num_edges\")\n",
    "\n",
    "my_tags_so = [\"rust\" ,\"elixir\",\"clojure\", \"typescript\" ,\"julia\", \"python\", \"delphi\", \"go\" ,\"sql\", \"c#\" ,\"kotlin\", \"swift\" ,\"dart\" ,\"html\", \"solidity\", \"javascript\", \"f#\", \"bash\" ,\"lisp\", \"apl\"]\n",
    "# order by lexigraphical order\n",
    "my_tags_so = sort(my_tags_so)"
   ]
  },
  {
   "cell_type": "code",
   "execution_count": 10,
   "metadata": {},
   "outputs": [
    {
     "data": {
      "text/plain": [
       "build_hg_randoms (generic function with 1 method)"
      ]
     },
     "metadata": {},
     "output_type": "display_data"
    }
   ],
   "source": [
    "function build_hg_randoms(path)\n",
    "\n",
    "    nodes = Dict{Int,Int}()\n",
    "    degree_nodes = Dict{Int,Int}()\n",
    "    nodes_per_edge = Dict{Int,Vector{Int}}()\n",
    "\n",
    "    print(nodes)\n",
    "    hg = Hypergraph(0,0)\n",
    "    for line in eachline(path)\n",
    "        # split elemnts of the line by comma\n",
    "        d = split(line, \",\")\n",
    "        vs = map(x -> parse(Int,(strip(replace(x, r\"\\[|\\]\" => \"\")))), d)\n",
    "        for v in vs\n",
    "            if !haskey(nodes, v)\n",
    "                v_id = SimpleHypergraphs.add_vertex!(hg)\n",
    "                push!(nodes, v=>v_id)\n",
    "            end\n",
    "        end\n",
    "        # add he \n",
    "        vertices = Dict{Int, Bool}(nodes[v] => true for v in vs)\n",
    "\n",
    "        # count degree of each node\n",
    "        for v in vs\n",
    "            if !haskey(degree_nodes, v)\n",
    "                degree_nodes[v] = 0\n",
    "            end\n",
    "            degree_nodes[v] += 1\n",
    "        end\n",
    "        \n",
    "        he_id = SimpleHypergraphs.add_hyperedge!(hg; vertices = vertices)\n",
    "        push!(nodes_per_edge, he_id => vs)  \n",
    "    end\n",
    "\n",
    "    sum_degree_nodes = sum(values(degree_nodes))\n",
    "    sum_degree_edges = sum(values(length(nodes_per_edge)))\n",
    "\n",
    "    function prob_nodes(v)\n",
    "        return degree_nodes[v]/sum_degree_nodes\n",
    "    end\n",
    "\n",
    "    function prob_edges(e)\n",
    "        return length(nodes_per_edge[e])/sum_degree_edges\n",
    "    end\n",
    "\n",
    "    random_nodes_probs = Dict{Int,Float64}()\n",
    "    random_edges_probs = Dict{Int,Float64}()\n",
    "\n",
    "    for key in keys(nodes)\n",
    "        pr = prob_nodes(key)\n",
    "        random_nodes_probs[key] = pr\n",
    "    end\n",
    "\n",
    "    for key in keys(nodes_per_edge)\n",
    "        pr = prob_edges(key)\n",
    "        random_edges_probs[key] = pr\n",
    "    end\n",
    "\n",
    "    random_nodes = Dict{Int,Int}()\n",
    "    random_nodes_per_edge = Dict{Int,Vector{Int}}()\n",
    "\n",
    "    random_hg = Hypergraph(0,0)\n",
    "\n",
    "    rnp = collect(keys(sort(random_nodes_probs)))\n",
    "    rnp_weights = pweights(ProbabilityWeights(collect(values(sort(random_nodes_probs)))))\n",
    "    rep = collect(keys(sort(random_edges_probs)))\n",
    "    rep_weights = pweights(ProbabilityWeights(collect(values(sort(random_edges_probs)))))\n",
    "\n",
    "    for i in 1:sum_degree_nodes\n",
    "        v = sample(rnp, rnp_weights)\n",
    "        e = sample(rep, rep_weights)\n",
    "\n",
    "        if !haskey(random_nodes, v)\n",
    "            v_id = SimpleHypergraphs.add_vertex!(random_hg)\n",
    "            push!(random_nodes, v=>v_id)\n",
    "        end\n",
    "\n",
    "        if !haskey(random_nodes_per_edge, e)\n",
    "            random_nodes_per_edge[e] = []\n",
    "        end\n",
    "        random_nodes_per_edge[e] = push!(random_nodes_per_edge[e], v)        \n",
    "    end\n",
    "\n",
    "    for key in keys(random_nodes_per_edge)\n",
    "        vertices = Dict{Int, Bool}(random_nodes[v] => true for v in random_nodes_per_edge[key])\n",
    "        he_id = SimpleHypergraphs.add_hyperedge!(random_hg; vertices = vertices)\n",
    "    end\n",
    "\n",
    "    return random_hg\n",
    "end"
   ]
  },
  {
   "cell_type": "code",
   "execution_count": null,
   "metadata": {},
   "outputs": [],
   "source": [
    "\n",
    "rg = build_hg_randoms(\"../../hgs/apl.hg\")\n",
    "hg_save(\"../../randoms/randomPIPE\", rg)\n",
    "\n",
    "# open file\n",
    "r1 = open(\"../../randoms/randomPIPE\")\n",
    "# substitue in each line \"=true\" with \",\"\n",
    "run(`sed -i '' 's/=true/,/g' ../../randoms/randomPIPE`)\n",
    "# remove first line\n",
    "run(`sed -i '' '1d' ../../randoms/randomPIPE`)\n",
    "# hash and rewriting id\n",
    "run(`python3 rewrite.py ../../randoms/randomPIPE 1`)\n",
    "\n",
    "run(`bash orb.sh`)\n",
    "\n",
    "\n",
    "# println(nhv(random_hg))\n",
    "# println(nhe(random_hg))\n",
    "# hg_save(\"../../randoms/realRandom\", random_hg)\n"
   ]
  },
  {
   "cell_type": "code",
   "execution_count": null,
   "metadata": {},
   "outputs": [],
   "source": [
    " # open file\n",
    " r1 = open(\"../../randoms/realRandom\")\n",
    " # substitue in each line \"=true\" with \",\"\n",
    " run(`sed -i '' 's/=true/,/g' ../../randoms/realRandom`)\n",
    " # remove first line\n",
    " run(`sed -i '' '1d' ../../randoms/realRandom`)\n",
    " # hash and rewriting id\n",
    " run(`python3 rewrite.py ../../randoms/realRandom 1`)\n",
    " close(r1)"
   ]
  },
  {
   "cell_type": "code",
   "execution_count": 11,
   "metadata": {},
   "outputs": [
    {
     "name": "stdout",
     "output_type": "stream",
     "text": [
      "building hg for tag: apl\n",
      "Number of nodes: 1341\n",
      "Number of edges: 1136\n"
     ]
    },
    {
     "name": "stdout",
     "output_type": "stream",
     "text": [
      "Dict{Int64, Int64}()"
     ]
    },
    {
     "name": "stdout",
     "output_type": "stream",
     "text": [
      "done with random model 1\n"
     ]
    },
    {
     "name": "stdout",
     "output_type": "stream",
     "text": [
      "Dict{Int64, Int64}()"
     ]
    },
    {
     "name": "stdout",
     "output_type": "stream",
     "text": [
      "done with random model 2\n"
     ]
    },
    {
     "name": "stdout",
     "output_type": "stream",
     "text": [
      "Dict{Int64, Int64}()"
     ]
    },
    {
     "name": "stdout",
     "output_type": "stream",
     "text": [
      "done with random model 3\n"
     ]
    },
    {
     "name": "stdout",
     "output_type": "stream",
     "text": [
      "Dict{Int64, Int64}()"
     ]
    },
    {
     "name": "stdout",
     "output_type": "stream",
     "text": [
      "done with random model 4\n"
     ]
    },
    {
     "name": "stdout",
     "output_type": "stream",
     "text": [
      "Dict{Int64, Int64}()"
     ]
    },
    {
     "name": "stdout",
     "output_type": "stream",
     "text": [
      "done with random model 5\n"
     ]
    },
    {
     "name": "stdout",
     "output_type": "stream",
     "text": [
      "[153671, 272179, 947, 2808, 5329, 16939, 0, 8, 5, 86, 25, 261, 0, 0, 1, 2, 0, 0, 3252, 16199, 15320, 92331, 0, 18, 165, 419]\n",
      "building hg for tag: bash\n",
      "Number of nodes: 18484\n",
      "Number of edges: 17540\n"
     ]
    },
    {
     "name": "stdout",
     "output_type": "stream",
     "text": [
      "Dict{Int64, Int64}()"
     ]
    },
    {
     "name": "stdout",
     "output_type": "stream",
     "text": [
      "done with random model 1\n"
     ]
    },
    {
     "name": "stdout",
     "output_type": "stream",
     "text": [
      "Dict{Int64, Int64}()"
     ]
    },
    {
     "name": "stdout",
     "output_type": "stream",
     "text": [
      "done with random model 2\n"
     ]
    },
    {
     "name": "stdout",
     "output_type": "stream",
     "text": [
      "Dict{Int64, Int64}()"
     ]
    },
    {
     "name": "stdout",
     "output_type": "stream",
     "text": [
      "done with random model 3\n"
     ]
    },
    {
     "name": "stdout",
     "output_type": "stream",
     "text": [
      "Dict{Int64, Int64}()"
     ]
    },
    {
     "name": "stdout",
     "output_type": "stream",
     "text": [
      "done with random model 4\n"
     ]
    },
    {
     "name": "stdout",
     "output_type": "stream",
     "text": [
      "Dict{Int64, Int64}()"
     ]
    },
    {
     "name": "stdout",
     "output_type": "stream",
     "text": [
      "done with random model 5\n"
     ]
    },
    {
     "name": "stdout",
     "output_type": "stream",
     "text": [
      "[31844146, 85084623, 68422, 339600, 702140, 3763084, 17, 341, 732, 8925, 4094, 63253, 0, 9, 53, 313, 0, 0, 1443003, 13133531, 9859064, 109687666, 0, 4975, 91150, 503942]\n",
      "building hg for tag: c#\n",
      "Number of nodes: 81360"
     ]
    },
    {
     "name": "stdout",
     "output_type": "stream",
     "text": [
      "\n",
      "Number of edges: 102199\n"
     ]
    },
    {
     "name": "stdout",
     "output_type": "stream",
     "text": [
      "Dict{Int64, Int64}()"
     ]
    },
    {
     "name": "stdout",
     "output_type": "stream",
     "text": [
      "done with random model 1\n"
     ]
    },
    {
     "name": "stdout",
     "output_type": "stream",
     "text": [
      "Dict{Int64, Int64}()"
     ]
    },
    {
     "name": "stdout",
     "output_type": "stream",
     "text": [
      "done with random model 2\n"
     ]
    },
    {
     "name": "stdout",
     "output_type": "stream",
     "text": [
      "Dict{Int64, Int64}()"
     ]
    },
    {
     "name": "stdout",
     "output_type": "stream",
     "text": [
      "done with random model 3\n"
     ]
    },
    {
     "name": "stdout",
     "output_type": "stream",
     "text": [
      "Dict{Int64, Int64}()"
     ]
    },
    {
     "name": "stdout",
     "output_type": "stream",
     "text": [
      "done with random model 4\n"
     ]
    },
    {
     "name": "stdout",
     "output_type": "stream",
     "text": [
      "Dict{Int64, Int64}()"
     ]
    },
    {
     "name": "stdout",
     "output_type": "stream",
     "text": [
      "done with random model 5\n"
     ]
    },
    {
     "name": "stdout",
     "output_type": "stream",
     "text": [
      "[651463655, 1498253742, 229633, 938897, 1702107, 7162751, 102, 151, 302, 3185, 752, 15874, 0, 0, 0, 0, 0, 0, 6769743, 48311079, 41094540, 333941166, 0, 2053, 38748, 168703]\n",
      "building hg for tag: clojure\n",
      "Number of nodes: 694\n",
      "Number of edges: 915\n"
     ]
    },
    {
     "name": "stdout",
     "output_type": "stream",
     "text": [
      "Dict{Int64, Int64}()"
     ]
    },
    {
     "name": "stdout",
     "output_type": "stream",
     "text": [
      "done with random model 1\n"
     ]
    },
    {
     "name": "stdout",
     "output_type": "stream",
     "text": [
      "Dict{Int64, Int64}()"
     ]
    },
    {
     "name": "stdout",
     "output_type": "stream",
     "text": [
      "done with random model 2\n"
     ]
    },
    {
     "name": "stdout",
     "output_type": "stream",
     "text": [
      "Dict{Int64, Int64}()"
     ]
    },
    {
     "name": "stdout",
     "output_type": "stream",
     "text": [
      "done with random model 3\n"
     ]
    },
    {
     "name": "stdout",
     "output_type": "stream",
     "text": [
      "Dict{Int64, Int64}()"
     ]
    },
    {
     "name": "stdout",
     "output_type": "stream",
     "text": [
      "done with random model 4\n"
     ]
    },
    {
     "name": "stdout",
     "output_type": "stream",
     "text": [
      "Dict{Int64, Int64}("
     ]
    },
    {
     "name": "stdout",
     "output_type": "stream",
     "text": [
      ")"
     ]
    },
    {
     "name": "stdout",
     "output_type": "stream",
     "text": [
      "done with random model 5\n"
     ]
    },
    {
     "name": "stdout",
     "output_type": "stream",
     "text": [
      "[141302, 318769, 2019, 7231, 15534, 57981, 3, 72, 86, 829, 401, 3451, 0, 3, 20, 75, 0, 0, 10445, 64685, 49858, 414869, 0, 148, 1883, 7138]\n",
      "building hg for tag: dart\n",
      "Number of nodes: 23448"
     ]
    },
    {
     "name": "stdout",
     "output_type": "stream",
     "text": [
      "\n",
      "Number of edges: 32499\n"
     ]
    },
    {
     "name": "stdout",
     "output_type": "stream",
     "text": [
      "Dict{Int64, Int64}()"
     ]
    },
    {
     "name": "stdout",
     "output_type": "stream",
     "text": [
      "done with random model 1\n"
     ]
    },
    {
     "name": "stdout",
     "output_type": "stream",
     "text": [
      "Dict{Int64, Int64}()"
     ]
    },
    {
     "name": "stdout",
     "output_type": "stream",
     "text": [
      "done with random model 2\n"
     ]
    },
    {
     "name": "stdout",
     "output_type": "stream",
     "text": [
      "Dict{Int64, Int64}()"
     ]
    },
    {
     "name": "stdout",
     "output_type": "stream",
     "text": [
      "done with random model 3\n"
     ]
    },
    {
     "name": "stdout",
     "output_type": "stream",
     "text": [
      "Dict{Int64, Int64}()"
     ]
    },
    {
     "name": "stdout",
     "output_type": "stream",
     "text": [
      "done with random model 4\n"
     ]
    },
    {
     "name": "stdout",
     "output_type": "stream",
     "text": [
      "Dict{Int64, Int64}()"
     ]
    },
    {
     "name": "stdout",
     "output_type": "stream",
     "text": [
      "done with random model 5\n"
     ]
    },
    {
     "name": "stdout",
     "output_type": "stream",
     "text": [
      "[98816921, 274164044, 61129, 345523, 529654, 3001592, 0, 71, 333, 1637, 857, 12918, 0, 0, 0, 12, 0, 0, 893564, 8203451, 6678661, 68506737, 0, 741, 12165, 68120]\n",
      "building hg for tag: delphi\n",
      "Number of nodes: 1803\n",
      "Number of edges: 2673\n"
     ]
    },
    {
     "name": "stdout",
     "output_type": "stream",
     "text": [
      "Dict{Int64, Int64}()"
     ]
    },
    {
     "name": "stdout",
     "output_type": "stream",
     "text": [
      "done with random model 1\n"
     ]
    },
    {
     "name": "stdout",
     "output_type": "stream",
     "text": [
      "Dict{Int64, Int64}()"
     ]
    },
    {
     "name": "stdout",
     "output_type": "stream",
     "text": [
      "done with random model 2\n"
     ]
    },
    {
     "name": "stdout",
     "output_type": "stream",
     "text": [
      "Dict{Int64, Int64}()"
     ]
    },
    {
     "name": "stdout",
     "output_type": "stream",
     "text": [
      "done with random model 3\n"
     ]
    },
    {
     "name": "stdout",
     "output_type": "stream",
     "text": [
      "Dict{Int64, Int64}()"
     ]
    },
    {
     "name": "stdout",
     "output_type": "stream",
     "text": [
      "done with random model 4\n"
     ]
    },
    {
     "name": "stdout",
     "output_type": "stream",
     "text": [
      "Dict{Int64, Int64}()"
     ]
    },
    {
     "name": "stdout",
     "output_type": "stream",
     "text": [
      "done with random model 5\n"
     ]
    },
    {
     "name": "stdout",
     "output_type": "stream",
     "text": [
      "[3814027, 5055938, 41855, 84532, 206902, 421658, 67, 316, 683, 3138, 1372, 8549, 0, 3, 23, 53, 0, 0, 130533, 581307, 516042, 2467106, 0, 752, 6430, 14821]\n",
      "building hg for tag: elixir\n",
      "Number of nodes: 810\n",
      "Number of edges: 972\n"
     ]
    },
    {
     "name": "stdout",
     "output_type": "stream",
     "text": [
      "Dict{Int64, Int64}()"
     ]
    },
    {
     "name": "stdout",
     "output_type": "stream",
     "text": [
      "done with random model 1\n"
     ]
    },
    {
     "name": "stdout",
     "output_type": "stream",
     "text": [
      "Dict{Int64, Int64}()"
     ]
    },
    {
     "name": "stdout",
     "output_type": "stream",
     "text": [
      "done with random model 2\n"
     ]
    },
    {
     "name": "stdout",
     "output_type": "stream",
     "text": [
      "Dict{Int64, Int64}()"
     ]
    },
    {
     "name": "stdout",
     "output_type": "stream",
     "text": [
      "done with random model 3\n"
     ]
    },
    {
     "name": "stdout",
     "output_type": "stream",
     "text": [
      "Dict{Int64, Int64}()"
     ]
    },
    {
     "name": "stdout",
     "output_type": "stream",
     "text": [
      "done with random model 4\n"
     ]
    },
    {
     "name": "stdout",
     "output_type": "stream",
     "text": [
      "Dict{Int64, Int64}()"
     ]
    },
    {
     "name": "stdout",
     "output_type": "stream",
     "text": [
      "done with random model 5\n"
     ]
    },
    {
     "name": "stdout",
     "output_type": "stream",
     "text": [
      "[402116, 524979, 4442, 14524, 21637, 68101, 10, 55, 124, 794, 366, 2572, 0, 2, 9, 31, 0, 0, 10967, 65231, 44446, 300299, 0, 115, 1269, 3512]\n",
      "building hg for tag: f#\n",
      "Number of nodes: 822\n",
      "Number of edges: 1347\n"
     ]
    },
    {
     "name": "stdout",
     "output_type": "stream",
     "text": [
      "Dict{Int64, Int64}()"
     ]
    },
    {
     "name": "stdout",
     "output_type": "stream",
     "text": [
      "done with random model 1\n"
     ]
    },
    {
     "name": "stdout",
     "output_type": "stream",
     "text": [
      "Dict{Int64, Int64}()"
     ]
    },
    {
     "name": "stdout",
     "output_type": "stream",
     "text": [
      "done with random model 2\n"
     ]
    },
    {
     "name": "stdout",
     "output_type": "stream",
     "text": [
      "Dict{Int64, Int64}()"
     ]
    },
    {
     "name": "stdout",
     "output_type": "stream",
     "text": [
      "done with random model 3\n"
     ]
    },
    {
     "name": "stdout",
     "output_type": "stream",
     "text": [
      "Dict{Int64, Int64}()"
     ]
    },
    {
     "name": "stdout",
     "output_type": "stream",
     "text": [
      "done with random model 4\n"
     ]
    },
    {
     "name": "stdout",
     "output_type": "stream",
     "text": [
      "Dict{Int64, Int64}()"
     ]
    },
    {
     "name": "stdout",
     "output_type": "stream",
     "text": [
      "done with random model 5\n"
     ]
    },
    {
     "name": "stdout",
     "output_type": "stream",
     "text": [
      "[1092956, 1585705, 19869, 52481, 96711, 247805, 40, 288, 489, 3760, 1468, 10344, 1, 5, 71, 123, 0, 0, 50617, 250352, 195685, 1112194, 0, 602, 5514, 13892]\n",
      "building hg for tag: go\n",
      "Number of nodes: 78704"
     ]
    },
    {
     "name": "stdout",
     "output_type": "stream",
     "text": [
      "\n",
      "Number of edges: 76050\n"
     ]
    },
    {
     "name": "stdout",
     "output_type": "stream",
     "text": [
      "Dict{Int64, Int64}()"
     ]
    },
    {
     "name": "stdout",
     "output_type": "stream",
     "text": [
      "done with random model 1\n"
     ]
    },
    {
     "name": "stdout",
     "output_type": "stream",
     "text": [
      "Dict{Int64, Int64}()"
     ]
    },
    {
     "name": "stdout",
     "output_type": "stream",
     "text": [
      "done with random model 2\n"
     ]
    },
    {
     "name": "stdout",
     "output_type": "stream",
     "text": [
      "Dict{Int64, Int64}()"
     ]
    },
    {
     "name": "stdout",
     "output_type": "stream",
     "text": [
      "done with random model 3\n"
     ]
    },
    {
     "name": "stdout",
     "output_type": "stream",
     "text": [
      "Dict{Int64, Int64}()"
     ]
    },
    {
     "name": "stdout",
     "output_type": "stream",
     "text": [
      "done with random model 4\n"
     ]
    },
    {
     "name": "stdout",
     "output_type": "stream",
     "text": [
      "Dict{Int64, Int64}()"
     ]
    },
    {
     "name": "stdout",
     "output_type": "stream",
     "text": [
      "done with random model 5\n"
     ]
    },
    {
     "name": "stdout",
     "output_type": "stream",
     "text": [
      "[536819329, 1270170935, 205515, 661463, 1459227, 4942654, 0, 131, 33, 1573, 568, 4954, 0, 0, 0, 0, 0, 0, 2166885, 17640048, 13933536, 122467499, 0, 292, 11110, 47280]\n",
      "building hg for tag: html\n",
      "Number of nodes: 122961"
     ]
    },
    {
     "name": "stdout",
     "output_type": "stream",
     "text": [
      "\n",
      "Number of edges: 113988\n"
     ]
    },
    {
     "name": "stdout",
     "output_type": "stream",
     "text": [
      "Dict{Int64, Int64}()"
     ]
    },
    {
     "name": "stdout",
     "output_type": "stream",
     "text": [
      "done with random model 1\n"
     ]
    },
    {
     "name": "stdout",
     "output_type": "stream",
     "text": [
      "Dict{Int64, Int64}()"
     ]
    },
    {
     "name": "stdout",
     "output_type": "stream",
     "text": [
      "done with random model 2\n"
     ]
    },
    {
     "name": "stdout",
     "output_type": "stream",
     "text": [
      "Dict{Int64, Int64}()"
     ]
    },
    {
     "name": "stdout",
     "output_type": "stream",
     "text": [
      "done with random model 3\n"
     ]
    },
    {
     "name": "stdout",
     "output_type": "stream",
     "text": [
      "Dict{Int64, Int64}()"
     ]
    },
    {
     "name": "stdout",
     "output_type": "stream",
     "text": [
      "done with random model 4\n"
     ]
    },
    {
     "name": "stdout",
     "output_type": "stream",
     "text": [
      "Dict{Int64, Int64}()"
     ]
    },
    {
     "name": "stdout",
     "output_type": "stream",
     "text": [
      "done with random model 5\n"
     ]
    },
    {
     "name": "stdout",
     "output_type": "stream",
     "text": [
      "[206853338, 581252202, 29710, 188467, 280389, 1709110, 0, 91, 0, 634, 0, 1724, 0, 0, 0, 0, 0, 0, 1385416, 14969753, 10903737, 127803204, 0, 211, 5382, 31136]\n",
      "building hg for tag: javascript\n",
      "Number of nodes: 227390"
     ]
    },
    {
     "name": "stdout",
     "output_type": "stream",
     "text": [
      "\n",
      "Number of edges: 279061\n"
     ]
    },
    {
     "name": "stdout",
     "output_type": "stream",
     "text": [
      "Dict{Int64, Int64}()"
     ]
    },
    {
     "name": "stdout",
     "output_type": "stream",
     "text": [
      "done with random model 1\n"
     ]
    },
    {
     "name": "stdout",
     "output_type": "stream",
     "text": [
      "Dict{Int64, Int64}()"
     ]
    },
    {
     "name": "stdout",
     "output_type": "stream",
     "text": [
      "done with random model 2\n"
     ]
    },
    {
     "name": "stdout",
     "output_type": "stream",
     "text": [
      "Dict{Int64, Int64}()"
     ]
    },
    {
     "name": "stdout",
     "output_type": "stream",
     "text": [
      "done with random model 3\n"
     ]
    },
    {
     "name": "stdout",
     "output_type": "stream",
     "text": [
      "Dict{Int64, Int64}()"
     ]
    },
    {
     "name": "stdout",
     "output_type": "stream",
     "text": [
      "done with random model 4\n"
     ]
    },
    {
     "name": "stdout",
     "output_type": "stream",
     "text": [
      "Dict{Int64, Int64}()"
     ]
    },
    {
     "name": "stdout",
     "output_type": "stream",
     "text": [
      "done with random model 5\n"
     ]
    },
    {
     "name": "stdout",
     "output_type": "stream",
     "text": [
      "[2806654584, 7478612687, 473860, 2107476, 3992954, 18924320, 0, 176, 178, 3764, 1437, 18070, 0, 0, 0, 0, 0, 0, 23119784, 212251901, 167446477, 1743211963, 0, 5172, 88230, 472182]\n",
      "building hg for tag: julia\n",
      "Number of nodes: 1945\n",
      "Number of edges: 3214\n"
     ]
    },
    {
     "name": "stdout",
     "output_type": "stream",
     "text": [
      "Dict{Int64, Int64}()"
     ]
    },
    {
     "name": "stdout",
     "output_type": "stream",
     "text": [
      "done with random model 1\n"
     ]
    },
    {
     "name": "stdout",
     "output_type": "stream",
     "text": [
      "Dict{Int64, Int64}()"
     ]
    },
    {
     "name": "stdout",
     "output_type": "stream",
     "text": [
      "done with random model 2\n"
     ]
    },
    {
     "name": "stdout",
     "output_type": "stream",
     "text": [
      "Dict{Int64, Int64}()"
     ]
    },
    {
     "name": "stdout",
     "output_type": "stream",
     "text": [
      "done with random model 3\n"
     ]
    },
    {
     "name": "stdout",
     "output_type": "stream",
     "text": [
      "Dict{Int64, Int64}()"
     ]
    },
    {
     "name": "stdout",
     "output_type": "stream",
     "text": [
      "done with random model 4\n"
     ]
    },
    {
     "name": "stdout",
     "output_type": "stream",
     "text": [
      "Dict{Int64, Int64}()"
     ]
    },
    {
     "name": "stdout",
     "output_type": "stream",
     "text": [
      "done with random model 5\n"
     ]
    },
    {
     "name": "stdout",
     "output_type": "stream",
     "text": [
      "[8895788, 15432729, 120847, 337908, 664411, 1866812, 190, 1447, 2621, 18629, 8545, 58526, 4, 30, 240, 620, 0, 0, 252287, 1499227, 1181897, 7893934, 0, 1862, 22517, 68873]\n",
      "building hg for tag: kotlin\n",
      "Number of nodes: 22706"
     ]
    },
    {
     "name": "stdout",
     "output_type": "stream",
     "text": [
      "\n",
      "Number of edges: 26508\n"
     ]
    },
    {
     "name": "stdout",
     "output_type": "stream",
     "text": [
      "Dict{Int64, Int64}()"
     ]
    },
    {
     "name": "stdout",
     "output_type": "stream",
     "text": [
      "done with random model 1\n"
     ]
    },
    {
     "name": "stdout",
     "output_type": "stream",
     "text": [
      "Dict{Int64, Int64}()"
     ]
    },
    {
     "name": "stdout",
     "output_type": "stream",
     "text": [
      "done with random model 2\n"
     ]
    },
    {
     "name": "stdout",
     "output_type": "stream",
     "text": [
      "Dict{Int64, Int64}()"
     ]
    },
    {
     "name": "stdout",
     "output_type": "stream",
     "text": [
      "done with random model 3\n"
     ]
    },
    {
     "name": "stdout",
     "output_type": "stream",
     "text": [
      "Dict{Int64, Int64}()"
     ]
    },
    {
     "name": "stdout",
     "output_type": "stream",
     "text": [
      "done with random model 4\n"
     ]
    },
    {
     "name": "stdout",
     "output_type": "stream",
     "text": [
      "Dict{Int64, Int64}()"
     ]
    },
    {
     "name": "stdout",
     "output_type": "stream",
     "text": [
      "done with random model 5\n"
     ]
    },
    {
     "name": "stdout",
     "output_type": "stream",
     "text": [
      "[96186546, 217988152, 77217, 333400, 572703, 2535070, 11, 150, 234, 1942, 761, 11686, 0, 0, 0, 0, 0, 0, 859220, 6340776, 5436627, 44037961, 0, 898, 12767, 54328]\n",
      "building hg for tag: lisp\n",
      "Number of nodes: 665\n",
      "Number of edges: 933\n"
     ]
    },
    {
     "name": "stdout",
     "output_type": "stream",
     "text": [
      "Dict{Int64, Int64}()"
     ]
    },
    {
     "name": "stdout",
     "output_type": "stream",
     "text": [
      "done with random model 1\n"
     ]
    },
    {
     "name": "stdout",
     "output_type": "stream",
     "text": [
      "Dict{Int64, Int64}()"
     ]
    },
    {
     "name": "stdout",
     "output_type": "stream",
     "text": [
      "done with random model 2\n"
     ]
    },
    {
     "name": "stdout",
     "output_type": "stream",
     "text": [
      "Dict{Int64, Int64}()"
     ]
    },
    {
     "name": "stdout",
     "output_type": "stream",
     "text": [
      "done with random model 3\n"
     ]
    },
    {
     "name": "stdout",
     "output_type": "stream",
     "text": [
      "Dict{Int64, Int64}()"
     ]
    },
    {
     "name": "stdout",
     "output_type": "stream",
     "text": [
      "done with random model 4\n"
     ]
    },
    {
     "name": "stdout",
     "output_type": "stream",
     "text": [
      "Dict{Int64, Int64}()"
     ]
    },
    {
     "name": "stdout",
     "output_type": "stream",
     "text": [
      "done with random model 5\n"
     ]
    },
    {
     "name": "stdout",
     "output_type": "stream",
     "text": [
      "[89141, 229537, 2147, 6992, 18686, 64066, 10, 72, 165, 1265, 636, 5142, 1, 5, 44, 123, 0, 0, 16991, 103507, 85123, 669728, 0, 338, 4219, 15170]\n",
      "building hg for tag: python\n",
      "Number of nodes: 295974"
     ]
    },
    {
     "name": "stdout",
     "output_type": "stream",
     "text": [
      "\n",
      "Number of edges: 431319\n"
     ]
    },
    {
     "name": "stdout",
     "output_type": "stream",
     "text": [
      "Dict{Int64, Int64}()"
     ]
    },
    {
     "name": "stdout",
     "output_type": "stream",
     "text": [
      "done with random model 1\n"
     ]
    },
    {
     "name": "stderr",
     "output_type": "stream",
     "text": [
      "run_approx_ver2_par.sh: line 2:  1247 Killed                  ./approx_ver2_par 10000 4 $1 > /Users/ddevin/Documents/vscode/DevCommunities/script_dump/dumpPIPE.txt\n"
     ]
    },
    {
     "name": "stdout",
     "output_type": "stream",
     "text": [
      "Dict{Int64, Int64}()"
     ]
    },
    {
     "name": "stdout",
     "output_type": "stream",
     "text": [
      "done with random model 2\n"
     ]
    },
    {
     "name": "stderr",
     "output_type": "stream",
     "text": [
      "run_approx_ver2_par.sh: line 2:  1260 Killed                  ./approx_ver2_par 10000 4 $1 > /Users/ddevin/Documents/vscode/DevCommunities/script_dump/dumpPIPE.txt\n"
     ]
    },
    {
     "name": "stdout",
     "output_type": "stream",
     "text": [
      "Dict{Int64, Int64}()"
     ]
    },
    {
     "name": "stdout",
     "output_type": "stream",
     "text": [
      "done with random model 3\n"
     ]
    },
    {
     "name": "stdout",
     "output_type": "stream",
     "text": [
      "Dict{Int64, Int64}()"
     ]
    },
    {
     "name": "stderr",
     "output_type": "stream",
     "text": [
      "run_approx_ver2_par.sh: line 2:  1273 Killed                  ./approx_ver2_par 10000 4 $1 > /Users/ddevin/Documents/vscode/DevCommunities/script_dump/dumpPIPE.txt\n"
     ]
    },
    {
     "name": "stdout",
     "output_type": "stream",
     "text": [
      "done with random model 4\n"
     ]
    },
    {
     "name": "stderr",
     "output_type": "stream",
     "text": [
      "run_approx_ver2_par.sh: line 2:  1286 Killed                  ./approx_ver2_par 10000 4 $1 > /Users/ddevin/Documents/vscode/DevCommunities/script_dump/dumpPIPE.txt\n"
     ]
    },
    {
     "name": "stdout",
     "output_type": "stream",
     "text": [
      "Dict{Int64, Int64}()"
     ]
    },
    {
     "name": "stdout",
     "output_type": "stream",
     "text": [
      "done with random model 5\n"
     ]
    },
    {
     "name": "stdout",
     "output_type": "stream",
     "text": [
      "Int64[]\n",
      "building hg for tag: rust\n"
     ]
    },
    {
     "name": "stderr",
     "output_type": "stream",
     "text": [
      "run_approx_ver2_par.sh: line 2:  1299 Killed                  ./approx_ver2_par 10000 4 $1 > /Users/ddevin/Documents/vscode/DevCommunities/script_dump/dumpPIPE.txt\n"
     ]
    },
    {
     "name": "stdout",
     "output_type": "stream",
     "text": [
      "Number of nodes: 7957\n",
      "Number of edges: 10984\n"
     ]
    },
    {
     "name": "stdout",
     "output_type": "stream",
     "text": [
      "Dict{Int64, Int64}()"
     ]
    },
    {
     "name": "stdout",
     "output_type": "stream",
     "text": [
      "done with random model 1\n"
     ]
    },
    {
     "name": "stdout",
     "output_type": "stream",
     "text": [
      "Dict{Int64, Int64}()"
     ]
    },
    {
     "name": "stdout",
     "output_type": "stream",
     "text": [
      "done with random model 2\n"
     ]
    },
    {
     "name": "stdout",
     "output_type": "stream",
     "text": [
      "Dict{Int64, Int64}()"
     ]
    },
    {
     "name": "stdout",
     "output_type": "stream",
     "text": [
      "done with random model 3\n"
     ]
    },
    {
     "name": "stdout",
     "output_type": "stream",
     "text": [
      "Dict{Int64, Int64}()"
     ]
    },
    {
     "name": "stdout",
     "output_type": "stream",
     "text": [
      "done with random model 4\n"
     ]
    },
    {
     "name": "stdout",
     "output_type": "stream",
     "text": [
      "Dict{Int64, Int64}()"
     ]
    },
    {
     "name": "stdout",
     "output_type": "stream",
     "text": [
      "done with random model 5\n"
     ]
    },
    {
     "name": "stdout",
     "output_type": "stream",
     "text": [
      "[19980875, 35381737, 62625, 209914, 386655, 1340781, 41, 308, 464, 4750, 1463, 16818, 0, 4, 40, 64, 0, 0, 657775, 4277904, 3228620, 23790954, 0, 1931, 24796, 85715]\n",
      "building hg for tag: solidity\n",
      "Number of nodes: 3403\n",
      "Number of edges: 3103\n"
     ]
    },
    {
     "name": "stdout",
     "output_type": "stream",
     "text": [
      "Dict{Int64, Int64}()"
     ]
    },
    {
     "name": "stdout",
     "output_type": "stream",
     "text": [
      "done with random model 1\n"
     ]
    },
    {
     "name": "stdout",
     "output_type": "stream",
     "text": [
      "Dict{Int64, Int64}()"
     ]
    },
    {
     "name": "stdout",
     "output_type": "stream",
     "text": [
      "done with random model 2\n"
     ]
    },
    {
     "name": "stdout",
     "output_type": "stream",
     "text": [
      "Dict{Int64, Int64}()"
     ]
    },
    {
     "name": "stdout",
     "output_type": "stream",
     "text": [
      "done with random model 3\n"
     ]
    },
    {
     "name": "stdout",
     "output_type": "stream",
     "text": [
      "Dict{Int64, Int64}()"
     ]
    },
    {
     "name": "stdout",
     "output_type": "stream",
     "text": [
      "done with random model 4\n"
     ]
    },
    {
     "name": "stdout",
     "output_type": "stream",
     "text": [
      "Dict{Int64, Int64}()"
     ]
    },
    {
     "name": "stdout",
     "output_type": "stream",
     "text": [
      "done with random model 5\n"
     ]
    },
    {
     "name": "stdout",
     "output_type": "stream",
     "text": [
      "[17052781, 31680599, 58391, 194756, 320489, 1015974, 20, 208, 320, 2989, 1284, 8960, 0, 0, 7, 15, 0, 0, 47402, 306371, 256216, 1637306, 0, 104, 1297, 3456]\n",
      "building hg for tag: sql\n",
      "Number of nodes: 139097"
     ]
    },
    {
     "name": "stdout",
     "output_type": "stream",
     "text": [
      "\n",
      "Number of edges: 154341\n"
     ]
    },
    {
     "name": "stdout",
     "output_type": "stream",
     "text": [
      "Dict{Int64, Int64}()"
     ]
    },
    {
     "name": "stdout",
     "output_type": "stream",
     "text": [
      "done with random model 1\n"
     ]
    },
    {
     "name": "stdout",
     "output_type": "stream",
     "text": [
      "Dict{Int64, Int64}()"
     ]
    },
    {
     "name": "stderr",
     "output_type": "stream",
     "text": [
      "run_approx_ver2_par.sh: line 2:  1433 Killed                  ./approx_ver2_par 10000 4 $1 > /Users/ddevin/Documents/vscode/DevCommunities/script_dump/dumpPIPE.txt\n"
     ]
    },
    {
     "name": "stdout",
     "output_type": "stream",
     "text": [
      "done with random model 2\n"
     ]
    },
    {
     "name": "stdout",
     "output_type": "stream",
     "text": [
      "Dict{Int64, Int64}()"
     ]
    },
    {
     "name": "stderr",
     "output_type": "stream",
     "text": [
      "run_approx_ver2_par.sh: line 2:  1445 Killed                  ./approx_ver2_par 10000 4 $1 > /Users/ddevin/Documents/vscode/DevCommunities/script_dump/dumpPIPE.txt\n"
     ]
    },
    {
     "name": "stdout",
     "output_type": "stream",
     "text": [
      "done with random model 3\n"
     ]
    },
    {
     "name": "stdout",
     "output_type": "stream",
     "text": [
      "Dict{Int64, Int64}()"
     ]
    },
    {
     "name": "stderr",
     "output_type": "stream",
     "text": [
      "run_approx_ver2_par.sh: line 2:  1457 Killed                  ./approx_ver2_par 10000 4 $1 > /Users/ddevin/Documents/vscode/DevCommunities/script_dump/dumpPIPE.txt\n"
     ]
    },
    {
     "name": "stdout",
     "output_type": "stream",
     "text": [
      "done with random model 4\n"
     ]
    },
    {
     "name": "stdout",
     "output_type": "stream",
     "text": [
      "Dict{Int64, Int64}()"
     ]
    },
    {
     "name": "stderr",
     "output_type": "stream",
     "text": [
      "run_approx_ver2_par.sh: line 2:  1469 Killed                  ./approx_ver2_par 10000 4 $1 > /Users/ddevin/Documents/vscode/DevCommunities/script_dump/dumpPIPE.txt\n"
     ]
    },
    {
     "name": "stdout",
     "output_type": "stream",
     "text": [
      "done with random model 5\n"
     ]
    },
    {
     "name": "stdout",
     "output_type": "stream",
     "text": [
      "Int64[]\n",
      "building hg for tag: swift\n"
     ]
    },
    {
     "name": "stderr",
     "output_type": "stream",
     "text": [
      "run_approx_ver2_par.sh: line 2:  1482 Killed                  ./approx_ver2_par 10000 4 $1 > /Users/ddevin/Documents/vscode/DevCommunities/script_dump/dumpPIPE.txt\n"
     ]
    },
    {
     "name": "stdout",
     "output_type": "stream",
     "text": [
      "Number of nodes: 23712\n",
      "Number of edges: 38870\n"
     ]
    },
    {
     "name": "stdout",
     "output_type": "stream",
     "text": [
      "Dict{Int64, Int64}()"
     ]
    },
    {
     "name": "stdout",
     "output_type": "stream",
     "text": [
      "done with random model 1\n"
     ]
    },
    {
     "name": "stdout",
     "output_type": "stream",
     "text": [
      "Dict{Int64, Int64}()"
     ]
    },
    {
     "name": "stdout",
     "output_type": "stream",
     "text": [
      "done with random model 2\n"
     ]
    },
    {
     "name": "stdout",
     "output_type": "stream",
     "text": [
      "Dict{Int64, Int64}()"
     ]
    },
    {
     "name": "stdout",
     "output_type": "stream",
     "text": [
      "done with random model 3\n"
     ]
    },
    {
     "name": "stdout",
     "output_type": "stream",
     "text": [
      "Dict{Int64, Int64}()"
     ]
    },
    {
     "name": "stdout",
     "output_type": "stream",
     "text": [
      "done with random model 4\n"
     ]
    },
    {
     "name": "stdout",
     "output_type": "stream",
     "text": [
      "Dict{Int64, Int64}()"
     ]
    },
    {
     "name": "stdout",
     "output_type": "stream",
     "text": [
      "done with random model 5\n"
     ]
    },
    {
     "name": "stdout",
     "output_type": "stream",
     "text": [
      "[456424202, 920216125, 723792, 2924147, 4784969, 19976993, 126, 2233, 3663, 41716, 17977, 171107, 0, 0, 250, 428, 0, 0, 7928423, 54444597, 44166311, 334484244, 0, 12324, 190449, 675260]\n",
      "building hg for tag: typescript\n",
      "Number of nodes: 51998"
     ]
    },
    {
     "name": "stdout",
     "output_type": "stream",
     "text": [
      "\n",
      "Number of edges: 54126\n"
     ]
    },
    {
     "name": "stdout",
     "output_type": "stream",
     "text": [
      "Dict{Int64, Int64}()"
     ]
    },
    {
     "name": "stdout",
     "output_type": "stream",
     "text": [
      "done with random model 1\n"
     ]
    },
    {
     "name": "stdout",
     "output_type": "stream",
     "text": [
      "Dict{Int64, Int64}()"
     ]
    },
    {
     "name": "stdout",
     "output_type": "stream",
     "text": [
      "done with random model 2\n"
     ]
    },
    {
     "name": "stdout",
     "output_type": "stream",
     "text": [
      "Dict{Int64, Int64}()"
     ]
    },
    {
     "name": "stdout",
     "output_type": "stream",
     "text": [
      "done with random model 3\n"
     ]
    },
    {
     "name": "stdout",
     "output_type": "stream",
     "text": [
      "Dict{Int64, Int64}()"
     ]
    },
    {
     "name": "stdout",
     "output_type": "stream",
     "text": [
      "done with random model 4\n"
     ]
    },
    {
     "name": "stdout",
     "output_type": "stream",
     "text": [
      "Dict{Int64, Int64}()"
     ]
    },
    {
     "name": "stdout",
     "output_type": "stream",
     "text": [
      "done with random model 5\n"
     ]
    },
    {
     "name": "stdout",
     "output_type": "stream",
     "text": [
      "[255554133, 601623192, 119860, 450270, 901371, 3451510, 0, 82, 124, 1259, 240, 6568, 0, 0, 0, 0, 0, 0, 1239711, 10487437, 8290747, 75201800, 0, 421, 7657, 38600]\n",
      "Any"
     ]
    },
    {
     "name": "stdout",
     "output_type": "stream",
     "text": [
      "[[153671, 272179, 947, 2808, 5329, 16939, 0, 8, 5, 86, 25, 261, 0, 0, 1, 2, 0, 0, 3252, 16199, 15320, 92331, 0, 18, 165, 419], [31844146, 85084623, 68422, 339600, 702140, 3763084, 17, 341, 732, 8925, 4094, 63253, 0, 9, 53, 313, 0, 0, 1443003, 13133531, 9859064, 109687666, 0, 4975, 91150, 503942], [651463655, 1498253742, 229633, 938897, 1702107, 7162751, 102, 151, 302, 3185, 752, 15874, 0, 0, 0, 0, 0, 0, 6769743, 48311079, 41094540, 333941166, 0, 2053, 38748, 168703], [141302, 318769, 2019, 7231, 15534, 57981, 3, 72, 86, 829, 401, 3451, 0, 3, 20, 75, 0, 0, 10445, 64685, 49858, 414869, 0, 148, 1883, 7138], [98816921, 274164044, 61129, 345523, 529654, 3001592, 0, 71, 333, 1637, 857, 12918, 0, 0, 0, 12, 0, 0, 893564, 8203451, 6678661, 68506737, 0, 741, 12165, 68120], [3814027, 5055938, 41855, 84532, 206902, 421658, 67, 316, 683, 3138, 1372, 8549, 0, 3, 23, 53, 0, 0, 130533, 581307, 516042, 2467106, 0, 752, 6430, 14821], [402116, 524979, 4442, 14524, 21637, 68101, 10, 55, 124, 794, 366, 2572, 0, 2, 9, 31, 0, 0, 10967, 65231, 44446, 300299, 0, 115, 1269, 3512], [1092956, 1585705, 19869, 52481, 96711, 247805, 40, 288, 489, 3760, 1468, 10344, 1, 5, 71, 123, 0, 0, 50617, 250352, 195685, 1112194, 0, 602, 5514, 13892], [536819329, 1270170935, 205515, 661463, 1459227, 4942654, 0, 131, 33, 1573, 568, 4954, 0, 0, 0, 0, 0, 0, 2166885, 17640048, 13933536, 122467499, 0, 292, 11110, 47280], [206853338, 581252202, 29710, 188467, 280389, 1709110, 0, 91, 0, 634, 0, 1724, 0, 0, 0, 0, 0, 0, 1385416, 14969753, 10903737, 127803204, 0, 211, 5382, 31136], [2806654584, 7478612687, 473860, 2107476, 3992954, 18924320, 0, 176, 178, 3764, 1437, 18070, 0, 0, 0, 0, 0, 0, 23119784, 212251901, 167446477, 1743211963, 0, 5172, 88230, 472182], [8895788, 15432729, 120847, 337908, 664411, 1866812, 190, 1447, 2621, 18629, 8545, 58526, 4, 30, 240, 620, 0, 0, 252287, 1499227, 1181897, 7893934, 0, 1862, 22517, 68873], [96186546, 217988152, 77217, 333400, 572703, 2535070, 11, 150, 234, 1942, 761, 11686, 0, 0, 0, 0, 0, 0, 859220, 6340776, 5436627, 44037961, 0, 898, 12767, 54328], [89141, 229537, 2147, 6992, 18686, 64066, 10, 72, 165, 1265, 636, 5142, 1, 5, 44, 123, 0, 0, 16991, 103507, 85123, 669728, 0, 338, 4219, 15170], Int64[], [19980875, 35381737, 62625, 209914, 386655, 1340781, 41, 308, 464, 4750, 1463, 16818, 0, 4, 40, 64, 0, 0, 657775, 4277904, 3228620, 23790954, 0, 1931, 24796, 85715], [17052781, 31680599, 58391, 194756, 320489, 1015974, 20, 208, 320, 2989, 1284, 8960, 0, 0, 7, 15, 0, 0, 47402, 306371, 256216, 1637306, 0, 104, 1297, 3456], Int64[], [456424202, 920216125, 723792, 2924147, 4784969, 19976993, 126, 2233, 3663, 41716, 17977, 171107, 0, 0, 250, 428, 0, 0, 7928423, 54444597, 44166311, 334484244, 0, 12324, 190449, 675260], [255554133, 601623192, 119860, 450270, 901371, 3451510, 0, 82, 124, 1259, 240, 6568, 0, 0, 0, 0, 0, 0, 1239711, 10487437, 8290747, 75201800, 0, 421, 7657, 38600]]\n"
     ]
    },
    {
     "ename": "BoundsError",
     "evalue": "BoundsError: attempt to access 0-element Vector{Int64} at index [1]",
     "output_type": "error",
     "traceback": [
      "BoundsError: attempt to access 0-element Vector{Int64} at index [1]\n",
      "\n",
      "Stacktrace:\n",
      " [1] getindex(A::Vector{Int64}, i1::Int64)\n",
      "   @ Base ./array.jl:924\n",
      " [2] (::var\"#73#74\")(io::IOStream)\n",
      "   @ Main ~/Documents/vscode/DevCommunities/src/notebook/metrics.ipynb:67\n",
      " [3] open(::var\"#73#74\", ::String, ::Vararg{String}; kwargs::Base.Pairs{Symbol, Union{}, Tuple{}, NamedTuple{(), Tuple{}}})\n",
      "   @ Base ./io.jl:384\n",
      " [4] open(::Function, ::String, ::String)\n",
      "   @ Base ./io.jl:381\n",
      " [5] top-level scope\n",
      "   @ ~/Documents/vscode/DevCommunities/src/notebook/metrics.ipynb:63"
     ]
    }
   ],
   "source": [
    "all_arrays = []\n",
    "for i in 1:20\n",
    "    # g = build_hg(\"../../hgs/apl.hg\")\n",
    "    \n",
    "    println(\"building hg for tag: \"*my_tags_so[i])\n",
    "    g = build_hg(\"../../hgs/\"*my_tags_so[i]*\".hg\")\n",
    "\n",
    "    num_nodes = nhv(g[1])\n",
    "    num_edges = nhe(g[1])\n",
    "    println(\"Number of nodes: $num_nodes\")\n",
    "    println(\"Number of edges: $num_edges\")\n",
    "    flush(stdout)\n",
    "\n",
    "    total_random_motif_count = [0 for i in 1:26]\n",
    "    # generate 5 model and do average counting\n",
    "    for j in range(1,5)\n",
    "        rm_pa = build_hg_randoms(\"../../hgs/\"*my_tags_so[i]*\".hg\")\n",
    "        hg_save(\"../../randoms/randomPIPE\", rm_pa)\n",
    "        \n",
    "        # open file\n",
    "        r1 = open(\"../../randoms/randomPIPE\")\n",
    "        # substitue in each line \"=true\" with \",\"\n",
    "        run(`sed -i '' 's/=true/,/g' ../../randoms/randomPIPE`)\n",
    "        # remove first line\n",
    "        run(`sed -i '' '1d' ../../randoms/randomPIPE`)\n",
    "        # hash and rewriting id\n",
    "        run(`python3 rewrite.py ../../randoms/randomPIPE 1`)\n",
    "        \n",
    "        run(`bash orb.sh`)\n",
    "        \n",
    "        # run(`bash /Users/ddevin/Documents/MoCHy/run_exact.sh \"/Users/ddevin/Documents/vscode/DevCommunities/randoms/randomPIPE.hg\"`)\n",
    "        # run(`bash /Users/ddevin/Documents/MoCHy/run_exact.sh \"/Users/ddevin/Documents/vscode/DevCommunities/hgs/apl.hg\"`)\n",
    "        close(r1)\n",
    "        r2 = open(\"/Users/ddevin/Documents/vscode/DevCommunities/script_dump/dumpPIPE.txt\")\n",
    "        array = []\n",
    "        for line in eachline(r2)\n",
    "            if occursin(\"motif\", line)\n",
    "                if occursin(\"counting\", line)\n",
    "                    continue\n",
    "                end\n",
    "                # find integers in line after \":\"\n",
    "                motif = parse.(Int64, split(line, \":\")[2:end])\n",
    "                push!(array, motif[1])\n",
    "            end\n",
    "        end\n",
    "        # array of any to array of integers\n",
    "        array = convert(Array{Int64}, array)\n",
    "        total_random_motif_count = [x + y for (x, y) in zip(array, total_random_motif_count)]\n",
    "        close(r2)\n",
    "        println(\"done with random model \"*string(j))\n",
    "        flush(stdout)\n",
    "        # flush\n",
    "    end\n",
    "\n",
    "    total_random_motif_count = [x / 5 for x in total_random_motif_count]\n",
    "    total_random_motif_count = ceil.(Int64, total_random_motif_count)\n",
    "    println(total_random_motif_count)\n",
    "    push!(all_arrays, total_random_motif_count)\n",
    "end\n",
    "\n",
    "println(all_arrays)\n",
    "# write to file\n",
    "open(\"/Users/ddevin/Documents/vscode/DevCommunities/results/all_motifs_counted.csv\", \"w\") do io\n",
    "    for i in 1:20\n",
    "        # write(io, string(my_tags_so[i]))\n",
    "        # write(io, \",\")\n",
    "        for j in 1:26\n",
    "            if length(all_arrays[i]) == 0\n",
    "                write(io, string(0))\n",
    "                write(io, \",\")\n",
    "            else\n",
    "                write(io, string(all_arrays[i][j]))\n",
    "                write(io, \",\")\n",
    "            end\n",
    "        end\n",
    "        write(io, \"\\n\")\n",
    "    end\n",
    "end\n",
    "\n",
    "\n",
    "\n"
   ]
  },
  {
   "cell_type": "code",
   "execution_count": 20,
   "metadata": {},
   "outputs": [
    {
     "name": "stdout",
     "output_type": "stream",
     "text": [
      "Number of nodes: 139097\n",
      "Number of edges: 154341\n"
     ]
    },
    {
     "name": "stdout",
     "output_type": "stream",
     "text": [
      "Dict{Int64, Int64}()"
     ]
    },
    {
     "name": "stderr",
     "output_type": "stream",
     "text": [
      "run_approx_ver2_par.sh: line 2:  1755 Killed                  ./approx_ver2_par 10000 4 $1 > /Users/ddevin/Documents/vscode/DevCommunities/script_dump/dumpPIPE.txt\n"
     ]
    },
    {
     "name": "stdout",
     "output_type": "stream",
     "text": [
      "done with random model 1\n",
      "Int64[]\n"
     ]
    },
    {
     "name": "stdout",
     "output_type": "stream",
     "text": [
      "Dict{Int64, Int64}()"
     ]
    },
    {
     "name": "stdout",
     "output_type": "stream",
     "text": [
      "done with random model 2\n",
      "Int64[]\n"
     ]
    },
    {
     "name": "stdout",
     "output_type": "stream",
     "text": [
      "Dict{Int64, Int64}()"
     ]
    },
    {
     "name": "stderr",
     "output_type": "stream",
     "text": [
      "run_approx_ver2_par.sh: line 2:  1767 Killed                  ./approx_ver2_par 10000 4 $1 > /Users/ddevin/Documents/vscode/DevCommunities/script_dump/dumpPIPE.txt\n"
     ]
    },
    {
     "name": "stdout",
     "output_type": "stream",
     "text": [
      "done with random model 3\n",
      "Int64[]\n"
     ]
    },
    {
     "name": "stdout",
     "output_type": "stream",
     "text": [
      "Dict{Int64, Int64}()"
     ]
    },
    {
     "name": "stderr",
     "output_type": "stream",
     "text": [
      "run_approx_ver2_par.sh: line 2:  1779 Killed                  ./approx_ver2_par 10000 4 $1 > /Users/ddevin/Documents/vscode/DevCommunities/script_dump/dumpPIPE.txt\n"
     ]
    },
    {
     "name": "stdout",
     "output_type": "stream",
     "text": [
      "done with random model 4\n",
      "Int64[]\n"
     ]
    },
    {
     "name": "stdout",
     "output_type": "stream",
     "text": [
      "Dict{Int64, Int64}()"
     ]
    },
    {
     "name": "stdout",
     "output_type": "stream",
     "text": [
      "done with random model 5\n",
      "Int64[]\n"
     ]
    },
    {
     "name": "stdout",
     "output_type": "stream",
     "text": [
      "Int64[]\n"
     ]
    },
    {
     "name": "stderr",
     "output_type": "stream",
     "text": [
      "run_approx_ver2_par.sh: line 2:  1791 Killed                  ./approx_ver2_par 10000 4 $1 > /Users/ddevin/Documents/vscode/DevCommunities/script_dump/dumpPIPE.txt\n",
      "run_approx_ver2_par.sh: line 2:  1803 Killed                  ./approx_ver2_par 10000 4 $1 > /Users/ddevin/Documents/vscode/DevCommunities/script_dump/dumpPIPE.txt\n"
     ]
    }
   ],
   "source": [
    "############## SINGLE RUN ##################\n",
    "\n",
    "g = build_hg(\"../../hgs/\"*\"sql\"*\".hg\")\n",
    "\n",
    "num_nodes = nhv(g[1])\n",
    "num_edges = nhe(g[1])\n",
    "println(\"Number of nodes: $num_nodes\")\n",
    "println(\"Number of edges: $num_edges\")\n",
    "flush(stdout)\n",
    "\n",
    "total_random_motif_count = [0 for i in 1:26]\n",
    "# generate 5 model and do average counting\n",
    "for j in range(1,5)\n",
    "    rm_pa = build_hg_randoms(\"../../hgs/\"*\"sql\"*\".hg\")\n",
    "    hg_save(\"../../randoms/randomPIPE\", rm_pa)\n",
    "    \n",
    "    # open file\n",
    "    r1 = open(\"../../randoms/randomPIPE\")\n",
    "    # substitue in each line \"=true\" with \",\"\n",
    "    run(`sed -i '' 's/=true/,/g' ../../randoms/randomPIPE`)\n",
    "    # remove first line\n",
    "    run(`sed -i '' '1d' ../../randoms/randomPIPE`)\n",
    "    # hash and rewriting id\n",
    "    run(`python3 rewrite.py ../../randoms/randomPIPE 1`)\n",
    "    \n",
    "    run(`bash orb.sh`)\n",
    "    \n",
    "    # run(`bash /Users/ddevin/Documents/MoCHy/run_exact.sh \"/Users/ddevin/Documents/vscode/DevCommunities/randoms/randomPIPE.hg\"`)\n",
    "    # run(`bash /Users/ddevin/Documents/MoCHy/run_exact.sh \"/Users/ddevin/Documents/vscode/DevCommunities/hgs/apl.hg\"`)\n",
    "    close(r1)\n",
    "    r2 = open(\"/Users/ddevin/Documents/vscode/DevCommunities/script_dump/dumpPIPE.txt\")\n",
    "    array = []\n",
    "    for line in eachline(r2)\n",
    "        if occursin(\"motif\", line)\n",
    "            if occursin(\"counting\", line)\n",
    "                continue\n",
    "            end\n",
    "            # find integers in line after \":\"\n",
    "            motif = parse.(Int64, split(line, \":\")[2:end])\n",
    "            push!(array, motif[1])\n",
    "        end\n",
    "    end\n",
    "    # array of any to array of integers\n",
    "    array = convert(Array{Int64}, array)\n",
    "    total_random_motif_count = [x + y for (x, y) in zip(array, total_random_motif_count)]\n",
    "    close(r2)\n",
    "    println(\"done with random model \"*string(j))\n",
    "    println(total_random_motif_count)\n",
    "    flush(stdout)\n",
    "    # flush\n",
    "end\n",
    "\n",
    "total_random_motif_count = [x / 5 for x in total_random_motif_count]\n",
    "total_random_motif_count = ceil.(Int64, total_random_motif_count)\n",
    "println(total_random_motif_count)\n",
    "# push!(all_arrays, total_random_motif_count)"
   ]
  },
  {
   "cell_type": "code",
   "execution_count": 21,
   "metadata": {},
   "outputs": [
    {
     "data": {
      "text/plain": [
       "cps (generic function with 1 method)"
      ]
     },
     "metadata": {},
     "output_type": "display_data"
    }
   ],
   "source": [
    "# num_motifs = [1077,818707,23,7,5702,6152,25,1,131,27,10,4,0,0,0,0,5,1,8390,1397,41097,124693,9,582,145,53]\n",
    "# num_motifs = [2070, 11469, 44796591, 58275821, 16910646, 34130003, 16, 93583226, 404737, 293960662, 70840, 175279493, 1, 4172338, 55998189, 362027234, 0, 0, 31323, 12423927, 14751, 27466910, 0, 152556, 716568, 7659269]\n",
    "\n",
    "function cps(motifs, motifs_random)\n",
    "    eps = 1 #fixed in the paper\n",
    "    deltas = []\n",
    "    sum_deltas = 0\n",
    "    for i in 1:length(motifs)\n",
    "        t = (motifs[i]-motifs_random[i])/(motifs[i]+motifs_random[i]+eps)\n",
    "        push!(deltas, t)\n",
    "        sum_deltas += t^2\n",
    "    end\n",
    "    cp = []\n",
    "    for i in 1:length(motifs)\n",
    "        push!(cp, deltas[i]/sqrt(sum_deltas))\n",
    "    end\n",
    "    return cp\n",
    "end\n",
    "\n",
    "# cp = cps(num_motifs, motifs_random)\n",
    "# println(cp)"
   ]
  },
  {
   "cell_type": "code",
   "execution_count": null,
   "metadata": {},
   "outputs": [],
   "source": [
    "using CSV, DataFrames\n",
    "data = CSV.read(\"../../hgs/motifs.csv\", DataFrame, header=false)\n",
    "# for each column create an array of the values\n",
    "w = open(\"../../results/cpprofilesAPL.csv\", \"w\")\n",
    "\n",
    "for i in 1:size(data, 2)\n",
    "    col = data[:, i]\n",
    "    col = convert(Array{Int64, 1}, col)\n",
    "    cp = cps(col, num_motifs)\n",
    "    new_line = join(cp, \",\")\n",
    "    \n",
    "    write(w, new_line * \"\\n\")\n",
    "end\n",
    "close(w)\n",
    "\n"
   ]
  },
  {
   "cell_type": "code",
   "execution_count": 32,
   "metadata": {},
   "outputs": [],
   "source": [
    "using CSV, DataFrames\n",
    "data = CSV.read(\"../../hgs/motifs.csv\", DataFrame, header=false)\n",
    "dataRandom = CSV.read(\"../../results/all_motifs_counted.csv\", DataFrame, header=false)\n",
    "# for each column create an array of the values\n",
    "w = open(\"../../results/cpprofilesALL.csv\", \"w\")\n",
    "# println(data)\n",
    "# println(dataRandom)\n",
    "# match column of data with column of dataRandom\n",
    "for i in 1:size(data, 2)\n",
    "    col = data[:, i]\n",
    "    col = convert(Array{Int64, 1}, col)\n",
    "    random_motif = dataRandom[i, :]\n",
    "    # println(col)\n",
    "    # println(random_motif)\n",
    "    cp = cps(col, random_motif)\n",
    "    new_line = join(cp, \",\")\n",
    "    write(w, new_line * \"\\n\")\n",
    "end\n",
    "\n",
    "# for i in 1:size(data, 2)\n",
    "#     col = data[:, i]\n",
    "#     col = convert(Array{Int64, 1}, col)\n",
    "#     random_motif = dataRandom[:, i]\n",
    "#     cp = cps(col, num_motifs)\n",
    "#     new_line = join(cp, \",\")\n",
    "    \n",
    "#     # write(w, new_line * \"\\n\")\n",
    "# end\n",
    "close(w)\n",
    "\n"
   ]
  },
  {
   "cell_type": "code",
   "execution_count": 37,
   "metadata": {},
   "outputs": [
    {
     "data": {
      "image/png": "[encoded data removed]",
      "image/svg+xml": [
       "<?xml version=\"1.0\" encoding=\"utf-8\"?>\n",
       "<svg xmlns=\"http://www.w3.org/2000/svg\" xmlns:xlink=\"http://www.w3.org/1999/xlink\" width=\"600\" height=\"400\" viewBox=\"0 0 2400 1600\">\n",
       "<defs>\n",
       "  <clipPath id=\"clip680\">\n",
       "    <rect x=\"0\" y=\"0\" width=\"2400\" height=\"1600\"/>\n",
       "  </clipPath>\n",
       "</defs>\n",
       "<path clip-path=\"url(#clip680)\" d=\"M0 1600 L2400 1600 L2400 0 L0 0  Z\" fill=\"#ffffff\" fill-rule=\"evenodd\" fill-opacity=\"1\"/>\n",
       "<defs>\n",
       "  <clipPath id=\"clip681\">\n",
       "    <rect x=\"480\" y=\"0\" width=\"1681\" height=\"1600\"/>\n",
       "  </clipPath>\n",
       "</defs>\n",
       "<path clip-path=\"url(#clip680)\" d=\"M140.696 1486.45 L2112.76 1486.45 L2112.76 47.2441 L140.696 47.2441  Z\" fill=\"#ffffff\" fill-rule=\"evenodd\" fill-opacity=\"1\"/>\n",
       "<defs>\n",
       "  <clipPath id=\"clip682\">\n",
       "    <rect x=\"140\" y=\"47\" width=\"1973\" height=\"1440\"/>\n",
       "  </clipPath>\n",
       "</defs>\n",
       "<polyline clip-path=\"url(#clip682)\" style=\"stroke:#000000; stroke-linecap:round; stroke-linejoin:round; stroke-width:2; stroke-opacity:0.1; fill:none\" points=\"584.409,1486.45 584.409,47.2441 \"/>\n",
       "<polyline clip-path=\"url(#clip682)\" style=\"stroke:#000000; stroke-linecap:round; stroke-linejoin:round; stroke-width:2; stroke-opacity:0.1; fill:none\" points=\"1077.42,1486.45 1077.42,47.2441 \"/>\n",
       "<polyline clip-path=\"url(#clip682)\" style=\"stroke:#000000; stroke-linecap:round; stroke-linejoin:round; stroke-width:2; stroke-opacity:0.1; fill:none\" points=\"1570.44,1486.45 1570.44,47.2441 \"/>\n",
       "<polyline clip-path=\"url(#clip682)\" style=\"stroke:#000000; stroke-linecap:round; stroke-linejoin:round; stroke-width:2; stroke-opacity:0.1; fill:none\" points=\"2063.45,1486.45 2063.45,47.2441 \"/>\n",
       "<polyline clip-path=\"url(#clip680)\" style=\"stroke:#000000; stroke-linecap:round; stroke-linejoin:round; stroke-width:4; stroke-opacity:1; fill:none\" points=\"140.696,1486.45 2112.76,1486.45 \"/>\n",
       "<polyline clip-path=\"url(#clip680)\" style=\"stroke:#000000; stroke-linecap:round; stroke-linejoin:round; stroke-width:4; stroke-opacity:1; fill:none\" points=\"584.409,1486.45 584.409,1467.55 \"/>\n",
       "<polyline clip-path=\"url(#clip680)\" style=\"stroke:#000000; stroke-linecap:round; stroke-linejoin:round; stroke-width:4; stroke-opacity:1; fill:none\" points=\"1077.42,1486.45 1077.42,1467.55 \"/>\n",
       "<polyline clip-path=\"url(#clip680)\" style=\"stroke:#000000; stroke-linecap:round; stroke-linejoin:round; stroke-width:4; stroke-opacity:1; fill:none\" points=\"1570.44,1486.45 1570.44,1467.55 \"/>\n",
       "<polyline clip-path=\"url(#clip680)\" style=\"stroke:#000000; stroke-linecap:round; stroke-linejoin:round; stroke-width:4; stroke-opacity:1; fill:none\" points=\"2063.45,1486.45 2063.45,1467.55 \"/>\n",
       "<path clip-path=\"url(#clip680)\" d=\"M574.687 1514.29 L593.043 1514.29 L593.043 1518.22 L578.969 1518.22 L578.969 1526.7 Q579.988 1526.35 581.006 1526.19 Q582.025 1526 583.043 1526 Q588.83 1526 592.21 1529.17 Q595.59 1532.34 595.59 1537.76 Q595.59 1543.34 592.117 1546.44 Q588.645 1549.52 582.326 1549.52 Q580.15 1549.52 577.881 1549.15 Q575.636 1548.78 573.229 1548.04 L573.229 1543.34 Q575.312 1544.47 577.534 1545.03 Q579.756 1545.58 582.233 1545.58 Q586.238 1545.58 588.576 1543.48 Q590.914 1541.37 590.914 1537.76 Q590.914 1534.15 588.576 1532.04 Q586.238 1529.94 582.233 1529.94 Q580.358 1529.94 578.483 1530.35 Q576.631 1530.77 574.687 1531.65 L574.687 1514.29 Z\" fill=\"#000000\" fill-rule=\"nonzero\" fill-opacity=\"1\" /><path clip-path=\"url(#clip680)\" d=\"M1052.11 1544.91 L1059.75 1544.91 L1059.75 1518.55 L1051.44 1520.21 L1051.44 1515.95 L1059.7 1514.29 L1064.38 1514.29 L1064.38 1544.91 L1072.02 1544.91 L1072.02 1548.85 L1052.11 1548.85 L1052.11 1544.91 Z\" fill=\"#000000\" fill-rule=\"nonzero\" fill-opacity=\"1\" /><path clip-path=\"url(#clip680)\" d=\"M1091.46 1517.37 Q1087.85 1517.37 1086.02 1520.93 Q1084.22 1524.47 1084.22 1531.6 Q1084.22 1538.71 1086.02 1542.27 Q1087.85 1545.82 1091.46 1545.82 Q1095.1 1545.82 1096.9 1542.27 Q1098.73 1538.71 1098.73 1531.6 Q1098.73 1524.47 1096.9 1520.93 Q1095.1 1517.37 1091.46 1517.37 M1091.46 1513.66 Q1097.27 1513.66 1100.33 1518.27 Q1103.41 1522.85 1103.41 1531.6 Q1103.41 1540.33 1100.33 1544.94 Q1097.27 1549.52 1091.46 1549.52 Q1085.65 1549.52 1082.57 1544.94 Q1079.52 1540.33 1079.52 1531.6 Q1079.52 1522.85 1082.57 1518.27 Q1085.65 1513.66 1091.46 1513.66 Z\" fill=\"#000000\" fill-rule=\"nonzero\" fill-opacity=\"1\" /><path clip-path=\"url(#clip680)\" d=\"M1545.62 1544.91 L1553.26 1544.91 L1553.26 1518.55 L1544.95 1520.21 L1544.95 1515.95 L1553.22 1514.29 L1557.89 1514.29 L1557.89 1544.91 L1565.53 1544.91 L1565.53 1548.85 L1545.62 1548.85 L1545.62 1544.91 Z\" fill=\"#000000\" fill-rule=\"nonzero\" fill-opacity=\"1\" /><path clip-path=\"url(#clip680)\" d=\"M1575.02 1514.29 L1593.38 1514.29 L1593.38 1518.22 L1579.3 1518.22 L1579.3 1526.7 Q1580.32 1526.35 1581.34 1526.19 Q1582.36 1526 1583.38 1526 Q1589.17 1526 1592.55 1529.17 Q1595.93 1532.34 1595.93 1537.76 Q1595.93 1543.34 1592.45 1546.44 Q1588.98 1549.52 1582.66 1549.52 Q1580.49 1549.52 1578.22 1549.15 Q1575.97 1548.78 1573.56 1548.04 L1573.56 1543.34 Q1575.65 1544.47 1577.87 1545.03 Q1580.09 1545.58 1582.57 1545.58 Q1586.57 1545.58 1588.91 1543.48 Q1591.25 1541.37 1591.25 1537.76 Q1591.25 1534.15 1588.91 1532.04 Q1586.57 1529.94 1582.57 1529.94 Q1580.69 1529.94 1578.82 1530.35 Q1576.97 1530.77 1575.02 1531.65 L1575.02 1514.29 Z\" fill=\"#000000\" fill-rule=\"nonzero\" fill-opacity=\"1\" /><path clip-path=\"url(#clip680)\" d=\"M2042.23 1544.91 L2058.55 1544.91 L2058.55 1548.85 L2036.6 1548.85 L2036.6 1544.91 Q2039.26 1542.16 2043.85 1537.53 Q2048.45 1532.88 2049.64 1531.53 Q2051.88 1529.01 2052.76 1527.27 Q2053.66 1525.51 2053.66 1523.82 Q2053.66 1521.07 2051.72 1519.33 Q2049.8 1517.6 2046.7 1517.6 Q2044.5 1517.6 2042.04 1518.36 Q2039.61 1519.13 2036.83 1520.68 L2036.83 1515.95 Q2039.66 1514.82 2042.11 1514.24 Q2044.57 1513.66 2046.6 1513.66 Q2051.97 1513.66 2055.17 1516.35 Q2058.36 1519.03 2058.36 1523.52 Q2058.36 1525.65 2057.55 1527.57 Q2056.76 1529.47 2054.66 1532.07 Q2054.08 1532.74 2050.98 1535.95 Q2047.88 1539.15 2042.23 1544.91 Z\" fill=\"#000000\" fill-rule=\"nonzero\" fill-opacity=\"1\" /><path clip-path=\"url(#clip680)\" d=\"M2078.36 1517.37 Q2074.75 1517.37 2072.92 1520.93 Q2071.12 1524.47 2071.12 1531.6 Q2071.12 1538.71 2072.92 1542.27 Q2074.75 1545.82 2078.36 1545.82 Q2082 1545.82 2083.8 1542.27 Q2085.63 1538.71 2085.63 1531.6 Q2085.63 1524.47 2083.8 1520.93 Q2082 1517.37 2078.36 1517.37 M2078.36 1513.66 Q2084.17 1513.66 2087.23 1518.27 Q2090.31 1522.85 2090.31 1531.6 Q2090.31 1540.33 2087.23 1544.94 Q2084.17 1549.52 2078.36 1549.52 Q2072.55 1549.52 2069.47 1544.94 Q2066.42 1540.33 2066.42 1531.6 Q2066.42 1522.85 2069.47 1518.27 Q2072.55 1513.66 2078.36 1513.66 Z\" fill=\"#000000\" fill-rule=\"nonzero\" fill-opacity=\"1\" /><polyline clip-path=\"url(#clip682)\" style=\"stroke:#000000; stroke-linecap:round; stroke-linejoin:round; stroke-width:2; stroke-opacity:0.1; fill:none\" points=\"140.696,1162.63 2112.76,1162.63 \"/>\n",
       "<polyline clip-path=\"url(#clip682)\" style=\"stroke:#000000; stroke-linecap:round; stroke-linejoin:round; stroke-width:2; stroke-opacity:0.1; fill:none\" points=\"140.696,802.826 2112.76,802.826 \"/>\n",
       "<polyline clip-path=\"url(#clip682)\" style=\"stroke:#000000; stroke-linecap:round; stroke-linejoin:round; stroke-width:2; stroke-opacity:0.1; fill:none\" points=\"140.696,443.025 2112.76,443.025 \"/>\n",
       "<polyline clip-path=\"url(#clip682)\" style=\"stroke:#000000; stroke-linecap:round; stroke-linejoin:round; stroke-width:2; stroke-opacity:0.1; fill:none\" points=\"140.696,83.2242 2112.76,83.2242 \"/>\n",
       "<polyline clip-path=\"url(#clip680)\" style=\"stroke:#000000; stroke-linecap:round; stroke-linejoin:round; stroke-width:4; stroke-opacity:1; fill:none\" points=\"140.696,1486.45 140.696,47.2441 \"/>\n",
       "<polyline clip-path=\"url(#clip680)\" style=\"stroke:#000000; stroke-linecap:round; stroke-linejoin:round; stroke-width:4; stroke-opacity:1; fill:none\" points=\"140.696,1162.63 157.543,1162.63 \"/>\n",
       "<polyline clip-path=\"url(#clip680)\" style=\"stroke:#000000; stroke-linecap:round; stroke-linejoin:round; stroke-width:4; stroke-opacity:1; fill:none\" points=\"140.696,802.826 157.543,802.826 \"/>\n",
       "<polyline clip-path=\"url(#clip680)\" style=\"stroke:#000000; stroke-linecap:round; stroke-linejoin:round; stroke-width:4; stroke-opacity:1; fill:none\" points=\"140.696,443.025 157.543,443.025 \"/>\n",
       "<polyline clip-path=\"url(#clip680)\" style=\"stroke:#000000; stroke-linecap:round; stroke-linejoin:round; stroke-width:4; stroke-opacity:1; fill:none\" points=\"140.696,83.2242 157.543,83.2242 \"/>\n",
       "<path clip-path=\"url(#clip680)\" d=\"M83.7929 1145.35 L102.149 1145.35 L102.149 1149.28 L88.0753 1149.28 L88.0753 1157.75 Q89.0938 1157.41 90.1123 1157.25 Q91.1308 1157.06 92.1493 1157.06 Q97.9363 1157.06 101.316 1160.23 Q104.696 1163.4 104.696 1168.82 Q104.696 1174.4 101.223 1177.5 Q97.7511 1180.58 91.4317 1180.58 Q89.2558 1180.58 86.9873 1180.21 Q84.7419 1179.84 82.3346 1179.1 L82.3346 1174.4 Q84.4179 1175.53 86.6401 1176.09 Q88.8623 1176.64 91.3391 1176.64 Q95.3437 1176.64 97.6817 1174.54 Q100.02 1172.43 100.02 1168.82 Q100.02 1165.21 97.6817 1163.1 Q95.3437 1161 91.3391 1161 Q89.4641 1161 87.5892 1161.41 Q85.7373 1161.83 83.7929 1162.71 L83.7929 1145.35 Z\" fill=\"#000000\" fill-rule=\"nonzero\" fill-opacity=\"1\" /><path clip-path=\"url(#clip680)\" d=\"M53.3995 816.171 L61.0384 816.171 L61.0384 789.805 L52.7282 791.472 L52.7282 787.213 L60.9921 785.546 L65.668 785.546 L65.668 816.171 L73.3068 816.171 L73.3068 820.106 L53.3995 820.106 L53.3995 816.171 Z\" fill=\"#000000\" fill-rule=\"nonzero\" fill-opacity=\"1\" /><path clip-path=\"url(#clip680)\" d=\"M92.7512 788.625 Q89.1401 788.625 87.3114 792.19 Q85.5058 795.731 85.5058 802.861 Q85.5058 809.967 87.3114 813.532 Q89.1401 817.074 92.7512 817.074 Q96.3854 817.074 98.1909 813.532 Q100.02 809.967 100.02 802.861 Q100.02 795.731 98.1909 792.19 Q96.3854 788.625 92.7512 788.625 M92.7512 784.921 Q98.5613 784.921 101.617 789.528 Q104.696 794.111 104.696 802.861 Q104.696 811.588 101.617 816.194 Q98.5613 820.777 92.7512 820.777 Q86.941 820.777 83.8623 816.194 Q80.8068 811.588 80.8068 802.861 Q80.8068 794.111 83.8623 789.528 Q86.941 784.921 92.7512 784.921 Z\" fill=\"#000000\" fill-rule=\"nonzero\" fill-opacity=\"1\" /><path clip-path=\"url(#clip680)\" d=\"M54.3949 456.37 L62.0337 456.37 L62.0337 430.004 L53.7236 431.671 L53.7236 427.412 L61.9874 425.745 L66.6633 425.745 L66.6633 456.37 L74.3022 456.37 L74.3022 460.305 L54.3949 460.305 L54.3949 456.37 Z\" fill=\"#000000\" fill-rule=\"nonzero\" fill-opacity=\"1\" /><path clip-path=\"url(#clip680)\" d=\"M83.7929 425.745 L102.149 425.745 L102.149 429.68 L88.0753 429.68 L88.0753 438.152 Q89.0938 437.805 90.1123 437.643 Q91.1308 437.458 92.1493 437.458 Q97.9363 437.458 101.316 440.629 Q104.696 443.801 104.696 449.217 Q104.696 454.796 101.223 457.898 Q97.7511 460.976 91.4317 460.976 Q89.2558 460.976 86.9873 460.606 Q84.7419 460.236 82.3346 459.495 L82.3346 454.796 Q84.4179 455.93 86.6401 456.486 Q88.8623 457.041 91.3391 457.041 Q95.3437 457.041 97.6817 454.935 Q100.02 452.828 100.02 449.217 Q100.02 445.606 97.6817 443.5 Q95.3437 441.393 91.3391 441.393 Q89.4641 441.393 87.5892 441.81 Q85.7373 442.227 83.7929 443.106 L83.7929 425.745 Z\" fill=\"#000000\" fill-rule=\"nonzero\" fill-opacity=\"1\" /><path clip-path=\"url(#clip680)\" d=\"M56.6171 96.569 L72.9365 96.569 L72.9365 100.504 L50.9921 100.504 L50.9921 96.569 Q53.6541 93.8144 58.2375 89.1848 Q62.8439 84.5321 64.0245 83.1895 Q66.2698 80.6663 67.1494 78.9302 Q68.0522 77.171 68.0522 75.4812 Q68.0522 72.7266 66.1078 70.9905 Q64.1865 69.2544 61.0847 69.2544 Q58.8856 69.2544 56.4319 70.0182 Q54.0014 70.7821 51.2236 72.333 L51.2236 67.6108 Q54.0477 66.4766 56.5014 65.8979 Q58.955 65.3192 60.9921 65.3192 Q66.3624 65.3192 69.5568 68.0044 Q72.7513 70.6895 72.7513 75.1803 Q72.7513 77.3099 71.9411 79.2312 Q71.1541 81.1293 69.0476 83.7219 Q68.4689 84.3932 65.367 87.6107 Q62.2652 90.8052 56.6171 96.569 Z\" fill=\"#000000\" fill-rule=\"nonzero\" fill-opacity=\"1\" /><path clip-path=\"url(#clip680)\" d=\"M92.7512 69.0229 Q89.1401 69.0229 87.3114 72.5877 Q85.5058 76.1293 85.5058 83.2589 Q85.5058 90.3654 87.3114 93.9302 Q89.1401 97.4718 92.7512 97.4718 Q96.3854 97.4718 98.1909 93.9302 Q100.02 90.3654 100.02 83.2589 Q100.02 76.1293 98.1909 72.5877 Q96.3854 69.0229 92.7512 69.0229 M92.7512 65.3192 Q98.5613 65.3192 101.617 69.9256 Q104.696 74.509 104.696 83.2589 Q104.696 91.9857 101.617 96.5922 Q98.5613 101.175 92.7512 101.175 Q86.941 101.175 83.8623 96.5922 Q80.8068 91.9857 80.8068 83.2589 Q80.8068 74.509 83.8623 69.9256 Q86.941 65.3192 92.7512 65.3192 Z\" fill=\"#000000\" fill-rule=\"nonzero\" fill-opacity=\"1\" /><g clip-path=\"url(#clip682)\">\n",
       "<image width=\"1972\" height=\"1439\" xlink:href=\"data:image/png;base64,\n",
       "iVBORw0KGgoAAAANSUhEUgAAB7QAAAWfCAYAAAArpcnjAAAgAElEQVR4nOzb7evod13H8feZxx3P\n",
       "Omu1OW3XpxroaqZOW4Jmuu6YCAbRBSTUSIq6kTciIqIbNYygm8GE0ogKhJUhkzBKN1ZqNcrQVcdd\n",
       "mO5s87SLtrm2nbNz1F839tnf8HneeDz+ghd84Xv15HPow9e9/2BI+Llf+7PdE1g+/oc/s3sCM3Px\n",
       "0ed2T2B5+szR3ROYmW8enLd7AsvVFz25ewLLZx65avcEZuam4/+9ewLLM6cv2D2BmXn9DV/YPYHl\n",
       "Y5++afcEln970v2p4Bdf96XdE1iOX/fA7gnMzO13vGP3BJbXXvro7gksb/qlu3ZPYGZ+5zdu3j2B\n",
       "5ZaTH9o9gZnxZxwAAAAAAACAJEEbAAAAAAAAgCRBGwAAAAAAAIAkQRsAAAAAAACAJEEbAAAAAAAA\n",
       "gCRBGwAAAAAAAIAkQRsAAAAAAACAJEEbAAAAAAAAgCRBGwAAAAAAAIAkQRsAAAAAAACAJEEbAAAA\n",
       "AAAAgCRBGwAAAAAAAIAkQRsAAAAAAACAJEEbAAAAAAAAgCRBGwAAAAAAAIAkQRsAAAAAAACAJEEb\n",
       "AAAAAAAAgCRBGwAAAAAAAIAkQRsAAAAAAACAJEEbAAAAAAAAgCRBGwAAAAAAAIAkQRsAAAAAAACA\n",
       "JEEbAAAAAAAAgCRBGwAAAAAAAIAkQRsAAAAAAACAJEEbAAAAAAAAgCRBGwAAAAAAAIAkQRsAAAAA\n",
       "AACAJEEbAAAAAAAAgCRBGwAAAAAAAIAkQRsAAAAAAACAJEEbAAAAAAAAgCRBGwAAAAAAAIAkQRsA\n",
       "AAAAAACAJEEbAAAAAAAAgCRBGwAAAAAAAIAkQRsAAAAAAACAJEEbAAAAAAAAgCRBGwAAAAAAAIAk\n",
       "QRsAAAAAAACAJEEbAAAAAAAAgCRBGwAAAAAAAIAkQRsAAAAAAACAJEEbAAAAAAAAgCRBGwAAAAAA\n",
       "AIAkQRsAAAAAAACAJEEbAAAAAAAAgCRBGwAAAAAAAIAkQRsAAAAAAACAJEEbAAAAAAAAgCRBGwAA\n",
       "AAAAAIAkQRsAAAAAAACAJEEbAAAAAAAAgCRBGwAAAAAAAIAkQRsAAAAAAACAJEEbAAAAAAAAgCRB\n",
       "GwAAAAAAAIAkQRsAAAAAAACAJEEbAAAAAAAAgCRBGwAAAAAAAIAkQRsAAAAAAACAJEEbAAAAAAAA\n",
       "gCRBGwAAAAAAAIAkQRsAAAAAAACAJEEbAAAAAAAAgCRBGwAAAAAAAIAkQRsAAAAAAACAJEEbAAAA\n",
       "AAAAgCRBGwAAAAAAAIAkQRsAAAAAAACAJEEbAAAAAAAAgKTDp04f2b2B5eDa47snsHzPJY/tnsDM\n",
       "fO/19+6ewHLHP7x19wRm5q8f/I7dE1jedcXh3RNY/uPpl++ewMy8//r7dk9gOfe877uCI5c8s3sC\n",
       "yxefumD3BJb3XOk7u+DI+Wd3T2A59v0P757AzNz10WO7J7A8fsZ7bMUbHj7YPYGZueXkh3ZPYPnt\n",
       "q3959wTGCW0AAAAAAAAAogRtAAAAAAAAAJIEbQAAAAAAAACSBG0AAAAAAAAAkgRtAAAAAAAAAJIE\n",
       "bQAAAAAAAACSBG0AAAAAAAAAkgRtAAAAAAAAAJIEbQAAAAAAAACSBG0AAAAAAAAAkgRtAAAAAAAA\n",
       "AJIEbQAAAAAAAACSBG0AAAAAAAAAkgRtAAAAAAAAAJIEbQAAAAAAAACSBG0AAAAAAAAAkgRtAAAA\n",
       "AAAAAJIEbQAAAAAAAACSBG0AAAAAAAAAkgRtAAAAAAAAAJIEbQAAAAAAAACSBG0AAAAAAAAAkgRt\n",
       "AAAAAAAAAJIEbQAAAAAAAACSBG0AAAAAAAAAkgRtAAAAAAAAAJIEbQAAAAAAAACSBG0AAAAAAAAA\n",
       "kgRtAAAAAAAAAJIEbQAAAAAAAACSBG0AAAAAAAAAkgRtAAAAAAAAAJIEbQAAAAAAAACSBG0AAAAA\n",
       "AAAAkgRtAAAAAAAAAJIEbQAAAAAAAACSBG0AAAAAAAAAkgRtAAAAAAAAAJIEbQAAAAAAAACSBG0A\n",
       "AAAAAAAAkgRtAAAAAAAAAJIEbQAAAAAAAACSBG0AAAAAAAAAkgRtAAAAAAAAAJIEbQAAAAAAAACS\n",
       "BG0AAAAAAAAAkgRtAAAAAAAAAJIEbQAAAAAAAACSBG0AAAAAAAAAkgRtAAAAAAAAAJIEbQAAAAAA\n",
       "AACSBG0AAAAAAAAAkgRtAAAAAAAAAJIEbQAAAAAAAACSBG0AAAAAAAAAkgRtAAAAAAAAAJIEbQAA\n",
       "AAAAAACSBG0AAAAAAAAAkgRtAAAAAAAAAJIEbQAAAAAAAACSBG0AAAAAAAAAkgRtAAAAAAAAAJIE\n",
       "bQAAAAAAAACSBG0AAAAAAAAAkgRtAAAAAAAAAJIEbQAAAAAAAACSBG0AAAAAAAAAkgRtAAAAAAAA\n",
       "AJIEbQAAAAAAAACSBG0AAAAAAAAAkgRtAAAAAAAAAJIOfeOjxw52j+BFd9/6zt0TWC579WO7JzAz\n",
       "l//6ud0TWM5des3uCczM4ds+tXsCy3lvuWz3BJZDp5/fPYGZObjg2O4JLM/95dndE5iZC296evcE\n",
       "lmfv+vbdE1iOvfnR3ROYmXnfH+9ewPKtz/3+7gnMzJN/dGj3BF7iUmR815+e2D2BmXnhD47snsDy\n",
       "sivdoAqc0AYAAAAAAAAgSdAGAAAAAAAAIEnQBgAAAAAAACBJ0AYAAAAAAAAgSdAGAAAAAAAAIEnQ\n",
       "BgAAAAAAACBJ0AYAAAAAAAAgSdAGAAAAAAAAIEnQBgAAAAAAACBJ0AYAAAAAAAAgSdAGAAAAAAAA\n",
       "IEnQBgAAAAAAACBJ0AYAAAAAAAAgSdAGAAAAAAAAIEnQBgAAAAAAACBJ0AYAAAAAAAAgSdAGAAAA\n",
       "AAAAIEnQBgAAAAAAACBJ0AYAAAAAAAAgSdAGAAAAAAAAIEnQBgAAAAAAACBJ0AYAAAAAAAAgSdAG\n",
       "AAAAAAAAIEnQBgAAAAAAACBJ0AYAAAAAAAAgSdAGAAAAAAAAIEnQBgAAAAAAACBJ0AYAAAAAAAAg\n",
       "SdAGAAAAAAAAIEnQBgAAAAAAACBJ0AYAAAAAAAAgSdAGAAAAAAAAIEnQBgAAAAAAACBJ0AYAAAAA\n",
       "AAAgSdAGAAAAAAAAIEnQBgAAAAAAACBJ0AYAAAAAAAAgSdAGAAAAAAAAIEnQBgAAAAAAACBJ0AYA\n",
       "AAAAAAAgSdAGAAAAAAAAIEnQBgAAAAAAACBJ0AYAAAAAAAAgSdAGAAAAAAAAIEnQBgAAAAAAACBJ\n",
       "0AYAAAAAAAAgSdAGAAAAAAAAIEnQBgAAAAAAACBJ0AYAAAAAAAAgSdAGAAAAAAAAIEnQBgAAAAAA\n",
       "ACBJ0AYAAAAAAAAgSdAGAAAAAAAAIEnQBgAAAAAAACBJ0AYAAAAAAAAgSdAGAAAAAAAAIEnQBgAA\n",
       "AAAAACBJ0AYAAAAAAAAgSdAGAAAAAAAAIEnQBgAAAAAAACBJ0AYAAAAAAAAgSdAGAAAAAAAAIEnQ\n",
       "BgAAAAAAACBJ0AYAAAAAAAAgSdAGAAAAAAAAIEnQBgAAAAAAACBJ0AYAAAAAAAAgSdAGAAAAAAAA\n",
       "IEnQBgAAAAAAACBJ0AYAAAAAAAAgSdAGAAAAAAAAIOnQP739PQe7R/CiH7z573dPYHnw9ht2T2Bm\n",
       "rnnfvbsnsJy959DuCczMrX/+U7snsPzs2z6zewLL1x66YvcEZuYHfuv+3RN4yYMP717AzHzrutfs\n",
       "nsDyq+99x+4JLL/3E5/cPYGZueidj+6ewHLmzT+6ewIz84Ebr9o9geUjT9y6ewLL//z8dbsnMDN/\n",
       "8Y9v2z2B5YevOrl7AuOENgAAAAAAAABRgjYAAAAAAAAASYI2AAAAAAAAAEmCNgAAAAAAAABJgjYA\n",
       "AAAAAAAASYI2AAAAAAAAAEmCNgAAAAAAAABJgjYAAAAAAAAASYI2AAAAAAAAAEmCNgAAAAAAAABJ\n",
       "gjYAAAAAAAAASYI2AAAAAAAAAEmCNgAAAAAAAABJgjYAAAAAAAAASYI2AAAAAAAAAEmCNgAAAAAA\n",
       "AABJgjYAAAAAAAAASYI2AAAAAAAAAEmCNgAAAAAAAABJgjYAAAAAAAAASYI2AAAAAAAAAEmCNgAA\n",
       "AAAAAABJgjYAAAAAAAAASYI2AAAAAAAAAEmCNgAAAAAAAABJgjYAAAAAAAAASYI2AAAAAAAAAEmC\n",
       "NgAAAAAAAABJgjYAAAAAAAAASYI2AAAAAAAAAEmCNgAAAAAAAABJgjYAAAAAAAAASYI2AAAAAAAA\n",
       "AEmCNgAAAAAAAABJgjYAAAAAAAAASYI2AAAAAAAAAEmCNgAAAAAAAABJgjYAAAAAAAAASYI2AAAA\n",
       "AAAAAEmCNgAAAAAAAABJgjYAAAAAAAAASYI2AAAAAAAAAEmCNgAAAAAAAABJgjYAAAAAAAAASYI2\n",
       "AAAAAAAAAEmCNgAAAAAAAABJgjYAAAAAAAAASYI2AAAAAAAAAEmCNgAAAAAAAABJgjYAAAAAAAAA\n",
       "SYI2AAAAAAAAAEmCNgAAAAAAAABJgjYAAAAAAAAASYI2AAAAAAAAAEmCNgAAAAAAAABJgjYAAAAA\n",
       "AAAASYI2AAAAAAAAAEmCNgAAAAAAAABJgjYAAAAAAAAASYI2AAAAAAAAAEmCNgAAAAAAAABJgjYA\n",
       "AAAAAAAASYI2AAAAAAAAAEmCNgAAAAAAAABJgjYAAAAAAAAASYI2AAAAAAAAAEmCNgAAAAAAAABJ\n",
       "gjYAAAAAAAAASYI2AAAAAAAAAEmCNgAAAAAAAABJgjYAAAAAAAAASYcfevri3RtYbnj85bsnsHz1\n",
       "1OW7JzAzVz3y+d0TWJ564LrdE5iZf3/Sc6Lixx575e4JLI94l014/cmHd09gefYLl+2ewMwcO/+B\n",
       "3RNYTp1+++4JLA89cHz3BGbmwtc8tHsCy5Gv3rN7AjPzkSc+sXsCyy+88ld2T+AlB3fuXsDM/NfX\n",
       "/QesuPQVr949gXFCGwAAAAAAAIAoQRsAAAAAAACAJEEbAAAAAAAAgCRBGwAAAAAAAIAkQRsAAAAA\n",
       "AACAJEEbAAAAAAAAgCRBGwAAAAAAAIAkQRsAAAAAAACAJEEbAAAAAAAAgCRBGwAAAAAAAIAkQRsA\n",
       "AAAAAACAJEEbAAAAAAAAgCRBGwAAAAAAAIAkQRsAAAAAAACAJEEbAAAAAAAAgCRBGwAAAAAAAIAk\n",
       "QRsAAAAAAACAJEEbAAAAAAAAgCRBGwAAAAAAAIAkQRsAAAAAAACAJEEbAAAAAAAAgCRBGwAAAAAA\n",
       "AIAkQRsAAAAAAACAJEEbAAAAAAAAgCRBGwAAAAAAAIAkQRsAAAAAAACAJEEbAAAAAAAAgCRBGwAA\n",
       "AAAAAIAkQRsAAAAAAACAJEEbAAAAAAAAgCRBGwAAAAAAAIAkQRsAAAAAAACAJEEbAAAAAAAAgCRB\n",
       "GwAAAAAAAIAkQRsAAAAAAACAJEEbAAAAAAAAgCRBGwAAAAAAAIAkQRsAAAAAAACAJEEbAAAAAAAA\n",
       "gCRBGwAAAAAAAIAkQRsAAAAAAACAJEEbAAAAAAAAgCRBGwAAAAAAAIAkQRsAAAAAAACAJEEbAAAA\n",
       "AAAAgCRBGwAAAAAAAIAkQRsAAAAAAACAJEEbAAAAAAAAgCRBGwAAAAAAAIAkQRsAAAAAAACAJEEb\n",
       "AAAAAAAAgCRBGwAAAAAAAIAkQRsAAAAAAACAJEEbAAAAAAAAgCRBGwAAAAAAAIAkQRsAAAAAAACA\n",
       "JEEbAAAAAAAAgCRBGwAAAAAAAIAkQRsAAAAAAACAJEEbAAAAAAAAgCRBGwAAAAAAAIAkQRsAAAAA\n",
       "AACAJEEbAAAAAAAAgCRBGwAAAAAAAIAkQRsAAAAAAACAJEEbAAAAAAAAgCRBGwAAAAAAAIAkQRsA\n",
       "AAAAAACAJEEbAAAAAAAAgCRBGwAAAAAAAIAkQRsAAAAAAACApEPn7rj2YPcIXnTmk6d3T2B5/MtX\n",
       "757AzJx48JrdE1guOur+VHDjT//t7gksX/m7G3dPYHnVNV/bPYGZufvuN+2ewHLZd/7v7gnMzG9+\n",
       "9rW7J7B8/GOf2D2B5V9ueePuCczM4Zd9c/cElrfc5fuu4Nwdx3dPYHnh+Ot2T2A5/9T9uycwM4fu\n",
       "uW/3BJZn//PK3RMYJ7QBAAAAAAAAiBK0AQAAAAAAAEgStAEAAAAAAABIErQBAAAAAAAASBK0AQAA\n",
       "AAAAAEgStAEAAAAAAABIErQBAAAAAAAASBK0AQAAAAAAAEgStAEAAAAAAABIErQBAAAAAAAASBK0\n",
       "AQAAAAAAAEgStAEAAAAAAABIErQBAAAAAAAASBK0AQAAAAAAAEgStAEAAAAAAABIErQBAAAAAAAA\n",
       "SBK0AQAAAAAAAEgStAEAAAAAAABIErQBAAAAAAAASBK0AQAAAAAAAEgStAEAAAAAAABIErQBAAAA\n",
       "AAAASBK0AQAAAAAAAEgStAEAAAAAAABIErQBAAAAAAAASBK0AQAAAAAAAEgStAEAAAAAAABIErQB\n",
       "AAAAAAAASBK0AQAAAAAAAEgStAEAAAAAAABIErQBAAAAAAAASBK0AQAAAAAAAEgStAEAAAAAAABI\n",
       "ErQBAAAAAAAASBK0AQAAAAAAAEgStAEAAAAAAABIErQBAAAAAAAASBK0AQAAAAAAAEgStAEAAAAA\n",
       "AABIErQBAAAAAAAASBK0AQAAAAAAAEgStAEAAAAAAABIErQBAAAAAAAASBK0AQAAAAAAAEgStAEA\n",
       "AAAAAABIErQBAAAAAAAASBK0AQAAAAAAAEgStAEAAAAAAABIErQBAAAAAAAASBK0AQAAAAAAAEgS\n",
       "tAEAAAAAAABIErQBAAAAAAAASBK0AQAAAAAAAEgStAEAAAAAAABIErQBAAAAAAAASBK0AQAAAAAA\n",
       "AEgStAEAAAAAAABIErQBAAAAAAAASBK0AQAAAAAAAEgStAEAAAAAAABIErQBAAAAAAAASBK0AQAA\n",
       "AAAAAEgStAEAAAAAAABIErQBAAAAAAAASBK0AQAAAAAAAEgStAEAAAAAAABIErQBAAAAAAAASBK0\n",
       "AQAAAAAAAEgStAEAAAAAAABIErQBAAAAAAAASBK0AQAAAAAAAEg6/Nzt39i9geW837159wSWSz/4\n",
       "J7snMDOf//K1uyew3PmVV+2ewMxc/dnrd09g+ZsTrkXFkXu/b/cEZuaqY/+3ewLLd7/hxO4JzMwH\n",
       "nrp49wSWF+48t3sCyzNnju6ewMy8+1//avcEln/+kXftnsDMHHzxU7snsLziicd2T+AlP3nr7gXM\n",
       "zH0f/PDuCSwvnD1/9wTGCW0AAAAAAAAAogRtAAAAAAAAAJIEbQAAAAAAAACSBG0AAAAAAAAAkgRt\n",
       "AAAAAAAAAJIEbQAAAAAAAACSBG0AAAAAAAAAkgRtAAAAAAAAAJIEbQAAAAAAAACSBG0AAAAAAAAA\n",
       "kgRtAAAAAAAAAJIEbQAAAAAAAACSBG0AAAAAAAAAkgRtAAAAAAAAAJIEbQAAAAAAAACSBG0AAAAA\n",
       "AAAAkgRtAAAAAAAAAJIEbQAAAAAAAACSBG0AAAAAAAAAkgRtAAAAAAAAAJIEbQAAAAAAAACSBG0A\n",
       "AAAAAAAAkgRtAAAAAAAAAJIEbQAAAAAAAACSBG0AAAAAAAAAkgRtAAAAAAAAAJIEbQAAAAAAAACS\n",
       "BG0AAAAAAAAAkgRtAAAAAAAAAJIEbQAAAAAAAACSBG0AAAAAAAAAkgRtAAAAAAAAAJIEbQAAAAAA\n",
       "AACSBG0AAAAAAAAAkgRtAAAAAAAAAJIEbQAAAAAAAACSBG0AAAAAAAAAkgRtAAAAAAAAAJIEbQAA\n",
       "AAAAAACSBG0AAAAAAAAAkgRtAAAAAAAAAJIEbQAAAAAAAACSBG0AAAAAAAAAkgRtAAAAAAAAAJIE\n",
       "bQAAAAAAAACSBG0AAAAAAAAAkgRtAAAAAAAAAJIEbQAAAAAAAACSBG0AAAAAAAAAkgRtAAAAAAAA\n",
       "AJIEbQAAAAAAAACSBG0AAAAAAAAAkgRtAAAAAAAAAJIEbQAAAAAAAACSBG0AAAAAAAAAkgRtAAAA\n",
       "AAAAAJIEbQAAAAAAAACSBG0AAAAAAAAAkgRtAAAAAAAAAJIEbQAAAAAAAACSBG0AAAAAAAAAkgRt\n",
       "AAAAAAAAAJIEbQAAAAAAAACSBG0AAAAAAAAAkgRtAAAAAAAAAJIEbQAAAAAAAACSBG0AAAAAAAAA\n",
       "kgRtAAAAAAAAAJIEbQAAAAAAAACSBG0AAAAAAAAAkgRtAAAAAAAAAJIO3f/etx7sHsGLrnjjl3ZP\n",
       "YLntth/fPYGZOfn80d0TWC45/9zuCczMD11xcvcElqee/7bdE1hOPXvh7gnMzImvH9s9geXyC87u\n",
       "nsD/s283vZuedR2Hf6X/TmdgHMpgh6lQYCyJ7VBri1WsJKRNTDEm8iB1Q1ygidEYE2MMW40r4866\n",
       "IMbEuPFpQxO1QakmFFESW6hF2hJEg0qHafowNE6ddtphxgWnr+H8LI7jFXw39/Vwf65zZk4ff373\n",
       "BJbvOfzy7gksP/rwQ7snMDOfvvO+3RNYjrk+JRw9cmH3BJYb3/WfuyewvPHHn949gZn5zO99aPcE\n",
       "lgefPrF7AuOENgAAAAAAAABRgjYAAAAAAAAASYI2AAAAAAAAAEmCNgAAAAAAAABJgjYAAAAAAAAA\n",
       "SYI2AAAAAAAAAEmCNgAAAAAAAABJgjYAAAAAAAAASYI2AAAAAAAAAEmCNgAAAAAAAABJgjYAAAAA\n",
       "AAAASYI2AAAAAAAAAEmCNgAAAAAAAABJgjYAAAAAAAAASYI2AAAAAAAAAEmCNgAAAAAAAABJgjYA\n",
       "AAAAAAAASYI2AAAAAAAAAEmCNgAAAAAAAABJgjYAAAAAAAAASYI2AAAAAAAAAEmCNgAAAAAAAABJ\n",
       "gjYAAAAAAAAASYI2AAAAAAAAAEmCNgAAAAAAAABJgjYAAAAAAAAASYI2AAAAAAAAAEmCNgAAAAAA\n",
       "AABJgjYAAAAAAAAASYI2AAAAAAAAAEmCNgAAAAAAAABJgjYAAAAAAAAASYI2AAAAAAAAAEmCNgAA\n",
       "AAAAAABJgjYAAAAAAAAASYI2AAAAAAAAAEmCNgAAAAAAAABJgjYAAAAAAAAASYI2AAAAAAAAAEmC\n",
       "NgAAAAAAAABJgjYAAAAAAAAASYI2AAAAAAAAAEmCNgAAAAAAAABJgjYAAAAAAAAASYI2AAAAAAAA\n",
       "AEmCNgAAAAAAAABJgjYAAAAAAAAASYI2AAAAAAAAAEmCNgAAAAAAAABJgjYAAAAAAAAASYI2AAAA\n",
       "AAAAAEmCNgAAAAAAAABJgjYAAAAAAAAASYI2AAAAAAAAAEmCNgAAAAAAAABJgjYAAAAAAAAASYI2\n",
       "AAAAAAAAAEmCNgAAAAAAAABJgjYAAAAAAAAASYI2AAAAAAAAAEmCNgAAAAAAAABJgjYAAAAAAAAA\n",
       "SYI2AAAAAAAAAEmCNgAAAAAAAABJgjYAAAAAAAAASYI2AAAAAAAAAEmCNgAAAAAAAABJgjYAAAAA\n",
       "AAAASYI2AAAAAAAAAEmCNgAAAAAAAABJgjYAAAAAAAAASQf/fuZtuzewvPMnH909geXdb/nW7gnM\n",
       "zIdu/druCSwXzh3bPYGZ+a2H3r97Assv3PKN3RNYXnrx+O4JzMxvf+IPd09gefUZv4mCwz94fvcE\n",
       "loOPvbJ7Assjd9+7ewIzc/rHPrd7Asu191yzewIz89H7Prh7AssNX75l9wSW3z30V7snMDOfOXNi\n",
       "9wSWHz5+YfcExgltAAAAAAAAAKIEbQAAAAAAAACSBG0AAAAAAAAAkgRtAAAAAAAAAJIEbQAAAAAA\n",
       "AACSBG0AAAAAAAAAkgRtAAAAAAAAAJIEbQAAAAAAAACSBG0AAAAAAAAAkgRtAAAAAAAAAJIEbQAA\n",
       "AAAAAACSBG0AAAAAAAAAkgRtAAAAAAAAAJIEbQAAAAAAAACSBG0AAAAAAAAAkgRtAAAAAAAAAJIE\n",
       "bQAAAAAAAACSBG0AAAAAAAAAkgRtAAAAAAAAAJIEbQAAAAAAAACSBG0AAAAAAAAAkgRtAAAAAAAA\n",
       "AJIEbQAAAAAAAACSBG0AAAAAAAAAkgRtAAAAAAAAAJIEbQAAAAAAAACSBG0AAAAAAAAAkgRtAAAA\n",
       "AAAAAJIEbQAAAAAAAACSBG0AAAAAAAAAkgRtAAAAAAAAAJIEbQAAAAAAAACSBG0AAAAAAAAAkgRt\n",
       "AAAAAAAAAJIEbQAAAAAAAACSBG0AAAAAAAAAkgRtAAAAAAAAAJIEbQAAAAAAAACSBG0AAAAAAAAA\n",
       "kgRtAAAAAAAAAJIEbQAAAAAAAACSBG0AAAAAAAAAkgRtAAAAAAAAAJIEbQAAAAAAAACSBG0AAAAA\n",
       "AAAAkgRtAAAAAAAAAJIEbQAAAAAAAACSBG0AAAAAAAAAkgRtAAAAAAAAAJIEbQAAAAAAAACSBG0A\n",
       "AAAAAAAAkgRtAAAAAAAAAJIEbQAAAAAAAACSBG0AAAAAAAAAkgRtAAAAAAAAAJIEbQAAAAAAAACS\n",
       "BG0AAAAAAAAAkgRtAAAAAAAAAJIEbQAAAAAAAACSBG0AAAAAAAAAkgRtAAAAAAAAAJIEbQAAAAAA\n",
       "AACSBG0AAAAAAAAAkgRtAAAAAAAAAJIEbQAAAAAAAACSBG0AAAAAAAAAkgRtAAAAAAAAAJIEbQAA\n",
       "AAAAAACSBG0AAAAAAAAAkgRtAAAAAAAAAJIEbQAAAAAAAACSrrr0qTdd2T2C77r42DW7J7D89+On\n",
       "d09gZp45d3z3BJZv/s91uycwMx/56b/ZPYHlsX947+4JLKdufHr3BGbmC1999+4JLKdPntk9gZm5\n",
       "7aGHd09gufRnh3dPYPnc739g9wRm5juXnW2puP+pE7snMDN/+Qd/vHsCy3duetfuCSxXn/WeXfDq\n",
       "l92zKy6+cGz3BMYJbQAAAAAAAACiBG0AAAAAAAAAkgRtAAAAAAAAAJIEbQAAAAAAAACSBG0AAAAA\n",
       "AAAAkgRtAAAAAAAAAJIEbQAAAAAAAACSBG0AAAAAAAAAkgRtAAAAAAAAAJIEbQAAAAAAAACSBG0A\n",
       "AAAAAAAAkgRtAAAAAAAAAJIEbQAAAAAAAC2Dn+4AACAASURBVACSBG0AAAAAAAAAkgRtAAAAAAAA\n",
       "AJIEbQAAAAAAAACSBG0AAAAAAAAAkgRtAAAAAAAAAJIEbQAAAAAAAACSBG0AAAAAAAAAkgRtAAAA\n",
       "AAAAAJIEbQAAAAAAAACSBG0AAAAAAAAAkgRtAAAAAAAAAJIEbQAAAAAAAACSBG0AAAAAAAAAkgRt\n",
       "AAAAAAAAAJIEbQAAAAAAAACSBG0AAAAAAAAAkgRtAAAAAAAAAJIEbQAAAAAAAACSBG0AAAAAAAAA\n",
       "kgRtAAAAAAAAAJIEbQAAAAAAAACSBG0AAAAAAAAAkgRtAAAAAAAAAJIEbQAAAAAAAACSBG0AAAAA\n",
       "AAAAkgRtAAAAAAAAAJIEbQAAAAAAAACSBG0AAAAAAAAAkgRtAAAAAAAAAJIEbQAAAAAAAACSBG0A\n",
       "AAAAAAAAkgRtAAAAAAAAAJIEbQAAAAAAAACSBG0AAAAAAAAAkgRtAAAAAAAAAJIEbQAAAAAAAACS\n",
       "BG0AAAAAAAAAkgRtAAAAAAAAAJIEbQAAAAAAAACSBG0AAAAAAAAAkgRtAAAAAAAAAJIEbQAAAAAA\n",
       "AACSBG0AAAAAAAAAkgRtAAAAAAAAAJIEbQAAAAAAAACSBG0AAAAAAAAAkgRtAAAAAAAAAJIEbQAA\n",
       "AAAAAACSBG0AAAAAAAAAkgRtAAAAAAAAAJIEbQAAAAAAAACSBG0AAAAAAAAAkgRtAAAAAAAAAJIE\n",
       "bQAAAAAAAACSBG0AAAAAAAAAkgRtAAAAAAAAAJIEbQAAAAAAAACSBG0AAAAAAAAAkg5efuTI7g0s\n",
       "r5w7tnsCyxNPv333BGbm1PHndk9guevEs7snMDNXH3pt9wSWO9736O4JLC+dvX73BGbm2KFXdk9g\n",
       "ue2hh3dPYGb+9d67d09geeUrT+6ewPLUue/dPYGZ+fhH/nr3BJaTb7pl9wRm5qVHT+yewPKGV7+2\n",
       "ewLL+cfeunsCM3Pp4qHdE1iefNI9u8AJbQAAAAAAAACSBG0AAAAAAAAAkgRtAAAAAAAAAJIEbQAA\n",
       "AAAAAACSBG0AAAAAAAAAkgRtAAAAAAAAAJIEbQAAAAAAAACSBG0AAAAAAAAAkgRtAAAAAAAAAJIE\n",
       "bQAAAAAAAACSBG0AAAAAAAAAkgRtAAAAAAAAAJIEbQAAAAAAAACSBG0AAAAAAAAAkgRtAAAAAAAA\n",
       "AJIEbQAAAAAAAACSBG0AAAAAAAAAkgRtAAAAAAAAAJIEbQAAAAAAAACSBG0AAAAAAAAAkgRtAAAA\n",
       "AAAAAJIEbQAAAAAAAACSBG0AAAAAAAAAkgRtAAAAAAAAAJIEbQAAAAAAAACSBG0AAAAAAAAAkgRt\n",
       "AAAAAAAAAJIEbQAAAAAAAACSBG0AAAAAAAAAkgRtAAAAAAAAAJIEbQAAAAAAAACSBG0AAAAAAAAA\n",
       "kgRtAAAAAAAAAJIEbQAAAAAAAACSBG0AAAAAAAAAkgRtAAAAAAAAAJIEbQAAAAAAAACSBG0AAAAA\n",
       "AAAAkgRtAAAAAAAAAJIEbQAAAAAAAACSBG0AAAAAAAAAkgRtAAAAAAAAAJIEbQAAAAAAAACSBG0A\n",
       "AAAAAAAAkgRtAAAAAAAAAJIEbQAAAAAAAACSBG0AAAAAAAAAkgRtAAAAAAAAAJIEbQAAAAAAAACS\n",
       "BG0AAAAAAAAAkgRtAAAAAAAAAJIEbQAAAAAAAACSBG0AAAAAAAAAkgRtAAAAAAAAAJIEbQAAAAAA\n",
       "AACSBG0AAAAAAAAAkgRtAAAAAAAAAJIEbQAAAAAAAACSBG0AAAAAAAAAkgRtAAAAAAAAAJIEbQAA\n",
       "AAAAAACSBG0AAAAAAAAAkgRtAAAAAAAAAJIEbQAAAAAAAACSBG0AAAAAAAAAkgRtAAAAAAAAAJIE\n",
       "bQAAAAAAAACSBG0AAAAAAAAAkgRtAAAAAAAAAJIEbQAAAAAAAACSBG0AAAAAAAAAkg4OXf/i7g0s\n",
       "R2799u4JLHc89+bdE5iZv3j89t0TWH7ouOtTwTvu+eLuCSxnPvsDuyewXLni+8yCn/rip3ZPYPn0\n",
       "nR/dPYGZeeqZw7snsNx88vO7J7B868Kh3ROYmc/+3d27J7Bce3Bp9wRm5vTt/7h7AsuVt79t9wSW\n",
       "N9x0ze4JzMyFBy7unsBy7MiF3RMYJ7QBAAAAAAAAiBK0AQAAAAAAAEgStAEAAAAAAABIErQBAAAA\n",
       "AAAASBK0AQAAAAAAAEgStAEAAAAAAABIErQBAAAAAAAASBK0AQAAAAAAAEgStAEAAAAAAABIErQB\n",
       "AAAAAAAASBK0AQAAAAAAAEgStAEAAAAAAABIErQBAAAAAAAASBK0AQAAAAAAAEgStAEAAAAAAABI\n",
       "ErQBAAAAAAAASBK0AQAAAAAAAEgStAEAAAAAAABIErQBAAAAAAAASBK0AQAAAAAAAEgStAEAAAAA\n",
       "AABIErQBAAAAAAAASBK0AQAAAAAAAEgStAEAAAAAAABIErQBAAAAAAAASBK0AQAAAAAAAEgStAEA\n",
       "AAAAAABIErQBAAAAAAAASBK0AQAAAAAAAEgStAEAAAAAAABIErQBAAAAAAAASBK0AQAAAAAAAEgS\n",
       "tAEAAAAAAABIErQBAAAAAAAASBK0AQAAAAAAAEgStAEAAAAAAABIErQBAAAAAAAASBK0AQAAAAAA\n",
       "AEgStAEAAAAAAABIErQBAAAAAAAASBK0AQAAAAAAAEgStAEAAAAAAABIErQBAAAAAAAASBK0AQAA\n",
       "AAAAAEgStAEAAAAAAABIErQBAAAAAAAASBK0AQAAAAAAAEgStAEAAAAAAABIErQBAAAAAAAASBK0\n",
       "AQAAAAAAAEgStAEAAAAAAABIErQBAAAAAAAASBK0AQAAAAAAAEgStAEAAAAAAABIErQBAAAAAAAA\n",
       "SBK0AQAAAAAAAEgStAEAAAAAAABIErQBAAAAAAAASBK0AQAAAAAAAEgStAEAAAAAAABIErQBAAAA\n",
       "AAAASBK0AQAAAAAAAEgStAEAAAAAAABIErQBAAAAAAAASBK0AQAAAAAAAEgStAEAAAAAAABIErQB\n",
       "AAAAAAAASBK0AQAAAAAAAEgStAEAAAAAAABIErQBAAAAAAAASBK0AQAAAAAAAEi66k9v/fiV3SP4\n",
       "rg8/8OzuCSxP/8b53ROYmZdfObx7Asuff/Xm3ROYmSNXu2VXfPtV3wRW3H/2k7snMDP/9sG7dk9g\n",
       "OXrMc2zBpdcOdk9gefDx9+yewHL04LXdE5iZ868d2j2B5WP3/v3uCczM57/w3t0TWN563bndE1hu\n",
       "+8QTuycwM7/4cz+zewLLrdd5ji3wbywAAAAAAAAASYI2AAAAAAAAAEmCNgAAAAAAAABJgjYAAAAA\n",
       "AAAASYI2AAAAAAAAAEmCNgAAAAAAAABJgjYAAAAAAAAASYI2AAAAAAAAAEmCNgAAAAAAAABJgjYA\n",
       "AAAAAAAASYI2AAAAAAAAAEmCNgAAAAAAAABJgjYAAAAAAAAASYI2AAAAAAAAAEmCNgAAAAAAAABJ\n",
       "gjYAAAAAAAAASYI2AAAAAAAAAEmCNgAAAAAAAABJgjYAAAAAAAAASYI2AAAAAAAAAEmCNgAAAAAA\n",
       "AABJgjYAAAAAAAAASYI2AAAAAAAAAEmCNgAAAAAAAABJgjYAAAAAAAAASYI2AAAAAAAAAEmCNgAA\n",
       "AAAAAABJgjYAAAAAAAAASYI2AAAAAAAAAEmCNgAAAAAAAABJgjYAAAAAAAAASYI2AAAAAAAAAEmC\n",
       "NgAAAAAAAABJgjYAAAAAAAAASYI2AAAAAAAAAEmCNgAAAAAAAABJgjYAAAAAAAAASYI2AAAAAAAA\n",
       "AEmCNgAAAAAAAABJgjYAAAAAAAAASYI2AAAAAAAAAEmCNgAAAAAAAABJgjYAAAAAAAAASYI2AAAA\n",
       "AAAAAEmCNgAAAAAAAABJgjYAAAAAAAAASYI2AAAAAAAAAEmCNgAAAAAAAABJgjYAAAAAAAAASYI2\n",
       "AAAAAAAAAEmCNgAAAAAAAABJgjYAAAAAAAAASYI2AAAAAAAAAEmCNgAAAAAAAABJgjYAAAAAAAAA\n",
       "SYI2AAAAAAAAAEmCNgAAAAAAAABJgjYAAAAAAAAASYI2AAAAAAAAAEmCNgAAAAAAAABJgjYAAAAA\n",
       "AAAASYI2AAAAAAAAAEmCNgAAAAAAAABJgjYAAAAAAAAASYI2AAAAAAAAAEmCNgAAAAAAAABJgjYA\n",
       "AAAAAAAASYI2AAAAAAAAAEmCNgAAAAAAAABJgjYAAAAAAAAASYI2AAAAAAAAAEkHd576j90bWF73\n",
       "8u4F/L+jbzy/ewIzc3BwafcElstXrto9gZm59nWXd09guf/sJ3dPYPm1G35l9wRm5qqrvrR7AsvR\n",
       "G57bPYGZ+Zd/+pHdE1huf8vZ3RNY/vfitbsnMDPPv3D97gksz/7X9+2ewMzc5D6RcfzE87snsFw5\n",
       "8vrdE5iZu0++tHsCy81vfnb3BMYJbQAAAAAAAACiBG0AAAAAAAAAkgRtAAAAAAAAAJIEbQAAAAAA\n",
       "AACSBG0AAAAAAAAAkgRtAAAAAAAAAJIEbQAAAAAAAACSBG0AAAAAAAAAkgRtAAAAAAAAAJIEbQAA\n",
       "AAAAAACSBG0AAAAAAAAAkgRtAAAAAAAAAJIEbQAAAAAAAACSBG0AAAAAAAAAkgRtAAAAAAAAAJIE\n",
       "bQAAAAAAAACSBG0AAAAAAAAAkgRtAAAAAAAAAJIEbQAAAAAAAACSBG0AAAAAAAAAkgRtAAAAAAAA\n",
       "AJIEbQAAAAAAAACSBG0AAAAAAAAAkgRtAAAAAAAAAJIEbQAAAAAAAACSBG0AAAAAAAAAkgRtAAAA\n",
       "AAAAAJIEbQAAAAAAAACSBG0AAAAAAAAAkgRtAAAAAAAAAJIEbQAAAAAAAACSBG0AAAAAAAAAkgRt\n",
       "AAAAAAAAAJIEbQAAAAAAAACSBG0AAAAAAAAAkgRtAAAAAAAAAJIEbQAAAAAAAACSBG0AAAAAAAAA\n",
       "kgRtAAAAAAAAAJIEbQAAAAAAAACSBG0AAAAAAAAAkgRtAAAAAAAAAJIEbQAAAAAAAACSBG0AAAAA\n",
       "AAAAkgRtAAAAAAAAAJIEbQAAAAAAAACSBG0AAAAAAAAAkgRtAAAAAAAAAJIEbQAAAAAAAACSBG0A\n",
       "AAAAAAAAkgRtAAAAAAAAAJIEbQAAAAAAAACSBG0AAAAAAAAAkgRtAAAAAAAAAJIEbQAAAAAAAACS\n",
       "BG0AAAAAAAAAkgRtAAAAAAAAAJIEbQAAAAAAAACSBG0AAAAAAAAAkgRtAAAAAAAAAJIEbQAAAAAA\n",
       "AACSBG0AAAAAAAAAkgRtAAAAAAAAAJIEbQAAAAAAAACSBG0AAAAAAAAAkgRtAAAAAAAAAJIEbQAA\n",
       "AAAAAACSBG0AAAAAAAAAkgRtAAAAAAAAAJIEbQAAAAAAAACSBG0AAAAAAAAAkg6e+OY7d29guenr\n",
       "D+6ewPLiC7fvnsDMfP9dj++ewPITZ27cPYGZ+cAjD+yewPI7p35p9wSWi5cv757AzLzjni/tnsBy\n",
       "6dzR3ROYmfe8/593T2D59T/62d0TWH751q/vnsDM3HfqG7snsJx83xO7JzAzP/+b3u0q7jj+2u4J\n",
       "LL96y5/snsDM/O0Z73YVrz+4tHsC44Q2wP+1b3+ve9Z1HMffX2eOabpZbeSPoctlRkoRa/2gDJO0\n",
       "EyWs4+wo8KyCiKAzDzzsqNOi004KCcIMVnkQmWUoIaE0tTTGctvXLGkr18Gu/obP8+Dx+AtecHNd\n",
       "n/u+n3wAAAAAAACIErQBAAAAAAAASBK0AQAAAAAAAEgStAEAAAAAAABIErQBAAAAAAAASBK0AQAA\n",
       "AAAAAEgStAEAAAAAAABIErQBAAAAAAAASBK0AQAAAAAAAEgStAEAAAAAAABIErQBAAAAAAAASBK0\n",
       "AQAAAAAAAEgStAEAAAAAAABIErQBAAAAAAAASBK0AQAAAAAAAEgStAEAAAAAAABIErQBAAAAAAAA\n",
       "SBK0AQAAAAAAAEgStAEAAAAAAABIErQBAAAAAAAASBK0AQAAAAAAAEgStAEAAAAAAABIErQBAAAA\n",
       "AAAASBK0AQAAAAAAAEgStAEAAAAAAABIErQBAAAAAAAASBK0AQAAAAAAAEgStAEAAAAAAABIErQB\n",
       "AAAAAAAASBK0AQAAAAAAAEgStAEAAAAAAABIErQBAAAAAAAASBK0AQAAAAAAAEgStAEAAAAAAABI\n",
       "ErQBAAAAAAAASBK0AQAAAAAAAEgStAEAAAAAAABIErQBAAAAAAAASBK0AQAAAAAAAEgStAEAAAAA\n",
       "AABIErQBAAAAAAAASBK0AQAAAAAAAEgStAEAAAAAAABIErQBAAAAAAAASBK0AQAAAAAAAEgStAEA\n",
       "AAAAAABIErQBAAAAAAAASBK0AQAAAAAAAEgStAEAAAAAAABIErQBAAAAAAAASBK0AQAAAAAAAEgS\n",
       "tAEAAAAAAABIErQBAAAAAAAASBK0AQAAAAAAAEgStAEAAAAAAABIErQBAAAAAAAASBK0AQAAAAAA\n",
       "AEgStAEAAAAAAABIErQBAAAAAAAASBK0AQAAAAAAAEgStAEAAAAAAABIErQBAAAAAAAASBK0AQAA\n",
       "AAAAAEgStAEAAAAAAABIErQBAAAAAAAASBK0AQAAAAAAAEgStAEAAAAAAABIErQBAAAAAAAASBK0\n",
       "AQAAAAAAAEgStAEAAAAAAABIErQBAAAAAAAASNp55t67L64ewSW3fPeq1RPYnPn2K6snMDOnTh1a\n",
       "PYHNsROPr57AzDx2/IHVE9j8/JV3r57A5rIdX2ULPnnotdUT2Nx2+OXVE5iZX79w6+oJbO7+0O9X\n",
       "T2Dz499+dPUEZubkP/eunsDm80deWj2BmTlys8+h4tqjf1k9gc1bX7pz9QRm5mcP6EUV/nlqcEMb\n",
       "AAAAAAAAgCRBGwAAAAAAAIAkQRsAAAAAAACAJEEbAAAAAAAAgCRBGwAAAAAAAIAkQRsAAAAAAACA\n",
       "JEEbAAAAAAAAgCRBGwAAAAAAAIAkQRsAAAAAAACAJEEbAAAAAAAAgCRBGwAAAAAAAIAkQRsAAAAA\n",
       "AACAJEEbAAAAAAAAgCRBGwAAAAAAAIAkQRsAAAAAAACAJEEbAAAAAAAAgCRBGwAAAAAAAIAkQRsA\n",
       "AAAAAACAJEEbAAAAAAAAgCRBGwAAAAAAAIAkQRsAAAAAAACAJEEbAAAAAAAAgCRBGwAAAAAAAIAk\n",
       "QRsAAAAAAACAJEEbAAAAAAAAgCRBGwAAAAAAAIAkQRsAAAAAAACAJEEbAAAAAAAAgCRBGwAAAAAA\n",
       "AIAkQRsAAAAAAACAJEEbAAAAAAAAgCRBGwAAAAAAAIAkQRsAAAAAAACAJEEbAAAAAAAAgCRBGwAA\n",
       "AAAAAIAkQRsAAAAAAACAJEEbAAAAAAAAgCRBGwAAAAAAAIAkQRsAAAAAAACAJEEbAAAAAAAAgCRB\n",
       "GwAAAAAAAIAkQRsAAAAAAACAJEEbAAAAAAAAgCRBGwAAAAAAAIAkQRsAAAAAAACAJEEbAAAAAAAA\n",
       "gCRBGwAAAAAAAIAkQRsAAAAAAACAJEEbAAAAAAAAgCRBGwAAAAAAAIAkQRsAAAAAAACAJEEbAAAA\n",
       "AAAAgCRBGwAAAAAAAIAkQRsAAAAAAACAJEEbAAAAAAAAgCRBGwAAAAAAAIAkQRsAAAAAAACAJEEb\n",
       "AAAAAAAAgCRBGwAAAAAAAIAkQRsAAAAAAACAJEEbAAAAAAAAgCRBGwAAAAAAAIAkQRsAAAAAAACA\n",
       "JEEbAAAAAAAAgCRBGwAAAAAAAIAkQRsAAAAAAACAJEEbAAAAAAAAgCRBGwAAAAAAAIAkQRsAAAAA\n",
       "AACAJEEbAAAAAAAAgCRBGwAAAAAAAICky99//xOrN7A5/4P9qyewOXfujtUTmJljJx5fPYHNU3d9\n",
       "dvUEZuYDd3kmKo4+fdvqCWz+8cbbV09gZn7y/K2rJ7C5bv/Z1ROYmcPXnFs9gc2V73h99QQ2r51/\n",
       "2+oJzMzH3uWcqNh9c9/qCczMwePPrZ7A5rIbrlo9gc1/T7+0egIz85k7ndkVv3vyw6snMG5oAwAA\n",
       "AAAAABAlaAMAAAAAAACQJGgDAAAAAAAAkCRoAwAAAAAAAJAkaAMAAAAAAACQJGgDAAAAAAAAkCRo\n",
       "AwAAAAAAAJAkaAMAAAAAAACQJGgDAAAAAAAAkCRoAwAAAAAAAJAkaAMAAAAAAACQJGgDAAAAAAAA\n",
       "kCRoAwAAAAAAAJAkaAMAAAAAAACQJGgDAAAAAAAAkCRoAwAAAAAAAJAkaAMAAAAAAACQJGgDAAAA\n",
       "AAAAkCRoAwAAAAAAAJAkaAMAAAAAAACQJGgDAAAAAAAAkCRoAwAAAAAAAJAkaAMAAAAAAACQJGgD\n",
       "AAAAAAAAkCRoAwAAAAAAAJAkaAMAAAAAAACQJGgDAAAAAAAAkCRoAwAAAAAAAJAkaAMAAAAAAACQ\n",
       "JGgDAAAAAAAAkCRoAwAAAAAAAJAkaAMAAAAAAACQJGgDAAAAAAAAkCRoAwAAAAAAAJAkaAMAAAAA\n",
       "AACQJGgDAAAAAAAAkCRoAwAAAAAAAJAkaAMAAAAAAACQJGgDAAAAAAAAkCRoAwAAAAAAAJAkaAMA\n",
       "AAAAAACQJGgDAAAAAAAAkCRoAwAAAAAAAJAkaAMAAAAAAACQJGgDAAAAAAAAkCRoAwAAAAAAAJAk\n",
       "aAMAAAAAAACQJGgDAAAAAAAAkCRoAwAAAAAAAJAkaAMAAAAAAACQJGgDAAAAAAAAkCRoAwAAAAAA\n",
       "AJAkaAMAAAAAAACQJGgDAAAAAAAAkCRoAwAAAAAAAJAkaAMAAAAAAACQJGgDAAAAAAAAkCRoAwAA\n",
       "AAAAAJAkaAMAAAAAAACQJGgDAAAAAAAAkCRoAwAAAAAAAJAkaAMAAAAAAACQJGgDAAAAAAAAkCRo\n",
       "AwAAAAAAAJAkaAMAAAAAAACQJGgDAAAAAAAAkCRoAwAAAAAAAJAkaAMAAAAAAACQJGgDAAAAAAAA\n",
       "kCRoAwAAAAAAAJAkaAMAAAAAAACQtPP3r7zv4uoRXPK3l25cPYHNHY/9cvUEZubZz925egKbAwd2\n",
       "V09gZl7fvWb1BDYH3nl29QQ2b+xevXoCM7Nnz1urJ7B5+uQtqycwM7ff+PLqCWze+Ne+1RPY/PHU\n",
       "9asnMDNfuO+nqyewOf38TasnMDMnX/Vuqrj5uldXT2Bzmd93CWfOXLt6Aps/v3Zo9QTGDW0AAAAA\n",
       "AAAAogRtAAAAAAAAAJIEbQAAAAAAAACSBG0AAAAAAAAAkgRtAAAAAAAAAJIEbQAAAAAAAACSBG0A\n",
       "AAAAAAAAkgRtAAAAAAAAAJIEbQAAAAAAAACSBG0AAAAAAAAAkgRtAAAAAAAAAJIEbQAAAAAAAACS\n",
       "BG0AAAAAAAAAkgRtAAAAAAAAAJIEbQAAAAAAAACSBG0AAAAAAAAAkgRtAAAAAAAAAJIEbQAAAAAA\n",
       "AACSBG0AAAAAAAAAkgRtAAAAAAAAAJIEbQAAAAAAAACSBG0AAAAAAAAAkgRtAAAAAAAAAJIEbQAA\n",
       "AAAAAACSBG0AAAAAAAAAkgRtAAAAAAAAAJIEbQAAAAAAAACSBG0AAAAAAAAAkgRtAAAAAAAAAJIE\n",
       "bQAAAAAAAACSBG0AAAAAAAAAkgRtAAAAAAAAAJIEbQAAAAAAAACSBG0AAAAAAAAAkgRtAAAAAAAA\n",
       "AJIEbQAAAAAAAACSBG0AAAAAAAAAkgRtAAAAAAAAAJIEbQAAAAAAAACSBG0AAAAAAAAAkgRtAAAA\n",
       "AAAAAJIEbQAAAAAAAACSBG0AAAAAAAAAkgRtAAAAAAAAAJIEbQAAAAAAAACSBG0AAAAAAAAAkgRt\n",
       "AAAAAAAAAJIEbQAAAAAAAACSBG0AAAAAAAAAkgRtAAAAAAAAAJIEbQAAAAAAAACSBG0AAAAAAAAA\n",
       "kgRtAAAAAAAAAJIEbQAAAAAAAACSBG0AAAAAAAAAkgRtAAAAAAAAAJIEbQAAAAAAAACSBG0AAAAA\n",
       "AAAAkgRtAAAAAAAAAJIEbQAAAAAAAACSBG0AAAAAAAAAkgRtAAAAAAAAAJIEbQAAAAAAAACSBG0A\n",
       "AAAAAAAAkgRtAAAAAAAAAJIEbQAAAAAAAACSBG0AAAAAAAAAkgRtAAAAAAAAAJIEbQAAAAAAAACS\n",
       "BG0AAAAAAAAAkgRtAAAAAAAAAJJ2ds9+4+LqEVyy/9rvrJ7A5tl7P716AjPznuPPrJ7A/z348dUL\n",
       "mJm9f3hi9QQ2F957++oJbN7ad/XqCczM3t+cWD2Bzdlf3bR6AjNz5aEzqyewueLGc6snsLlwypld\n",
       "8J+vP7R6Apudh7+/egIzc8XB3dUT2Ow5eGH1BDZPfu+e1ROYmWMP/2n1BDY7L7y4egLjhjYAAAAA\n",
       "AAAAUYI2AAAAAAAAAEmCNgAAAAAAAABJgjYAAAAAAAAASYI2AAAAAAAAAEmCNgAAAAAAAABJgjYA\n",
       "AAAAAAAASYI2AAAAAAAAAEmCNgAAAAAAAABJgjYAAAAAAAAASYI2AAAAAAAAAEmCNgAAAAAAAABJ\n",
       "gjYAAAAAAAAASYI2AAAAAAAAAEmCNgAAAAAAAABJgjYAAAAAAAAASYI2AAAAAAAAAEmCNgAAAAAA\n",
       "AABJgjYAAAAAAAAASYI2AAAAAAAAAEmCNgAAAAAAAABJgjYAAAAAAAAASYI2AAAAAAAAAEmCNgAA\n",
       "AAAAAABJgjYAAAAAAAAASYI2AAAAAAAAAEmCNgAAAAAAAABJgjYAAAAAAAAASYI2AAAAAAAAAEmC\n",
       "NgAAAAAAAABJgjYAAAAAAAAASYI2AAAAAAAAAEmCNgAAAAAAAABJgjYAAAAAAAAASYI2AAAAAAAA\n",
       "AEmCNgAAAAAAAABJgjYAAAAAAAAASYI2AAAAAAAAAEmCNgAAAAAAAABJgjYAAAAAAAAASYI2AAAA\n",
       "AAAAAEmCNgAAAAAAAABJgjYAAAAAAAAASYI2AAAAAAAAAEmCNgAAAAAAAABJgjYAAAAAAAAASYI2\n",
       "AAAAAAAAAEmCNgAAAAAAAABJgjYAAAAAAAAASYI2AAAAAAAAAEmCNgAAAAAAAABJgjYAAAAAAAAA\n",
       "SYI2AAAAAAAAAEmCNgAAAAAAAABJc5ZdPAAAA/9JREFUgjYAAAAAAAAASYI2AAAAAAAAAEmCNgAA\n",
       "AAAAAABJgjYAAAAAAAAASYI2AAAAAAAAAEmCNgAAAAAAAABJgjYAAAAAAAAASYI2AAAAAAAAAEmC\n",
       "NgAAAAAAAABJgjYAAAAAAAAASYI2AAAAAAAAAEmCNgAAAAAAAABJgjYAAAAAAAAASYI2AAAAAAAA\n",
       "AEmCNgAAAAAAAABJgjYAAAAAAAAASYI2AAAAAAAAAEk7M5dfXD2CS3bPfm31BDYXvvno6gnMzP4P\n",
       "nlw9gc1zj35q9QRm5vlT16+ewOb2wy+unsDmqZO3rJ7AzHzxyz9cPYHN+dMHVk9gZvYdf3P1BDaP\n",
       "P3LP6glsjt7w19UTmJmDR15ZPYHNVfdfvnoCM/Ojr35i9QQ2hw+cWT2BzUce+sXqCczMI996cPUE\n",
       "Ntft+/fqCYwb2gAAAAAAAABECdoAAAAAAAAAJAnaAAAAAAAAACQJ2gAAAAAAAAAkCdoAAAAAAAAA\n",
       "JAnaAAAAAAAAACQJ2gAAAAAAAAAkCdoAAAAAAAAAJAnaAAAAAAAAACQJ2gAAAAAAAAAkCdoAAAAA\n",
       "AAAAJAnaAAAAAAAAACQJ2gAAAAAAAAAkCdoAAAAAAAAAJAnaAAAAAAAAACQJ2gAAAAAAAAAkCdoA\n",
       "AAAAAAAAJAnaAAAAAAAAACQJ2gAAAAAAAAAkCdoAAAAAAAAAJAnaAAAAAAAAACQJ2gAAAAAAAAAk\n",
       "CdoAAAAAAAAAJAnaAAAAAAAAACQJ2gAAAAAAAAAkCdoAAAAAAAAAJAnaAAAAAAAAACQJ2gAAAAAA\n",
       "AAAkCdoAAAAAAAAAJAnaAAAAAAAAACQJ2gAAAAAAAAAkCdoAAAAAAAAAJAnaAAAAAAAAACQJ2gAA\n",
       "AAAAAAAkCdoAAAAAAAAAJAnaAAAAAAAAACQJ2gAAAAAAAAAkCdoAAAAAAAAAJAnaAAAAAAAAACQJ\n",
       "2gAAAAAAAAAkCdoAAAAAAAAAJAnaAAAAAAAAACQJ2gAAAAAAAAAkCdoAAAAAAAAAJAnaAAAAAAAA\n",
       "ACQJ2gAAAAAAAAAkCdoAAAAAAAAAJAnaAAAAAAAAACQJ2gAAAAAAAAAkCdoAAAAAAAAAJAnaAAAA\n",
       "AAAAACQJ2gAAAAAAAAAkCdoAAAAAAAAAJAnaAAAAAAAAACQJ2gAAAAAAAAAkCdoAAAAAAAAAJAna\n",
       "AAAAAAAAACQJ2gAAAAAAAAAkCdoAAAAAAAAAJAnaAAAAAAAAACQJ2gAAAAAAAAAkCdoAAAAAAAAA\n",
       "JAnaAAAAAAAAACQJ2gAAAAAAAAAkCdoAAAAAAAAAJAnaAAAAAAAAACQJ2gAAAAAAAAAkCdoAAAAA\n",
       "AAAAJAnaAAAAAAAAACQJ2gAAAAAAAAAk/Q9ekWY+ZbZShQAAAABJRU5ErkJggg==\n",
       "\" transform=\"translate(141, 47)\"/>\n",
       "</g>\n",
       "<defs>\n",
       "  <clipPath id=\"clip683\">\n",
       "    <rect x=\"2160\" y=\"47\" width=\"73\" height=\"1440\"/>\n",
       "  </clipPath>\n",
       "</defs>\n",
       "<g clip-path=\"url(#clip683)\">\n",
       "<image width=\"72\" height=\"1439\" xlink:href=\"data:image/png;base64,\n",
       "iVBORw0KGgoAAAANSUhEUgAAAEgAAAWfCAYAAAAI7rB3AAAMWUlEQVR4nO3dwY0rRxAFwaZQ/lsh\n",
       "L6XfLQtUeSQPERYsEg8c9MyQ+/n3/v0O/+uvb/8Bv06gIFAQKAgU5r5/v/03/DQLCgIFgYJAQaAw\n",
       "7/359t/w0ywoCBQECgIFR41gQUGgIFAQKAgU5rmKrSwoCBQECgIFgcK86yq2saAgUBAoCBQcNYIF\n",
       "BYGCQEGgIFBwFQsWFAQKAgWBgvtBwYKCQEGgIFAQKMxx1FhZUBAoCBQECgIFN8yCBQWBgkBBoDDH\n",
       "DbOVBQWBgkBBoCBQmHP/+fbf8NMsKAgUBAoCBYGCxz7BgoJAQaAgUHDDLFhQECgIFAQKAgVXsWBB\n",
       "QaAgUBAouB8ULCgIFAQKAgWBwnwcNVYWFAQKAgWBgkBhzvWfWTYWFAQKAgWBgqNGsKAgUBAoCBQE\n",
       "Co4awYKCQEGgIFAQKHjDLFhQECgIFAQK83HUWFlQECgIFAQKAgXvSQcLCgIFgYJAwVEjWFAQKAgU\n",
       "BAoCBc/mgwUFgYJAQaAgUHAWCxYUBAoCBYGCo0awoCBQECgIFAQKjhrBgoJAQaAgUBAozLn323/D\n",
       "T7OgIFAQKAgUHDWCBQWBgkBBoCBQ8NgnWFAQKAgUBAo+pIMFBYGCQEGgIFCYj6caKwsKAgWBgkBB\n",
       "oOAsFiwoCBQECgIFL1AFCwoCBYGCQEGg4IZZsKAgUBAoCBTcDwoWFAQKAgWBgkDBDbNgQUGgIFAQ\n",
       "KAgUXMWCBQWBgkBBoOB788GCgkBBoCBQECg4agQLCgIFgYJAQaDgKhYsKAgUBAoCBR/SwYKCQEGg\n",
       "IFAQKLiKBQsKAgWBgkBhzvMhvbGgIFAQKAgUBAqOGsGCgkBBoCBQECi4igULCgIFgYJAwYd0sKAg\n",
       "UBAoCBQECnPu+/bf8NMsKAgUBAoCBYGCs1iwoCBQECgIFBw1ggUFgYJAQaAgUHDUCBYUBAoCBYGC\n",
       "o0awoCBQECgIFAQKc5w0VhYUBAoCBYGCQGHOcxbbWFAQKAgUBAqOGsGCgkBBoCBQECi4igULCgIF\n",
       "gYJAQaAwfohzZ0FBoCBQECg4agQLCgIFgYJAQaDgKhYsKAgUBAoChTn38+2/4adZUBAoCBQECgKF\n",
       "ec9VbGNBQaAgUBAoCBTcMAsWFAQKAgWBghtmwYKCQEGgIFAQKMy7Gm3UCQIFgYJAwVEjWFAQKAgU\n",
       "BAoChTmeza8sKAgUBAoCBYHCPGexlQUFgYJAQaAwx1ONlTpBoCBQECgIFBw1ggUFgYJAQaAgUPDY\n",
       "J1hQECgIFAQKXgMO6gSBgkBBoCBQ8J50sKAgUBAoCBQ81QgWFAQKAgWBgkBh3tNoo04QKAgUBAoC\n",
       "BTfMggUFgYJAQaDghlmwoCBQECgIFAQKc9wwW6kTBAoCBYGCQMFZLFhQECgIFAQKPqSDBQWBgkBB\n",
       "oCBQ8L35YEFBoCBQECj43nxQJwgUBAoCBYHCPEeNlQUFgYJAQaAgUPDYJ1hQECgIFAQK/jNLUCcI\n",
       "FAQKAgWBghtmwYKCQEGgIFAQKLhhFiwoCBQECgIFR41gQUGgIFAQKAgUvCcd1AkCBYGCQMFRI1hQ\n",
       "ECgIFAQKAgVPNYIFBYGCQEGgIFBwFgsWFAQKAgWBgn+fFSwoCBQECgIFgYJ/ZRzUCQIFgYJAQaDg\n",
       "hlmwoCBQECgIFDybDxYUBAoCBYGCQMFRI1hQECgIFAQKc31IrywoCBQECgIFgYLvzQd1gkBBoCBQ\n",
       "ECi4YRYsKAgUBAoCBR/SwYKCQEGgIFAQKHjDLFhQECgIFAQKjhrBgoJAQaAgUBAouIoFCwoCBYGC\n",
       "QEGg4NdfgjpBoCBQECjM9VRjZUFBoCBQECgIFNwwCxYUBAoCBYGCQMFVLFhQECgIFAQKPqSDBQWB\n",
       "gkBBoCBQ8BtmwYKCQEGgIFBw1AgWFAQKAgWBgkDBVSxYUBAoCBQECgIFX2YJ6gSBgkBBoODLLMGC\n",
       "gkBBoCBQECi4YRYsKAgUBAoCBYGCq1iwoCBQECgIFLwGHCwoCBQECgIFgYKjRrCgIFAQKAgU5h0f\n",
       "0hsLCgIFgYJAQaDghlmwoCBQECgIFAQKbpgFCwoCBYGCQMFRI1hQECgIFAQKAgVHjWBBQaAgUBAo\n",
       "CBScxYIFBYGCQEGg4KgRLCgIFAQKAgWBgqtYsKAgUBAoCBTm+jLLyoKCQEGgIFAQKDhqBAsKAgWB\n",
       "gkBBoODZfLCgIFAQKAgU5r1v/wm/zYKCQEGgIFAQKDhqBAsKAgWBgkDBD00GCwoCBYGCQEGg4KgR\n",
       "LCgIFAQKAgWBgjfMggUFgYJAQaDgyyzBgoJAQaAgUBAoeMMsWFAQKAgUBAoCBY99ggUFgYJAQaDg\n",
       "qUawoCBQECgIFAQKHvsECwoCBYGCQMH9oGBBQaAgUBAoCBQ8mw8WFAQKAgWBgkDBDbNgQUGgIFAQ\n",
       "KHg2HywoCBQECgIFgcLcb/8FP86CgkBBoCBQECg4iwULCgIFgYJAwRtmwYKCQEGgIFAQKLhhFiwo\n",
       "CBQECgIF94OCBQWBgkBBoCBQcNQIFhQECgIFgYJAwVksWFAQKAgUBAqezQcLCgIFgYJAQaAwfvxl\n",
       "Z0FBoCBQECgIFJzFggUFgYJAQaDg2XywoCBQECgIFAQKns0HCwoCBYGCQMFRI1hQECgIFAQKAgVH\n",
       "jWBBQaAgUBAoCBTmesVsZUFBoCBQECi4YRYsKAgUBAoCBYGCG2bBgoJAQaAgUHDUCBYUBAoCBYGC\n",
       "QGGepxorCwoCBYGCQEGgMPe4YbaxoCBQECgIFLxAFSwoCBQECgIFgYIfmgwWFAQKAgWBgkDBD00G\n",
       "CwoCBYGCQMGz+WBBQaAgUBAoCBS8Jx0sKAgUBAoCBd84DBYUBAoCBYGCQMFRI1hQECgIFAQKAgXv\n",
       "SQcLCgIFgYJAwWvAwYKCQEGgIFAQKDhqBAsKAgWBgkBBoOA96WBBQaAgUBAo+ImuYEFBoCBQECgI\n",
       "FNwwCxYUBAoCBYGCZ/PBgoJAQaAgUBAoOGoECwoCBYGCQEGg4CwWLCgIFAQKAgVHjWBBQaAgUBAo\n",
       "CBRcxYIFBYGCQEGgIFBwwyxYUBAoCBQECo4awYKCQEGgIFAQKDhqBAsKAgWBgkDBUSNYUBAoCBQE\n",
       "CgIFP9EVLCgIFAQKAgWBgv8vFiwoCBQECgIFN8yCBQWBgkBBoCBQmHdcxjYWFAQKAgWBgkDBWSxY\n",
       "UBAoCBQECp7NBwsKAgWBgkBBoODZfLCgIFAQKAgU3A8KFhQECgIFgYJAwbP5YEFBoCBQECgIFJzF\n",
       "ggUFgYJAQaDgJ7qCBQWBgkBBoCBQmOsVs5UFBYGCQEGg4AWqYEFBoCBQECgIFOY5aqwsKAgUBAoC\n",
       "BYGCs1iwoCBQECgIFDzVCBYUBAoCBYGCQMEbZsGCgkBBoCBQECjM9ZXMlQUFgYJAQaDghlmwoCBQ\n",
       "ECgIFAQKfv0lWFAQKAgUBApeoAoWFAQKAgWBgkDBU41gQUGgIFAQKAgU3DALFhQECgIFgcLc45bZ\n",
       "xoKCQEGgIFAQKLhhFiwoCBQECgIFgYKrWLCgIFAQKAgUPNUIFhQECgIFgYJAwWOfYEFBoCBQECjM\n",
       "/ThqbCwoCBQECgIFgYKjRrCgIFAQKAgUBArzXMVWFhQECgIFgYKjRrCgIFAQKAgUBApzP65iGwsK\n",
       "AgWBgkBBoOAsFiwoCBQECgIFTzWCBQWBgkBBoCBQcNQIFhQECgIFgYIP6WBBQaAgUBAoCBQ8mw8W\n",
       "FAQKAgWBgkBh3vnz7b/hp1lQECgIFAQKbpgFCwoCBYGCQEGg4A2zYEFBoCBQECjMfe4HbSwoCBQE\n",
       "CgIFgYKjRrCgIFAQKAgUBApzPZtfWVAQKAgUBAqOGsGCgkBBoCBQECg4agQLCgIFgYJAQaAw7zmL\n",
       "bSwoCBQECgIFN8yCBQWBgkBBoCBQ8J50sKAgUBAoCBQcNYIFBYGCQEGgIFCY56ixsqAgUBAoCBQE\n",
       "Cs5iwYKCQEGgIFCY6wWqlQUFgYJAQaAgUPCb9sGCgkBBoCBQECj4MkuwoCBQECgIFDzVCBYUBAoC\n",
       "BYGCQMFRI1hQECgIFAQKPqSDBQWBgkBBoCBQ8Gw+WFAQKAgUBAoCBWexYEFBoCBQECjM8Wx+ZUFB\n",
       "oCBQECgIFBw1ggUFgYJAQaAgUPCedLCgIFAQKAgU5jhqrCwoCBQECgIFgYI3zIIFBYGCQEGg4Nl8\n",
       "sKAgUBAoCBQECm6YBQsKAgWBgkBBoDDvvG//DT/NgoJAQaAgUHDDLFhQECgIFAQKAoU5jhorCwoC\n",
       "BYGCQOE/LrLuTX/wFc8AAAAASUVORK5CYII=\n",
       "\" transform=\"translate(2161, 47)\"/>\n",
       "</g>\n",
       "<path clip-path=\"url(#clip680)\" d=\"M2280.7 1468.62 Q2277.09 1468.62 2275.26 1472.18 Q2273.45 1475.72 2273.45 1482.85 Q2273.45 1489.96 2275.26 1493.53 Q2277.09 1497.07 2280.7 1497.07 Q2284.33 1497.07 2286.14 1493.53 Q2287.97 1489.96 2287.97 1482.85 Q2287.97 1475.72 2286.14 1472.18 Q2284.33 1468.62 2280.7 1468.62 M2280.7 1464.91 Q2286.51 1464.91 2289.57 1469.52 Q2292.64 1474.1 2292.64 1482.85 Q2292.64 1491.58 2289.57 1496.19 Q2286.51 1500.77 2280.7 1500.77 Q2274.89 1500.77 2271.81 1496.19 Q2268.76 1491.58 2268.76 1482.85 Q2268.76 1474.1 2271.81 1469.52 Q2274.89 1464.91 2280.7 1464.91 Z\" fill=\"#000000\" fill-rule=\"nonzero\" fill-opacity=\"1\" /><path clip-path=\"url(#clip680)\" d=\"M2280.7 1217.56 Q2277.09 1217.56 2275.26 1221.13 Q2273.45 1224.67 2273.45 1231.8 Q2273.45 1238.91 2275.26 1242.47 Q2277.09 1246.01 2280.7 1246.01 Q2284.33 1246.01 2286.14 1242.47 Q2287.97 1238.91 2287.97 1231.8 Q2287.97 1224.67 2286.14 1221.13 Q2284.33 1217.56 2280.7 1217.56 M2280.7 1213.86 Q2286.51 1213.86 2289.57 1218.47 Q2292.64 1223.05 2292.64 1231.8 Q2292.64 1240.53 2289.57 1245.13 Q2286.51 1249.72 2280.7 1249.72 Q2274.89 1249.72 2271.81 1245.13 Q2268.76 1240.53 2268.76 1231.8 Q2268.76 1223.05 2271.81 1218.47 Q2274.89 1213.86 2280.7 1213.86 Z\" fill=\"#000000\" fill-rule=\"nonzero\" fill-opacity=\"1\" /><path clip-path=\"url(#clip680)\" d=\"M2300.86 1243.17 L2305.75 1243.17 L2305.75 1249.04 L2300.86 1249.04 L2300.86 1243.17 Z\" fill=\"#000000\" fill-rule=\"nonzero\" fill-opacity=\"1\" /><path clip-path=\"url(#clip680)\" d=\"M2319.96 1245.11 L2336.28 1245.11 L2336.28 1249.04 L2314.33 1249.04 L2314.33 1245.11 Q2317 1242.35 2321.58 1237.73 Q2326.19 1233.07 2327.37 1231.73 Q2329.61 1229.21 2330.49 1227.47 Q2331.39 1225.71 2331.39 1224.02 Q2331.39 1221.27 2329.45 1219.53 Q2327.53 1217.79 2324.43 1217.79 Q2322.23 1217.79 2319.77 1218.56 Q2317.34 1219.32 2314.57 1220.87 L2314.57 1216.15 Q2317.39 1215.02 2319.84 1214.44 Q2322.3 1213.86 2324.33 1213.86 Q2329.7 1213.86 2332.9 1216.54 Q2336.09 1219.23 2336.09 1223.72 Q2336.09 1225.85 2335.28 1227.77 Q2334.5 1229.67 2332.39 1232.26 Q2331.81 1232.93 2328.71 1236.15 Q2325.61 1239.35 2319.96 1245.11 Z\" fill=\"#000000\" fill-rule=\"nonzero\" fill-opacity=\"1\" /><path clip-path=\"url(#clip680)\" d=\"M2346.14 1214.48 L2364.5 1214.48 L2364.5 1218.42 L2350.42 1218.42 L2350.42 1226.89 Q2351.44 1226.54 2352.46 1226.38 Q2353.48 1226.2 2354.5 1226.2 Q2360.28 1226.2 2363.66 1229.37 Q2367.04 1232.54 2367.04 1237.96 Q2367.04 1243.54 2363.57 1246.64 Q2360.1 1249.72 2353.78 1249.72 Q2351.6 1249.72 2349.33 1249.35 Q2347.09 1248.98 2344.68 1248.23 L2344.68 1243.54 Q2346.76 1244.67 2348.99 1245.23 Q2351.21 1245.78 2353.69 1245.78 Q2357.69 1245.78 2360.03 1243.67 Q2362.37 1241.57 2362.37 1237.96 Q2362.37 1234.35 2360.03 1232.24 Q2357.69 1230.13 2353.69 1230.13 Q2351.81 1230.13 2349.94 1230.55 Q2348.08 1230.97 2346.14 1231.85 L2346.14 1214.48 Z\" fill=\"#000000\" fill-rule=\"nonzero\" fill-opacity=\"1\" /><path clip-path=\"url(#clip680)\" d=\"M2280.7 966.509 Q2277.09 966.509 2275.26 970.074 Q2273.45 973.616 2273.45 980.745 Q2273.45 987.852 2275.26 991.416 Q2277.09 994.958 2280.7 994.958 Q2284.33 994.958 2286.14 991.416 Q2287.97 987.852 2287.97 980.745 Q2287.97 973.616 2286.14 970.074 Q2284.33 966.509 2280.7 966.509 M2280.7 962.805 Q2286.51 962.805 2289.57 967.412 Q2292.64 971.995 2292.64 980.745 Q2292.64 989.472 2289.57 994.078 Q2286.51 998.662 2280.7 998.662 Q2274.89 998.662 2271.81 994.078 Q2268.76 989.472 2268.76 980.745 Q2268.76 971.995 2271.81 967.412 Q2274.89 962.805 2280.7 962.805 Z\" fill=\"#000000\" fill-rule=\"nonzero\" fill-opacity=\"1\" /><path clip-path=\"url(#clip680)\" d=\"M2300.86 992.111 L2305.75 992.111 L2305.75 997.99 L2300.86 997.99 L2300.86 992.111 Z\" fill=\"#000000\" fill-rule=\"nonzero\" fill-opacity=\"1\" /><path clip-path=\"url(#clip680)\" d=\"M2315.98 963.43 L2334.33 963.43 L2334.33 967.366 L2320.26 967.366 L2320.26 975.838 Q2321.28 975.491 2322.3 975.329 Q2323.32 975.143 2324.33 975.143 Q2330.12 975.143 2333.5 978.315 Q2336.88 981.486 2336.88 986.903 Q2336.88 992.481 2333.41 995.583 Q2329.94 998.662 2323.62 998.662 Q2321.44 998.662 2319.17 998.291 Q2316.93 997.921 2314.52 997.18 L2314.52 992.481 Q2316.6 993.615 2318.83 994.171 Q2321.05 994.727 2323.52 994.727 Q2327.53 994.727 2329.87 992.62 Q2332.2 990.514 2332.2 986.903 Q2332.2 983.291 2329.87 981.185 Q2327.53 979.078 2323.52 979.078 Q2321.65 979.078 2319.77 979.495 Q2317.92 979.912 2315.98 980.791 L2315.98 963.43 Z\" fill=\"#000000\" fill-rule=\"nonzero\" fill-opacity=\"1\" /><path clip-path=\"url(#clip680)\" d=\"M2356.09 966.509 Q2352.48 966.509 2350.65 970.074 Q2348.85 973.616 2348.85 980.745 Q2348.85 987.852 2350.65 991.416 Q2352.48 994.958 2356.09 994.958 Q2359.73 994.958 2361.53 991.416 Q2363.36 987.852 2363.36 980.745 Q2363.36 973.616 2361.53 970.074 Q2359.73 966.509 2356.09 966.509 M2356.09 962.805 Q2361.9 962.805 2364.96 967.412 Q2368.04 971.995 2368.04 980.745 Q2368.04 989.472 2364.96 994.078 Q2361.9 998.662 2356.09 998.662 Q2350.28 998.662 2347.2 994.078 Q2344.15 989.472 2344.15 980.745 Q2344.15 971.995 2347.2 967.412 Q2350.28 962.805 2356.09 962.805 Z\" fill=\"#000000\" fill-rule=\"nonzero\" fill-opacity=\"1\" /><path clip-path=\"url(#clip680)\" d=\"M2280.7 715.455 Q2277.09 715.455 2275.26 719.02 Q2273.45 722.561 2273.45 729.691 Q2273.45 736.797 2275.26 740.362 Q2277.09 743.904 2280.7 743.904 Q2284.33 743.904 2286.14 740.362 Q2287.97 736.797 2287.97 729.691 Q2287.97 722.561 2286.14 719.02 Q2284.33 715.455 2280.7 715.455 M2280.7 711.751 Q2286.51 711.751 2289.57 716.358 Q2292.64 720.941 2292.64 729.691 Q2292.64 738.418 2289.57 743.024 Q2286.51 747.607 2280.7 747.607 Q2274.89 747.607 2271.81 743.024 Q2268.76 738.418 2268.76 729.691 Q2268.76 720.941 2271.81 716.358 Q2274.89 711.751 2280.7 711.751 Z\" fill=\"#000000\" fill-rule=\"nonzero\" fill-opacity=\"1\" /><path clip-path=\"url(#clip680)\" d=\"M2300.86 741.057 L2305.75 741.057 L2305.75 746.936 L2300.86 746.936 L2300.86 741.057 Z\" fill=\"#000000\" fill-rule=\"nonzero\" fill-opacity=\"1\" /><path clip-path=\"url(#clip680)\" d=\"M2314.75 712.376 L2336.97 712.376 L2336.97 714.367 L2324.43 746.936 L2319.54 746.936 L2331.35 716.311 L2314.75 716.311 L2314.75 712.376 Z\" fill=\"#000000\" fill-rule=\"nonzero\" fill-opacity=\"1\" /><path clip-path=\"url(#clip680)\" d=\"M2346.14 712.376 L2364.5 712.376 L2364.5 716.311 L2350.42 716.311 L2350.42 724.783 Q2351.44 724.436 2352.46 724.274 Q2353.48 724.089 2354.5 724.089 Q2360.28 724.089 2363.66 727.26 Q2367.04 730.432 2367.04 735.848 Q2367.04 741.427 2363.57 744.529 Q2360.1 747.607 2353.78 747.607 Q2351.6 747.607 2349.33 747.237 Q2347.09 746.867 2344.68 746.126 L2344.68 741.427 Q2346.76 742.561 2348.99 743.117 Q2351.21 743.672 2353.69 743.672 Q2357.69 743.672 2360.03 741.566 Q2362.37 739.459 2362.37 735.848 Q2362.37 732.237 2360.03 730.131 Q2357.69 728.024 2353.69 728.024 Q2351.81 728.024 2349.94 728.441 Q2348.08 728.858 2346.14 729.737 L2346.14 712.376 Z\" fill=\"#000000\" fill-rule=\"nonzero\" fill-opacity=\"1\" /><path clip-path=\"url(#clip680)\" d=\"M2269.43 491.947 L2277.07 491.947 L2277.07 465.581 L2268.76 467.248 L2268.76 462.988 L2277.02 461.322 L2281.7 461.322 L2281.7 491.947 L2289.33 491.947 L2289.33 495.882 L2269.43 495.882 L2269.43 491.947 Z\" fill=\"#000000\" fill-rule=\"nonzero\" fill-opacity=\"1\" /><path clip-path=\"url(#clip680)\" d=\"M2298.78 490.002 L2303.66 490.002 L2303.66 495.882 L2298.78 495.882 L2298.78 490.002 Z\" fill=\"#000000\" fill-rule=\"nonzero\" fill-opacity=\"1\" /><path clip-path=\"url(#clip680)\" d=\"M2323.85 464.4 Q2320.24 464.4 2318.41 467.965 Q2316.6 471.507 2316.6 478.637 Q2316.6 485.743 2318.41 489.308 Q2320.24 492.849 2323.85 492.849 Q2327.48 492.849 2329.29 489.308 Q2331.12 485.743 2331.12 478.637 Q2331.12 471.507 2329.29 467.965 Q2327.48 464.4 2323.85 464.4 M2323.85 460.697 Q2329.66 460.697 2332.71 465.303 Q2335.79 469.887 2335.79 478.637 Q2335.79 487.363 2332.71 491.97 Q2329.66 496.553 2323.85 496.553 Q2318.04 496.553 2314.96 491.97 Q2311.9 487.363 2311.9 478.637 Q2311.9 469.887 2314.96 465.303 Q2318.04 460.697 2323.85 460.697 Z\" fill=\"#000000\" fill-rule=\"nonzero\" fill-opacity=\"1\" /><path clip-path=\"url(#clip680)\" d=\"M2354.01 464.4 Q2350.4 464.4 2348.57 467.965 Q2346.76 471.507 2346.76 478.637 Q2346.76 485.743 2348.57 489.308 Q2350.4 492.849 2354.01 492.849 Q2357.64 492.849 2359.45 489.308 Q2361.28 485.743 2361.28 478.637 Q2361.28 471.507 2359.45 467.965 Q2357.64 464.4 2354.01 464.4 M2354.01 460.697 Q2359.82 460.697 2362.88 465.303 Q2365.95 469.887 2365.95 478.637 Q2365.95 487.363 2362.88 491.97 Q2359.82 496.553 2354.01 496.553 Q2348.2 496.553 2345.12 491.97 Q2342.07 487.363 2342.07 478.637 Q2342.07 469.887 2345.12 465.303 Q2348.2 460.697 2354.01 460.697 Z\" fill=\"#000000\" fill-rule=\"nonzero\" fill-opacity=\"1\" /><path clip-path=\"url(#clip680)\" d=\"M2269.43 240.892 L2277.07 240.892 L2277.07 214.527 L2268.76 216.193 L2268.76 211.934 L2277.02 210.267 L2281.7 210.267 L2281.7 240.892 L2289.33 240.892 L2289.33 244.827 L2269.43 244.827 L2269.43 240.892 Z\" fill=\"#000000\" fill-rule=\"nonzero\" fill-opacity=\"1\" /><path clip-path=\"url(#clip680)\" d=\"M2298.78 238.948 L2303.66 238.948 L2303.66 244.827 L2298.78 244.827 L2298.78 238.948 Z\" fill=\"#000000\" fill-rule=\"nonzero\" fill-opacity=\"1\" /><path clip-path=\"url(#clip680)\" d=\"M2317.88 240.892 L2334.2 240.892 L2334.2 244.827 L2312.25 244.827 L2312.25 240.892 Q2314.91 238.138 2319.5 233.508 Q2324.1 228.855 2325.28 227.513 Q2327.53 224.99 2328.41 223.254 Q2329.31 221.494 2329.31 219.804 Q2329.31 217.05 2327.37 215.314 Q2325.45 213.578 2322.34 213.578 Q2320.14 213.578 2317.69 214.342 Q2315.26 215.105 2312.48 216.656 L2312.48 211.934 Q2315.31 210.8 2317.76 210.221 Q2320.21 209.642 2322.25 209.642 Q2327.62 209.642 2330.82 212.328 Q2334.01 215.013 2334.01 219.504 Q2334.01 221.633 2333.2 223.554 Q2332.41 225.453 2330.31 228.045 Q2329.73 228.716 2326.63 231.934 Q2323.52 235.128 2317.88 240.892 Z\" fill=\"#000000\" fill-rule=\"nonzero\" fill-opacity=\"1\" /><path clip-path=\"url(#clip680)\" d=\"M2344.06 210.267 L2362.41 210.267 L2362.41 214.203 L2348.34 214.203 L2348.34 222.675 Q2349.36 222.328 2350.38 222.166 Q2351.39 221.98 2352.41 221.98 Q2358.2 221.98 2361.58 225.152 Q2364.96 228.323 2364.96 233.74 Q2364.96 239.318 2361.49 242.42 Q2358.01 245.499 2351.7 245.499 Q2349.52 245.499 2347.25 245.128 Q2345.01 244.758 2342.6 244.017 L2342.6 239.318 Q2344.68 240.452 2346.9 241.008 Q2349.13 241.564 2351.6 241.564 Q2355.61 241.564 2357.95 239.457 Q2360.28 237.351 2360.28 233.74 Q2360.28 230.128 2357.95 228.022 Q2355.61 225.916 2351.6 225.916 Q2349.73 225.916 2347.85 226.332 Q2346 226.749 2344.06 227.628 L2344.06 210.267 Z\" fill=\"#000000\" fill-rule=\"nonzero\" fill-opacity=\"1\" /><polyline clip-path=\"url(#clip680)\" style=\"stroke:#000000; stroke-linecap:round; stroke-linejoin:round; stroke-width:4; stroke-opacity:1; fill:none\" points=\"2232.76,1486.45 2232.76,1486.45 2256.76,1486.45 2232.76,1486.45 2232.76,1235.39 2256.76,1235.39 2232.76,1235.39 2232.76,984.339 2256.76,984.339 2232.76,984.339 2232.76,733.285 2256.76,733.285 2232.76,733.285 2232.76,482.231 2256.76,482.231 2232.76,482.231 2232.76,231.176 2256.76,231.176 2232.76,231.176 2232.76,47.2441 \"/>\n",
       "</svg>\n"
      ],
      "text/html": [
       "<?xml version=\"1.0\" encoding=\"utf-8\"?>\n",
       "<svg xmlns=\"http://www.w3.org/2000/svg\" xmlns:xlink=\"http://www.w3.org/1999/xlink\" width=\"600\" height=\"400\" viewBox=\"0 0 2400 1600\">\n",
       "<defs>\n",
       "  <clipPath id=\"clip730\">\n",
       "    <rect x=\"0\" y=\"0\" width=\"2400\" height=\"1600\"/>\n",
       "  </clipPath>\n",
       "</defs>\n",
       "<path clip-path=\"url(#clip730)\" d=\"M0 1600 L2400 1600 L2400 0 L0 0  Z\" fill=\"#ffffff\" fill-rule=\"evenodd\" fill-opacity=\"1\"/>\n",
       "<defs>\n",
       "  <clipPath id=\"clip731\">\n",
       "    <rect x=\"480\" y=\"0\" width=\"1681\" height=\"1600\"/>\n",
       "  </clipPath>\n",
       "</defs>\n",
       "<path clip-path=\"url(#clip730)\" d=\"M140.696 1486.45 L2112.76 1486.45 L2112.76 47.2441 L140.696 47.2441  Z\" fill=\"#ffffff\" fill-rule=\"evenodd\" fill-opacity=\"1\"/>\n",
       "<defs>\n",
       "  <clipPath id=\"clip732\">\n",
       "    <rect x=\"140\" y=\"47\" width=\"1973\" height=\"1440\"/>\n",
       "  </clipPath>\n",
       "</defs>\n",
       "<polyline clip-path=\"url(#clip732)\" style=\"stroke:#000000; stroke-linecap:round; stroke-linejoin:round; stroke-width:2; stroke-opacity:0.1; fill:none\" points=\"584.409,1486.45 584.409,47.2441 \"/>\n",
       "<polyline clip-path=\"url(#clip732)\" style=\"stroke:#000000; stroke-linecap:round; stroke-linejoin:round; stroke-width:2; stroke-opacity:0.1; fill:none\" points=\"1077.42,1486.45 1077.42,47.2441 \"/>\n",
       "<polyline clip-path=\"url(#clip732)\" style=\"stroke:#000000; stroke-linecap:round; stroke-linejoin:round; stroke-width:2; stroke-opacity:0.1; fill:none\" points=\"1570.44,1486.45 1570.44,47.2441 \"/>\n",
       "<polyline clip-path=\"url(#clip732)\" style=\"stroke:#000000; stroke-linecap:round; stroke-linejoin:round; stroke-width:2; stroke-opacity:0.1; fill:none\" points=\"2063.45,1486.45 2063.45,47.2441 \"/>\n",
       "<polyline clip-path=\"url(#clip730)\" style=\"stroke:#000000; stroke-linecap:round; stroke-linejoin:round; stroke-width:4; stroke-opacity:1; fill:none\" points=\"140.696,1486.45 2112.76,1486.45 \"/>\n",
       "<polyline clip-path=\"url(#clip730)\" style=\"stroke:#000000; stroke-linecap:round; stroke-linejoin:round; stroke-width:4; stroke-opacity:1; fill:none\" points=\"584.409,1486.45 584.409,1467.55 \"/>\n",
       "<polyline clip-path=\"url(#clip730)\" style=\"stroke:#000000; stroke-linecap:round; stroke-linejoin:round; stroke-width:4; stroke-opacity:1; fill:none\" points=\"1077.42,1486.45 1077.42,1467.55 \"/>\n",
       "<polyline clip-path=\"url(#clip730)\" style=\"stroke:#000000; stroke-linecap:round; stroke-linejoin:round; stroke-width:4; stroke-opacity:1; fill:none\" points=\"1570.44,1486.45 1570.44,1467.55 \"/>\n",
       "<polyline clip-path=\"url(#clip730)\" style=\"stroke:#000000; stroke-linecap:round; stroke-linejoin:round; stroke-width:4; stroke-opacity:1; fill:none\" points=\"2063.45,1486.45 2063.45,1467.55 \"/>\n",
       "<path clip-path=\"url(#clip730)\" d=\"M574.687 1514.29 L593.043 1514.29 L593.043 1518.22 L578.969 1518.22 L578.969 1526.7 Q579.988 1526.35 581.006 1526.19 Q582.025 1526 583.043 1526 Q588.83 1526 592.21 1529.17 Q595.59 1532.34 595.59 1537.76 Q595.59 1543.34 592.117 1546.44 Q588.645 1549.52 582.326 1549.52 Q580.15 1549.52 577.881 1549.15 Q575.636 1548.78 573.229 1548.04 L573.229 1543.34 Q575.312 1544.47 577.534 1545.03 Q579.756 1545.58 582.233 1545.58 Q586.238 1545.58 588.576 1543.48 Q590.914 1541.37 590.914 1537.76 Q590.914 1534.15 588.576 1532.04 Q586.238 1529.94 582.233 1529.94 Q580.358 1529.94 578.483 1530.35 Q576.631 1530.77 574.687 1531.65 L574.687 1514.29 Z\" fill=\"#000000\" fill-rule=\"nonzero\" fill-opacity=\"1\" /><path clip-path=\"url(#clip730)\" d=\"M1052.11 1544.91 L1059.75 1544.91 L1059.75 1518.55 L1051.44 1520.21 L1051.44 1515.95 L1059.7 1514.29 L1064.38 1514.29 L1064.38 1544.91 L1072.02 1544.91 L1072.02 1548.85 L1052.11 1548.85 L1052.11 1544.91 Z\" fill=\"#000000\" fill-rule=\"nonzero\" fill-opacity=\"1\" /><path clip-path=\"url(#clip730)\" d=\"M1091.46 1517.37 Q1087.85 1517.37 1086.02 1520.93 Q1084.22 1524.47 1084.22 1531.6 Q1084.22 1538.71 1086.02 1542.27 Q1087.85 1545.82 1091.46 1545.82 Q1095.1 1545.82 1096.9 1542.27 Q1098.73 1538.71 1098.73 1531.6 Q1098.73 1524.47 1096.9 1520.93 Q1095.1 1517.37 1091.46 1517.37 M1091.46 1513.66 Q1097.27 1513.66 1100.33 1518.27 Q1103.41 1522.85 1103.41 1531.6 Q1103.41 1540.33 1100.33 1544.94 Q1097.27 1549.52 1091.46 1549.52 Q1085.65 1549.52 1082.57 1544.94 Q1079.52 1540.33 1079.52 1531.6 Q1079.52 1522.85 1082.57 1518.27 Q1085.65 1513.66 1091.46 1513.66 Z\" fill=\"#000000\" fill-rule=\"nonzero\" fill-opacity=\"1\" /><path clip-path=\"url(#clip730)\" d=\"M1545.62 1544.91 L1553.26 1544.91 L1553.26 1518.55 L1544.95 1520.21 L1544.95 1515.95 L1553.22 1514.29 L1557.89 1514.29 L1557.89 1544.91 L1565.53 1544.91 L1565.53 1548.85 L1545.62 1548.85 L1545.62 1544.91 Z\" fill=\"#000000\" fill-rule=\"nonzero\" fill-opacity=\"1\" /><path clip-path=\"url(#clip730)\" d=\"M1575.02 1514.29 L1593.38 1514.29 L1593.38 1518.22 L1579.3 1518.22 L1579.3 1526.7 Q1580.32 1526.35 1581.34 1526.19 Q1582.36 1526 1583.38 1526 Q1589.17 1526 1592.55 1529.17 Q1595.93 1532.34 1595.93 1537.76 Q1595.93 1543.34 1592.45 1546.44 Q1588.98 1549.52 1582.66 1549.52 Q1580.49 1549.52 1578.22 1549.15 Q1575.97 1548.78 1573.56 1548.04 L1573.56 1543.34 Q1575.65 1544.47 1577.87 1545.03 Q1580.09 1545.58 1582.57 1545.58 Q1586.57 1545.58 1588.91 1543.48 Q1591.25 1541.37 1591.25 1537.76 Q1591.25 1534.15 1588.91 1532.04 Q1586.57 1529.94 1582.57 1529.94 Q1580.69 1529.94 1578.82 1530.35 Q1576.97 1530.77 1575.02 1531.65 L1575.02 1514.29 Z\" fill=\"#000000\" fill-rule=\"nonzero\" fill-opacity=\"1\" /><path clip-path=\"url(#clip730)\" d=\"M2042.23 1544.91 L2058.55 1544.91 L2058.55 1548.85 L2036.6 1548.85 L2036.6 1544.91 Q2039.26 1542.16 2043.85 1537.53 Q2048.45 1532.88 2049.64 1531.53 Q2051.88 1529.01 2052.76 1527.27 Q2053.66 1525.51 2053.66 1523.82 Q2053.66 1521.07 2051.72 1519.33 Q2049.8 1517.6 2046.7 1517.6 Q2044.5 1517.6 2042.04 1518.36 Q2039.61 1519.13 2036.83 1520.68 L2036.83 1515.95 Q2039.66 1514.82 2042.11 1514.24 Q2044.57 1513.66 2046.6 1513.66 Q2051.97 1513.66 2055.17 1516.35 Q2058.36 1519.03 2058.36 1523.52 Q2058.36 1525.65 2057.55 1527.57 Q2056.76 1529.47 2054.66 1532.07 Q2054.08 1532.74 2050.98 1535.95 Q2047.88 1539.15 2042.23 1544.91 Z\" fill=\"#000000\" fill-rule=\"nonzero\" fill-opacity=\"1\" /><path clip-path=\"url(#clip730)\" d=\"M2078.36 1517.37 Q2074.75 1517.37 2072.92 1520.93 Q2071.12 1524.47 2071.12 1531.6 Q2071.12 1538.71 2072.92 1542.27 Q2074.75 1545.82 2078.36 1545.82 Q2082 1545.82 2083.8 1542.27 Q2085.63 1538.71 2085.63 1531.6 Q2085.63 1524.47 2083.8 1520.93 Q2082 1517.37 2078.36 1517.37 M2078.36 1513.66 Q2084.17 1513.66 2087.23 1518.27 Q2090.31 1522.85 2090.31 1531.6 Q2090.31 1540.33 2087.23 1544.94 Q2084.17 1549.52 2078.36 1549.52 Q2072.55 1549.52 2069.47 1544.94 Q2066.42 1540.33 2066.42 1531.6 Q2066.42 1522.85 2069.47 1518.27 Q2072.55 1513.66 2078.36 1513.66 Z\" fill=\"#000000\" fill-rule=\"nonzero\" fill-opacity=\"1\" /><polyline clip-path=\"url(#clip732)\" style=\"stroke:#000000; stroke-linecap:round; stroke-linejoin:round; stroke-width:2; stroke-opacity:0.1; fill:none\" points=\"140.696,1162.63 2112.76,1162.63 \"/>\n",
       "<polyline clip-path=\"url(#clip732)\" style=\"stroke:#000000; stroke-linecap:round; stroke-linejoin:round; stroke-width:2; stroke-opacity:0.1; fill:none\" points=\"140.696,802.826 2112.76,802.826 \"/>\n",
       "<polyline clip-path=\"url(#clip732)\" style=\"stroke:#000000; stroke-linecap:round; stroke-linejoin:round; stroke-width:2; stroke-opacity:0.1; fill:none\" points=\"140.696,443.025 2112.76,443.025 \"/>\n",
       "<polyline clip-path=\"url(#clip732)\" style=\"stroke:#000000; stroke-linecap:round; stroke-linejoin:round; stroke-width:2; stroke-opacity:0.1; fill:none\" points=\"140.696,83.2242 2112.76,83.2242 \"/>\n",
       "<polyline clip-path=\"url(#clip730)\" style=\"stroke:#000000; stroke-linecap:round; stroke-linejoin:round; stroke-width:4; stroke-opacity:1; fill:none\" points=\"140.696,1486.45 140.696,47.2441 \"/>\n",
       "<polyline clip-path=\"url(#clip730)\" style=\"stroke:#000000; stroke-linecap:round; stroke-linejoin:round; stroke-width:4; stroke-opacity:1; fill:none\" points=\"140.696,1162.63 157.543,1162.63 \"/>\n",
       "<polyline clip-path=\"url(#clip730)\" style=\"stroke:#000000; stroke-linecap:round; stroke-linejoin:round; stroke-width:4; stroke-opacity:1; fill:none\" points=\"140.696,802.826 157.543,802.826 \"/>\n",
       "<polyline clip-path=\"url(#clip730)\" style=\"stroke:#000000; stroke-linecap:round; stroke-linejoin:round; stroke-width:4; stroke-opacity:1; fill:none\" points=\"140.696,443.025 157.543,443.025 \"/>\n",
       "<polyline clip-path=\"url(#clip730)\" style=\"stroke:#000000; stroke-linecap:round; stroke-linejoin:round; stroke-width:4; stroke-opacity:1; fill:none\" points=\"140.696,83.2242 157.543,83.2242 \"/>\n",
       "<path clip-path=\"url(#clip730)\" d=\"M83.7929 1145.35 L102.149 1145.35 L102.149 1149.28 L88.0753 1149.28 L88.0753 1157.75 Q89.0938 1157.41 90.1123 1157.25 Q91.1308 1157.06 92.1493 1157.06 Q97.9363 1157.06 101.316 1160.23 Q104.696 1163.4 104.696 1168.82 Q104.696 1174.4 101.223 1177.5 Q97.7511 1180.58 91.4317 1180.58 Q89.2558 1180.58 86.9873 1180.21 Q84.7419 1179.84 82.3346 1179.1 L82.3346 1174.4 Q84.4179 1175.53 86.6401 1176.09 Q88.8623 1176.64 91.3391 1176.64 Q95.3437 1176.64 97.6817 1174.54 Q100.02 1172.43 100.02 1168.82 Q100.02 1165.21 97.6817 1163.1 Q95.3437 1161 91.3391 1161 Q89.4641 1161 87.5892 1161.41 Q85.7373 1161.83 83.7929 1162.71 L83.7929 1145.35 Z\" fill=\"#000000\" fill-rule=\"nonzero\" fill-opacity=\"1\" /><path clip-path=\"url(#clip730)\" d=\"M53.3995 816.171 L61.0384 816.171 L61.0384 789.805 L52.7282 791.472 L52.7282 787.213 L60.9921 785.546 L65.668 785.546 L65.668 816.171 L73.3068 816.171 L73.3068 820.106 L53.3995 820.106 L53.3995 816.171 Z\" fill=\"#000000\" fill-rule=\"nonzero\" fill-opacity=\"1\" /><path clip-path=\"url(#clip730)\" d=\"M92.7512 788.625 Q89.1401 788.625 87.3114 792.19 Q85.5058 795.731 85.5058 802.861 Q85.5058 809.967 87.3114 813.532 Q89.1401 817.074 92.7512 817.074 Q96.3854 817.074 98.1909 813.532 Q100.02 809.967 100.02 802.861 Q100.02 795.731 98.1909 792.19 Q96.3854 788.625 92.7512 788.625 M92.7512 784.921 Q98.5613 784.921 101.617 789.528 Q104.696 794.111 104.696 802.861 Q104.696 811.588 101.617 816.194 Q98.5613 820.777 92.7512 820.777 Q86.941 820.777 83.8623 816.194 Q80.8068 811.588 80.8068 802.861 Q80.8068 794.111 83.8623 789.528 Q86.941 784.921 92.7512 784.921 Z\" fill=\"#000000\" fill-rule=\"nonzero\" fill-opacity=\"1\" /><path clip-path=\"url(#clip730)\" d=\"M54.3949 456.37 L62.0337 456.37 L62.0337 430.004 L53.7236 431.671 L53.7236 427.412 L61.9874 425.745 L66.6633 425.745 L66.6633 456.37 L74.3022 456.37 L74.3022 460.305 L54.3949 460.305 L54.3949 456.37 Z\" fill=\"#000000\" fill-rule=\"nonzero\" fill-opacity=\"1\" /><path clip-path=\"url(#clip730)\" d=\"M83.7929 425.745 L102.149 425.745 L102.149 429.68 L88.0753 429.68 L88.0753 438.152 Q89.0938 437.805 90.1123 437.643 Q91.1308 437.458 92.1493 437.458 Q97.9363 437.458 101.316 440.629 Q104.696 443.801 104.696 449.217 Q104.696 454.796 101.223 457.898 Q97.7511 460.976 91.4317 460.976 Q89.2558 460.976 86.9873 460.606 Q84.7419 460.236 82.3346 459.495 L82.3346 454.796 Q84.4179 455.93 86.6401 456.486 Q88.8623 457.041 91.3391 457.041 Q95.3437 457.041 97.6817 454.935 Q100.02 452.828 100.02 449.217 Q100.02 445.606 97.6817 443.5 Q95.3437 441.393 91.3391 441.393 Q89.4641 441.393 87.5892 441.81 Q85.7373 442.227 83.7929 443.106 L83.7929 425.745 Z\" fill=\"#000000\" fill-rule=\"nonzero\" fill-opacity=\"1\" /><path clip-path=\"url(#clip730)\" d=\"M56.6171 96.569 L72.9365 96.569 L72.9365 100.504 L50.9921 100.504 L50.9921 96.569 Q53.6541 93.8144 58.2375 89.1848 Q62.8439 84.5321 64.0245 83.1895 Q66.2698 80.6663 67.1494 78.9302 Q68.0522 77.171 68.0522 75.4812 Q68.0522 72.7266 66.1078 70.9905 Q64.1865 69.2544 61.0847 69.2544 Q58.8856 69.2544 56.4319 70.0182 Q54.0014 70.7821 51.2236 72.333 L51.2236 67.6108 Q54.0477 66.4766 56.5014 65.8979 Q58.955 65.3192 60.9921 65.3192 Q66.3624 65.3192 69.5568 68.0044 Q72.7513 70.6895 72.7513 75.1803 Q72.7513 77.3099 71.9411 79.2312 Q71.1541 81.1293 69.0476 83.7219 Q68.4689 84.3932 65.367 87.6107 Q62.2652 90.8052 56.6171 96.569 Z\" fill=\"#000000\" fill-rule=\"nonzero\" fill-opacity=\"1\" /><path clip-path=\"url(#clip730)\" d=\"M92.7512 69.0229 Q89.1401 69.0229 87.3114 72.5877 Q85.5058 76.1293 85.5058 83.2589 Q85.5058 90.3654 87.3114 93.9302 Q89.1401 97.4718 92.7512 97.4718 Q96.3854 97.4718 98.1909 93.9302 Q100.02 90.3654 100.02 83.2589 Q100.02 76.1293 98.1909 72.5877 Q96.3854 69.0229 92.7512 69.0229 M92.7512 65.3192 Q98.5613 65.3192 101.617 69.9256 Q104.696 74.509 104.696 83.2589 Q104.696 91.9857 101.617 96.5922 Q98.5613 101.175 92.7512 101.175 Q86.941 101.175 83.8623 96.5922 Q80.8068 91.9857 80.8068 83.2589 Q80.8068 74.509 83.8623 69.9256 Q86.941 65.3192 92.7512 65.3192 Z\" fill=\"#000000\" fill-rule=\"nonzero\" fill-opacity=\"1\" /><g clip-path=\"url(#clip732)\">\n",
       "<image width=\"1972\" height=\"1439\" xlink:href=\"data:image/png;base64,\n",
       "iVBORw0KGgoAAAANSUhEUgAAB7QAAAWfCAYAAAArpcnjAAAgAElEQVR4nOzb7evod13H8feZxx3P\n",
       "Omu1OW3XpxroaqZOW4Jmuu6YCAbRBSTUSIq6kTciIqIbNYygm8GE0ogKhJUhkzBKN1ZqNcrQVcdd\n",
       "mO5s87SLtrm2nbNz1F839tnf8HneeDz+ghd84Xv15HPow9e9/2BI+Llf+7PdE1g+/oc/s3sCM3Px\n",
       "0ed2T2B5+szR3ROYmW8enLd7AsvVFz25ewLLZx65avcEZuam4/+9ewLLM6cv2D2BmXn9DV/YPYHl\n",
       "Y5++afcEln970v2p4Bdf96XdE1iOX/fA7gnMzO13vGP3BJbXXvro7gksb/qlu3ZPYGZ+5zdu3j2B\n",
       "5ZaTH9o9gZnxZxwAAAAAAACAJEEbAAAAAAAAgCRBGwAAAAAAAIAkQRsAAAAAAACAJEEbAAAAAAAA\n",
       "gCRBGwAAAAAAAIAkQRsAAAAAAACAJEEbAAAAAAAAgCRBGwAAAAAAAIAkQRsAAAAAAACAJEEbAAAA\n",
       "AAAAgCRBGwAAAAAAAIAkQRsAAAAAAACAJEEbAAAAAAAAgCRBGwAAAAAAAIAkQRsAAAAAAACAJEEb\n",
       "AAAAAAAAgCRBGwAAAAAAAIAkQRsAAAAAAACAJEEbAAAAAAAAgCRBGwAAAAAAAIAkQRsAAAAAAACA\n",
       "JEEbAAAAAAAAgCRBGwAAAAAAAIAkQRsAAAAAAACAJEEbAAAAAAAAgCRBGwAAAAAAAIAkQRsAAAAA\n",
       "AACAJEEbAAAAAAAAgCRBGwAAAAAAAIAkQRsAAAAAAACAJEEbAAAAAAAAgCRBGwAAAAAAAIAkQRsA\n",
       "AAAAAACAJEEbAAAAAAAAgCRBGwAAAAAAAIAkQRsAAAAAAACAJEEbAAAAAAAAgCRBGwAAAAAAAIAk\n",
       "QRsAAAAAAACAJEEbAAAAAAAAgCRBGwAAAAAAAIAkQRsAAAAAAACAJEEbAAAAAAAAgCRBGwAAAAAA\n",
       "AIAkQRsAAAAAAACAJEEbAAAAAAAAgCRBGwAAAAAAAIAkQRsAAAAAAACAJEEbAAAAAAAAgCRBGwAA\n",
       "AAAAAIAkQRsAAAAAAACAJEEbAAAAAAAAgCRBGwAAAAAAAIAkQRsAAAAAAACAJEEbAAAAAAAAgCRB\n",
       "GwAAAAAAAIAkQRsAAAAAAACAJEEbAAAAAAAAgCRBGwAAAAAAAIAkQRsAAAAAAACAJEEbAAAAAAAA\n",
       "gCRBGwAAAAAAAIAkQRsAAAAAAACAJEEbAAAAAAAAgCRBGwAAAAAAAIAkQRsAAAAAAACAJEEbAAAA\n",
       "AAAAgCRBGwAAAAAAAIAkQRsAAAAAAACAJEEbAAAAAAAAgKTDp04f2b2B5eDa47snsHzPJY/tnsDM\n",
       "fO/19+6ewHLHP7x19wRm5q8f/I7dE1jedcXh3RNY/uPpl++ewMy8//r7dk9gOfe877uCI5c8s3sC\n",
       "yxefumD3BJb3XOk7u+DI+Wd3T2A59v0P757AzNz10WO7J7A8fsZ7bMUbHj7YPYGZueXkh3ZPYPnt\n",
       "q3959wTGCW0AAAAAAAAAogRtAAAAAAAAAJIEbQAAAAAAAACSBG0AAAAAAAAAkgRtAAAAAAAAAJIE\n",
       "bQAAAAAAAACSBG0AAAAAAAAAkgRtAAAAAAAAAJIEbQAAAAAAAACSBG0AAAAAAAAAkgRtAAAAAAAA\n",
       "AJIEbQAAAAAAAACSBG0AAAAAAAAAkgRtAAAAAAAAAJIEbQAAAAAAAACSBG0AAAAAAAAAkgRtAAAA\n",
       "AAAAAJIEbQAAAAAAAACSBG0AAAAAAAAAkgRtAAAAAAAAAJIEbQAAAAAAAACSBG0AAAAAAAAAkgRt\n",
       "AAAAAAAAAJIEbQAAAAAAAACSBG0AAAAAAAAAkgRtAAAAAAAAAJIEbQAAAAAAAACSBG0AAAAAAAAA\n",
       "kgRtAAAAAAAAAJIEbQAAAAAAAACSBG0AAAAAAAAAkgRtAAAAAAAAAJIEbQAAAAAAAACSBG0AAAAA\n",
       "AAAAkgRtAAAAAAAAAJIEbQAAAAAAAACSBG0AAAAAAAAAkgRtAAAAAAAAAJIEbQAAAAAAAACSBG0A\n",
       "AAAAAAAAkgRtAAAAAAAAAJIEbQAAAAAAAACSBG0AAAAAAAAAkgRtAAAAAAAAAJIEbQAAAAAAAACS\n",
       "BG0AAAAAAAAAkgRtAAAAAAAAAJIEbQAAAAAAAACSBG0AAAAAAAAAkgRtAAAAAAAAAJIEbQAAAAAA\n",
       "AACSBG0AAAAAAAAAkgRtAAAAAAAAAJIEbQAAAAAAAACSBG0AAAAAAAAAkgRtAAAAAAAAAJIEbQAA\n",
       "AAAAAACSBG0AAAAAAAAAkgRtAAAAAAAAAJIEbQAAAAAAAACSBG0AAAAAAAAAkgRtAAAAAAAAAJIE\n",
       "bQAAAAAAAACSBG0AAAAAAAAAkgRtAAAAAAAAAJIEbQAAAAAAAACSBG0AAAAAAAAAkgRtAAAAAAAA\n",
       "AJIEbQAAAAAAAACSBG0AAAAAAAAAkgRtAAAAAAAAAJIOfeOjxw52j+BFd9/6zt0TWC579WO7JzAz\n",
       "l//6ud0TWM5des3uCczM4ds+tXsCy3lvuWz3BJZDp5/fPYGZObjg2O4JLM/95dndE5iZC296evcE\n",
       "lmfv+vbdE1iOvfnR3ROYmXnfH+9ewPKtz/3+7gnMzJN/dGj3BF7iUmR815+e2D2BmXnhD47snsDy\n",
       "sivdoAqc0AYAAAAAAAAgSdAGAAAAAAAAIEnQBgAAAAAAACBJ0AYAAAAAAAAgSdAGAAAAAAAAIEnQ\n",
       "BgAAAAAAACBJ0AYAAAAAAAAgSdAGAAAAAAAAIEnQBgAAAAAAACBJ0AYAAAAAAAAgSdAGAAAAAAAA\n",
       "IEnQBgAAAAAAACBJ0AYAAAAAAAAgSdAGAAAAAAAAIEnQBgAAAAAAACBJ0AYAAAAAAAAgSdAGAAAA\n",
       "AAAAIEnQBgAAAAAAACBJ0AYAAAAAAAAgSdAGAAAAAAAAIEnQBgAAAAAAACBJ0AYAAAAAAAAgSdAG\n",
       "AAAAAAAAIEnQBgAAAAAAACBJ0AYAAAAAAAAgSdAGAAAAAAAAIEnQBgAAAAAAACBJ0AYAAAAAAAAg\n",
       "SdAGAAAAAAAAIEnQBgAAAAAAACBJ0AYAAAAAAAAgSdAGAAAAAAAAIEnQBgAAAAAAACBJ0AYAAAAA\n",
       "AAAgSdAGAAAAAAAAIEnQBgAAAAAAACBJ0AYAAAAAAAAgSdAGAAAAAAAAIEnQBgAAAAAAACBJ0AYA\n",
       "AAAAAAAgSdAGAAAAAAAAIEnQBgAAAAAAACBJ0AYAAAAAAAAgSdAGAAAAAAAAIEnQBgAAAAAAACBJ\n",
       "0AYAAAAAAAAgSdAGAAAAAAAAIEnQBgAAAAAAACBJ0AYAAAAAAAAgSdAGAAAAAAAAIEnQBgAAAAAA\n",
       "ACBJ0AYAAAAAAAAgSdAGAAAAAAAAIEnQBgAAAAAAACBJ0AYAAAAAAAAgSdAGAAAAAAAAIEnQBgAA\n",
       "AAAAACBJ0AYAAAAAAAAgSdAGAAAAAAAAIEnQBgAAAAAAACBJ0AYAAAAAAAAgSdAGAAAAAAAAIEnQ\n",
       "BgAAAAAAACBJ0AYAAAAAAAAgSdAGAAAAAAAAIEnQBgAAAAAAACBJ0AYAAAAAAAAgSdAGAAAAAAAA\n",
       "IEnQBgAAAAAAACBJ0AYAAAAAAAAgSdAGAAAAAAAAIOnQP739PQe7R/CiH7z573dPYHnw9ht2T2Bm\n",
       "rnnfvbsnsJy959DuCczMrX/+U7snsPzs2z6zewLL1x66YvcEZuYHfuv+3RN4yYMP717AzHzrutfs\n",
       "nsDyq+99x+4JLL/3E5/cPYGZueidj+6ewHLmzT+6ewIz84Ebr9o9geUjT9y6ewLL//z8dbsnMDN/\n",
       "8Y9v2z2B5YevOrl7AuOENgAAAAAAAABRgjYAAAAAAAAASYI2AAAAAAAAAEmCNgAAAAAAAABJgjYA\n",
       "AAAAAAAASYI2AAAAAAAAAEmCNgAAAAAAAABJgjYAAAAAAAAASYI2AAAAAAAAAEmCNgAAAAAAAABJ\n",
       "gjYAAAAAAAAASYI2AAAAAAAAAEmCNgAAAAAAAABJgjYAAAAAAAAASYI2AAAAAAAAAEmCNgAAAAAA\n",
       "AABJgjYAAAAAAAAASYI2AAAAAAAAAEmCNgAAAAAAAABJgjYAAAAAAAAASYI2AAAAAAAAAEmCNgAA\n",
       "AAAAAABJgjYAAAAAAAAASYI2AAAAAAAAAEmCNgAAAAAAAABJgjYAAAAAAAAASYI2AAAAAAAAAEmC\n",
       "NgAAAAAAAABJgjYAAAAAAAAASYI2AAAAAAAAAEmCNgAAAAAAAABJgjYAAAAAAAAASYI2AAAAAAAA\n",
       "AEmCNgAAAAAAAABJgjYAAAAAAAAASYI2AAAAAAAAAEmCNgAAAAAAAABJgjYAAAAAAAAASYI2AAAA\n",
       "AAAAAEmCNgAAAAAAAABJgjYAAAAAAAAASYI2AAAAAAAAAEmCNgAAAAAAAABJgjYAAAAAAAAASYI2\n",
       "AAAAAAAAAEmCNgAAAAAAAABJgjYAAAAAAAAASYI2AAAAAAAAAEmCNgAAAAAAAABJgjYAAAAAAAAA\n",
       "SYI2AAAAAAAAAEmCNgAAAAAAAABJgjYAAAAAAAAASYI2AAAAAAAAAEmCNgAAAAAAAABJgjYAAAAA\n",
       "AAAASYI2AAAAAAAAAEmCNgAAAAAAAABJgjYAAAAAAAAASYI2AAAAAAAAAEmCNgAAAAAAAABJgjYA\n",
       "AAAAAAAASYI2AAAAAAAAAEmCNgAAAAAAAABJgjYAAAAAAAAASYI2AAAAAAAAAEmCNgAAAAAAAABJ\n",
       "gjYAAAAAAAAASYI2AAAAAAAAAEmCNgAAAAAAAABJgjYAAAAAAAAASYcfevri3RtYbnj85bsnsHz1\n",
       "1OW7JzAzVz3y+d0TWJ564LrdE5iZf3/Sc6Lixx575e4JLI94l014/cmHd09gefYLl+2ewMwcO/+B\n",
       "3RNYTp1+++4JLA89cHz3BGbmwtc8tHsCy5Gv3rN7AjPzkSc+sXsCyy+88ld2T+AlB3fuXsDM/NfX\n",
       "/QesuPQVr949gXFCGwAAAAAAAIAoQRsAAAAAAACAJEEbAAAAAAAAgCRBGwAAAAAAAIAkQRsAAAAA\n",
       "AACAJEEbAAAAAAAAgCRBGwAAAAAAAIAkQRsAAAAAAACAJEEbAAAAAAAAgCRBGwAAAAAAAIAkQRsA\n",
       "AAAAAACAJEEbAAAAAAAAgCRBGwAAAAAAAIAkQRsAAAAAAACAJEEbAAAAAAAAgCRBGwAAAAAAAIAk\n",
       "QRsAAAAAAACAJEEbAAAAAAAAgCRBGwAAAAAAAIAkQRsAAAAAAACAJEEbAAAAAAAAgCRBGwAAAAAA\n",
       "AIAkQRsAAAAAAACAJEEbAAAAAAAAgCRBGwAAAAAAAIAkQRsAAAAAAACAJEEbAAAAAAAAgCRBGwAA\n",
       "AAAAAIAkQRsAAAAAAACAJEEbAAAAAAAAgCRBGwAAAAAAAIAkQRsAAAAAAACAJEEbAAAAAAAAgCRB\n",
       "GwAAAAAAAIAkQRsAAAAAAACAJEEbAAAAAAAAgCRBGwAAAAAAAIAkQRsAAAAAAACAJEEbAAAAAAAA\n",
       "gCRBGwAAAAAAAIAkQRsAAAAAAACAJEEbAAAAAAAAgCRBGwAAAAAAAIAkQRsAAAAAAACAJEEbAAAA\n",
       "AAAAgCRBGwAAAAAAAIAkQRsAAAAAAACAJEEbAAAAAAAAgCRBGwAAAAAAAIAkQRsAAAAAAACAJEEb\n",
       "AAAAAAAAgCRBGwAAAAAAAIAkQRsAAAAAAACAJEEbAAAAAAAAgCRBGwAAAAAAAIAkQRsAAAAAAACA\n",
       "JEEbAAAAAAAAgCRBGwAAAAAAAIAkQRsAAAAAAACAJEEbAAAAAAAAgCRBGwAAAAAAAIAkQRsAAAAA\n",
       "AACAJEEbAAAAAAAAgCRBGwAAAAAAAIAkQRsAAAAAAACAJEEbAAAAAAAAgCRBGwAAAAAAAIAkQRsA\n",
       "AAAAAACAJEEbAAAAAAAAgCRBGwAAAAAAAIAkQRsAAAAAAACApEPn7rj2YPcIXnTmk6d3T2B5/MtX\n",
       "757AzJx48JrdE1guOur+VHDjT//t7gksX/m7G3dPYHnVNV/bPYGZufvuN+2ewHLZd/7v7gnMzG9+\n",
       "9rW7J7B8/GOf2D2B5V9ueePuCczM4Zd9c/cElrfc5fuu4Nwdx3dPYHnh+Ot2T2A5/9T9uycwM4fu\n",
       "uW/3BJZn//PK3RMYJ7QBAAAAAAAAiBK0AQAAAAAAAEgStAEAAAAAAABIErQBAAAAAAAASBK0AQAA\n",
       "AAAAAEgStAEAAAAAAABIErQBAAAAAAAASBK0AQAAAAAAAEgStAEAAAAAAABIErQBAAAAAAAASBK0\n",
       "AQAAAAAAAEgStAEAAAAAAABIErQBAAAAAAAASBK0AQAAAAAAAEgStAEAAAAAAABIErQBAAAAAAAA\n",
       "SBK0AQAAAAAAAEgStAEAAAAAAABIErQBAAAAAAAASBK0AQAAAAAAAEgStAEAAAAAAABIErQBAAAA\n",
       "AAAASBK0AQAAAAAAAEgStAEAAAAAAABIErQBAAAAAAAASBK0AQAAAAAAAEgStAEAAAAAAABIErQB\n",
       "AAAAAAAASBK0AQAAAAAAAEgStAEAAAAAAABIErQBAAAAAAAASBK0AQAAAAAAAEgStAEAAAAAAABI\n",
       "ErQBAAAAAAAASBK0AQAAAAAAAEgStAEAAAAAAABIErQBAAAAAAAASBK0AQAAAAAAAEgStAEAAAAA\n",
       "AABIErQBAAAAAAAASBK0AQAAAAAAAEgStAEAAAAAAABIErQBAAAAAAAASBK0AQAAAAAAAEgStAEA\n",
       "AAAAAABIErQBAAAAAAAASBK0AQAAAAAAAEgStAEAAAAAAABIErQBAAAAAAAASBK0AQAAAAAAAEgS\n",
       "tAEAAAAAAABIErQBAAAAAAAASBK0AQAAAAAAAEgStAEAAAAAAABIErQBAAAAAAAASBK0AQAAAAAA\n",
       "AEgStAEAAAAAAABIErQBAAAAAAAASBK0AQAAAAAAAEgStAEAAAAAAABIErQBAAAAAAAASBK0AQAA\n",
       "AAAAAEgStAEAAAAAAABIErQBAAAAAAAASBK0AQAAAAAAAEgStAEAAAAAAABIErQBAAAAAAAASBK0\n",
       "AQAAAAAAAEgStAEAAAAAAABIErQBAAAAAAAASBK0AQAAAAAAAEg6/Nzt39i9geW837159wSWSz/4\n",
       "J7snMDOf//K1uyew3PmVV+2ewMxc/dnrd09g+ZsTrkXFkXu/b/cEZuaqY/+3ewLLd7/hxO4JzMwH\n",
       "nrp49wSWF+48t3sCyzNnju6ewMy8+1//avcEln/+kXftnsDMHHzxU7snsLziicd2T+AlP3nr7gXM\n",
       "zH0f/PDuCSwvnD1/9wTGCW0AAAAAAAAAogRtAAAAAAAAAJIEbQAAAAAAAACSBG0AAAAAAAAAkgRt\n",
       "AAAAAAAAAJIEbQAAAAAAAACSBG0AAAAAAAAAkgRtAAAAAAAAAJIEbQAAAAAAAACSBG0AAAAAAAAA\n",
       "kgRtAAAAAAAAAJIEbQAAAAAAAACSBG0AAAAAAAAAkgRtAAAAAAAAAJIEbQAAAAAAAACSBG0AAAAA\n",
       "AAAAkgRtAAAAAAAAAJIEbQAAAAAAAACSBG0AAAAAAAAAkgRtAAAAAAAAAJIEbQAAAAAAAACSBG0A\n",
       "AAAAAAAAkgRtAAAAAAAAAJIEbQAAAAAAAACSBG0AAAAAAAAAkgRtAAAAAAAAAJIEbQAAAAAAAACS\n",
       "BG0AAAAAAAAAkgRtAAAAAAAAAJIEbQAAAAAAAACSBG0AAAAAAAAAkgRtAAAAAAAAAJIEbQAAAAAA\n",
       "AACSBG0AAAAAAAAAkgRtAAAAAAAAAJIEbQAAAAAAAACSBG0AAAAAAAAAkgRtAAAAAAAAAJIEbQAA\n",
       "AAAAAACSBG0AAAAAAAAAkgRtAAAAAAAAAJIEbQAAAAAAAACSBG0AAAAAAAAAkgRtAAAAAAAAAJIE\n",
       "bQAAAAAAAACSBG0AAAAAAAAAkgRtAAAAAAAAAJIEbQAAAAAAAACSBG0AAAAAAAAAkgRtAAAAAAAA\n",
       "AJIEbQAAAAAAAACSBG0AAAAAAAAAkgRtAAAAAAAAAJIEbQAAAAAAAACSBG0AAAAAAAAAkgRtAAAA\n",
       "AAAAAJIEbQAAAAAAAACSBG0AAAAAAAAAkgRtAAAAAAAAAJIEbQAAAAAAAACSBG0AAAAAAAAAkgRt\n",
       "AAAAAAAAAJIEbQAAAAAAAACSBG0AAAAAAAAAkgRtAAAAAAAAAJIEbQAAAAAAAACSBG0AAAAAAAAA\n",
       "kgRtAAAAAAAAAJIEbQAAAAAAAACSBG0AAAAAAAAAkgRtAAAAAAAAAJIO3f/etx7sHsGLrnjjl3ZP\n",
       "YLntth/fPYGZOfn80d0TWC45/9zuCczMD11xcvcElqee/7bdE1hOPXvh7gnMzImvH9s9geXyC87u\n",
       "nsD/s283vZuedR2Hf6X/TmdgHMpgh6lQYCyJ7VBri1WsJKRNTDEm8iB1Q1ygidEYE2MMW40r4866\n",
       "IMbEuPFpQxO1QakmFFESW6hF2hJEg0qHafowNE6ddtphxgWnr+H8LI7jFXw39/Vwf65zZk4ff373\n",
       "BJbvOfzy7gksP/rwQ7snMDOfvvO+3RNYjrk+JRw9cmH3BJYb3/WfuyewvPHHn949gZn5zO99aPcE\n",
       "lgefPrF7AuOENgAAAAAAAABRgjYAAAAAAAAASYI2AAAAAAAAAEmCNgAAAAAAAABJgjYAAAAAAAAA\n",
       "SYI2AAAAAAAAAEmCNgAAAAAAAABJgjYAAAAAAAAASYI2AAAAAAAAAEmCNgAAAAAAAABJgjYAAAAA\n",
       "AAAASYI2AAAAAAAAAEmCNgAAAAAAAABJgjYAAAAAAAAASYI2AAAAAAAAAEmCNgAAAAAAAABJgjYA\n",
       "AAAAAAAASYI2AAAAAAAAAEmCNgAAAAAAAABJgjYAAAAAAAAASYI2AAAAAAAAAEmCNgAAAAAAAABJ\n",
       "gjYAAAAAAAAASYI2AAAAAAAAAEmCNgAAAAAAAABJgjYAAAAAAAAASYI2AAAAAAAAAEmCNgAAAAAA\n",
       "AABJgjYAAAAAAAAASYI2AAAAAAAAAEmCNgAAAAAAAABJgjYAAAAAAAAASYI2AAAAAAAAAEmCNgAA\n",
       "AAAAAABJgjYAAAAAAAAASYI2AAAAAAAAAEmCNgAAAAAAAABJgjYAAAAAAAAASYI2AAAAAAAAAEmC\n",
       "NgAAAAAAAABJgjYAAAAAAAAASYI2AAAAAAAAAEmCNgAAAAAAAABJgjYAAAAAAAAASYI2AAAAAAAA\n",
       "AEmCNgAAAAAAAABJgjYAAAAAAAAASYI2AAAAAAAAAEmCNgAAAAAAAABJgjYAAAAAAAAASYI2AAAA\n",
       "AAAAAEmCNgAAAAAAAABJgjYAAAAAAAAASYI2AAAAAAAAAEmCNgAAAAAAAABJgjYAAAAAAAAASYI2\n",
       "AAAAAAAAAEmCNgAAAAAAAABJgjYAAAAAAAAASYI2AAAAAAAAAEmCNgAAAAAAAABJgjYAAAAAAAAA\n",
       "SYI2AAAAAAAAAEmCNgAAAAAAAABJgjYAAAAAAAAASYI2AAAAAAAAAEmCNgAAAAAAAABJgjYAAAAA\n",
       "AAAASYI2AAAAAAAAAEmCNgAAAAAAAABJgjYAAAAAAAAASQf/fuZtuzewvPMnH909geXdb/nW7gnM\n",
       "zIdu/druCSwXzh3bPYGZ+a2H3r97Assv3PKN3RNYXnrx+O4JzMxvf+IPd09gefUZv4mCwz94fvcE\n",
       "loOPvbJ7Assjd9+7ewIzc/rHPrd7Asu191yzewIz89H7Prh7AssNX75l9wSW3z30V7snMDOfOXNi\n",
       "9wSWHz5+YfcExgltAAAAAAAAAKIEbQAAAAAAAACSBG0AAAAAAAAAkgRtAAAAAAAAAJIEbQAAAAAA\n",
       "AACSBG0AAAAAAAAAkgRtAAAAAAAAAJIEbQAAAAAAAACSBG0AAAAAAAAAkgRtAAAAAAAAAJIEbQAA\n",
       "AAAAAACSBG0AAAAAAAAAkgRtAAAAAAAAAJIEbQAAAAAAAACSBG0AAAAAAAAAkgRtAAAAAAAAAJIE\n",
       "bQAAAAAAAACSBG0AAAAAAAAAkgRtAAAAAAAAAJIEbQAAAAAAAACSBG0AAAAAAAAAkgRtAAAAAAAA\n",
       "AJIEbQAAAAAAAACSBG0AAAAAAAAAkgRtAAAAAAAAAJIEbQAAAAAAAACSBG0AAAAAAAAAkgRtAAAA\n",
       "AAAAAJIEbQAAAAAAAACSBG0AAAAAAAAAkgRtAAAAAAAAAJIEbQAAAAAAAACSBG0AAAAAAAAAkgRt\n",
       "AAAAAAAAAJIEbQAAAAAAAACSBG0AAAAAAAAAkgRtAAAAAAAAAJIEbQAAAAAAAACSBG0AAAAAAAAA\n",
       "kgRtAAAAAAAAAJIEbQAAAAAAAACSBG0AAAAAAAAAkgRtAAAAAAAAAJIEbQAAAAAAAACSBG0AAAAA\n",
       "AAAAkgRtAAAAAAAAAJIEbQAAAAAAAACSBG0AAAAAAAAAkgRtAAAAAAAAAJIEbQAAAAAAAACSBG0A\n",
       "AAAAAAAAkgRtAAAAAAAAAJIEbQAAAAAAAACSBG0AAAAAAAAAkgRtAAAAAAAAAJIEbQAAAAAAAACS\n",
       "BG0AAAAAAAAAkgRtAAAAAAAAAJIEbQAAAAAAAACSBG0AAAAAAAAAkgRtAAAAAAAAAJIEbQAAAAAA\n",
       "AACSBG0AAAAAAAAAkgRtAAAAAAAAAJIEbQAAAAAAAACSBG0AAAAAAAAAkgRtAAAAAAAAAJIEbQAA\n",
       "AAAAAACSBG0AAAAAAAAAkgRtAAAAAAAAAJIEbQAAAAAAAACSrrr0qTdd2T2C77r42DW7J7D89+On\n",
       "d09gZp45d3z3BJZv/s91uycwMx/56b/ZPYHlsX947+4JLKdufHr3BGbmC1999+4JLKdPntk9gZm5\n",
       "7aGHd09gufRnh3dPYPnc739g9wRm5juXnW2puP+pE7snMDN/+Qd/vHsCy3duetfuCSxXn/WeXfDq\n",
       "l92zKy6+cGz3BMYJbQAAAAAAAACiBG0AAAAAAAAAkgRtAAAAAAAAAJIEbQAAAAAAAACSBG0AAAAA\n",
       "AAAAkgRtAAAAAAAAAJIEbQAAAAAAAACSBG0AAAAAAAAAkgRtAAAAAAAAAJIEbQAAAAAAAACSBG0A\n",
       "AAAAAAAAkgRtAAAAAAAAAJIEbQAAAAAAAC2Dn+4AACAASURBVACSBG0AAAAAAAAAkgRtAAAAAAAA\n",
       "AJIEbQAAAAAAAACSBG0AAAAAAAAAkgRtAAAAAAAAAJIEbQAAAAAAAACSBG0AAAAAAAAAkgRtAAAA\n",
       "AAAAAJIEbQAAAAAAAACSBG0AAAAAAAAAkgRtAAAAAAAAAJIEbQAAAAAAAACSBG0AAAAAAAAAkgRt\n",
       "AAAAAAAAAJIEbQAAAAAAAACSBG0AAAAAAAAAkgRtAAAAAAAAAJIEbQAAAAAAAACSBG0AAAAAAAAA\n",
       "kgRtAAAAAAAAAJIEbQAAAAAAAACSBG0AAAAAAAAAkgRtAAAAAAAAAJIEbQAAAAAAAACSBG0AAAAA\n",
       "AAAAkgRtAAAAAAAAAJIEbQAAAAAAAACSBG0AAAAAAAAAkgRtAAAAAAAAAJIEbQAAAAAAAACSBG0A\n",
       "AAAAAAAAkgRtAAAAAAAAAJIEbQAAAAAAAACSBG0AAAAAAAAAkgRtAAAAAAAAAJIEbQAAAAAAAACS\n",
       "BG0AAAAAAAAAkgRtAAAAAAAAAJIEbQAAAAAAAACSBG0AAAAAAAAAkgRtAAAAAAAAAJIEbQAAAAAA\n",
       "AACSBG0AAAAAAAAAkgRtAAAAAAAAAJIEbQAAAAAAAACSBG0AAAAAAAAAkgRtAAAAAAAAAJIEbQAA\n",
       "AAAAAACSBG0AAAAAAAAAkgRtAAAAAAAAAJIEbQAAAAAAAACSBG0AAAAAAAAAkgRtAAAAAAAAAJIE\n",
       "bQAAAAAAAACSBG0AAAAAAAAAkgRtAAAAAAAAAJIEbQAAAAAAAACSBG0AAAAAAAAAkg5efuTI7g0s\n",
       "r5w7tnsCyxNPv333BGbm1PHndk9guevEs7snMDNXH3pt9wSWO9736O4JLC+dvX73BGbm2KFXdk9g\n",
       "ue2hh3dPYGb+9d67d09geeUrT+6ewPLUue/dPYGZ+fhH/nr3BJaTb7pl9wRm5qVHT+yewPKGV7+2\n",
       "ewLL+cfeunsCM3Pp4qHdE1iefNI9u8AJbQAAAAAAAACSBG0AAAAAAAAAkgRtAAAAAAAAAJIEbQAA\n",
       "AAAAAACSBG0AAAAAAAAAkgRtAAAAAAAAAJIEbQAAAAAAAACSBG0AAAAAAAAAkgRtAAAAAAAAAJIE\n",
       "bQAAAAAAAACSBG0AAAAAAAAAkgRtAAAAAAAAAJIEbQAAAAAAAACSBG0AAAAAAAAAkgRtAAAAAAAA\n",
       "AJIEbQAAAAAAAACSBG0AAAAAAAAAkgRtAAAAAAAAAJIEbQAAAAAAAACSBG0AAAAAAAAAkgRtAAAA\n",
       "AAAAAJIEbQAAAAAAAACSBG0AAAAAAAAAkgRtAAAAAAAAAJIEbQAAAAAAAACSBG0AAAAAAAAAkgRt\n",
       "AAAAAAAAAJIEbQAAAAAAAACSBG0AAAAAAAAAkgRtAAAAAAAAAJIEbQAAAAAAAACSBG0AAAAAAAAA\n",
       "kgRtAAAAAAAAAJIEbQAAAAAAAACSBG0AAAAAAAAAkgRtAAAAAAAAAJIEbQAAAAAAAACSBG0AAAAA\n",
       "AAAAkgRtAAAAAAAAAJIEbQAAAAAAAACSBG0AAAAAAAAAkgRtAAAAAAAAAJIEbQAAAAAAAACSBG0A\n",
       "AAAAAAAAkgRtAAAAAAAAAJIEbQAAAAAAAACSBG0AAAAAAAAAkgRtAAAAAAAAAJIEbQAAAAAAAACS\n",
       "BG0AAAAAAAAAkgRtAAAAAAAAAJIEbQAAAAAAAACSBG0AAAAAAAAAkgRtAAAAAAAAAJIEbQAAAAAA\n",
       "AACSBG0AAAAAAAAAkgRtAAAAAAAAAJIEbQAAAAAAAACSBG0AAAAAAAAAkgRtAAAAAAAAAJIEbQAA\n",
       "AAAAAACSBG0AAAAAAAAAkgRtAAAAAAAAAJIEbQAAAAAAAACSBG0AAAAAAAAAkgRtAAAAAAAAAJIE\n",
       "bQAAAAAAAACSBG0AAAAAAAAAkgRtAAAAAAAAAJIEbQAAAAAAAACSBG0AAAAAAAAAkg4OXf/i7g0s\n",
       "R2799u4JLHc89+bdE5iZv3j89t0TWH7ouOtTwTvu+eLuCSxnPvsDuyewXLni+8yCn/rip3ZPYPn0\n",
       "nR/dPYGZeeqZw7snsNx88vO7J7B868Kh3ROYmc/+3d27J7Bce3Bp9wRm5vTt/7h7AsuVt79t9wSW\n",
       "N9x0ze4JzMyFBy7unsBy7MiF3RMYJ7QBAAAAAAAAiBK0AQAAAAAAAEgStAEAAAAAAABIErQBAAAA\n",
       "AAAASBK0AQAAAAAAAEgStAEAAAAAAABIErQBAAAAAAAASBK0AQAAAAAAAEgStAEAAAAAAABIErQB\n",
       "AAAAAAAASBK0AQAAAAAAAEgStAEAAAAAAABIErQBAAAAAAAASBK0AQAAAAAAAEgStAEAAAAAAABI\n",
       "ErQBAAAAAAAASBK0AQAAAAAAAEgStAEAAAAAAABIErQBAAAAAAAASBK0AQAAAAAAAEgStAEAAAAA\n",
       "AABIErQBAAAAAAAASBK0AQAAAAAAAEgStAEAAAAAAABIErQBAAAAAAAASBK0AQAAAAAAAEgStAEA\n",
       "AAAAAABIErQBAAAAAAAASBK0AQAAAAAAAEgStAEAAAAAAABIErQBAAAAAAAASBK0AQAAAAAAAEgS\n",
       "tAEAAAAAAABIErQBAAAAAAAASBK0AQAAAAAAAEgStAEAAAAAAABIErQBAAAAAAAASBK0AQAAAAAA\n",
       "AEgStAEAAAAAAABIErQBAAAAAAAASBK0AQAAAAAAAEgStAEAAAAAAABIErQBAAAAAAAASBK0AQAA\n",
       "AAAAAEgStAEAAAAAAABIErQBAAAAAAAASBK0AQAAAAAAAEgStAEAAAAAAABIErQBAAAAAAAASBK0\n",
       "AQAAAAAAAEgStAEAAAAAAABIErQBAAAAAAAASBK0AQAAAAAAAEgStAEAAAAAAABIErQBAAAAAAAA\n",
       "SBK0AQAAAAAAAEgStAEAAAAAAABIErQBAAAAAAAASBK0AQAAAAAAAEgStAEAAAAAAABIErQBAAAA\n",
       "AAAASBK0AQAAAAAAAEgStAEAAAAAAABIErQBAAAAAAAASBK0AQAAAAAAAEgStAEAAAAAAABIErQB\n",
       "AAAAAAAASBK0AQAAAAAAAEgStAEAAAAAAABIErQBAAAAAAAASBK0AQAAAAAAAEi66k9v/fiV3SP4\n",
       "rg8/8OzuCSxP/8b53ROYmZdfObx7Asuff/Xm3ROYmSNXu2VXfPtV3wRW3H/2k7snMDP/9sG7dk9g\n",
       "OXrMc2zBpdcOdk9gefDx9+yewHL04LXdE5iZ868d2j2B5WP3/v3uCczM57/w3t0TWN563bndE1hu\n",
       "+8QTuycwM7/4cz+zewLLrdd5ji3wbywAAAAAAAAASYI2AAAAAAAAAEmCNgAAAAAAAABJgjYAAAAA\n",
       "AAAASYI2AAAAAAAAAEmCNgAAAAAAAABJgjYAAAAAAAAASYI2AAAAAAAAAEmCNgAAAAAAAABJgjYA\n",
       "AAAAAAAASYI2AAAAAAAAAEmCNgAAAAAAAABJgjYAAAAAAAAASYI2AAAAAAAAAEmCNgAAAAAAAABJ\n",
       "gjYAAAAAAAAASYI2AAAAAAAAAEmCNgAAAAAAAABJgjYAAAAAAAAASYI2AAAAAAAAAEmCNgAAAAAA\n",
       "AABJgjYAAAAAAAAASYI2AAAAAAAAAEmCNgAAAAAAAABJgjYAAAAAAAAASYI2AAAAAAAAAEmCNgAA\n",
       "AAAAAABJgjYAAAAAAAAASYI2AAAAAAAAAEmCNgAAAAAAAABJgjYAAAAAAAAASYI2AAAAAAAAAEmC\n",
       "NgAAAAAAAABJgjYAAAAAAAAASYI2AAAAAAAAAEmCNgAAAAAAAABJgjYAAAAAAAAASYI2AAAAAAAA\n",
       "AEmCNgAAAAAAAABJgjYAAAAAAAAASYI2AAAAAAAAAEmCNgAAAAAAAABJgjYAAAAAAAAASYI2AAAA\n",
       "AAAAAEmCNgAAAAAAAABJgjYAAAAAAAAASYI2AAAAAAAAAEmCNgAAAAAAAABJgjYAAAAAAAAASYI2\n",
       "AAAAAAAAAEmCNgAAAAAAAABJgjYAAAAAAAAASYI2AAAAAAAAAEmCNgAAAAAAAABJgjYAAAAAAAAA\n",
       "SYI2AAAAAAAAAEmCNgAAAAAAAABJgjYAAAAAAAAASYI2AAAAAAAAAEmCNgAAAAAAAABJgjYAAAAA\n",
       "AAAASYI2AAAAAAAAAEmCNgAAAAAAAABJgjYAAAAAAAAASYI2AAAAAAAAAEmCNgAAAAAAAABJgjYA\n",
       "AAAAAAAASYI2AAAAAAAAAEmCNgAAAAAAAABJgjYAAAAAAAAASYI2AAAAAAAAAEkHd576j90bWF73\n",
       "8u4F/L+jbzy/ewIzc3BwafcElstXrto9gZm59nWXd09guf/sJ3dPYPm1G35l9wRm5qqrvrR7AsvR\n",
       "G57bPYGZ+Zd/+pHdE1huf8vZ3RNY/vfitbsnMDPPv3D97gksz/7X9+2ewMzc5D6RcfzE87snsFw5\n",
       "8vrdE5iZu0++tHsCy81vfnb3BMYJbQAAAAAAAACiBG0AAAAAAAAAkgRtAAAAAAAAAJIEbQAAAAAA\n",
       "AACSBG0AAAAAAAAAkgRtAAAAAAAAAJIEbQAAAAAAAACSBG0AAAAAAAAAkgRtAAAAAAAAAJIEbQAA\n",
       "AAAAAACSBG0AAAAAAAAAkgRtAAAAAAAAAJIEbQAAAAAAAACSBG0AAAAAAAAAkgRtAAAAAAAAAJIE\n",
       "bQAAAAAAAACSBG0AAAAAAAAAkgRtAAAAAAAAAJIEbQAAAAAAAACSBG0AAAAAAAAAkgRtAAAAAAAA\n",
       "AJIEbQAAAAAAAACSBG0AAAAAAAAAkgRtAAAAAAAAAJIEbQAAAAAAAACSBG0AAAAAAAAAkgRtAAAA\n",
       "AAAAAJIEbQAAAAAAAACSBG0AAAAAAAAAkgRtAAAAAAAAAJIEbQAAAAAAAACSBG0AAAAAAAAAkgRt\n",
       "AAAAAAAAAJIEbQAAAAAAAACSBG0AAAAAAAAAkgRtAAAAAAAAAJIEbQAAAAAAAACSBG0AAAAAAAAA\n",
       "kgRtAAAAAAAAAJIEbQAAAAAAAACSBG0AAAAAAAAAkgRtAAAAAAAAAJIEbQAAAAAAAACSBG0AAAAA\n",
       "AAAAkgRtAAAAAAAAAJIEbQAAAAAAAACSBG0AAAAAAAAAkgRtAAAAAAAAAJIEbQAAAAAAAACSBG0A\n",
       "AAAAAAAAkgRtAAAAAAAAAJIEbQAAAAAAAACSBG0AAAAAAAAAkgRtAAAAAAAAAJIEbQAAAAAAAACS\n",
       "BG0AAAAAAAAAkgRtAAAAAAAAAJIEbQAAAAAAAACSBG0AAAAAAAAAkgRtAAAAAAAAAJIEbQAAAAAA\n",
       "AACSBG0AAAAAAAAAkgRtAAAAAAAAAJIEbQAAAAAAAACSBG0AAAAAAAAAkgRtAAAAAAAAAJIEbQAA\n",
       "AAAAAACSBG0AAAAAAAAAkgRtAAAAAAAAAJIEbQAAAAAAAACSBG0AAAAAAAAAkg6e+OY7d29guenr\n",
       "D+6ewPLiC7fvnsDMfP9dj++ewPITZ27cPYGZ+cAjD+yewPI7p35p9wSWi5cv757AzLzjni/tnsBy\n",
       "6dzR3ROYmfe8/593T2D59T/62d0TWH751q/vnsDM3HfqG7snsJx83xO7JzAzP/+b3u0q7jj+2u4J\n",
       "LL96y5/snsDM/O0Z73YVrz+4tHsC44Q2wP+1b3+ve9Z1HMffX2eOabpZbeSPoctlRkoRa/2gDJO0\n",
       "EyWs4+wo8KyCiKAzDzzsqNOi004KCcIMVnkQmWUoIaE0tTTGctvXLGkr18Gu/obP8+Dx+AtecHNd\n",
       "n/u+n3wAAAAAAACIErQBAAAAAAAASBK0AQAAAAAAAEgStAEAAAAAAABIErQBAAAAAAAASBK0AQAA\n",
       "AAAAAEgStAEAAAAAAABIErQBAAAAAAAASBK0AQAAAAAAAEgStAEAAAAAAABIErQBAAAAAAAASBK0\n",
       "AQAAAAAAAEgStAEAAAAAAABIErQBAAAAAAAASBK0AQAAAAAAAEgStAEAAAAAAABIErQBAAAAAAAA\n",
       "SBK0AQAAAAAAAEgStAEAAAAAAABIErQBAAAAAAAASBK0AQAAAAAAAEgStAEAAAAAAABIErQBAAAA\n",
       "AAAASBK0AQAAAAAAAEgStAEAAAAAAABIErQBAAAAAAAASBK0AQAAAAAAAEgStAEAAAAAAABIErQB\n",
       "AAAAAAAASBK0AQAAAAAAAEgStAEAAAAAAABIErQBAAAAAAAASBK0AQAAAAAAAEgStAEAAAAAAABI\n",
       "ErQBAAAAAAAASBK0AQAAAAAAAEgStAEAAAAAAABIErQBAAAAAAAASBK0AQAAAAAAAEgStAEAAAAA\n",
       "AABIErQBAAAAAAAASBK0AQAAAAAAAEgStAEAAAAAAABIErQBAAAAAAAASBK0AQAAAAAAAEgStAEA\n",
       "AAAAAABIErQBAAAAAAAASBK0AQAAAAAAAEgStAEAAAAAAABIErQBAAAAAAAASBK0AQAAAAAAAEgS\n",
       "tAEAAAAAAABIErQBAAAAAAAASBK0AQAAAAAAAEgStAEAAAAAAABIErQBAAAAAAAASBK0AQAAAAAA\n",
       "AEgStAEAAAAAAABIErQBAAAAAAAASBK0AQAAAAAAAEgStAEAAAAAAABIErQBAAAAAAAASBK0AQAA\n",
       "AAAAAEgStAEAAAAAAABIErQBAAAAAAAASBK0AQAAAAAAAEgStAEAAAAAAABIErQBAAAAAAAASBK0\n",
       "AQAAAAAAAEgStAEAAAAAAABIErQBAAAAAAAASNp55t67L64ewSW3fPeq1RPYnPn2K6snMDOnTh1a\n",
       "PYHNsROPr57AzDx2/IHVE9j8/JV3r57A5rIdX2ULPnnotdUT2Nx2+OXVE5iZX79w6+oJbO7+0O9X\n",
       "T2Dz499+dPUEZubkP/eunsDm80deWj2BmTlys8+h4tqjf1k9gc1bX7pz9QRm5mcP6EUV/nlqcEMb\n",
       "AAAAAAAAgCRBGwAAAAAAAIAkQRsAAAAAAACAJEEbAAAAAAAAgCRBGwAAAAAAAIAkQRsAAAAAAACA\n",
       "JEEbAAAAAAAAgCRBGwAAAAAAAIAkQRsAAAAAAACAJEEbAAAAAAAAgCRBGwAAAAAAAIAkQRsAAAAA\n",
       "AACAJEEbAAAAAAAAgCRBGwAAAAAAAIAkQRsAAAAAAACAJEEbAAAAAAAAgCRBGwAAAAAAAIAkQRsA\n",
       "AAAAAACAJEEbAAAAAAAAgCRBGwAAAAAAAIAkQRsAAAAAAACAJEEbAAAAAAAAgCRBGwAAAAAAAIAk\n",
       "QRsAAAAAAACAJEEbAAAAAAAAgCRBGwAAAAAAAIAkQRsAAAAAAACAJEEbAAAAAAAAgCRBGwAAAAAA\n",
       "AIAkQRsAAAAAAACAJEEbAAAAAAAAgCRBGwAAAAAAAIAkQRsAAAAAAACAJEEbAAAAAAAAgCRBGwAA\n",
       "AAAAAIAkQRsAAAAAAACAJEEbAAAAAAAAgCRBGwAAAAAAAIAkQRsAAAAAAACAJEEbAAAAAAAAgCRB\n",
       "GwAAAAAAAIAkQRsAAAAAAACAJEEbAAAAAAAAgCRBGwAAAAAAAIAkQRsAAAAAAACAJEEbAAAAAAAA\n",
       "gCRBGwAAAAAAAIAkQRsAAAAAAACAJEEbAAAAAAAAgCRBGwAAAAAAAIAkQRsAAAAAAACAJEEbAAAA\n",
       "AAAAgCRBGwAAAAAAAIAkQRsAAAAAAACAJEEbAAAAAAAAgCRBGwAAAAAAAIAkQRsAAAAAAACAJEEb\n",
       "AAAAAAAAgCRBGwAAAAAAAIAkQRsAAAAAAACAJEEbAAAAAAAAgCRBGwAAAAAAAIAkQRsAAAAAAACA\n",
       "JEEbAAAAAAAAgCRBGwAAAAAAAIAkQRsAAAAAAACAJEEbAAAAAAAAgCRBGwAAAAAAAIAkQRsAAAAA\n",
       "AACAJEEbAAAAAAAAgCRBGwAAAAAAAICky99//xOrN7A5/4P9qyewOXfujtUTmJljJx5fPYHNU3d9\n",
       "dvUEZuYDd3kmKo4+fdvqCWz+8cbbV09gZn7y/K2rJ7C5bv/Z1ROYmcPXnFs9gc2V73h99QQ2r51/\n",
       "2+oJzMzH3uWcqNh9c9/qCczMwePPrZ7A5rIbrlo9gc1/T7+0egIz85k7ndkVv3vyw6snMG5oAwAA\n",
       "AAAAABAlaAMAAAAAAACQJGgDAAAAAAAAkCRoAwAAAAAAAJAkaAMAAAAAAACQJGgDAAAAAAAAkCRo\n",
       "AwAAAAAAAJAkaAMAAAAAAACQJGgDAAAAAAAAkCRoAwAAAAAAAJAkaAMAAAAAAACQJGgDAAAAAAAA\n",
       "kCRoAwAAAAAAAJAkaAMAAAAAAACQJGgDAAAAAAAAkCRoAwAAAAAAAJAkaAMAAAAAAACQJGgDAAAA\n",
       "AAAAkCRoAwAAAAAAAJAkaAMAAAAAAACQJGgDAAAAAAAAkCRoAwAAAAAAAJAkaAMAAAAAAACQJGgD\n",
       "AAAAAAAAkCRoAwAAAAAAAJAkaAMAAAAAAACQJGgDAAAAAAAAkCRoAwAAAAAAAJAkaAMAAAAAAACQ\n",
       "JGgDAAAAAAAAkCRoAwAAAAAAAJAkaAMAAAAAAACQJGgDAAAAAAAAkCRoAwAAAAAAAJAkaAMAAAAA\n",
       "AACQJGgDAAAAAAAAkCRoAwAAAAAAAJAkaAMAAAAAAACQJGgDAAAAAAAAkCRoAwAAAAAAAJAkaAMA\n",
       "AAAAAACQJGgDAAAAAAAAkCRoAwAAAAAAAJAkaAMAAAAAAACQJGgDAAAAAAAAkCRoAwAAAAAAAJAk\n",
       "aAMAAAAAAACQJGgDAAAAAAAAkCRoAwAAAAAAAJAkaAMAAAAAAACQJGgDAAAAAAAAkCRoAwAAAAAA\n",
       "AJAkaAMAAAAAAACQJGgDAAAAAAAAkCRoAwAAAAAAAJAkaAMAAAAAAACQJGgDAAAAAAAAkCRoAwAA\n",
       "AAAAAJAkaAMAAAAAAACQJGgDAAAAAAAAkCRoAwAAAAAAAJAkaAMAAAAAAACQJGgDAAAAAAAAkCRo\n",
       "AwAAAAAAAJAkaAMAAAAAAACQJGgDAAAAAAAAkCRoAwAAAAAAAJAkaAMAAAAAAACQJGgDAAAAAAAA\n",
       "kCRoAwAAAAAAAJAkaAMAAAAAAACQtPP3r7zv4uoRXPK3l25cPYHNHY/9cvUEZubZz925egKbAwd2\n",
       "V09gZl7fvWb1BDYH3nl29QQ2b+xevXoCM7Nnz1urJ7B5+uQtqycwM7ff+PLqCWze+Ne+1RPY/PHU\n",
       "9asnMDNfuO+nqyewOf38TasnMDMnX/Vuqrj5uldXT2Bzmd93CWfOXLt6Aps/v3Zo9QTGDW0AAAAA\n",
       "AAAAogRtAAAAAAAAAJIEbQAAAAAAAACSBG0AAAAAAAAAkgRtAAAAAAAAAJIEbQAAAAAAAACSBG0A\n",
       "AAAAAAAAkgRtAAAAAAAAAJIEbQAAAAAAAACSBG0AAAAAAAAAkgRtAAAAAAAAAJIEbQAAAAAAAACS\n",
       "BG0AAAAAAAAAkgRtAAAAAAAAAJIEbQAAAAAAAACSBG0AAAAAAAAAkgRtAAAAAAAAAJIEbQAAAAAA\n",
       "AACSBG0AAAAAAAAAkgRtAAAAAAAAAJIEbQAAAAAAAACSBG0AAAAAAAAAkgRtAAAAAAAAAJIEbQAA\n",
       "AAAAAACSBG0AAAAAAAAAkgRtAAAAAAAAAJIEbQAAAAAAAACSBG0AAAAAAAAAkgRtAAAAAAAAAJIE\n",
       "bQAAAAAAAACSBG0AAAAAAAAAkgRtAAAAAAAAAJIEbQAAAAAAAACSBG0AAAAAAAAAkgRtAAAAAAAA\n",
       "AJIEbQAAAAAAAACSBG0AAAAAAAAAkgRtAAAAAAAAAJIEbQAAAAAAAACSBG0AAAAAAAAAkgRtAAAA\n",
       "AAAAAJIEbQAAAAAAAACSBG0AAAAAAAAAkgRtAAAAAAAAAJIEbQAAAAAAAACSBG0AAAAAAAAAkgRt\n",
       "AAAAAAAAAJIEbQAAAAAAAACSBG0AAAAAAAAAkgRtAAAAAAAAAJIEbQAAAAAAAACSBG0AAAAAAAAA\n",
       "kgRtAAAAAAAAAJIEbQAAAAAAAACSBG0AAAAAAAAAkgRtAAAAAAAAAJIEbQAAAAAAAACSBG0AAAAA\n",
       "AAAAkgRtAAAAAAAAAJIEbQAAAAAAAACSBG0AAAAAAAAAkgRtAAAAAAAAAJIEbQAAAAAAAACSBG0A\n",
       "AAAAAAAAkgRtAAAAAAAAAJIEbQAAAAAAAACSBG0AAAAAAAAAkgRtAAAAAAAAAJIEbQAAAAAAAACS\n",
       "BG0AAAAAAAAAkgRtAAAAAAAAAJJ2ds9+4+LqEVyy/9rvrJ7A5tl7P716AjPznuPPrJ7A/z348dUL\n",
       "mJm9f3hi9QQ2F957++oJbN7ad/XqCczM3t+cWD2Bzdlf3bR6AjNz5aEzqyewueLGc6snsLlwypld\n",
       "8J+vP7R6Apudh7+/egIzc8XB3dUT2Ow5eGH1BDZPfu+e1ROYmWMP/2n1BDY7L7y4egLjhjYAAAAA\n",
       "AAAAUYI2AAAAAAAAAEmCNgAAAAAAAABJgjYAAAAAAAAASYI2AAAAAAAAAEmCNgAAAAAAAABJgjYA\n",
       "AAAAAAAASYI2AAAAAAAAAEmCNgAAAAAAAABJgjYAAAAAAAAASYI2AAAAAAAAAEmCNgAAAAAAAABJ\n",
       "gjYAAAAAAAAASYI2AAAAAAAAAEmCNgAAAAAAAABJgjYAAAAAAAAASYI2AAAAAAAAAEmCNgAAAAAA\n",
       "AABJgjYAAAAAAAAASYI2AAAAAAAAAEmCNgAAAAAAAABJgjYAAAAAAAAASYI2AAAAAAAAAEmCNgAA\n",
       "AAAAAABJgjYAAAAAAAAASYI2AAAAAAAAAEmCNgAAAAAAAABJgjYAAAAAAAAASYI2AAAAAAAAAEmC\n",
       "NgAAAAAAAABJgjYAAAAAAAAASYI2AAAAAAAAAEmCNgAAAAAAAABJgjYAAAAAAAAASYI2AAAAAAAA\n",
       "AEmCNgAAAAAAAABJgjYAAAAAAAAASYI2AAAAAAAAAEmCNgAAAAAAAABJgjYAAAAAAAAASYI2AAAA\n",
       "AAAAAEmCNgAAAAAAAABJgjYAAAAAAAAASYI2AAAAAAAAAEmCNgAAAAAAAABJgjYAAAAAAAAASYI2\n",
       "AAAAAAAAAEmCNgAAAAAAAABJgjYAAAAAAAAASYI2AAAAAAAAAEmCNgAAAAAAAABJgjYAAAAAAAAA\n",
       "SYI2AAAAAAAAAEmCNgAAAAAAAABJc5ZdPAAAA/9JREFUgjYAAAAAAAAASYI2AAAAAAAAAEmCNgAA\n",
       "AAAAAABJgjYAAAAAAAAASYI2AAAAAAAAAEmCNgAAAAAAAABJgjYAAAAAAAAASYI2AAAAAAAAAEmC\n",
       "NgAAAAAAAABJgjYAAAAAAAAASYI2AAAAAAAAAEmCNgAAAAAAAABJgjYAAAAAAAAASYI2AAAAAAAA\n",
       "AEmCNgAAAAAAAABJgjYAAAAAAAAASYI2AAAAAAAAAEk7M5dfXD2CS3bPfm31BDYXvvno6gnMzP4P\n",
       "nlw9gc1zj35q9QRm5vlT16+ewOb2wy+unsDmqZO3rJ7AzHzxyz9cPYHN+dMHVk9gZvYdf3P1BDaP\n",
       "P3LP6glsjt7w19UTmJmDR15ZPYHNVfdfvnoCM/Ojr35i9QQ2hw+cWT2BzUce+sXqCczMI996cPUE\n",
       "Ntft+/fqCYwb2gAAAAAAAABECdoAAAAAAAAAJAnaAAAAAAAAACQJ2gAAAAAAAAAkCdoAAAAAAAAA\n",
       "JAnaAAAAAAAAACQJ2gAAAAAAAAAkCdoAAAAAAAAAJAnaAAAAAAAAACQJ2gAAAAAAAAAkCdoAAAAA\n",
       "AAAAJAnaAAAAAAAAACQJ2gAAAAAAAAAkCdoAAAAAAAAAJAnaAAAAAAAAACQJ2gAAAAAAAAAkCdoA\n",
       "AAAAAAAAJAnaAAAAAAAAACQJ2gAAAAAAAAAkCdoAAAAAAAAAJAnaAAAAAAAAACQJ2gAAAAAAAAAk\n",
       "CdoAAAAAAAAAJAnaAAAAAAAAACQJ2gAAAAAAAAAkCdoAAAAAAAAAJAnaAAAAAAAAACQJ2gAAAAAA\n",
       "AAAkCdoAAAAAAAAAJAnaAAAAAAAAACQJ2gAAAAAAAAAkCdoAAAAAAAAAJAnaAAAAAAAAACQJ2gAA\n",
       "AAAAAAAkCdoAAAAAAAAAJAnaAAAAAAAAACQJ2gAAAAAAAAAkCdoAAAAAAAAAJAnaAAAAAAAAACQJ\n",
       "2gAAAAAAAAAkCdoAAAAAAAAAJAnaAAAAAAAAACQJ2gAAAAAAAAAkCdoAAAAAAAAAJAnaAAAAAAAA\n",
       "ACQJ2gAAAAAAAAAkCdoAAAAAAAAAJAnaAAAAAAAAACQJ2gAAAAAAAAAkCdoAAAAAAAAAJAnaAAAA\n",
       "AAAAACQJ2gAAAAAAAAAkCdoAAAAAAAAAJAnaAAAAAAAAACQJ2gAAAAAAAAAkCdoAAAAAAAAAJAna\n",
       "AAAAAAAAACQJ2gAAAAAAAAAkCdoAAAAAAAAAJAnaAAAAAAAAACQJ2gAAAAAAAAAkCdoAAAAAAAAA\n",
       "JAnaAAAAAAAAACQJ2gAAAAAAAAAkCdoAAAAAAAAAJAnaAAAAAAAAACQJ2gAAAAAAAAAkCdoAAAAA\n",
       "AAAAJAnaAAAAAAAAACQJ2gAAAAAAAAAk/Q9ekWY+ZbZShQAAAABJRU5ErkJggg==\n",
       "\" transform=\"translate(141, 47)\"/>\n",
       "</g>\n",
       "<defs>\n",
       "  <clipPath id=\"clip733\">\n",
       "    <rect x=\"2160\" y=\"47\" width=\"73\" height=\"1440\"/>\n",
       "  </clipPath>\n",
       "</defs>\n",
       "<g clip-path=\"url(#clip733)\">\n",
       "<image width=\"72\" height=\"1439\" xlink:href=\"data:image/png;base64,\n",
       "iVBORw0KGgoAAAANSUhEUgAAAEgAAAWfCAYAAAAI7rB3AAAMWUlEQVR4nO3dwY0rRxAFwaZQ/lsh\n",
       "L6XfLQtUeSQPERYsEg8c9MyQ+/n3/v0O/+uvb/8Bv06gIFAQKAgU5r5/v/03/DQLCgIFgYJAQaAw\n",
       "7/359t/w0ywoCBQECgIFR41gQUGgIFAQKAgU5rmKrSwoCBQECgIFgcK86yq2saAgUBAoCBQcNYIF\n",
       "BYGCQEGgIFBwFQsWFAQKAgWBgvtBwYKCQEGgIFAQKMxx1FhZUBAoCBQECgIFN8yCBQWBgkBBoDDH\n",
       "DbOVBQWBgkBBoCBQmHP/+fbf8NMsKAgUBAoCBYGCxz7BgoJAQaAgUHDDLFhQECgIFAQKAgVXsWBB\n",
       "QaAgUBAouB8ULCgIFAQKAgWBwnwcNVYWFAQKAgWBgkBhzvWfWTYWFAQKAgWBgqNGsKAgUBAoCBQE\n",
       "Co4awYKCQEGgIFAQKHjDLFhQECgIFAQK83HUWFlQECgIFAQKAgXvSQcLCgIFgYJAwVEjWFAQKAgU\n",
       "BAoCBc/mgwUFgYJAQaAgUHAWCxYUBAoCBYGCo0awoCBQECgIFAQKjhrBgoJAQaAgUBAozLn323/D\n",
       "T7OgIFAQKAgUHDWCBQWBgkBBoCBQ8NgnWFAQKAgUBAo+pIMFBYGCQEGgIFCYj6caKwsKAgWBgkBB\n",
       "oOAsFiwoCBQECgIFL1AFCwoCBYGCQEGg4IZZsKAgUBAoCBTcDwoWFAQKAgWBgkDBDbNgQUGgIFAQ\n",
       "KAgUXMWCBQWBgkBBoOB788GCgkBBoCBQECg4agQLCgIFgYJAQaDgKhYsKAgUBAoCBR/SwYKCQEGg\n",
       "IFAQKLiKBQsKAgWBgkBhzvMhvbGgIFAQKAgUBAqOGsGCgkBBoCBQECi4igULCgIFgYJAwYd0sKAg\n",
       "UBAoCBQECnPu+/bf8NMsKAgUBAoCBYGCs1iwoCBQECgIFBw1ggUFgYJAQaAgUHDUCBYUBAoCBYGC\n",
       "o0awoCBQECgIFAQKc5w0VhYUBAoCBYGCQGHOcxbbWFAQKAgUBAqOGsGCgkBBoCBQECi4igULCgIF\n",
       "gYJAQaAwfohzZ0FBoCBQECg4agQLCgIFgYJAQaDgKhYsKAgUBAoChTn38+2/4adZUBAoCBQECgKF\n",
       "ec9VbGNBQaAgUBAoCBTcMAsWFAQKAgWBghtmwYKCQEGgIFAQKMy7Gm3UCQIFgYJAwVEjWFAQKAgU\n",
       "BAoChTmeza8sKAgUBAoCBYHCPGexlQUFgYJAQaAwx1ONlTpBoCBQECgIFBw1ggUFgYJAQaAgUPDY\n",
       "J1hQECgIFAQKXgMO6gSBgkBBoCBQ8J50sKAgUBAoCBQ81QgWFAQKAgWBgkBh3tNoo04QKAgUBAoC\n",
       "BTfMggUFgYJAQaDghlmwoCBQECgIFAQKc9wwW6kTBAoCBYGCQMFZLFhQECgIFAQKPqSDBQWBgkBB\n",
       "oCBQ8L35YEFBoCBQECj43nxQJwgUBAoCBYHCPEeNlQUFgYJAQaAgUPDYJ1hQECgIFAQK/jNLUCcI\n",
       "FAQKAgWBghtmwYKCQEGgIFAQKLhhFiwoCBQECgIFR41gQUGgIFAQKAgUvCcd1AkCBYGCQMFRI1hQ\n",
       "ECgIFAQKAgVPNYIFBYGCQEGgIFBwFgsWFAQKAgWBgn+fFSwoCBQECgIFgYJ/ZRzUCQIFgYJAQaDg\n",
       "hlmwoCBQECgIFDybDxYUBAoCBYGCQMFRI1hQECgIFAQKc31IrywoCBQECgIFgYLvzQd1gkBBoCBQ\n",
       "ECi4YRYsKAgUBAoCBR/SwYKCQEGgIFAQKHjDLFhQECgIFAQKjhrBgoJAQaAgUBAouIoFCwoCBYGC\n",
       "QEGg4NdfgjpBoCBQECjM9VRjZUFBoCBQECgIFNwwCxYUBAoCBYGCQMFVLFhQECgIFAQKPqSDBQWB\n",
       "gkBBoCBQ8BtmwYKCQEGgIFBw1AgWFAQKAgWBgkDBVSxYUBAoCBQECgIFX2YJ6gSBgkBBoODLLMGC\n",
       "gkBBoCBQECi4YRYsKAgUBAoCBYGCq1iwoCBQECgIFLwGHCwoCBQECgIFgYKjRrCgIFAQKAgU5h0f\n",
       "0hsLCgIFgYJAQaDghlmwoCBQECgIFAQKbpgFCwoCBYGCQMFRI1hQECgIFAQKAgVHjWBBQaAgUBAo\n",
       "CBScxYIFBYGCQEGg4KgRLCgIFAQKAgWBgqtYsKAgUBAoCBTm+jLLyoKCQEGgIFAQKDhqBAsKAgWB\n",
       "gkBBoODZfLCgIFAQKAgU5r1v/wm/zYKCQEGgIFAQKDhqBAsKAgWBgkDBD00GCwoCBYGCQEGg4KgR\n",
       "LCgIFAQKAgWBgjfMggUFgYJAQaDgyyzBgoJAQaAgUBAoeMMsWFAQKAgUBAoCBY99ggUFgYJAQaDg\n",
       "qUawoCBQECgIFAQKHvsECwoCBYGCQMH9oGBBQaAgUBAoCBQ8mw8WFAQKAgWBgkDBDbNgQUGgIFAQ\n",
       "KHg2HywoCBQECgIFgcLcb/8FP86CgkBBoCBQECg4iwULCgIFgYJAwRtmwYKCQEGgIFAQKLhhFiwo\n",
       "CBQECgIF94OCBQWBgkBBoCBQcNQIFhQECgIFgYJAwVksWFAQKAgUBAqezQcLCgIFgYJAQaAwfvxl\n",
       "Z0FBoCBQECgIFJzFggUFgYJAQaDg2XywoCBQECgIFAQKns0HCwoCBYGCQMFRI1hQECgIFAQKAgVH\n",
       "jWBBQaAgUBAoCBTmesVsZUFBoCBQECi4YRYsKAgUBAoCBYGCG2bBgoJAQaAgUHDUCBYUBAoCBYGC\n",
       "QGGepxorCwoCBYGCQEGgMPe4YbaxoCBQECgIFLxAFSwoCBQECgIFgYIfmgwWFAQKAgWBgkDBD00G\n",
       "CwoCBYGCQMGz+WBBQaAgUBAoCBS8Jx0sKAgUBAoCBd84DBYUBAoCBYGCQMFRI1hQECgIFAQKAgXv\n",
       "SQcLCgIFgYJAwWvAwYKCQEGgIFAQKDhqBAsKAgWBgkBBoOA96WBBQaAgUBAo+ImuYEFBoCBQECgI\n",
       "FNwwCxYUBAoCBYGCZ/PBgoJAQaAgUBAoOGoECwoCBYGCQEGg4CwWLCgIFAQKAgVHjWBBQaAgUBAo\n",
       "CBRcxYIFBYGCQEGgIFBwwyxYUBAoCBQECo4awYKCQEGgIFAQKDhqBAsKAgWBgkDBUSNYUBAoCBQE\n",
       "CgIFP9EVLCgIFAQKAgWBgv8vFiwoCBQECgIFN8yCBQWBgkBBoCBQmHdcxjYWFAQKAgWBgkDBWSxY\n",
       "UBAoCBQECp7NBwsKAgWBgkBBoODZfLCgIFAQKAgU3A8KFhQECgIFgYJAwbP5YEFBoCBQECgIFJzF\n",
       "ggUFgYJAQaDgJ7qCBQWBgkBBoCBQmOsVs5UFBYGCQEGg4AWqYEFBoCBQECgIFOY5aqwsKAgUBAoC\n",
       "BYGCs1iwoCBQECgIFDzVCBYUBAoCBYGCQMEbZsGCgkBBoCBQECjM9ZXMlQUFgYJAQaDghlmwoCBQ\n",
       "ECgIFAQKfv0lWFAQKAgUBApeoAoWFAQKAgWBgkDBU41gQUGgIFAQKAgU3DALFhQECgIFgcLc45bZ\n",
       "xoKCQEGgIFAQKLhhFiwoCBQECgIFgYKrWLCgIFAQKAgUPNUIFhQECgIFgYJAwWOfYEFBoCBQECjM\n",
       "/ThqbCwoCBQECgIFgYKjRrCgIFAQKAgUBArzXMVWFhQECgIFgYKjRrCgIFAQKAgUBApzP65iGwsK\n",
       "AgWBgkBBoOAsFiwoCBQECgIFTzWCBQWBgkBBoCBQcNQIFhQECgIFgYIP6WBBQaAgUBAoCBQ8mw8W\n",
       "FAQKAgWBgkBh3vnz7b/hp1lQECgIFAQKbpgFCwoCBYGCQEGg4A2zYEFBoCBQECjMfe4HbSwoCBQE\n",
       "CgIFgYKjRrCgIFAQKAgUBApzPZtfWVAQKAgUBAqOGsGCgkBBoCBQECg4agQLCgIFgYJAQaAw7zmL\n",
       "bSwoCBQECgIFN8yCBQWBgkBBoCBQ8J50sKAgUBAoCBQcNYIFBYGCQEGgIFCY56ixsqAgUBAoCBQE\n",
       "Cs5iwYKCQEGgIFCY6wWqlQUFgYJAQaAgUPCb9sGCgkBBoCBQECj4MkuwoCBQECgIFDzVCBYUBAoC\n",
       "BYGCQMFRI1hQECgIFAQKPqSDBQWBgkBBoCBQ8Gw+WFAQKAgUBAoCBWexYEFBoCBQECjM8Wx+ZUFB\n",
       "oCBQECgIFBw1ggUFgYJAQaAgUPCedLCgIFAQKAgU5jhqrCwoCBQECgIFgYI3zIIFBYGCQEGg4Nl8\n",
       "sKAgUBAoCBQECm6YBQsKAgWBgkBBoDDvvG//DT/NgoJAQaAgUHDDLFhQECgIFAQKAoU5jhorCwoC\n",
       "BYGCQOE/LrLuTX/wFc8AAAAASUVORK5CYII=\n",
       "\" transform=\"translate(2161, 47)\"/>\n",
       "</g>\n",
       "<path clip-path=\"url(#clip730)\" d=\"M2280.7 1468.62 Q2277.09 1468.62 2275.26 1472.18 Q2273.45 1475.72 2273.45 1482.85 Q2273.45 1489.96 2275.26 1493.53 Q2277.09 1497.07 2280.7 1497.07 Q2284.33 1497.07 2286.14 1493.53 Q2287.97 1489.96 2287.97 1482.85 Q2287.97 1475.72 2286.14 1472.18 Q2284.33 1468.62 2280.7 1468.62 M2280.7 1464.91 Q2286.51 1464.91 2289.57 1469.52 Q2292.64 1474.1 2292.64 1482.85 Q2292.64 1491.58 2289.57 1496.19 Q2286.51 1500.77 2280.7 1500.77 Q2274.89 1500.77 2271.81 1496.19 Q2268.76 1491.58 2268.76 1482.85 Q2268.76 1474.1 2271.81 1469.52 Q2274.89 1464.91 2280.7 1464.91 Z\" fill=\"#000000\" fill-rule=\"nonzero\" fill-opacity=\"1\" /><path clip-path=\"url(#clip730)\" d=\"M2280.7 1217.56 Q2277.09 1217.56 2275.26 1221.13 Q2273.45 1224.67 2273.45 1231.8 Q2273.45 1238.91 2275.26 1242.47 Q2277.09 1246.01 2280.7 1246.01 Q2284.33 1246.01 2286.14 1242.47 Q2287.97 1238.91 2287.97 1231.8 Q2287.97 1224.67 2286.14 1221.13 Q2284.33 1217.56 2280.7 1217.56 M2280.7 1213.86 Q2286.51 1213.86 2289.57 1218.47 Q2292.64 1223.05 2292.64 1231.8 Q2292.64 1240.53 2289.57 1245.13 Q2286.51 1249.72 2280.7 1249.72 Q2274.89 1249.72 2271.81 1245.13 Q2268.76 1240.53 2268.76 1231.8 Q2268.76 1223.05 2271.81 1218.47 Q2274.89 1213.86 2280.7 1213.86 Z\" fill=\"#000000\" fill-rule=\"nonzero\" fill-opacity=\"1\" /><path clip-path=\"url(#clip730)\" d=\"M2300.86 1243.17 L2305.75 1243.17 L2305.75 1249.04 L2300.86 1249.04 L2300.86 1243.17 Z\" fill=\"#000000\" fill-rule=\"nonzero\" fill-opacity=\"1\" /><path clip-path=\"url(#clip730)\" d=\"M2319.96 1245.11 L2336.28 1245.11 L2336.28 1249.04 L2314.33 1249.04 L2314.33 1245.11 Q2317 1242.35 2321.58 1237.73 Q2326.19 1233.07 2327.37 1231.73 Q2329.61 1229.21 2330.49 1227.47 Q2331.39 1225.71 2331.39 1224.02 Q2331.39 1221.27 2329.45 1219.53 Q2327.53 1217.79 2324.43 1217.79 Q2322.23 1217.79 2319.77 1218.56 Q2317.34 1219.32 2314.57 1220.87 L2314.57 1216.15 Q2317.39 1215.02 2319.84 1214.44 Q2322.3 1213.86 2324.33 1213.86 Q2329.7 1213.86 2332.9 1216.54 Q2336.09 1219.23 2336.09 1223.72 Q2336.09 1225.85 2335.28 1227.77 Q2334.5 1229.67 2332.39 1232.26 Q2331.81 1232.93 2328.71 1236.15 Q2325.61 1239.35 2319.96 1245.11 Z\" fill=\"#000000\" fill-rule=\"nonzero\" fill-opacity=\"1\" /><path clip-path=\"url(#clip730)\" d=\"M2346.14 1214.48 L2364.5 1214.48 L2364.5 1218.42 L2350.42 1218.42 L2350.42 1226.89 Q2351.44 1226.54 2352.46 1226.38 Q2353.48 1226.2 2354.5 1226.2 Q2360.28 1226.2 2363.66 1229.37 Q2367.04 1232.54 2367.04 1237.96 Q2367.04 1243.54 2363.57 1246.64 Q2360.1 1249.72 2353.78 1249.72 Q2351.6 1249.72 2349.33 1249.35 Q2347.09 1248.98 2344.68 1248.23 L2344.68 1243.54 Q2346.76 1244.67 2348.99 1245.23 Q2351.21 1245.78 2353.69 1245.78 Q2357.69 1245.78 2360.03 1243.67 Q2362.37 1241.57 2362.37 1237.96 Q2362.37 1234.35 2360.03 1232.24 Q2357.69 1230.13 2353.69 1230.13 Q2351.81 1230.13 2349.94 1230.55 Q2348.08 1230.97 2346.14 1231.85 L2346.14 1214.48 Z\" fill=\"#000000\" fill-rule=\"nonzero\" fill-opacity=\"1\" /><path clip-path=\"url(#clip730)\" d=\"M2280.7 966.509 Q2277.09 966.509 2275.26 970.074 Q2273.45 973.616 2273.45 980.745 Q2273.45 987.852 2275.26 991.416 Q2277.09 994.958 2280.7 994.958 Q2284.33 994.958 2286.14 991.416 Q2287.97 987.852 2287.97 980.745 Q2287.97 973.616 2286.14 970.074 Q2284.33 966.509 2280.7 966.509 M2280.7 962.805 Q2286.51 962.805 2289.57 967.412 Q2292.64 971.995 2292.64 980.745 Q2292.64 989.472 2289.57 994.078 Q2286.51 998.662 2280.7 998.662 Q2274.89 998.662 2271.81 994.078 Q2268.76 989.472 2268.76 980.745 Q2268.76 971.995 2271.81 967.412 Q2274.89 962.805 2280.7 962.805 Z\" fill=\"#000000\" fill-rule=\"nonzero\" fill-opacity=\"1\" /><path clip-path=\"url(#clip730)\" d=\"M2300.86 992.111 L2305.75 992.111 L2305.75 997.99 L2300.86 997.99 L2300.86 992.111 Z\" fill=\"#000000\" fill-rule=\"nonzero\" fill-opacity=\"1\" /><path clip-path=\"url(#clip730)\" d=\"M2315.98 963.43 L2334.33 963.43 L2334.33 967.366 L2320.26 967.366 L2320.26 975.838 Q2321.28 975.491 2322.3 975.329 Q2323.32 975.143 2324.33 975.143 Q2330.12 975.143 2333.5 978.315 Q2336.88 981.486 2336.88 986.903 Q2336.88 992.481 2333.41 995.583 Q2329.94 998.662 2323.62 998.662 Q2321.44 998.662 2319.17 998.291 Q2316.93 997.921 2314.52 997.18 L2314.52 992.481 Q2316.6 993.615 2318.83 994.171 Q2321.05 994.727 2323.52 994.727 Q2327.53 994.727 2329.87 992.62 Q2332.2 990.514 2332.2 986.903 Q2332.2 983.291 2329.87 981.185 Q2327.53 979.078 2323.52 979.078 Q2321.65 979.078 2319.77 979.495 Q2317.92 979.912 2315.98 980.791 L2315.98 963.43 Z\" fill=\"#000000\" fill-rule=\"nonzero\" fill-opacity=\"1\" /><path clip-path=\"url(#clip730)\" d=\"M2356.09 966.509 Q2352.48 966.509 2350.65 970.074 Q2348.85 973.616 2348.85 980.745 Q2348.85 987.852 2350.65 991.416 Q2352.48 994.958 2356.09 994.958 Q2359.73 994.958 2361.53 991.416 Q2363.36 987.852 2363.36 980.745 Q2363.36 973.616 2361.53 970.074 Q2359.73 966.509 2356.09 966.509 M2356.09 962.805 Q2361.9 962.805 2364.96 967.412 Q2368.04 971.995 2368.04 980.745 Q2368.04 989.472 2364.96 994.078 Q2361.9 998.662 2356.09 998.662 Q2350.28 998.662 2347.2 994.078 Q2344.15 989.472 2344.15 980.745 Q2344.15 971.995 2347.2 967.412 Q2350.28 962.805 2356.09 962.805 Z\" fill=\"#000000\" fill-rule=\"nonzero\" fill-opacity=\"1\" /><path clip-path=\"url(#clip730)\" d=\"M2280.7 715.455 Q2277.09 715.455 2275.26 719.02 Q2273.45 722.561 2273.45 729.691 Q2273.45 736.797 2275.26 740.362 Q2277.09 743.904 2280.7 743.904 Q2284.33 743.904 2286.14 740.362 Q2287.97 736.797 2287.97 729.691 Q2287.97 722.561 2286.14 719.02 Q2284.33 715.455 2280.7 715.455 M2280.7 711.751 Q2286.51 711.751 2289.57 716.358 Q2292.64 720.941 2292.64 729.691 Q2292.64 738.418 2289.57 743.024 Q2286.51 747.607 2280.7 747.607 Q2274.89 747.607 2271.81 743.024 Q2268.76 738.418 2268.76 729.691 Q2268.76 720.941 2271.81 716.358 Q2274.89 711.751 2280.7 711.751 Z\" fill=\"#000000\" fill-rule=\"nonzero\" fill-opacity=\"1\" /><path clip-path=\"url(#clip730)\" d=\"M2300.86 741.057 L2305.75 741.057 L2305.75 746.936 L2300.86 746.936 L2300.86 741.057 Z\" fill=\"#000000\" fill-rule=\"nonzero\" fill-opacity=\"1\" /><path clip-path=\"url(#clip730)\" d=\"M2314.75 712.376 L2336.97 712.376 L2336.97 714.367 L2324.43 746.936 L2319.54 746.936 L2331.35 716.311 L2314.75 716.311 L2314.75 712.376 Z\" fill=\"#000000\" fill-rule=\"nonzero\" fill-opacity=\"1\" /><path clip-path=\"url(#clip730)\" d=\"M2346.14 712.376 L2364.5 712.376 L2364.5 716.311 L2350.42 716.311 L2350.42 724.783 Q2351.44 724.436 2352.46 724.274 Q2353.48 724.089 2354.5 724.089 Q2360.28 724.089 2363.66 727.26 Q2367.04 730.432 2367.04 735.848 Q2367.04 741.427 2363.57 744.529 Q2360.1 747.607 2353.78 747.607 Q2351.6 747.607 2349.33 747.237 Q2347.09 746.867 2344.68 746.126 L2344.68 741.427 Q2346.76 742.561 2348.99 743.117 Q2351.21 743.672 2353.69 743.672 Q2357.69 743.672 2360.03 741.566 Q2362.37 739.459 2362.37 735.848 Q2362.37 732.237 2360.03 730.131 Q2357.69 728.024 2353.69 728.024 Q2351.81 728.024 2349.94 728.441 Q2348.08 728.858 2346.14 729.737 L2346.14 712.376 Z\" fill=\"#000000\" fill-rule=\"nonzero\" fill-opacity=\"1\" /><path clip-path=\"url(#clip730)\" d=\"M2269.43 491.947 L2277.07 491.947 L2277.07 465.581 L2268.76 467.248 L2268.76 462.988 L2277.02 461.322 L2281.7 461.322 L2281.7 491.947 L2289.33 491.947 L2289.33 495.882 L2269.43 495.882 L2269.43 491.947 Z\" fill=\"#000000\" fill-rule=\"nonzero\" fill-opacity=\"1\" /><path clip-path=\"url(#clip730)\" d=\"M2298.78 490.002 L2303.66 490.002 L2303.66 495.882 L2298.78 495.882 L2298.78 490.002 Z\" fill=\"#000000\" fill-rule=\"nonzero\" fill-opacity=\"1\" /><path clip-path=\"url(#clip730)\" d=\"M2323.85 464.4 Q2320.24 464.4 2318.41 467.965 Q2316.6 471.507 2316.6 478.637 Q2316.6 485.743 2318.41 489.308 Q2320.24 492.849 2323.85 492.849 Q2327.48 492.849 2329.29 489.308 Q2331.12 485.743 2331.12 478.637 Q2331.12 471.507 2329.29 467.965 Q2327.48 464.4 2323.85 464.4 M2323.85 460.697 Q2329.66 460.697 2332.71 465.303 Q2335.79 469.887 2335.79 478.637 Q2335.79 487.363 2332.71 491.97 Q2329.66 496.553 2323.85 496.553 Q2318.04 496.553 2314.96 491.97 Q2311.9 487.363 2311.9 478.637 Q2311.9 469.887 2314.96 465.303 Q2318.04 460.697 2323.85 460.697 Z\" fill=\"#000000\" fill-rule=\"nonzero\" fill-opacity=\"1\" /><path clip-path=\"url(#clip730)\" d=\"M2354.01 464.4 Q2350.4 464.4 2348.57 467.965 Q2346.76 471.507 2346.76 478.637 Q2346.76 485.743 2348.57 489.308 Q2350.4 492.849 2354.01 492.849 Q2357.64 492.849 2359.45 489.308 Q2361.28 485.743 2361.28 478.637 Q2361.28 471.507 2359.45 467.965 Q2357.64 464.4 2354.01 464.4 M2354.01 460.697 Q2359.82 460.697 2362.88 465.303 Q2365.95 469.887 2365.95 478.637 Q2365.95 487.363 2362.88 491.97 Q2359.82 496.553 2354.01 496.553 Q2348.2 496.553 2345.12 491.97 Q2342.07 487.363 2342.07 478.637 Q2342.07 469.887 2345.12 465.303 Q2348.2 460.697 2354.01 460.697 Z\" fill=\"#000000\" fill-rule=\"nonzero\" fill-opacity=\"1\" /><path clip-path=\"url(#clip730)\" d=\"M2269.43 240.892 L2277.07 240.892 L2277.07 214.527 L2268.76 216.193 L2268.76 211.934 L2277.02 210.267 L2281.7 210.267 L2281.7 240.892 L2289.33 240.892 L2289.33 244.827 L2269.43 244.827 L2269.43 240.892 Z\" fill=\"#000000\" fill-rule=\"nonzero\" fill-opacity=\"1\" /><path clip-path=\"url(#clip730)\" d=\"M2298.78 238.948 L2303.66 238.948 L2303.66 244.827 L2298.78 244.827 L2298.78 238.948 Z\" fill=\"#000000\" fill-rule=\"nonzero\" fill-opacity=\"1\" /><path clip-path=\"url(#clip730)\" d=\"M2317.88 240.892 L2334.2 240.892 L2334.2 244.827 L2312.25 244.827 L2312.25 240.892 Q2314.91 238.138 2319.5 233.508 Q2324.1 228.855 2325.28 227.513 Q2327.53 224.99 2328.41 223.254 Q2329.31 221.494 2329.31 219.804 Q2329.31 217.05 2327.37 215.314 Q2325.45 213.578 2322.34 213.578 Q2320.14 213.578 2317.69 214.342 Q2315.26 215.105 2312.48 216.656 L2312.48 211.934 Q2315.31 210.8 2317.76 210.221 Q2320.21 209.642 2322.25 209.642 Q2327.62 209.642 2330.82 212.328 Q2334.01 215.013 2334.01 219.504 Q2334.01 221.633 2333.2 223.554 Q2332.41 225.453 2330.31 228.045 Q2329.73 228.716 2326.63 231.934 Q2323.52 235.128 2317.88 240.892 Z\" fill=\"#000000\" fill-rule=\"nonzero\" fill-opacity=\"1\" /><path clip-path=\"url(#clip730)\" d=\"M2344.06 210.267 L2362.41 210.267 L2362.41 214.203 L2348.34 214.203 L2348.34 222.675 Q2349.36 222.328 2350.38 222.166 Q2351.39 221.98 2352.41 221.98 Q2358.2 221.98 2361.58 225.152 Q2364.96 228.323 2364.96 233.74 Q2364.96 239.318 2361.49 242.42 Q2358.01 245.499 2351.7 245.499 Q2349.52 245.499 2347.25 245.128 Q2345.01 244.758 2342.6 244.017 L2342.6 239.318 Q2344.68 240.452 2346.9 241.008 Q2349.13 241.564 2351.6 241.564 Q2355.61 241.564 2357.95 239.457 Q2360.28 237.351 2360.28 233.74 Q2360.28 230.128 2357.95 228.022 Q2355.61 225.916 2351.6 225.916 Q2349.73 225.916 2347.85 226.332 Q2346 226.749 2344.06 227.628 L2344.06 210.267 Z\" fill=\"#000000\" fill-rule=\"nonzero\" fill-opacity=\"1\" /><polyline clip-path=\"url(#clip730)\" style=\"stroke:#000000; stroke-linecap:round; stroke-linejoin:round; stroke-width:4; stroke-opacity:1; fill:none\" points=\"2232.76,1486.45 2232.76,1486.45 2256.76,1486.45 2232.76,1486.45 2232.76,1235.39 2256.76,1235.39 2232.76,1235.39 2232.76,984.339 2256.76,984.339 2232.76,984.339 2232.76,733.285 2256.76,733.285 2232.76,733.285 2232.76,482.231 2256.76,482.231 2232.76,482.231 2232.76,231.176 2256.76,231.176 2232.76,231.176 2232.76,47.2441 \"/>\n",
       "</svg>\n"
      ]
     },
     "metadata": {},
     "output_type": "display_data"
    }
   ],
   "source": [
    "using Plots, LinearAlgebra\n",
    "using DelimitedFiles\n",
    "using Distances\n",
    "# read matrix from csv file\n",
    "m = readdlm(\"../../results/cpprofilesALL.csv\", ',', Float64)\n",
    "# h = heatmap(m)\n",
    "mm = pairwise(Euclidean(), m')\n",
    "h = heatmap(mm)"
   ]
  },
  {
   "cell_type": "code",
   "execution_count": null,
   "metadata": {},
   "outputs": [],
   "source": [
    "for i in 1:20\n",
    "    # g = build_hg(\"../../hgs/apl.hg\")\n",
    "    \n",
    "    println(\"building hg for tag: \"*my_tags_so[i])\n",
    "    g = build_hg(\"../../hgs/\"*my_tags_so[i]*\".hg\")\n",
    "\n",
    "    num_nodes = nhv(g[1])\n",
    "    num_edges = nhe(g[1])\n",
    "    println(\"Number of nodes: $num_nodes\")\n",
    "    println(\"Number of edges: $num_edges\")\n",
    "    flush(stdout)\n",
    "\n",
    "    ccs = SimpleHypergraphs.get_connected_components(g[1])\n",
    "    ccs = sort(ccs, by=length, rev=true)\n",
    "    # distribution of component sizes\n",
    "    ccs_len = length.(ccs)\n"
   ]
  },
  {
   "cell_type": "code",
   "execution_count": null,
   "metadata": {},
   "outputs": [],
   "source": [
    "using PyPlot\n",
    "\n",
    "for i in 1:20\n",
    "    # g = build_hg(\"../../hgs/apl.hg\")\n",
    "    \n",
    "    println(\"building hg for tag: \"*my_tags_so[i])\n",
    "    g = build_hg(\"../../hgs/\"*my_tags_so[i]*\".hg\")\n",
    "\n",
    "    dict_degree = DevCommunities.degree_histogram(g[1], normalized=true)\n",
    "    # bar plot of the degree distribution\n",
    "    fig,axs = subplots()\n",
    "    axs.bar(collect(keys(dict_degree)), collect(values(dict_degree)), color=\"red\")\n",
    "    gcf()\n",
    "\n"
   ]
  }
 ],
 "metadata": {
  "kernelspec": {
   "display_name": "Julia 1.8.3",
   "language": "julia",
   "name": "julia-1.8"
  },
  "language_info": {
   "file_extension": ".jl",
   "mimetype": "application/julia",
   "name": "julia",
   "version": "1.8.3"
  },
  "orig_nbformat": 4
 },
 "nbformat": 4,
 "nbformat_minor": 2
}
