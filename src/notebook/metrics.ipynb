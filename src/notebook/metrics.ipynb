{
 "cells": [
  {
   "cell_type": "code",
   "execution_count": 8,
   "metadata": {},
   "outputs": [
    {
     "data": {
      "text/plain": [
       "20-element Vector{String}:\n",
       " \"apl\"\n",
       " \"bash\"\n",
       " \"c#\"\n",
       " \"clojure\"\n",
       " \"dart\"\n",
       " \"delphi\"\n",
       " \"elixir\"\n",
       " \"f#\"\n",
       " \"go\"\n",
       " \"html\"\n",
       " \"javascript\"\n",
       " \"julia\"\n",
       " \"kotlin\"\n",
       " \"lisp\"\n",
       " \"python\"\n",
       " \"rust\"\n",
       " \"solidity\"\n",
       " \"sql\"\n",
       " \"swift\"\n",
       " \"typescript\""
      ]
     },
     "metadata": {},
     "output_type": "display_data"
    }
   ],
   "source": [
    "using Pkg\n",
    "# Pkg.update()\n",
    "Pkg.instantiate()\n",
    "\n",
    "using DevCommunities\n",
    "using SimpleHypergraphs\n",
    "using StatsBase\n",
    "\n",
    "# g = build_hg(\"../../hgs/apl.hg\")\n",
    "# num_nodes = nhv(g[1])\n",
    "# num_edges = nhe(g[1])\n",
    "# println(\"Number of nodes: $num_nodes\")\n",
    "# println(\"Number of edges: $num_edges\")\n",
    "\n",
    "my_tags_so = [\"rust\" ,\"elixir\",\"clojure\", \"typescript\" ,\"julia\", \"python\", \"delphi\", \"go\" ,\"sql\", \"c#\" ,\"kotlin\", \"swift\" ,\"dart\" ,\"html\", \"solidity\", \"javascript\", \"f#\", \"bash\" ,\"lisp\", \"apl\"]\n",
    "# order by lexigraphical order\n",
    "my_tags_so = sort(my_tags_so)"
   ]
  },
  {
   "cell_type": "code",
   "execution_count": 10,
   "metadata": {},
   "outputs": [
    {
     "data": {
      "text/plain": [
       "build_hg_randoms (generic function with 1 method)"
      ]
     },
     "metadata": {},
     "output_type": "display_data"
    }
   ],
   "source": [
    "function build_hg_randoms(path)\n",
    "\n",
    "    nodes = Dict{Int,Int}()\n",
    "    degree_nodes = Dict{Int,Int}()\n",
    "    nodes_per_edge = Dict{Int,Vector{Int}}()\n",
    "\n",
    "    print(nodes)\n",
    "    hg = Hypergraph(0,0)\n",
    "    for line in eachline(path)\n",
    "        # split elemnts of the line by comma\n",
    "        d = split(line, \",\")\n",
    "        vs = map(x -> parse(Int,(strip(replace(x, r\"\\[|\\]\" => \"\")))), d)\n",
    "        for v in vs\n",
    "            if !haskey(nodes, v)\n",
    "                v_id = SimpleHypergraphs.add_vertex!(hg)\n",
    "                push!(nodes, v=>v_id)\n",
    "            end\n",
    "        end\n",
    "        # add he \n",
    "        vertices = Dict{Int, Bool}(nodes[v] => true for v in vs)\n",
    "\n",
    "        # count degree of each node\n",
    "        for v in vs\n",
    "            if !haskey(degree_nodes, v)\n",
    "                degree_nodes[v] = 0\n",
    "            end\n",
    "            degree_nodes[v] += 1\n",
    "        end\n",
    "        \n",
    "        he_id = SimpleHypergraphs.add_hyperedge!(hg; vertices = vertices)\n",
    "        push!(nodes_per_edge, he_id => vs)  \n",
    "    end\n",
    "\n",
    "    sum_degree_nodes = sum(values(degree_nodes))\n",
    "    sum_degree_edges = sum(values(length(nodes_per_edge)))\n",
    "\n",
    "    function prob_nodes(v)\n",
    "        return degree_nodes[v]/sum_degree_nodes\n",
    "    end\n",
    "\n",
    "    function prob_edges(e)\n",
    "        return length(nodes_per_edge[e])/sum_degree_edges\n",
    "    end\n",
    "\n",
    "    random_nodes_probs = Dict{Int,Float64}()\n",
    "    random_edges_probs = Dict{Int,Float64}()\n",
    "\n",
    "    for key in keys(nodes)\n",
    "        pr = prob_nodes(key)\n",
    "        random_nodes_probs[key] = pr\n",
    "    end\n",
    "\n",
    "    for key in keys(nodes_per_edge)\n",
    "        pr = prob_edges(key)\n",
    "        random_edges_probs[key] = pr\n",
    "    end\n",
    "\n",
    "    random_nodes = Dict{Int,Int}()\n",
    "    random_nodes_per_edge = Dict{Int,Vector{Int}}()\n",
    "\n",
    "    random_hg = Hypergraph(0,0)\n",
    "\n",
    "    rnp = collect(keys(sort(random_nodes_probs)))\n",
    "    rnp_weights = pweights(ProbabilityWeights(collect(values(sort(random_nodes_probs)))))\n",
    "    rep = collect(keys(sort(random_edges_probs)))\n",
    "    rep_weights = pweights(ProbabilityWeights(collect(values(sort(random_edges_probs)))))\n",
    "\n",
    "    for i in 1:sum_degree_nodes\n",
    "        v = sample(rnp, rnp_weights)\n",
    "        e = sample(rep, rep_weights)\n",
    "\n",
    "        if !haskey(random_nodes, v)\n",
    "            v_id = SimpleHypergraphs.add_vertex!(random_hg)\n",
    "            push!(random_nodes, v=>v_id)\n",
    "        end\n",
    "\n",
    "        if !haskey(random_nodes_per_edge, e)\n",
    "            random_nodes_per_edge[e] = []\n",
    "        end\n",
    "        random_nodes_per_edge[e] = push!(random_nodes_per_edge[e], v)        \n",
    "    end\n",
    "\n",
    "    for key in keys(random_nodes_per_edge)\n",
    "        vertices = Dict{Int, Bool}(random_nodes[v] => true for v in random_nodes_per_edge[key])\n",
    "        he_id = SimpleHypergraphs.add_hyperedge!(random_hg; vertices = vertices)\n",
    "    end\n",
    "\n",
    "    return random_hg\n",
    "end"
   ]
  },
  {
   "cell_type": "code",
   "execution_count": null,
   "metadata": {},
   "outputs": [],
   "source": [
    "\n",
    "rg = build_hg_randoms(\"../../hgs/apl.hg\")\n",
    "hg_save(\"../../randoms/randomPIPE\", rg)\n",
    "\n",
    "# open file\n",
    "r1 = open(\"../../randoms/randomPIPE\")\n",
    "# substitue in each line \"=true\" with \",\"\n",
    "run(`sed -i '' 's/=true/,/g' ../../randoms/randomPIPE`)\n",
    "# remove first line\n",
    "run(`sed -i '' '1d' ../../randoms/randomPIPE`)\n",
    "# hash and rewriting id\n",
    "run(`python3 rewrite.py ../../randoms/randomPIPE 1`)\n",
    "\n",
    "run(`bash orb.sh`)\n",
    "\n",
    "\n",
    "# println(nhv(random_hg))\n",
    "# println(nhe(random_hg))\n",
    "# hg_save(\"../../randoms/realRandom\", random_hg)\n"
   ]
  },
  {
   "cell_type": "code",
   "execution_count": null,
   "metadata": {},
   "outputs": [],
   "source": [
    " # open file\n",
    " r1 = open(\"../../randoms/realRandom\")\n",
    " # substitue in each line \"=true\" with \",\"\n",
    " run(`sed -i '' 's/=true/,/g' ../../randoms/realRandom`)\n",
    " # remove first line\n",
    " run(`sed -i '' '1d' ../../randoms/realRandom`)\n",
    " # hash and rewriting id\n",
    " run(`python3 rewrite.py ../../randoms/realRandom 1`)\n",
    " close(r1)"
   ]
  },
  {
   "cell_type": "code",
   "execution_count": 11,
   "metadata": {},
   "outputs": [
    {
     "name": "stdout",
     "output_type": "stream",
     "text": [
      "building hg for tag: apl\n",
      "Number of nodes: 1341\n",
      "Number of edges: 1136\n"
     ]
    },
    {
     "name": "stdout",
     "output_type": "stream",
     "text": [
      "Dict{Int64, Int64}()"
     ]
    },
    {
     "name": "stdout",
     "output_type": "stream",
     "text": [
      "done with random model 1\n"
     ]
    },
    {
     "name": "stdout",
     "output_type": "stream",
     "text": [
      "Dict{Int64, Int64}()"
     ]
    },
    {
     "name": "stdout",
     "output_type": "stream",
     "text": [
      "done with random model 2\n"
     ]
    },
    {
     "name": "stdout",
     "output_type": "stream",
     "text": [
      "Dict{Int64, Int64}()"
     ]
    },
    {
     "name": "stdout",
     "output_type": "stream",
     "text": [
      "done with random model 3\n"
     ]
    },
    {
     "name": "stdout",
     "output_type": "stream",
     "text": [
      "Dict{Int64, Int64}()"
     ]
    },
    {
     "name": "stdout",
     "output_type": "stream",
     "text": [
      "done with random model 4\n"
     ]
    },
    {
     "name": "stdout",
     "output_type": "stream",
     "text": [
      "Dict{Int64, Int64}()"
     ]
    },
    {
     "name": "stdout",
     "output_type": "stream",
     "text": [
      "done with random model 5\n"
     ]
    },
    {
     "name": "stdout",
     "output_type": "stream",
     "text": [
      "[153671, 272179, 947, 2808, 5329, 16939, 0, 8, 5, 86, 25, 261, 0, 0, 1, 2, 0, 0, 3252, 16199, 15320, 92331, 0, 18, 165, 419]\n",
      "building hg for tag: bash\n",
      "Number of nodes: 18484\n",
      "Number of edges: 17540\n"
     ]
    },
    {
     "name": "stdout",
     "output_type": "stream",
     "text": [
      "Dict{Int64, Int64}()"
     ]
    },
    {
     "name": "stdout",
     "output_type": "stream",
     "text": [
      "done with random model 1\n"
     ]
    },
    {
     "name": "stdout",
     "output_type": "stream",
     "text": [
      "Dict{Int64, Int64}()"
     ]
    },
    {
     "name": "stdout",
     "output_type": "stream",
     "text": [
      "done with random model 2\n"
     ]
    },
    {
     "name": "stdout",
     "output_type": "stream",
     "text": [
      "Dict{Int64, Int64}()"
     ]
    },
    {
     "name": "stdout",
     "output_type": "stream",
     "text": [
      "done with random model 3\n"
     ]
    },
    {
     "name": "stdout",
     "output_type": "stream",
     "text": [
      "Dict{Int64, Int64}()"
     ]
    },
    {
     "name": "stdout",
     "output_type": "stream",
     "text": [
      "done with random model 4\n"
     ]
    },
    {
     "name": "stdout",
     "output_type": "stream",
     "text": [
      "Dict{Int64, Int64}()"
     ]
    },
    {
     "name": "stdout",
     "output_type": "stream",
     "text": [
      "done with random model 5\n"
     ]
    },
    {
     "name": "stdout",
     "output_type": "stream",
     "text": [
      "[31844146, 85084623, 68422, 339600, 702140, 3763084, 17, 341, 732, 8925, 4094, 63253, 0, 9, 53, 313, 0, 0, 1443003, 13133531, 9859064, 109687666, 0, 4975, 91150, 503942]\n",
      "building hg for tag: c#\n",
      "Number of nodes: 81360"
     ]
    },
    {
     "name": "stdout",
     "output_type": "stream",
     "text": [
      "\n",
      "Number of edges: 102199\n"
     ]
    },
    {
     "name": "stdout",
     "output_type": "stream",
     "text": [
      "Dict{Int64, Int64}()"
     ]
    },
    {
     "name": "stdout",
     "output_type": "stream",
     "text": [
      "done with random model 1\n"
     ]
    },
    {
     "name": "stdout",
     "output_type": "stream",
     "text": [
      "Dict{Int64, Int64}()"
     ]
    },
    {
     "name": "stdout",
     "output_type": "stream",
     "text": [
      "done with random model 2\n"
     ]
    },
    {
     "name": "stdout",
     "output_type": "stream",
     "text": [
      "Dict{Int64, Int64}()"
     ]
    },
    {
     "name": "stdout",
     "output_type": "stream",
     "text": [
      "done with random model 3\n"
     ]
    },
    {
     "name": "stdout",
     "output_type": "stream",
     "text": [
      "Dict{Int64, Int64}()"
     ]
    },
    {
     "name": "stdout",
     "output_type": "stream",
     "text": [
      "done with random model 4\n"
     ]
    },
    {
     "name": "stdout",
     "output_type": "stream",
     "text": [
      "Dict{Int64, Int64}()"
     ]
    },
    {
     "name": "stdout",
     "output_type": "stream",
     "text": [
      "done with random model 5\n"
     ]
    },
    {
     "name": "stdout",
     "output_type": "stream",
     "text": [
      "[651463655, 1498253742, 229633, 938897, 1702107, 7162751, 102, 151, 302, 3185, 752, 15874, 0, 0, 0, 0, 0, 0, 6769743, 48311079, 41094540, 333941166, 0, 2053, 38748, 168703]\n",
      "building hg for tag: clojure\n",
      "Number of nodes: 694\n",
      "Number of edges: 915\n"
     ]
    },
    {
     "name": "stdout",
     "output_type": "stream",
     "text": [
      "Dict{Int64, Int64}()"
     ]
    },
    {
     "name": "stdout",
     "output_type": "stream",
     "text": [
      "done with random model 1\n"
     ]
    },
    {
     "name": "stdout",
     "output_type": "stream",
     "text": [
      "Dict{Int64, Int64}()"
     ]
    },
    {
     "name": "stdout",
     "output_type": "stream",
     "text": [
      "done with random model 2\n"
     ]
    },
    {
     "name": "stdout",
     "output_type": "stream",
     "text": [
      "Dict{Int64, Int64}()"
     ]
    },
    {
     "name": "stdout",
     "output_type": "stream",
     "text": [
      "done with random model 3\n"
     ]
    },
    {
     "name": "stdout",
     "output_type": "stream",
     "text": [
      "Dict{Int64, Int64}()"
     ]
    },
    {
     "name": "stdout",
     "output_type": "stream",
     "text": [
      "done with random model 4\n"
     ]
    },
    {
     "name": "stdout",
     "output_type": "stream",
     "text": [
      "Dict{Int64, Int64}("
     ]
    },
    {
     "name": "stdout",
     "output_type": "stream",
     "text": [
      ")"
     ]
    },
    {
     "name": "stdout",
     "output_type": "stream",
     "text": [
      "done with random model 5\n"
     ]
    },
    {
     "name": "stdout",
     "output_type": "stream",
     "text": [
      "[141302, 318769, 2019, 7231, 15534, 57981, 3, 72, 86, 829, 401, 3451, 0, 3, 20, 75, 0, 0, 10445, 64685, 49858, 414869, 0, 148, 1883, 7138]\n",
      "building hg for tag: dart\n",
      "Number of nodes: 23448"
     ]
    },
    {
     "name": "stdout",
     "output_type": "stream",
     "text": [
      "\n",
      "Number of edges: 32499\n"
     ]
    },
    {
     "name": "stdout",
     "output_type": "stream",
     "text": [
      "Dict{Int64, Int64}()"
     ]
    },
    {
     "name": "stdout",
     "output_type": "stream",
     "text": [
      "done with random model 1\n"
     ]
    },
    {
     "name": "stdout",
     "output_type": "stream",
     "text": [
      "Dict{Int64, Int64}()"
     ]
    },
    {
     "name": "stdout",
     "output_type": "stream",
     "text": [
      "done with random model 2\n"
     ]
    },
    {
     "name": "stdout",
     "output_type": "stream",
     "text": [
      "Dict{Int64, Int64}()"
     ]
    },
    {
     "name": "stdout",
     "output_type": "stream",
     "text": [
      "done with random model 3\n"
     ]
    },
    {
     "name": "stdout",
     "output_type": "stream",
     "text": [
      "Dict{Int64, Int64}()"
     ]
    },
    {
     "name": "stdout",
     "output_type": "stream",
     "text": [
      "done with random model 4\n"
     ]
    },
    {
     "name": "stdout",
     "output_type": "stream",
     "text": [
      "Dict{Int64, Int64}()"
     ]
    },
    {
     "name": "stdout",
     "output_type": "stream",
     "text": [
      "done with random model 5\n"
     ]
    },
    {
     "name": "stdout",
     "output_type": "stream",
     "text": [
      "[98816921, 274164044, 61129, 345523, 529654, 3001592, 0, 71, 333, 1637, 857, 12918, 0, 0, 0, 12, 0, 0, 893564, 8203451, 6678661, 68506737, 0, 741, 12165, 68120]\n",
      "building hg for tag: delphi\n",
      "Number of nodes: 1803\n",
      "Number of edges: 2673\n"
     ]
    },
    {
     "name": "stdout",
     "output_type": "stream",
     "text": [
      "Dict{Int64, Int64}()"
     ]
    },
    {
     "name": "stdout",
     "output_type": "stream",
     "text": [
      "done with random model 1\n"
     ]
    },
    {
     "name": "stdout",
     "output_type": "stream",
     "text": [
      "Dict{Int64, Int64}()"
     ]
    },
    {
     "name": "stdout",
     "output_type": "stream",
     "text": [
      "done with random model 2\n"
     ]
    },
    {
     "name": "stdout",
     "output_type": "stream",
     "text": [
      "Dict{Int64, Int64}()"
     ]
    },
    {
     "name": "stdout",
     "output_type": "stream",
     "text": [
      "done with random model 3\n"
     ]
    },
    {
     "name": "stdout",
     "output_type": "stream",
     "text": [
      "Dict{Int64, Int64}()"
     ]
    },
    {
     "name": "stdout",
     "output_type": "stream",
     "text": [
      "done with random model 4\n"
     ]
    },
    {
     "name": "stdout",
     "output_type": "stream",
     "text": [
      "Dict{Int64, Int64}()"
     ]
    },
    {
     "name": "stdout",
     "output_type": "stream",
     "text": [
      "done with random model 5\n"
     ]
    },
    {
     "name": "stdout",
     "output_type": "stream",
     "text": [
      "[3814027, 5055938, 41855, 84532, 206902, 421658, 67, 316, 683, 3138, 1372, 8549, 0, 3, 23, 53, 0, 0, 130533, 581307, 516042, 2467106, 0, 752, 6430, 14821]\n",
      "building hg for tag: elixir\n",
      "Number of nodes: 810\n",
      "Number of edges: 972\n"
     ]
    },
    {
     "name": "stdout",
     "output_type": "stream",
     "text": [
      "Dict{Int64, Int64}()"
     ]
    },
    {
     "name": "stdout",
     "output_type": "stream",
     "text": [
      "done with random model 1\n"
     ]
    },
    {
     "name": "stdout",
     "output_type": "stream",
     "text": [
      "Dict{Int64, Int64}()"
     ]
    },
    {
     "name": "stdout",
     "output_type": "stream",
     "text": [
      "done with random model 2\n"
     ]
    },
    {
     "name": "stdout",
     "output_type": "stream",
     "text": [
      "Dict{Int64, Int64}()"
     ]
    },
    {
     "name": "stdout",
     "output_type": "stream",
     "text": [
      "done with random model 3\n"
     ]
    },
    {
     "name": "stdout",
     "output_type": "stream",
     "text": [
      "Dict{Int64, Int64}()"
     ]
    },
    {
     "name": "stdout",
     "output_type": "stream",
     "text": [
      "done with random model 4\n"
     ]
    },
    {
     "name": "stdout",
     "output_type": "stream",
     "text": [
      "Dict{Int64, Int64}()"
     ]
    },
    {
     "name": "stdout",
     "output_type": "stream",
     "text": [
      "done with random model 5\n"
     ]
    },
    {
     "name": "stdout",
     "output_type": "stream",
     "text": [
      "[402116, 524979, 4442, 14524, 21637, 68101, 10, 55, 124, 794, 366, 2572, 0, 2, 9, 31, 0, 0, 10967, 65231, 44446, 300299, 0, 115, 1269, 3512]\n",
      "building hg for tag: f#\n",
      "Number of nodes: 822\n",
      "Number of edges: 1347\n"
     ]
    },
    {
     "name": "stdout",
     "output_type": "stream",
     "text": [
      "Dict{Int64, Int64}()"
     ]
    },
    {
     "name": "stdout",
     "output_type": "stream",
     "text": [
      "done with random model 1\n"
     ]
    },
    {
     "name": "stdout",
     "output_type": "stream",
     "text": [
      "Dict{Int64, Int64}()"
     ]
    },
    {
     "name": "stdout",
     "output_type": "stream",
     "text": [
      "done with random model 2\n"
     ]
    },
    {
     "name": "stdout",
     "output_type": "stream",
     "text": [
      "Dict{Int64, Int64}()"
     ]
    },
    {
     "name": "stdout",
     "output_type": "stream",
     "text": [
      "done with random model 3\n"
     ]
    },
    {
     "name": "stdout",
     "output_type": "stream",
     "text": [
      "Dict{Int64, Int64}()"
     ]
    },
    {
     "name": "stdout",
     "output_type": "stream",
     "text": [
      "done with random model 4\n"
     ]
    },
    {
     "name": "stdout",
     "output_type": "stream",
     "text": [
      "Dict{Int64, Int64}()"
     ]
    },
    {
     "name": "stdout",
     "output_type": "stream",
     "text": [
      "done with random model 5\n"
     ]
    },
    {
     "name": "stdout",
     "output_type": "stream",
     "text": [
      "[1092956, 1585705, 19869, 52481, 96711, 247805, 40, 288, 489, 3760, 1468, 10344, 1, 5, 71, 123, 0, 0, 50617, 250352, 195685, 1112194, 0, 602, 5514, 13892]\n",
      "building hg for tag: go\n",
      "Number of nodes: 78704"
     ]
    },
    {
     "name": "stdout",
     "output_type": "stream",
     "text": [
      "\n",
      "Number of edges: 76050\n"
     ]
    },
    {
     "name": "stdout",
     "output_type": "stream",
     "text": [
      "Dict{Int64, Int64}()"
     ]
    },
    {
     "name": "stdout",
     "output_type": "stream",
     "text": [
      "done with random model 1\n"
     ]
    },
    {
     "name": "stdout",
     "output_type": "stream",
     "text": [
      "Dict{Int64, Int64}()"
     ]
    },
    {
     "name": "stdout",
     "output_type": "stream",
     "text": [
      "done with random model 2\n"
     ]
    },
    {
     "name": "stdout",
     "output_type": "stream",
     "text": [
      "Dict{Int64, Int64}()"
     ]
    },
    {
     "name": "stdout",
     "output_type": "stream",
     "text": [
      "done with random model 3\n"
     ]
    },
    {
     "name": "stdout",
     "output_type": "stream",
     "text": [
      "Dict{Int64, Int64}()"
     ]
    },
    {
     "name": "stdout",
     "output_type": "stream",
     "text": [
      "done with random model 4\n"
     ]
    },
    {
     "name": "stdout",
     "output_type": "stream",
     "text": [
      "Dict{Int64, Int64}()"
     ]
    },
    {
     "name": "stdout",
     "output_type": "stream",
     "text": [
      "done with random model 5\n"
     ]
    },
    {
     "name": "stdout",
     "output_type": "stream",
     "text": [
      "[536819329, 1270170935, 205515, 661463, 1459227, 4942654, 0, 131, 33, 1573, 568, 4954, 0, 0, 0, 0, 0, 0, 2166885, 17640048, 13933536, 122467499, 0, 292, 11110, 47280]\n",
      "building hg for tag: html\n",
      "Number of nodes: 122961"
     ]
    },
    {
     "name": "stdout",
     "output_type": "stream",
     "text": [
      "\n",
      "Number of edges: 113988\n"
     ]
    },
    {
     "name": "stdout",
     "output_type": "stream",
     "text": [
      "Dict{Int64, Int64}()"
     ]
    },
    {
     "name": "stdout",
     "output_type": "stream",
     "text": [
      "done with random model 1\n"
     ]
    },
    {
     "name": "stdout",
     "output_type": "stream",
     "text": [
      "Dict{Int64, Int64}()"
     ]
    },
    {
     "name": "stdout",
     "output_type": "stream",
     "text": [
      "done with random model 2\n"
     ]
    },
    {
     "name": "stdout",
     "output_type": "stream",
     "text": [
      "Dict{Int64, Int64}()"
     ]
    },
    {
     "name": "stdout",
     "output_type": "stream",
     "text": [
      "done with random model 3\n"
     ]
    },
    {
     "name": "stdout",
     "output_type": "stream",
     "text": [
      "Dict{Int64, Int64}()"
     ]
    },
    {
     "name": "stdout",
     "output_type": "stream",
     "text": [
      "done with random model 4\n"
     ]
    },
    {
     "name": "stdout",
     "output_type": "stream",
     "text": [
      "Dict{Int64, Int64}()"
     ]
    },
    {
     "name": "stdout",
     "output_type": "stream",
     "text": [
      "done with random model 5\n"
     ]
    },
    {
     "name": "stdout",
     "output_type": "stream",
     "text": [
      "[206853338, 581252202, 29710, 188467, 280389, 1709110, 0, 91, 0, 634, 0, 1724, 0, 0, 0, 0, 0, 0, 1385416, 14969753, 10903737, 127803204, 0, 211, 5382, 31136]\n",
      "building hg for tag: javascript\n",
      "Number of nodes: 227390"
     ]
    },
    {
     "name": "stdout",
     "output_type": "stream",
     "text": [
      "\n",
      "Number of edges: 279061\n"
     ]
    },
    {
     "name": "stdout",
     "output_type": "stream",
     "text": [
      "Dict{Int64, Int64}()"
     ]
    },
    {
     "name": "stdout",
     "output_type": "stream",
     "text": [
      "done with random model 1\n"
     ]
    },
    {
     "name": "stdout",
     "output_type": "stream",
     "text": [
      "Dict{Int64, Int64}()"
     ]
    },
    {
     "name": "stdout",
     "output_type": "stream",
     "text": [
      "done with random model 2\n"
     ]
    },
    {
     "name": "stdout",
     "output_type": "stream",
     "text": [
      "Dict{Int64, Int64}()"
     ]
    },
    {
     "name": "stdout",
     "output_type": "stream",
     "text": [
      "done with random model 3\n"
     ]
    },
    {
     "name": "stdout",
     "output_type": "stream",
     "text": [
      "Dict{Int64, Int64}()"
     ]
    },
    {
     "name": "stdout",
     "output_type": "stream",
     "text": [
      "done with random model 4\n"
     ]
    },
    {
     "name": "stdout",
     "output_type": "stream",
     "text": [
      "Dict{Int64, Int64}()"
     ]
    },
    {
     "name": "stdout",
     "output_type": "stream",
     "text": [
      "done with random model 5\n"
     ]
    },
    {
     "name": "stdout",
     "output_type": "stream",
     "text": [
      "[2806654584, 7478612687, 473860, 2107476, 3992954, 18924320, 0, 176, 178, 3764, 1437, 18070, 0, 0, 0, 0, 0, 0, 23119784, 212251901, 167446477, 1743211963, 0, 5172, 88230, 472182]\n",
      "building hg for tag: julia\n",
      "Number of nodes: 1945\n",
      "Number of edges: 3214\n"
     ]
    },
    {
     "name": "stdout",
     "output_type": "stream",
     "text": [
      "Dict{Int64, Int64}()"
     ]
    },
    {
     "name": "stdout",
     "output_type": "stream",
     "text": [
      "done with random model 1\n"
     ]
    },
    {
     "name": "stdout",
     "output_type": "stream",
     "text": [
      "Dict{Int64, Int64}()"
     ]
    },
    {
     "name": "stdout",
     "output_type": "stream",
     "text": [
      "done with random model 2\n"
     ]
    },
    {
     "name": "stdout",
     "output_type": "stream",
     "text": [
      "Dict{Int64, Int64}()"
     ]
    },
    {
     "name": "stdout",
     "output_type": "stream",
     "text": [
      "done with random model 3\n"
     ]
    },
    {
     "name": "stdout",
     "output_type": "stream",
     "text": [
      "Dict{Int64, Int64}()"
     ]
    },
    {
     "name": "stdout",
     "output_type": "stream",
     "text": [
      "done with random model 4\n"
     ]
    },
    {
     "name": "stdout",
     "output_type": "stream",
     "text": [
      "Dict{Int64, Int64}()"
     ]
    },
    {
     "name": "stdout",
     "output_type": "stream",
     "text": [
      "done with random model 5\n"
     ]
    },
    {
     "name": "stdout",
     "output_type": "stream",
     "text": [
      "[8895788, 15432729, 120847, 337908, 664411, 1866812, 190, 1447, 2621, 18629, 8545, 58526, 4, 30, 240, 620, 0, 0, 252287, 1499227, 1181897, 7893934, 0, 1862, 22517, 68873]\n",
      "building hg for tag: kotlin\n",
      "Number of nodes: 22706"
     ]
    },
    {
     "name": "stdout",
     "output_type": "stream",
     "text": [
      "\n",
      "Number of edges: 26508\n"
     ]
    },
    {
     "name": "stdout",
     "output_type": "stream",
     "text": [
      "Dict{Int64, Int64}()"
     ]
    },
    {
     "name": "stdout",
     "output_type": "stream",
     "text": [
      "done with random model 1\n"
     ]
    },
    {
     "name": "stdout",
     "output_type": "stream",
     "text": [
      "Dict{Int64, Int64}()"
     ]
    },
    {
     "name": "stdout",
     "output_type": "stream",
     "text": [
      "done with random model 2\n"
     ]
    },
    {
     "name": "stdout",
     "output_type": "stream",
     "text": [
      "Dict{Int64, Int64}()"
     ]
    },
    {
     "name": "stdout",
     "output_type": "stream",
     "text": [
      "done with random model 3\n"
     ]
    },
    {
     "name": "stdout",
     "output_type": "stream",
     "text": [
      "Dict{Int64, Int64}()"
     ]
    },
    {
     "name": "stdout",
     "output_type": "stream",
     "text": [
      "done with random model 4\n"
     ]
    },
    {
     "name": "stdout",
     "output_type": "stream",
     "text": [
      "Dict{Int64, Int64}()"
     ]
    },
    {
     "name": "stdout",
     "output_type": "stream",
     "text": [
      "done with random model 5\n"
     ]
    },
    {
     "name": "stdout",
     "output_type": "stream",
     "text": [
      "[96186546, 217988152, 77217, 333400, 572703, 2535070, 11, 150, 234, 1942, 761, 11686, 0, 0, 0, 0, 0, 0, 859220, 6340776, 5436627, 44037961, 0, 898, 12767, 54328]\n",
      "building hg for tag: lisp\n",
      "Number of nodes: 665\n",
      "Number of edges: 933\n"
     ]
    },
    {
     "name": "stdout",
     "output_type": "stream",
     "text": [
      "Dict{Int64, Int64}()"
     ]
    },
    {
     "name": "stdout",
     "output_type": "stream",
     "text": [
      "done with random model 1\n"
     ]
    },
    {
     "name": "stdout",
     "output_type": "stream",
     "text": [
      "Dict{Int64, Int64}()"
     ]
    },
    {
     "name": "stdout",
     "output_type": "stream",
     "text": [
      "done with random model 2\n"
     ]
    },
    {
     "name": "stdout",
     "output_type": "stream",
     "text": [
      "Dict{Int64, Int64}()"
     ]
    },
    {
     "name": "stdout",
     "output_type": "stream",
     "text": [
      "done with random model 3\n"
     ]
    },
    {
     "name": "stdout",
     "output_type": "stream",
     "text": [
      "Dict{Int64, Int64}()"
     ]
    },
    {
     "name": "stdout",
     "output_type": "stream",
     "text": [
      "done with random model 4\n"
     ]
    },
    {
     "name": "stdout",
     "output_type": "stream",
     "text": [
      "Dict{Int64, Int64}()"
     ]
    },
    {
     "name": "stdout",
     "output_type": "stream",
     "text": [
      "done with random model 5\n"
     ]
    },
    {
     "name": "stdout",
     "output_type": "stream",
     "text": [
      "[89141, 229537, 2147, 6992, 18686, 64066, 10, 72, 165, 1265, 636, 5142, 1, 5, 44, 123, 0, 0, 16991, 103507, 85123, 669728, 0, 338, 4219, 15170]\n",
      "building hg for tag: python\n",
      "Number of nodes: 295974"
     ]
    },
    {
     "name": "stdout",
     "output_type": "stream",
     "text": [
      "\n",
      "Number of edges: 431319\n"
     ]
    },
    {
     "name": "stdout",
     "output_type": "stream",
     "text": [
      "Dict{Int64, Int64}()"
     ]
    },
    {
     "name": "stdout",
     "output_type": "stream",
     "text": [
      "done with random model 1\n"
     ]
    },
    {
     "name": "stderr",
     "output_type": "stream",
     "text": [
      "run_approx_ver2_par.sh: line 2:  1247 Killed                  ./approx_ver2_par 10000 4 $1 > /Users/ddevin/Documents/vscode/DevCommunities/script_dump/dumpPIPE.txt\n"
     ]
    },
    {
     "name": "stdout",
     "output_type": "stream",
     "text": [
      "Dict{Int64, Int64}()"
     ]
    },
    {
     "name": "stdout",
     "output_type": "stream",
     "text": [
      "done with random model 2\n"
     ]
    },
    {
     "name": "stderr",
     "output_type": "stream",
     "text": [
      "run_approx_ver2_par.sh: line 2:  1260 Killed                  ./approx_ver2_par 10000 4 $1 > /Users/ddevin/Documents/vscode/DevCommunities/script_dump/dumpPIPE.txt\n"
     ]
    },
    {
     "name": "stdout",
     "output_type": "stream",
     "text": [
      "Dict{Int64, Int64}()"
     ]
    },
    {
     "name": "stdout",
     "output_type": "stream",
     "text": [
      "done with random model 3\n"
     ]
    },
    {
     "name": "stdout",
     "output_type": "stream",
     "text": [
      "Dict{Int64, Int64}()"
     ]
    },
    {
     "name": "stderr",
     "output_type": "stream",
     "text": [
      "run_approx_ver2_par.sh: line 2:  1273 Killed                  ./approx_ver2_par 10000 4 $1 > /Users/ddevin/Documents/vscode/DevCommunities/script_dump/dumpPIPE.txt\n"
     ]
    },
    {
     "name": "stdout",
     "output_type": "stream",
     "text": [
      "done with random model 4\n"
     ]
    },
    {
     "name": "stderr",
     "output_type": "stream",
     "text": [
      "run_approx_ver2_par.sh: line 2:  1286 Killed                  ./approx_ver2_par 10000 4 $1 > /Users/ddevin/Documents/vscode/DevCommunities/script_dump/dumpPIPE.txt\n"
     ]
    },
    {
     "name": "stdout",
     "output_type": "stream",
     "text": [
      "Dict{Int64, Int64}()"
     ]
    },
    {
     "name": "stdout",
     "output_type": "stream",
     "text": [
      "done with random model 5\n"
     ]
    },
    {
     "name": "stdout",
     "output_type": "stream",
     "text": [
      "Int64[]\n",
      "building hg for tag: rust\n"
     ]
    },
    {
     "name": "stderr",
     "output_type": "stream",
     "text": [
      "run_approx_ver2_par.sh: line 2:  1299 Killed                  ./approx_ver2_par 10000 4 $1 > /Users/ddevin/Documents/vscode/DevCommunities/script_dump/dumpPIPE.txt\n"
     ]
    },
    {
     "name": "stdout",
     "output_type": "stream",
     "text": [
      "Number of nodes: 7957\n",
      "Number of edges: 10984\n"
     ]
    },
    {
     "name": "stdout",
     "output_type": "stream",
     "text": [
      "Dict{Int64, Int64}()"
     ]
    },
    {
     "name": "stdout",
     "output_type": "stream",
     "text": [
      "done with random model 1\n"
     ]
    },
    {
     "name": "stdout",
     "output_type": "stream",
     "text": [
      "Dict{Int64, Int64}()"
     ]
    },
    {
     "name": "stdout",
     "output_type": "stream",
     "text": [
      "done with random model 2\n"
     ]
    },
    {
     "name": "stdout",
     "output_type": "stream",
     "text": [
      "Dict{Int64, Int64}()"
     ]
    },
    {
     "name": "stdout",
     "output_type": "stream",
     "text": [
      "done with random model 3\n"
     ]
    },
    {
     "name": "stdout",
     "output_type": "stream",
     "text": [
      "Dict{Int64, Int64}()"
     ]
    },
    {
     "name": "stdout",
     "output_type": "stream",
     "text": [
      "done with random model 4\n"
     ]
    },
    {
     "name": "stdout",
     "output_type": "stream",
     "text": [
      "Dict{Int64, Int64}()"
     ]
    },
    {
     "name": "stdout",
     "output_type": "stream",
     "text": [
      "done with random model 5\n"
     ]
    },
    {
     "name": "stdout",
     "output_type": "stream",
     "text": [
      "[19980875, 35381737, 62625, 209914, 386655, 1340781, 41, 308, 464, 4750, 1463, 16818, 0, 4, 40, 64, 0, 0, 657775, 4277904, 3228620, 23790954, 0, 1931, 24796, 85715]\n",
      "building hg for tag: solidity\n",
      "Number of nodes: 3403\n",
      "Number of edges: 3103\n"
     ]
    },
    {
     "name": "stdout",
     "output_type": "stream",
     "text": [
      "Dict{Int64, Int64}()"
     ]
    },
    {
     "name": "stdout",
     "output_type": "stream",
     "text": [
      "done with random model 1\n"
     ]
    },
    {
     "name": "stdout",
     "output_type": "stream",
     "text": [
      "Dict{Int64, Int64}()"
     ]
    },
    {
     "name": "stdout",
     "output_type": "stream",
     "text": [
      "done with random model 2\n"
     ]
    },
    {
     "name": "stdout",
     "output_type": "stream",
     "text": [
      "Dict{Int64, Int64}()"
     ]
    },
    {
     "name": "stdout",
     "output_type": "stream",
     "text": [
      "done with random model 3\n"
     ]
    },
    {
     "name": "stdout",
     "output_type": "stream",
     "text": [
      "Dict{Int64, Int64}()"
     ]
    },
    {
     "name": "stdout",
     "output_type": "stream",
     "text": [
      "done with random model 4\n"
     ]
    },
    {
     "name": "stdout",
     "output_type": "stream",
     "text": [
      "Dict{Int64, Int64}()"
     ]
    },
    {
     "name": "stdout",
     "output_type": "stream",
     "text": [
      "done with random model 5\n"
     ]
    },
    {
     "name": "stdout",
     "output_type": "stream",
     "text": [
      "[17052781, 31680599, 58391, 194756, 320489, 1015974, 20, 208, 320, 2989, 1284, 8960, 0, 0, 7, 15, 0, 0, 47402, 306371, 256216, 1637306, 0, 104, 1297, 3456]\n",
      "building hg for tag: sql\n",
      "Number of nodes: 139097"
     ]
    },
    {
     "name": "stdout",
     "output_type": "stream",
     "text": [
      "\n",
      "Number of edges: 154341\n"
     ]
    },
    {
     "name": "stdout",
     "output_type": "stream",
     "text": [
      "Dict{Int64, Int64}()"
     ]
    },
    {
     "name": "stdout",
     "output_type": "stream",
     "text": [
      "done with random model 1\n"
     ]
    },
    {
     "name": "stdout",
     "output_type": "stream",
     "text": [
      "Dict{Int64, Int64}()"
     ]
    },
    {
     "name": "stderr",
     "output_type": "stream",
     "text": [
      "run_approx_ver2_par.sh: line 2:  1433 Killed                  ./approx_ver2_par 10000 4 $1 > /Users/ddevin/Documents/vscode/DevCommunities/script_dump/dumpPIPE.txt\n"
     ]
    },
    {
     "name": "stdout",
     "output_type": "stream",
     "text": [
      "done with random model 2\n"
     ]
    },
    {
     "name": "stdout",
     "output_type": "stream",
     "text": [
      "Dict{Int64, Int64}()"
     ]
    },
    {
     "name": "stderr",
     "output_type": "stream",
     "text": [
      "run_approx_ver2_par.sh: line 2:  1445 Killed                  ./approx_ver2_par 10000 4 $1 > /Users/ddevin/Documents/vscode/DevCommunities/script_dump/dumpPIPE.txt\n"
     ]
    },
    {
     "name": "stdout",
     "output_type": "stream",
     "text": [
      "done with random model 3\n"
     ]
    },
    {
     "name": "stdout",
     "output_type": "stream",
     "text": [
      "Dict{Int64, Int64}()"
     ]
    },
    {
     "name": "stderr",
     "output_type": "stream",
     "text": [
      "run_approx_ver2_par.sh: line 2:  1457 Killed                  ./approx_ver2_par 10000 4 $1 > /Users/ddevin/Documents/vscode/DevCommunities/script_dump/dumpPIPE.txt\n"
     ]
    },
    {
     "name": "stdout",
     "output_type": "stream",
     "text": [
      "done with random model 4\n"
     ]
    },
    {
     "name": "stdout",
     "output_type": "stream",
     "text": [
      "Dict{Int64, Int64}()"
     ]
    },
    {
     "name": "stderr",
     "output_type": "stream",
     "text": [
      "run_approx_ver2_par.sh: line 2:  1469 Killed                  ./approx_ver2_par 10000 4 $1 > /Users/ddevin/Documents/vscode/DevCommunities/script_dump/dumpPIPE.txt\n"
     ]
    },
    {
     "name": "stdout",
     "output_type": "stream",
     "text": [
      "done with random model 5\n"
     ]
    },
    {
     "name": "stdout",
     "output_type": "stream",
     "text": [
      "Int64[]\n",
      "building hg for tag: swift\n"
     ]
    },
    {
     "name": "stderr",
     "output_type": "stream",
     "text": [
      "run_approx_ver2_par.sh: line 2:  1482 Killed                  ./approx_ver2_par 10000 4 $1 > /Users/ddevin/Documents/vscode/DevCommunities/script_dump/dumpPIPE.txt\n"
     ]
    },
    {
     "name": "stdout",
     "output_type": "stream",
     "text": [
      "Number of nodes: 23712\n",
      "Number of edges: 38870\n"
     ]
    },
    {
     "name": "stdout",
     "output_type": "stream",
     "text": [
      "Dict{Int64, Int64}()"
     ]
    },
    {
     "name": "stdout",
     "output_type": "stream",
     "text": [
      "done with random model 1\n"
     ]
    },
    {
     "name": "stdout",
     "output_type": "stream",
     "text": [
      "Dict{Int64, Int64}()"
     ]
    },
    {
     "name": "stdout",
     "output_type": "stream",
     "text": [
      "done with random model 2\n"
     ]
    },
    {
     "name": "stdout",
     "output_type": "stream",
     "text": [
      "Dict{Int64, Int64}()"
     ]
    },
    {
     "name": "stdout",
     "output_type": "stream",
     "text": [
      "done with random model 3\n"
     ]
    },
    {
     "name": "stdout",
     "output_type": "stream",
     "text": [
      "Dict{Int64, Int64}()"
     ]
    },
    {
     "name": "stdout",
     "output_type": "stream",
     "text": [
      "done with random model 4\n"
     ]
    },
    {
     "name": "stdout",
     "output_type": "stream",
     "text": [
      "Dict{Int64, Int64}()"
     ]
    },
    {
     "name": "stdout",
     "output_type": "stream",
     "text": [
      "done with random model 5\n"
     ]
    },
    {
     "name": "stdout",
     "output_type": "stream",
     "text": [
      "[456424202, 920216125, 723792, 2924147, 4784969, 19976993, 126, 2233, 3663, 41716, 17977, 171107, 0, 0, 250, 428, 0, 0, 7928423, 54444597, 44166311, 334484244, 0, 12324, 190449, 675260]\n",
      "building hg for tag: typescript\n",
      "Number of nodes: 51998"
     ]
    },
    {
     "name": "stdout",
     "output_type": "stream",
     "text": [
      "\n",
      "Number of edges: 54126\n"
     ]
    },
    {
     "name": "stdout",
     "output_type": "stream",
     "text": [
      "Dict{Int64, Int64}()"
     ]
    },
    {
     "name": "stdout",
     "output_type": "stream",
     "text": [
      "done with random model 1\n"
     ]
    },
    {
     "name": "stdout",
     "output_type": "stream",
     "text": [
      "Dict{Int64, Int64}()"
     ]
    },
    {
     "name": "stdout",
     "output_type": "stream",
     "text": [
      "done with random model 2\n"
     ]
    },
    {
     "name": "stdout",
     "output_type": "stream",
     "text": [
      "Dict{Int64, Int64}()"
     ]
    },
    {
     "name": "stdout",
     "output_type": "stream",
     "text": [
      "done with random model 3\n"
     ]
    },
    {
     "name": "stdout",
     "output_type": "stream",
     "text": [
      "Dict{Int64, Int64}()"
     ]
    },
    {
     "name": "stdout",
     "output_type": "stream",
     "text": [
      "done with random model 4\n"
     ]
    },
    {
     "name": "stdout",
     "output_type": "stream",
     "text": [
      "Dict{Int64, Int64}()"
     ]
    },
    {
     "name": "stdout",
     "output_type": "stream",
     "text": [
      "done with random model 5\n"
     ]
    },
    {
     "name": "stdout",
     "output_type": "stream",
     "text": [
      "[255554133, 601623192, 119860, 450270, 901371, 3451510, 0, 82, 124, 1259, 240, 6568, 0, 0, 0, 0, 0, 0, 1239711, 10487437, 8290747, 75201800, 0, 421, 7657, 38600]\n",
      "Any"
     ]
    },
    {
     "name": "stdout",
     "output_type": "stream",
     "text": [
      "[[153671, 272179, 947, 2808, 5329, 16939, 0, 8, 5, 86, 25, 261, 0, 0, 1, 2, 0, 0, 3252, 16199, 15320, 92331, 0, 18, 165, 419], [31844146, 85084623, 68422, 339600, 702140, 3763084, 17, 341, 732, 8925, 4094, 63253, 0, 9, 53, 313, 0, 0, 1443003, 13133531, 9859064, 109687666, 0, 4975, 91150, 503942], [651463655, 1498253742, 229633, 938897, 1702107, 7162751, 102, 151, 302, 3185, 752, 15874, 0, 0, 0, 0, 0, 0, 6769743, 48311079, 41094540, 333941166, 0, 2053, 38748, 168703], [141302, 318769, 2019, 7231, 15534, 57981, 3, 72, 86, 829, 401, 3451, 0, 3, 20, 75, 0, 0, 10445, 64685, 49858, 414869, 0, 148, 1883, 7138], [98816921, 274164044, 61129, 345523, 529654, 3001592, 0, 71, 333, 1637, 857, 12918, 0, 0, 0, 12, 0, 0, 893564, 8203451, 6678661, 68506737, 0, 741, 12165, 68120], [3814027, 5055938, 41855, 84532, 206902, 421658, 67, 316, 683, 3138, 1372, 8549, 0, 3, 23, 53, 0, 0, 130533, 581307, 516042, 2467106, 0, 752, 6430, 14821], [402116, 524979, 4442, 14524, 21637, 68101, 10, 55, 124, 794, 366, 2572, 0, 2, 9, 31, 0, 0, 10967, 65231, 44446, 300299, 0, 115, 1269, 3512], [1092956, 1585705, 19869, 52481, 96711, 247805, 40, 288, 489, 3760, 1468, 10344, 1, 5, 71, 123, 0, 0, 50617, 250352, 195685, 1112194, 0, 602, 5514, 13892], [536819329, 1270170935, 205515, 661463, 1459227, 4942654, 0, 131, 33, 1573, 568, 4954, 0, 0, 0, 0, 0, 0, 2166885, 17640048, 13933536, 122467499, 0, 292, 11110, 47280], [206853338, 581252202, 29710, 188467, 280389, 1709110, 0, 91, 0, 634, 0, 1724, 0, 0, 0, 0, 0, 0, 1385416, 14969753, 10903737, 127803204, 0, 211, 5382, 31136], [2806654584, 7478612687, 473860, 2107476, 3992954, 18924320, 0, 176, 178, 3764, 1437, 18070, 0, 0, 0, 0, 0, 0, 23119784, 212251901, 167446477, 1743211963, 0, 5172, 88230, 472182], [8895788, 15432729, 120847, 337908, 664411, 1866812, 190, 1447, 2621, 18629, 8545, 58526, 4, 30, 240, 620, 0, 0, 252287, 1499227, 1181897, 7893934, 0, 1862, 22517, 68873], [96186546, 217988152, 77217, 333400, 572703, 2535070, 11, 150, 234, 1942, 761, 11686, 0, 0, 0, 0, 0, 0, 859220, 6340776, 5436627, 44037961, 0, 898, 12767, 54328], [89141, 229537, 2147, 6992, 18686, 64066, 10, 72, 165, 1265, 636, 5142, 1, 5, 44, 123, 0, 0, 16991, 103507, 85123, 669728, 0, 338, 4219, 15170], Int64[], [19980875, 35381737, 62625, 209914, 386655, 1340781, 41, 308, 464, 4750, 1463, 16818, 0, 4, 40, 64, 0, 0, 657775, 4277904, 3228620, 23790954, 0, 1931, 24796, 85715], [17052781, 31680599, 58391, 194756, 320489, 1015974, 20, 208, 320, 2989, 1284, 8960, 0, 0, 7, 15, 0, 0, 47402, 306371, 256216, 1637306, 0, 104, 1297, 3456], Int64[], [456424202, 920216125, 723792, 2924147, 4784969, 19976993, 126, 2233, 3663, 41716, 17977, 171107, 0, 0, 250, 428, 0, 0, 7928423, 54444597, 44166311, 334484244, 0, 12324, 190449, 675260], [255554133, 601623192, 119860, 450270, 901371, 3451510, 0, 82, 124, 1259, 240, 6568, 0, 0, 0, 0, 0, 0, 1239711, 10487437, 8290747, 75201800, 0, 421, 7657, 38600]]\n"
     ]
    },
    {
     "ename": "BoundsError",
     "evalue": "BoundsError: attempt to access 0-element Vector{Int64} at index [1]",
     "output_type": "error",
     "traceback": [
      "BoundsError: attempt to access 0-element Vector{Int64} at index [1]\n",
      "\n",
      "Stacktrace:\n",
      " [1] getindex(A::Vector{Int64}, i1::Int64)\n",
      "   @ Base ./array.jl:924\n",
      " [2] (::var\"#73#74\")(io::IOStream)\n",
      "   @ Main ~/Documents/vscode/DevCommunities/src/notebook/metrics.ipynb:67\n",
      " [3] open(::var\"#73#74\", ::String, ::Vararg{String}; kwargs::Base.Pairs{Symbol, Union{}, Tuple{}, NamedTuple{(), Tuple{}}})\n",
      "   @ Base ./io.jl:384\n",
      " [4] open(::Function, ::String, ::String)\n",
      "   @ Base ./io.jl:381\n",
      " [5] top-level scope\n",
      "   @ ~/Documents/vscode/DevCommunities/src/notebook/metrics.ipynb:63"
     ]
    }
   ],
   "source": [
    "all_arrays = []\n",
    "for i in 1:20\n",
    "    # g = build_hg(\"../../hgs/apl.hg\")\n",
    "    \n",
    "    println(\"building hg for tag: \"*my_tags_so[i])\n",
    "    g = build_hg(\"../../hgs/\"*my_tags_so[i]*\".hg\")\n",
    "\n",
    "    num_nodes = nhv(g[1])\n",
    "    num_edges = nhe(g[1])\n",
    "    println(\"Number of nodes: $num_nodes\")\n",
    "    println(\"Number of edges: $num_edges\")\n",
    "    flush(stdout)\n",
    "\n",
    "    total_random_motif_count = [0 for i in 1:26]\n",
    "    # generate 5 model and do average counting\n",
    "    for j in range(1,5)\n",
    "        rm_pa = build_hg_randoms(\"../../hgs/\"*my_tags_so[i]*\".hg\")\n",
    "        hg_save(\"../../randoms/randomPIPE\", rm_pa)\n",
    "        \n",
    "        # open file\n",
    "        r1 = open(\"../../randoms/randomPIPE\")\n",
    "        # substitue in each line \"=true\" with \",\"\n",
    "        run(`sed -i '' 's/=true/,/g' ../../randoms/randomPIPE`)\n",
    "        # remove first line\n",
    "        run(`sed -i '' '1d' ../../randoms/randomPIPE`)\n",
    "        # hash and rewriting id\n",
    "        run(`python3 rewrite.py ../../randoms/randomPIPE 1`)\n",
    "        \n",
    "        run(`bash orb.sh`)\n",
    "        \n",
    "        # run(`bash /Users/ddevin/Documents/MoCHy/run_exact.sh \"/Users/ddevin/Documents/vscode/DevCommunities/randoms/randomPIPE.hg\"`)\n",
    "        # run(`bash /Users/ddevin/Documents/MoCHy/run_exact.sh \"/Users/ddevin/Documents/vscode/DevCommunities/hgs/apl.hg\"`)\n",
    "        close(r1)\n",
    "        r2 = open(\"/Users/ddevin/Documents/vscode/DevCommunities/script_dump/dumpPIPE.txt\")\n",
    "        array = []\n",
    "        for line in eachline(r2)\n",
    "            if occursin(\"motif\", line)\n",
    "                if occursin(\"counting\", line)\n",
    "                    continue\n",
    "                end\n",
    "                # find integers in line after \":\"\n",
    "                motif = parse.(Int64, split(line, \":\")[2:end])\n",
    "                push!(array, motif[1])\n",
    "            end\n",
    "        end\n",
    "        # array of any to array of integers\n",
    "        array = convert(Array{Int64}, array)\n",
    "        total_random_motif_count = [x + y for (x, y) in zip(array, total_random_motif_count)]\n",
    "        close(r2)\n",
    "        println(\"done with random model \"*string(j))\n",
    "        flush(stdout)\n",
    "        # flush\n",
    "    end\n",
    "\n",
    "    total_random_motif_count = [x / 5 for x in total_random_motif_count]\n",
    "    total_random_motif_count = ceil.(Int64, total_random_motif_count)\n",
    "    println(total_random_motif_count)\n",
    "    push!(all_arrays, total_random_motif_count)\n",
    "end\n",
    "\n",
    "println(all_arrays)\n",
    "# write to file\n",
    "open(\"/Users/ddevin/Documents/vscode/DevCommunities/results/all_motifs_counted.csv\", \"w\") do io\n",
    "    for i in 1:20\n",
    "        # write(io, string(my_tags_so[i]))\n",
    "        # write(io, \",\")\n",
    "        for j in 1:26\n",
    "            if length(all_arrays[i]) == 0\n",
    "                write(io, string(0))\n",
    "                write(io, \",\")\n",
    "            else\n",
    "                write(io, string(all_arrays[i][j]))\n",
    "                write(io, \",\")\n",
    "            end\n",
    "        end\n",
    "        write(io, \"\\n\")\n",
    "    end\n",
    "end\n",
    "\n",
    "\n",
    "\n"
   ]
  },
  {
   "cell_type": "code",
   "execution_count": 18,
   "metadata": {},
   "outputs": [
    {
     "name": "stdout",
     "output_type": "stream",
     "text": [
      "Number of nodes: 295974\n",
      "Number of edges: 431319\n"
     ]
    },
    {
     "name": "stdout",
     "output_type": "stream",
     "text": [
      "Dict{Int64, Int64}()"
     ]
    },
    {
     "name": "stderr",
     "output_type": "stream",
     "text": [
      "run_approx_ver2_par.sh: line 2:  1618 Killed                  ./approx_ver2_par 10000 4 $1 > /Users/ddevin/Documents/vscode/DevCommunities/script_dump/dumpPIPE.txt\n"
     ]
    },
    {
     "name": "stdout",
     "output_type": "stream",
     "text": [
      "done with random model 1\n"
     ]
    },
    {
     "name": "stdout",
     "output_type": "stream",
     "text": [
      "Dict{Int64, Int64}()"
     ]
    },
    {
     "name": "stderr",
     "output_type": "stream",
     "text": [
      "run_approx_ver2_par.sh: line 2:  1631 Killed                  ./approx_ver2_par 10000 4 $1 > /Users/ddevin/Documents/vscode/DevCommunities/script_dump/dumpPIPE.txt\n"
     ]
    },
    {
     "name": "stdout",
     "output_type": "stream",
     "text": [
      "done with random model 2\n"
     ]
    },
    {
     "name": "stdout",
     "output_type": "stream",
     "text": [
      "Dict{Int64, Int64}()"
     ]
    },
    {
     "name": "stdout",
     "output_type": "stream",
     "text": [
      "done with random model 3\n"
     ]
    },
    {
     "name": "stdout",
     "output_type": "stream",
     "text": [
      "Dict{Int64, Int64}()"
     ]
    },
    {
     "name": "stderr",
     "output_type": "stream",
     "text": [
      "run_approx_ver2_par.sh: line 2:  1644 Killed                  ./approx_ver2_par 10000 4 $1 > /Users/ddevin/Documents/vscode/DevCommunities/script_dump/dumpPIPE.txt\n"
     ]
    },
    {
     "name": "stdout",
     "output_type": "stream",
     "text": [
      "done with random model 4\n"
     ]
    },
    {
     "name": "stdout",
     "output_type": "stream",
     "text": [
      "Dict{Int64, Int64}()"
     ]
    },
    {
     "name": "stderr",
     "output_type": "stream",
     "text": [
      "run_approx_ver2_par.sh: line 2:  1657 Killed                  ./approx_ver2_par 10000 4 $1 > /Users/ddevin/Documents/vscode/DevCommunities/script_dump/dumpPIPE.txt\n"
     ]
    },
    {
     "name": "stderr",
     "output_type": "stream",
     "text": [
      "run_approx_ver2_par.sh: line 2:  1670 Killed                  ./approx_ver2_par 10000 4 $1 > /Users/ddevin/Documents/vscode/DevCommunities/script_dump/dumpPIPE.txt\n"
     ]
    },
    {
     "name": "stdout",
     "output_type": "stream",
     "text": [
      "done with random model 5\n"
     ]
    },
    {
     "name": "stdout",
     "output_type": "stream",
     "text": [
      "Int64[]\n"
     ]
    }
   ],
   "source": [
    "############## SINGLE RUN ##################\n",
    "\n",
    "g = build_hg(\"../../hgs/\"*\"python\"*\".hg\")\n",
    "\n",
    "num_nodes = nhv(g[1])\n",
    "num_edges = nhe(g[1])\n",
    "println(\"Number of nodes: $num_nodes\")\n",
    "println(\"Number of edges: $num_edges\")\n",
    "flush(stdout)\n",
    "\n",
    "total_random_motif_count = [0 for i in 1:26]\n",
    "# generate 5 model and do average counting\n",
    "for j in range(1,5)\n",
    "    rm_pa = build_hg_randoms(\"../../hgs/\"*\"python\"*\".hg\")\n",
    "    hg_save(\"../../randoms/randomPIPE\", rm_pa)\n",
    "    \n",
    "    # open file\n",
    "    r1 = open(\"../../randoms/randomPIPE\")\n",
    "    # substitue in each line \"=true\" with \",\"\n",
    "    run(`sed -i '' 's/=true/,/g' ../../randoms/randomPIPE`)\n",
    "    # remove first line\n",
    "    run(`sed -i '' '1d' ../../randoms/randomPIPE`)\n",
    "    # hash and rewriting id\n",
    "    run(`python3 rewrite.py ../../randoms/randomPIPE 1`)\n",
    "    \n",
    "    run(`bash orb.sh`)\n",
    "    \n",
    "    # run(`bash /Users/ddevin/Documents/MoCHy/run_exact.sh \"/Users/ddevin/Documents/vscode/DevCommunities/randoms/randomPIPE.hg\"`)\n",
    "    # run(`bash /Users/ddevin/Documents/MoCHy/run_exact.sh \"/Users/ddevin/Documents/vscode/DevCommunities/hgs/apl.hg\"`)\n",
    "    close(r1)\n",
    "    r2 = open(\"/Users/ddevin/Documents/vscode/DevCommunities/script_dump/dumpPIPE.txt\")\n",
    "    array = []\n",
    "    for line in eachline(r2)\n",
    "        if occursin(\"motif\", line)\n",
    "            if occursin(\"counting\", line)\n",
    "                continue\n",
    "            end\n",
    "            # find integers in line after \":\"\n",
    "            motif = parse.(Int64, split(line, \":\")[2:end])\n",
    "            push!(array, motif[1])\n",
    "        end\n",
    "    end\n",
    "    # array of any to array of integers\n",
    "    array = convert(Array{Int64}, array)\n",
    "    total_random_motif_count = [x + y for (x, y) in zip(array, total_random_motif_count)]\n",
    "    close(r2)\n",
    "    println(\"done with random model \"*string(j))\n",
    "    println(total_random_motif_count)\n",
    "    flush(stdout)\n",
    "    # flush\n",
    "end\n",
    "\n",
    "total_random_motif_count = [x / 5 for x in total_random_motif_count]\n",
    "total_random_motif_count = ceil.(Int64, total_random_motif_count)\n",
    "println(total_random_motif_count)\n",
    "# push!(all_arrays, total_random_motif_count)"
   ]
  },
  {
   "cell_type": "code",
   "execution_count": null,
   "metadata": {},
   "outputs": [],
   "source": [
    "# num_motifs = [1077,818707,23,7,5702,6152,25,1,131,27,10,4,0,0,0,0,5,1,8390,1397,41097,124693,9,582,145,53]\n",
    "# num_motifs = [2070, 11469, 44796591, 58275821, 16910646, 34130003, 16, 93583226, 404737, 293960662, 70840, 175279493, 1, 4172338, 55998189, 362027234, 0, 0, 31323, 12423927, 14751, 27466910, 0, 152556, 716568, 7659269]\n",
    "\n",
    "function cps(motifs, motifs_random)\n",
    "    eps = 1 #fixed in the paper\n",
    "    deltas = []\n",
    "    sum_deltas = 0\n",
    "    for i in 1:length(motifs)\n",
    "        t = (motifs[i]-motifs_random[i])/(motifs[i]+motifs_random[i]+eps)\n",
    "        push!(deltas, t)\n",
    "        sum_deltas += t^2\n",
    "    end\n",
    "    cp = []\n",
    "    for i in 1:length(motifs)\n",
    "        push!(cp, deltas[i]/sqrt(sum_deltas))\n",
    "    end\n",
    "    return cp\n",
    "end\n",
    "\n",
    "# cp = cps(num_motifs, motifs_random)\n",
    "# println(cp)"
   ]
  },
  {
   "cell_type": "code",
   "execution_count": null,
   "metadata": {},
   "outputs": [],
   "source": [
    "using CSV, DataFrames\n",
    "data = CSV.read(\"../../hgs/motifs.csv\", DataFrame, header=false)\n",
    "# for each column create an array of the values\n",
    "w = open(\"../../results/cpprofilesAPL.csv\", \"w\")\n",
    "\n",
    "for i in 1:size(data, 2)\n",
    "    col = data[:, i]\n",
    "    col = convert(Array{Int64, 1}, col)\n",
    "    cp = cps(col, num_motifs)\n",
    "    new_line = join(cp, \",\")\n",
    "    \n",
    "    write(w, new_line * \"\\n\")\n",
    "end\n",
    "close(w)\n",
    "\n"
   ]
  },
  {
   "cell_type": "code",
   "execution_count": null,
   "metadata": {},
   "outputs": [],
   "source": [
    "using Plots, LinearAlgebra\n",
    "using DelimitedFiles\n",
    "# read matrix from csv file\n",
    "m = readdlm(\"../../results/cpprofiles1000.csv\", ',', Float64)\n",
    "h = heatmap(m)"
   ]
  },
  {
   "cell_type": "code",
   "execution_count": null,
   "metadata": {},
   "outputs": [],
   "source": [
    "using CSV, DataFrames\n",
    "data = CSV.read(\"../../hgs/motifs.csv\", DataFrame, header=false)\n",
    "dataRandom = CSV.File(\"../../results/all_motifs_counted.csv\", DataFrame, header=false, transpose=true)\n",
    "# for each column create an array of the values\n",
    "# w = open(\"../../results/cpprofilesALL.csv\", \"w\")\n",
    "\n",
    "# match column of data with column of dataRandom\n",
    "for i in 1:size(data, 2)\n",
    "    col = data[:, i]\n",
    "    col = convert(Array{Int64, 1}, col)\n",
    "    random_motif = dataRandom[:, i]\n",
    "    cp = cps(col, random_motif)\n",
    "    new_line = join(cp, \",\")\n",
    "    \n",
    "    # write(w, new_line * \"\\n\")\n",
    "end\n",
    "\n",
    "# for i in 1:size(data, 2)\n",
    "#     col = data[:, i]\n",
    "#     col = convert(Array{Int64, 1}, col)\n",
    "#     random_motif = dataRandom[:, i]\n",
    "#     cp = cps(col, num_motifs)\n",
    "#     new_line = join(cp, \",\")\n",
    "    \n",
    "#     # write(w, new_line * \"\\n\")\n",
    "# end\n",
    "# # close(w)\n",
    "\n"
   ]
  },
  {
   "cell_type": "code",
   "execution_count": null,
   "metadata": {},
   "outputs": [],
   "source": [
    "ccs = SimpleHypergraphs.get_connected_components(g[1])\n",
    "ccs = sort(ccs, by=length, rev=true)\n",
    "# distribution of component sizes\n",
    "ccs_len = length.(ccs)\n",
    "\n"
   ]
  },
  {
   "cell_type": "code",
   "execution_count": null,
   "metadata": {},
   "outputs": [],
   "source": [
    "using PyPlot\n",
    "dict_degree = DevCommunities.degree_histogram(g[1], normalized=true)\n",
    "# bar plot of the degree distribution\n",
    "fig,axs = subplots()\n",
    "axs.bar(collect(keys(dict_degree)), collect(values(dict_degree)), color=\"red\")\n",
    "gcf()\n"
   ]
  }
 ],
 "metadata": {
  "kernelspec": {
   "display_name": "Julia 1.8.3",
   "language": "julia",
   "name": "julia-1.8"
  },
  "language_info": {
   "file_extension": ".jl",
   "mimetype": "application/julia",
   "name": "julia",
   "version": "1.8.3"
  },
  "orig_nbformat": 4
 },
 "nbformat": 4,
 "nbformat_minor": 2
}
