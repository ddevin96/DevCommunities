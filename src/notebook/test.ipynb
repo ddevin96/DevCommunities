{
 "cells": [
  {
   "cell_type": "code",
   "execution_count": 1,
   "metadata": {},
   "outputs": [
    {
     "name": "stderr",
     "output_type": "stream",
     "text": [
      "┌ Warning: The plotting functionality of HyperNetX will not work!\n",
      "│ Conda Python HyperNetX not found.\n",
      "│ To test your installation try running `using PyCall;pyimport(\"networkx\");pyimport(\"hypernetx\")`\n",
      "└ @ SimpleHypergraphs /Users/ddevin/.julia/packages/SimpleHypergraphs/lfXYf/src/SimpleHypergraphs.jl:62\n"
     ]
    }
   ],
   "source": [
    "using Pkg\n",
    "# Pkg.update()\n",
    "Pkg.instantiate()\n",
    "\n",
    "using DevCommunities\n",
    "using DataFrames, CSV\n",
    "using SimpleHypergraphs\n",
    "using Plots\n",
    "using Graphs"
   ]
  },
  {
   "cell_type": "code",
   "execution_count": 14,
   "metadata": {},
   "outputs": [
    {
     "name": "stdout",
     "output_type": "stream",
     "text": [
      "apl\n",
      "apl.copy\n",
      "apl.hg\n",
      "291\n"
     ]
    },
    {
     "name": "stdout",
     "output_type": "stream",
     "text": [
      "42\n",
      "Any[3, \"apl.hg\", 291, 0.0]\n"
     ]
    },
    {
     "name": "stdout",
     "output_type": "stream",
     "text": [
      "bash\n",
      "bash.copy\n",
      "bash.hg\n"
     ]
    },
    {
     "name": "stdout",
     "output_type": "stream",
     "text": [
      "7466\n"
     ]
    },
    {
     "name": "stdout",
     "output_type": "stream",
     "text": [
      "8490\n",
      "Any[3, \"bash.hg\", 7466, 0.0]\n"
     ]
    }
   ],
   "source": [
    "df_info = DataFrame()\n",
    "df_info = DataFrame(ss=Int64[], dataset=String[], nodes=Int64[], edges=Int64[])    \n",
    "\n",
    "for s in 3:5\n",
    "    dir = \"../../hgsFilter\"\n",
    "    for file in readdir(dir)\n",
    "        println(file)\n",
    "        if endswith(file, \".hg\")\n",
    "            hg = build_hg(\"/Users/ddevin/Documents/vscode/DevCommunities/hgsFilter/\"*file)\n",
    "            hg = hg[1]\n",
    "            A = SimpleHypergraphs.adjacency_matrix(hg; s=s)\n",
    "            nodes = nhv(hg)\n",
    "            println(nodes)\n",
    "            flush(stdout)\n",
    "            num_edges = 0\n",
    "            # for row in A\n",
    "            #     for col in row\n",
    "            #         if col != 0\n",
    "            #         num_edges += 1\n",
    "            #         end\n",
    "            #     end\n",
    "            # end\n",
    "            real = num_edges / 2\n",
    "            println(sum(A))\n",
    "            push!(df_info, [s, file, nodes, real])\n",
    "            println([s, file, nodes, real])\n",
    "            flush(stdout)\n",
    "        end\n",
    "    end\n",
    "end\n",
    "df_info"
   ]
  }
 ],
 "metadata": {
  "kernelspec": {
   "display_name": "Julia 1.8.3",
   "language": "julia",
   "name": "julia-1.8"
  },
  "language_info": {
   "file_extension": ".jl",
   "mimetype": "application/julia",
   "name": "julia",
   "version": "1.8.3"
  }
 },
 "nbformat": 4,
 "nbformat_minor": 2
}
