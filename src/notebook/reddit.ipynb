{
 "cells": [
  {
   "cell_type": "code",
   "execution_count": 1,
   "metadata": {},
   "outputs": [
    {
     "name": "stderr",
     "output_type": "stream",
     "text": [
      "\u001b[33m\u001b[1m┌ \u001b[22m\u001b[39m\u001b[33m\u001b[1mWarning: \u001b[22m\u001b[39mThe plotting functionality of HyperNetX will not work!\n",
      "\u001b[33m\u001b[1m│ \u001b[22m\u001b[39mConda Python HyperNetX not found.\n",
      "\u001b[33m\u001b[1m│ \u001b[22m\u001b[39mTo test your installation try running `using PyCall;pyimport(\"networkx\");pyimport(\"hypernetx\")`\n",
      "\u001b[33m\u001b[1m└ \u001b[22m\u001b[39m\u001b[90m@ SimpleHypergraphs ~/.julia/packages/SimpleHypergraphs/DNs9a/src/SimpleHypergraphs.jl:62\u001b[39m\n"
     ]
    },
    {
     "name": "stderr",
     "output_type": "stream",
     "text": [
      "┌ Warning: The plotting functionality of HyperNetX will not work!\n",
      "│ Conda Python HyperNetX not found.\n",
      "│ To test your installation try running `using PyCall;pyimport(\"networkx\");pyimport(\"hypernetx\")`\n",
      "└ @ SimpleHypergraphs /Users/ddevin/.julia/packages/SimpleHypergraphs/DNs9a/src/SimpleHypergraphs.jl:62\n"
     ]
    }
   ],
   "source": [
    "using DevCommunities"
   ]
  },
  {
   "attachments": {},
   "cell_type": "markdown",
   "metadata": {},
   "source": [
    "Build all structures"
   ]
  },
  {
   "cell_type": "code",
   "execution_count": 2,
   "metadata": {},
   "outputs": [
    {
     "name": "stdout",
     "output_type": "stream",
     "text": [
      "1\n"
     ]
    },
    {
     "name": "stdout",
     "output_type": "stream",
     "text": [
      "2\n"
     ]
    },
    {
     "name": "stdout",
     "output_type": "stream",
     "text": [
      "3\n"
     ]
    },
    {
     "name": "stdout",
     "output_type": "stream",
     "text": [
      "4\n",
      "5\n"
     ]
    },
    {
     "name": "stdout",
     "output_type": "stream",
     "text": [
      "6\n"
     ]
    },
    {
     "name": "stdout",
     "output_type": "stream",
     "text": [
      "7\n"
     ]
    },
    {
     "name": "stdout",
     "output_type": "stream",
     "text": [
      "8\n"
     ]
    },
    {
     "name": "stdout",
     "output_type": "stream",
     "text": [
      "Building hypergraph 1\n"
     ]
    },
    {
     "name": "stdout",
     "output_type": "stream",
     "text": [
      "Building hypergraph 2\n"
     ]
    },
    {
     "name": "stdout",
     "output_type": "stream",
     "text": [
      "Building hypergraph 3\n"
     ]
    },
    {
     "name": "stdout",
     "output_type": "stream",
     "text": [
      "Building hypergraph 4\n"
     ]
    },
    {
     "name": "stdout",
     "output_type": "stream",
     "text": [
      "Building hypergraph 5\n"
     ]
    },
    {
     "name": "stdout",
     "output_type": "stream",
     "text": [
      "Building hypergraph 6\n"
     ]
    },
    {
     "name": "stdout",
     "output_type": "stream",
     "text": [
      "Building hypergraph 7\n"
     ]
    },
    {
     "name": "stdout",
     "output_type": "stream",
     "text": [
      "Building hypergraph 8\n"
     ]
    },
    {
     "data": {
      "text/plain": [
       "8-element Vector{Any}:\n",
       " Union{Nothing, Bool}[true nothing … nothing nothing; true nothing … nothing nothing; … ; nothing nothing … nothing nothing; nothing nothing … true nothing]\n",
       " Union{Nothing, Bool}[true true … nothing nothing; true nothing … nothing nothing; … ; nothing nothing … nothing nothing; nothing nothing … nothing true]\n",
       " Union{Nothing, Bool}[true nothing … nothing nothing; true nothing … nothing nothing; … ; nothing nothing … nothing nothing; nothing nothing … nothing nothing]\n",
       " Union{Nothing, Bool}[true nothing … nothing nothing; true nothing … nothing nothing; … ; nothing nothing … nothing nothing; nothing nothing … nothing nothing]\n",
       " Union{Nothing, Bool}[true nothing … nothing nothing; true nothing … nothing nothing; … ; nothing nothing … true nothing; nothing nothing … nothing true]\n",
       " Union{Nothing, Bool}[true nothing … nothing nothing; true true … nothing nothing; … ; nothing nothing … nothing nothing; nothing nothing … nothing true]\n",
       " Union{Nothing, Bool}[true nothing … nothing nothing; true nothing … nothing nothing; … ; nothing nothing … nothing nothing; nothing nothing … nothing nothing]\n",
       " Union{Nothing, Bool}[true nothing … nothing nothing; true nothing … nothing nothing; … ; nothing nothing … nothing nothing; nothing nothing … true nothing]"
      ]
     },
     "metadata": {},
     "output_type": "display_data"
    }
   ],
   "source": [
    "hgs_reddit = build_all_hgs(\"reddit\")\n",
    "dfs_raw_reddit = build_raw_dfs(\"reddit\")\n",
    "dfs_processed_reddit = build_all_dfs(\"reddit\")\n",
    "hgs_reddit_labelled = build_all_hgs_labeled_reddit(dfs_processed_reddit, dfs_raw_reddit)\n",
    "println(\"Construction of all structures done\")"
   ]
  },
  {
   "attachments": {},
   "cell_type": "markdown",
   "metadata": {},
   "source": [
    "Community detection"
   ]
  },
  {
   "cell_type": "code",
   "execution_count": 6,
   "metadata": {},
   "outputs": [
    {
     "name": "stdout",
     "output_type": "stream",
     "text": [
      "Building communities of hg 1\n"
     ]
    },
    {
     "name": "stdout",
     "output_type": "stream",
     "text": [
      "Building communities of hg 2\n"
     ]
    },
    {
     "name": "stdout",
     "output_type": "stream",
     "text": [
      "Building communities of hg 3\n"
     ]
    },
    {
     "name": "stdout",
     "output_type": "stream",
     "text": [
      "Building communities of hg 4\n"
     ]
    },
    {
     "name": "stdout",
     "output_type": "stream",
     "text": [
      "Building communities of hg 5\n"
     ]
    },
    {
     "name": "stdout",
     "output_type": "stream",
     "text": [
      "Building communities of hg 6\n"
     ]
    },
    {
     "name": "stdout",
     "output_type": "stream",
     "text": [
      "Building communities of hg 7\n"
     ]
    },
    {
     "name": "stdout",
     "output_type": "stream",
     "text": [
      "Building communities of hg 8\n"
     ]
    },
    {
     "data": {
      "text/plain": [
       "8-element Vector{Any}:\n",
       " Dict{Any, Any}(\"dartlang\" => Set(Any[11360, 11130, 11348, 11284, 11273, 11123, 11328, 11349, 11198, 11326  …  11327, 11347, 11280, 11325, 11350, 11136, 11337, 11213, 11323, 11257]), \"SQL\" => Set(Any[35463, 35129, 7144, 23896, 35387, 17486, 22700, 35478, 35472, 7559  …  35239, 35482, 35109, 35035, 5137, 12390, 35480, 10808, 31372, 2315]), \"csharp\" => Set(Any[29965, 29454, 30438, 30270, 30960, 29998, 29914, 27167, 28804, 29776  …  29711, 27944, 28914, 30542, 25304, 28587, 31139, 29663, 30145, 29935]), \"javascript\" => Set(Any[34071, 32167, 33084, 33236, 31837, 15610, 32425, 32353, 32220, 33075  …  34229, 33012, 33779, 34086, 33358, 15706, 32522, 32372, 32792, 33347]), \"golang\" => Set(Any[13311, 31594, 13057, 12778, 14999, 12560, 15002, 12554, 13982, 13363  …  12558, 12571, 15042, 12709, 12783, 15271, 33881, 14073, 15761, 15432]), \"Julia\" => Set(Any[31426, 31503, 31636, 31659, 31651, 31663, 31549, 24377, 31678, 4934  …  31662, 31457, 31552, 31452, 31429, 4754, 31376, 31428, 31635, 31520]), \"Python\" => Set(Any[4986, 7329, 10548, 4700, 4576, 2288, 8690, 8437, 9773, 2350  …  11034, 3847, 7506, 7108, 10832, 4724, 4496, 8546, 5416, 2248]), \"bash\" => Set(Any[24537, 24647, 24667, 24572, 24304, 24914, 24174, 22741, 24432, 24397  …  24171, 24723, 24146, 24719, 24912, 24275, 24264, 24824, 24506, 24833]), \"typescript\" => Set(Any[16576, 16931, 17191, 16500, 17046, 16830, 16117, 16026, 16163, 16586  …  16119, 17065, 16329, 31956, 16182, 16770, 16346, 16833, 16126, 16768]), \"rust\" => Set(Any[20448, 18638, 15889, 10765, 18755, 19748, 18374, 21530, 21916, 19546  …  20193, 21639, 21616, 19969, 1711, 18179, 17984, 21664, 19700, 18060])…)\n",
       " Dict{Any, Any}(\"dartlang\" => Set(Any[10763, 10757, 10891, 10738, 10839, 10816, 10795, 10963, 11063, 10957  …  10826, 10823, 10893, 10818, 10727, 10958, 10829, 10964, 11057, 10969]), \"SQL\" => Set(Any[10594, 10238, 14428, 31213, 12968, 35996, 6836, 14868, 10882, 35904  …  36207, 34885, 12196, 31030, 7108, 36340, 36196, 35969, 36312, 35909]), \"csharp\" => Set(Any[27797, 30593, 31905, 29454, 31594, 27833, 28215, 28371, 30270, 28854  …  31966, 16228, 28587, 29567, 31205, 30390, 30587, 29249, 30853, 31794]), \"javascript\" => Set(Any[34644, 32904, 32738, 33992, 34305, 16655, 33236, 33084, 35782, 34214  …  33661, 33077, 35042, 34229, 32849, 14073, 35011, 32895, 32782, 35319]), \"golang\" => Set(Any[13003, 15686, 12778, 13057, 14810, 13668, 14966, 12245, 12427, 13506  …  14039, 13544, 14957, 12783, 12447, 14082, 13539, 13031, 35523, 13536]), \"Julia\" => Set(Any[16525, 32614, 32595, 32611, 33494, 32661, 16565, 32662, 16557, 16102  …  32627, 5677, 32651, 32670, 16379, 32645, 32603, 32640, 32312, 32624]), \"Python\" => Set(Any[4986, 8690, 1703, 8437, 1956, 2288, 9773, 5975, 3406, 2841  …  7920, 4233, 9755, 7506, 8546, 8992, 5416, 2248, 4159, 14499]), \"bash\" => Set(Any[25499, 25083, 25375, 25368, 25524, 25532, 24834, 25406, 25120, 24979  …  25312, 25502, 25214, 25308, 25286, 25304, 25408, 24824, 24833, 25181]), \"typescript\" => Set(Any[16321, 16050, 16035, 13501, 16190, 16349, 16117, 16591, 16464, 16028  …  16329, 16311, 15993, 16319, 16221, 16346, 16335, 16462, 16605, 16679]), \"rust\" => Set(Any[18638, 18755, 22670, 20336, 22558, 20774, 18139, 20994, 22663, 22337  …  18189, 21766, 21244, 17515, 20925, 19456, 18179, 4724, 19700, 18060])…)\n",
       " Dict{Any, Any}(\"dartlang\" => Set(Any[10719, 10995, 10594, 10816, 10875, 10894, 10844, 10604, 10904, 10947  …  10600, 10881, 10791, 10984, 10622, 10835, 10832, 10667, 10668, 10735]), \"SQL\" => Set(Any[2662, 36976, 36962, 22670, 37276, 10884, 37293, 36979, 33243, 4978  …  37254, 37273, 1664, 36982, 15043, 37332, 9728, 36967, 36983, 1839]), \"csharp\" => Set(Any[30593, 32904, 32738, 30438, 30811, 23628, 32230, 23590, 28854, 30960  …  16549, 32522, 31205, 30390, 30587, 29249, 32895, 30418, 9167, 29935]), \"javascript\" => Set(Any[36129, 33992, 35387, 10765, 34305, 34214, 35117, 14084, 34704, 17417  …  35076, 887, 16228, 36798, 37255, 36743, 33881, 36398, 16679, 35011]), \"golang\" => Set(Any[12372, 4522, 7685, 1028, 13360, 13696, 14378, 12255, 12438, 15118  …  13328, 13232, 7511, 15358, 10566, 14233, 15930, 15892, 12278, 14082]), \"Julia\" => Set(Any[33448, 33152, 8690, 8437, 33231, 5800, 33084, 24954, 16888, 33287  …  33275, 2587, 33415, 33618, 33100, 8699, 33127, 8695, 33609, 33433]), \"Python\" => Set(Any[7329, 4700, 4576, 6073, 9773, 2350, 2841, 2876, 7353, 1090  …  7384, 1217, 3555, 4233, 7920, 7506, 4724, 4496, 4159, 2248]), \"bash\" => Set(Any[25499, 25430, 25959, 25816, 25535, 25694, 25702, 25854, 25727, 25532  …  25477, 25904, 25729, 26027, 26084, 25443, 25754, 25482, 8569, 25805]), \"typescript\" => Set(Any[9635, 16392, 17069, 16190, 17338, 16650, 16542, 16540, 17122, 11503  …  16969, 16391, 16770, 35570, 16134, 17123, 35523, 17012, 16462, 16768]), \"rust\" => Set(Any[20448, 18638, 18755, 5975, 22962, 21530, 19546, 22558, 20526, 687  …  20438, 20925, 18477, 21639, 21616, 1711, 17984, 21664, 19700, 11668])…)\n",
       " Dict{Any, Any}(\"dartlang\" => Set(Any[10175, 10168, 10170, 10176, 10298, 10221, 10295, 10292, 10171, 10215  …  10296, 10301, 10386, 10165, 10297, 10169, 10300, 10299, 10302, 10354]), \"SQL\" => Set(Any[33448, 33473, 1855, 33231, 33903, 33075, 32234, 15599, 33340, 33575  …  27334, 33953, 33918, 24785, 33358, 33829, 33618, 33942, 33609, 33636]), \"csharp\" => Set(Any[28809, 26076, 26622, 27711, 26453, 27833, 9140, 28430, 26659, 29998  …  27935, 15926, 28587, 26681, 27687, 29701, 4496, 29249, 27450, 26195]), \"javascript\" => Set(Any[31905, 30438, 32167, 32230, 30960, 31837, 21916, 32353, 33105, 30379  …  32530, 31966, 30607, 32522, 30390, 32372, 7692, 31372, 30418, 31794]), \"golang\" => Set(Any[13311, 14727, 12778, 11801, 13057, 14288, 12953, 13506, 13982, 13334  …  12783, 12084, 12278, 14082, 12390, 11673, 11609, 11668, 11662, 14499]), \"Julia\" => Set(Any[30345, 30060, 30284, 30328, 8200, 30236, 2544, 30352, 4181, 30349  …  30350, 30160, 30281, 30068, 30087, 2545, 30078, 30172, 7295, 30080]), \"Python\" => Set(Any[4700, 4576, 2288, 1956, 2350, 7685, 5975, 3406, 2841, 687  …  3422, 1217, 887, 4233, 4724, 8546, 4159, 5416, 2248, 8992]), \"bash\" => Set(Any[23184, 23302, 23512, 23125, 23223, 23590, 23124, 22962, 23443, 22977  …  23493, 23069, 23501, 23111, 23633, 22986, 23324, 23116, 23308, 23109]), \"typescript\" => Set(Any[15686, 15678, 15954, 32995, 15889, 32992, 15822, 15002, 14916, 15774  …  15154, 15706, 15892, 15191, 15240, 15766, 15271, 26739, 27428, 14977]), \"rust\" => Set(Any[20448, 18638, 14999, 18755, 16610, 16655, 19748, 18374, 16874, 16464  …  20925, 18477, 20193, 16228, 16329, 19969, 18179, 17984, 19700, 298])…)\n",
       " Dict{Any, Any}(\"dartlang\" => Set(Any[11004, 10995, 11001, 10990, 10982, 10802, 10830, 10987, 10766, 10986  …  10985, 11011, 11003, 10936, 10984, 11000, 10999, 10994, 10981, 11002]), \"SQL\" => Set(Any[16656, 21299, 36630, 25727, 36976, 36616, 36624, 33182, 13942, 17925  …  36344, 9286, 36618, 8267, 31108, 27334, 14045, 32372, 36457, 3846]), \"csharp\" => Set(Any[29935, 31905, 30438, 30270, 28430, 28854, 18374, 29998, 31837, 2841  …  27926, 29643, 31852, 27944, 25477, 31966, 28587, 30145, 30418, 15451]), \"javascript\" => Set(Any[34071, 16610, 33236, 35782, 33495, 34214, 35117, 16614, 33368, 33228  …  34086, 36091, 33358, 16549, 16969, 35523, 16679, 33347, 33609, 33473]), \"golang\" => Set(Any[14727, 14888, 14215, 12778, 15889, 12427, 29776, 13982, 13363, 14084  …  149, 15042, 13676, 12709, 13544, 12084, 14332, 15271, 14073, 13536]), \"Julia\" => Set(Any[32897, 33113, 33020, 32889, 33103, 33114, 32900, 32890, 4450, 33068  …  33032, 32886, 32892, 32935, 33108, 33027, 4118, 32895, 1977, 33029]), \"Python\" => Set(Any[4700, 7144, 8690, 1703, 9773, 8437, 2350, 7685, 1956, 5975  …  7920, 1711, 7108, 7506, 4724, 4496, 4159, 5416, 24696, 8602]), \"typescript\" => Set(Any[16216, 16117, 16591, 10732, 36185, 16874, 11964, 17074, 16267, 16695  …  35070, 16664, 35059, 16708, 17075, 3847, 17082, 35057, 16221, 17012]), \"bash\" => Set(Any[25270, 25490, 25260, 25238, 25504, 25310, 24886, 25524, 24927, 25494  …  25503, 25373, 25229, 25214, 25493, 24912, 25244, 25472, 25555, 25252]), \"rust\" => Set(Any[20448, 18638, 18755, 22670, 22962, 19546, 22558, 20526, 17554, 18139  …  17515, 20925, 18477, 21639, 21616, 17984, 21664, 14082, 11668, 14499])…)\n",
       " Dict{Any, Any}(\"dartlang\" => Set(Any[10846, 10763, 10757, 10556, 10525, 11042, 15542, 10738, 10561, 10617  …  25308, 24173, 34513, 10490, 10461, 10660, 10958, 10668, 10676, 10518]), \"SQL\" => Set(Any[29029, 8528, 4454, 38239, 8975, 38511, 39006, 15375, 38100, 9435  …  11907, 38401, 5633, 38422, 5516, 29033, 28587, 38478, 38573, 38238]), \"csharp\" => Set(Any[29935, 26622, 36129, 31905, 30270, 30221, 31837, 29998, 29776, 29914  …  32901, 34229, 33779, 33358, 3847, 29663, 31139, 30145, 33609, 31794]), \"javascript\" => Set(Any[37819, 4700, 37832, 16610, 16540, 5099, 37276, 35117, 37780, 37811  …  16228, 36798, 15930, 15926, 37255, 38037, 35523, 35011, 38115, 35319]), \"golang\" => Set(Any[14727, 14215, 12372, 12778, 11801, 14999, 12560, 16655, 14288, 12716  …  11782, 12196, 12558, 12571, 14233, 12783, 14332, 12390, 11673, 11662]), \"Julia\" => Set(Any[34466, 34597, 34508, 34416, 4829, 34636, 34465, 34458, 34468, 34457  …  34453, 34472, 34506, 34463, 34642, 34464, 34612, 4947, 34643, 34501]), \"Python\" => Set(Any[2288, 8690, 8437, 1956, 2350, 5975, 2841, 2876, 7353, 2015  …  6097, 7384, 3555, 9755, 4233, 7506, 4724, 8546, 5416, 2248]), \"bash\" => Set(Any[26076, 25959, 26243, 25816, 25535, 25735, 25694, 25702, 25532, 25494  …  25551, 26062, 25477, 26131, 25729, 26084, 25747, 25601, 25754, 25805]), \"typescript\" => Set(Any[15954, 15889, 15846, 16500, 10635, 5578, 16026, 16110, 16059, 5531  …  16104, 5559, 15892, 5490, 5544, 38112, 5560, 31998, 4977, 16477]), \"rust\" => Set(Any[23593, 10548, 20448, 18638, 28430, 18755, 22670, 22962, 21530, 18374  …  21766, 20438, 14856, 20925, 18477, 21616, 17984, 21664, 19700, 11668])…)\n",
       " Dict{Any, Any}(\"dartlang\" => Set(Any[11396, 11340, 11399, 11405, 11383, 11568, 11442, 11443, 11400, 11404  …  11482, 11415, 11389, 11546, 11548, 11402, 11394, 11513, 11601, 11558]), \"SQL\" => Set(Any[40533, 40062, 26453, 2004, 32230, 21202, 5845, 39609, 11781, 28317  …  27050, 40465, 11780, 20243, 40174, 40525, 25729, 32994, 22195, 5809]), \"delphi\" => Set(Any[28853, 28879, 28848, 28852, 28910, 28854, 28845, 28846, 28896, 28908  …  28850, 28856, 28909, 28907, 28849, 28914, 28851, 28901, 28847, 28858]), \"csharp\" => Set(Any[34644, 32904, 31905, 1144, 22670, 31837, 30960, 33075, 31129, 33228  …  32901, 34229, 35042, 31966, 33779, 34086, 31139, 32895, 35319, 31794]), \"javascript\" => Set(Any[38051, 18457, 37832, 37100, 37722, 38891, 36624, 38886, 38471, 36739  …  18121, 36933, 12558, 38422, 36798, 36982, 36743, 38037, 38115, 38603]), \"golang\" => Set(Any[10340, 14727, 21500, 16050, 12778, 39773, 2493, 16610, 12953, 17236  …  15892, 15706, 13544, 16549, 16311, 16969, 298, 16679, 13536, 14499]), \"Julia\" => Set(Any[36132, 36149, 36061, 36134, 36067, 36252, 36151, 36138, 36192, 36194  …  36148, 6260, 36145, 36248, 36283, 36147, 36278, 36118, 36150, 36131]), \"Python\" => Set(Any[4986, 8690, 1703, 1956, 2288, 8437, 7685, 2350, 5975, 3406  …  3847, 1711, 7506, 7108, 10808, 4496, 8546, 5416, 8992, 2248]), \"bash\" => Set(Any[27711, 27517, 27815, 27731, 28025, 27842, 27339, 27505, 27563, 27451  …  27813, 27299, 27462, 27304, 27434, 27334, 1148, 472, 27974, 27450]), \"typescript\" => Set(Any[17611, 18967, 39282, 17825, 18762, 17781, 17625, 18654, 18049, 18272  …  18988, 18812, 18059, 14680, 17827, 18522, 17626, 17741, 18060, 18335])…)\n",
       " Dict{Any, Any}(\"dartlang\" => Set(Any[11418, 11434, 402, 11581, 11707, 11364, 11651, 11549, 11383, 11579  …  11325, 11475, 11389, 11476, 11474, 11548, 11698, 11513, 11517, 11424]), \"SQL\" => Set(Any[29935, 41972, 41498, 9676, 32319, 35387, 37906, 17486, 41786, 41636  …  41918, 41997, 42161, 19092, 41841, 32994, 29663, 42288, 29866, 42319]), \"csharp\" => Set(Any[34644, 32904, 37417, 32230, 36962, 35744, 17554, 34671, 18139, 34656  …  33012, 31966, 40827, 34086, 18179, 36743, 18060, 298, 32895, 31794]), \"javascript\" => Set(Any[39270, 38051, 39237, 18638, 39773, 37934, 38784, 39633, 40941, 39607  …  38038, 38253, 40389, 38299, 41015, 41321, 40504, 40250, 38115, 32792]), \"golang\" => Set(Any[14215, 12560, 14288, 15002, 17236, 16464, 17328, 14084, 14323, 16797  …  15421, 10337, 14233, 14795, 15706, 15380, 15271, 14332, 16833, 15432]), \"Julia\" => Set(Any[37592, 37596, 37659, 37712, 37657, 37562, 37722, 37593, 37647, 37693  …  37635, 37618, 5562, 24912, 37630, 37678, 37719, 37570, 37645, 37702]), \"Python\" => Set(Any[4986, 11012, 7329, 4700, 4576, 10548, 6073, 2288, 1703, 1956  …  7108, 10832, 10808, 4724, 4496, 8546, 8992, 2248, 4159, 8602]), \"typescript\" => Set(Any[17737, 18006, 18563, 40062, 18762, 17596, 17872, 18861, 18250, 39654  …  12573, 40926, 18686, 17762, 18616, 18199, 18540, 18696, 18650, 18399]), \"bash\" => Set(Any[28429, 28350, 28844, 29039, 28381, 28338, 28817, 28686, 28967, 28475  …  29083, 28354, 28904, 28491, 28513, 29036, 28713, 28917, 28653, 28460]), \"rust\" => Set(Any[23593, 20448, 23878, 22670, 22962, 21530, 19546, 22558, 20526, 23970  …  23921, 20438, 17515, 20925, 21639, 21616, 21664, 25754, 19700, 24696])…)"
      ]
     },
     "metadata": {},
     "output_type": "display_data"
    }
   ],
   "source": [
    "my_tags_r = [\"rust\" \"elixir\" \"Clojure\" \"typescript\" \"Julia\" \"Python\" \"delphi\" \"golang\" \"SQL\" \"csharp\" \"Kotlin\" \"swift\" \"dartlang\" \"HTML\" \"solidity\" \"javascript\" \"fsharp\" \"bash\" \"lisp\" \"apljk\"]\n",
    "\n",
    "cds_reddit = community_detection(hgs_reddit_labelled)\n",
    "\n",
    "temporal_comms_r, percentages_r = temporal_communities(cds_reddit, 0.05)\n",
    "all_communities_aggregated_r = t_communities_aggregation_reddit(temporal_comms_r, percentages_r, my_tags_r, dfs_processed_reddit)\n"
   ]
  },
  {
   "cell_type": "code",
   "execution_count": 7,
   "metadata": {},
   "outputs": [
    {
     "ename": "UndefVarError",
     "evalue": "UndefVarError: io not defined",
     "output_type": "error",
     "traceback": [
      "UndefVarError: io not defined\n",
      "\n",
      "Stacktrace:\n",
      " [1] top-level scope\n",
      "   @ ~/Documents/vscode/DevCommunities/src/notebook/reddit.ipynb:2"
     ]
    }
   ],
   "source": [
    "for trim in 1:7\n",
    "    write(io, \"intersection\\n\")\n",
    "    for (k, v) in all_communities_aggregated[trim]\n",
    "        if haskey(all_communities_aggregated[trim+1], k)\n",
    "            pre_comm = all_communities_aggregated[trim][k]\n",
    "            post_comm = all_communities_aggregated[trim+1][k]\n",
    "            pre_comm = [get_vertex_meta(hgs[trim], elem) for elem in pre_comm]\n",
    "            post_comm = [get_vertex_meta(hgs[trim+1], elem) for elem in post_comm]\n",
    "            pre_comm = unique(pre_comm)\n",
    "            post_comm = unique(post_comm)\n",
    "            intersezione = intersect(pre_comm, post_comm)\n",
    "            perc = length(intersezione) / length(pre_comm)\n",
    "            #  TAG || LENGTH(PRE_COMM) || LENGTH(POST_COMM) || LENGTH(INTERSECTION) || PERC\n",
    "            write(io, k)\n",
    "            write(io, \",\")\n",
    "            write(io, string(length(pre_comm)))\n",
    "            write(io, \",\")\n",
    "            write(io, string(length(post_comm)))\n",
    "            write(io, \",\")\n",
    "            write(io, string(length(intersezione)))\n",
    "            write(io, \",\")\n",
    "            write(io, string(perc))\n",
    "            write(io, \"\\n\")\n",
    "        end\n",
    "    end\n",
    "    write(io, \"-------\\n\\n\")\n",
    "    write(io, \"Migration \\n\")\n",
    "    # find how many user move from each community to another\n",
    "    for (k, v) in all_communities_aggregated[trim]\n",
    "        if haskey(all_communities_aggregated[trim+1], k)\n",
    "            pre_comm = all_communities_aggregated[trim][k]\n",
    "            post_comm = all_communities_aggregated[trim+1][k]\n",
    "            pre_comm = [get_vertex_meta(hgs[trim], elem) for elem in pre_comm]\n",
    "            post_comm = [get_vertex_meta(hgs[trim+1], elem) for elem in post_comm]\n",
    "            pre_comm = unique(pre_comm)\n",
    "            post_comm = unique(post_comm)\n",
    "            possible_moved = setdiff(pre_comm, post_comm)\n",
    "            for (k2, v2) in all_communities_aggregated[trim+1]\n",
    "                pp_comm = all_communities_aggregated[trim+1][k2]\n",
    "                pp_comm = [get_vertex_meta(hgs[trim+1], elem) for elem in pp_comm]\n",
    "                intersezione = intersect(possible_moved, pp_comm)\n",
    "                if length(intersezione) > 0\n",
    "                    # println(\"MOving from \", k, \" \", length(possible_moved), \" to \", k2, \" \", length(all_communities_aggregated[trim+1][k2]), \" Intersezione \", length(intersezione))\n",
    "                    write(io, k)\n",
    "                    write(io, \",\")\n",
    "                    write(io, string(length(possible_moved)))\n",
    "                    write(io, \",\")\n",
    "                    write(io, k2)\n",
    "                    write(io, \",\")\n",
    "                    write(io, string(length(pp_comm)))\n",
    "                    write(io, \",\")\n",
    "                    write(io, string(length(intersezione)))\n",
    "                    write(io, \"\\n\")\n",
    "                end\n",
    "            end\n",
    "        end\n",
    "        write(io, \"*****\\n\")\n",
    "    end\n",
    "\n",
    "    # user that disappeared from the community\n",
    "    possible_ghost = Set()\n",
    "    set_user1 = Set()\n",
    "    set_user2 = Set()\n",
    "    for (k, v) in all_communities_aggregated[trim]\n",
    "        pre_comm = all_communities_aggregated[trim][k]\n",
    "        pre_comm = [get_vertex_meta(hgs[trim], elem) for elem in pre_comm]\n",
    "        set_user1 = union(set_user1, pre_comm)\n",
    "    end\n",
    "    for (k2, v2) in all_communities_aggregated[trim+1]\n",
    "        post_comm = all_communities_aggregated[trim+1][k2]\n",
    "        post_comm = [get_vertex_meta(hgs[trim+1], elem) for elem in post_comm]\n",
    "        set_user2 = union(set_user2, post_comm)  \n",
    "    end\n",
    "    possible_ghost = setdiff(set_user1, set_user2)\n",
    "    # if length(possible_ghost) > 0\n",
    "        # println(\"User disappeared \", length(possible_ghost))\n",
    "        write(io, \"User disappeared \")\n",
    "        write(io, string(length(possible_ghost)))\n",
    "        write(io, \"\\n\")\n",
    "    # end\n",
    "\n",
    "    new_users = setdiff(set_user2, set_user1)\n",
    "    # if length(new_users) > 0\n",
    "        # println(\"New users \", length(new_users))\n",
    "        write(io, \"New users \")\n",
    "        write(io, string(length(new_users)))\n",
    "        write(io, \"\\n\")\n",
    "    # end\n",
    "end"
   ]
  },
  {
   "attachments": {},
   "cell_type": "markdown",
   "metadata": {},
   "source": [
    "Quantiles"
   ]
  },
  {
   "cell_type": "code",
   "execution_count": null,
   "metadata": {},
   "outputs": [],
   "source": [
    "for i in 1:8\n",
    "    size_communities = length.(cds_reddit[i].np)\n",
    "    v = quantile(size_communities, [0.25, 0.5, 0.75, 0.9])\n",
    "    display(\"trim \" * string(i))\n",
    "    for j in 1:4\n",
    "        display(v[j] * \" \")\n",
    "    end\n",
    "end"
   ]
  }
 ],
 "metadata": {
  "kernelspec": {
   "display_name": "Julia 1.8.3",
   "language": "julia",
   "name": "julia-1.8"
  },
  "language_info": {
   "file_extension": ".jl",
   "mimetype": "application/julia",
   "name": "julia",
   "version": "1.8.3"
  },
  "orig_nbformat": 4,
  "vscode": {
   "interpreter": {
    "hash": "b0fa6594d8f4cbf19f97940f81e996739fb7646882a419484c72d19e05852a7e"
   }
  }
 },
 "nbformat": 4,
 "nbformat_minor": 2
}
