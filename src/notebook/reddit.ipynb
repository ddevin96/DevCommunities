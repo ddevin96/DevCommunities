{
 "cells": [
  {
   "cell_type": "code",
   "execution_count": null,
   "metadata": {},
   "outputs": [],
   "source": [
    "using DevCommunities"
   ]
  },
  {
   "attachments": {},
   "cell_type": "markdown",
   "metadata": {},
   "source": [
    "Build all structures"
   ]
  },
  {
   "cell_type": "code",
   "execution_count": null,
   "metadata": {},
   "outputs": [],
   "source": [
    "hgs_reddit = build_all_hgs(\"reddit\")\n",
    "dfs_raw_reddit = build_raw_dfs(\"reddit\")\n",
    "dfs_processed_reddit = build_all_dfs(\"reddit\")\n",
    "hgs_reddit_labelled = build_all_hgs_labeled_reddit(dfs_processed_reddit, dfs_raw_reddit)\n",
    "println(\"Construction of all structures done\")"
   ]
  },
  {
   "attachments": {},
   "cell_type": "markdown",
   "metadata": {},
   "source": [
    "Community detection"
   ]
  },
  {
   "cell_type": "code",
   "execution_count": null,
   "metadata": {},
   "outputs": [],
   "source": [
    "my_tags_r = [\"rust\" \"elixir\" \"Clojure\" \"typescript\" \"Julia\" \"Python\" \"delphi\" \"golang\" \"SQL\" \"csharp\" \"Kotlin\" \"swift\" \"dartlang\" \"HTML\" \"solidity\" \"javascript\" \"fsharp\" \"bash\" \"lisp\" \"apljk\"]\n",
    "\n",
    "cds_reddit = community_detection(hgs_reddit_labelled)\n",
    "\n",
    "temporal_comms_r, percentages_r = temporal_communities(cds_reddit, 0.05)\n",
    "all_communities_aggregated_r = t_communities_aggregation_reddit(temporal_comms_r, percentages_r, my_tags_r, dfs_processed_reddit)\n"
   ]
  },
  {
   "cell_type": "code",
   "execution_count": null,
   "metadata": {},
   "outputs": [],
   "source": [
    "for trim in 1:7\n",
    "    write(io, \"intersection\\n\")\n",
    "    for (k, v) in all_communities_aggregated[trim]\n",
    "        if haskey(all_communities_aggregated[trim+1], k)\n",
    "            pre_comm = all_communities_aggregated[trim][k]\n",
    "            post_comm = all_communities_aggregated[trim+1][k]\n",
    "            pre_comm = [get_vertex_meta(hgs[trim], elem) for elem in pre_comm]\n",
    "            post_comm = [get_vertex_meta(hgs[trim+1], elem) for elem in post_comm]\n",
    "            pre_comm = unique(pre_comm)\n",
    "            post_comm = unique(post_comm)\n",
    "            intersezione = intersect(pre_comm, post_comm)\n",
    "            perc = length(intersezione) / length(pre_comm)\n",
    "            #  TAG || LENGTH(PRE_COMM) || LENGTH(POST_COMM) || LENGTH(INTERSECTION) || PERC\n",
    "            write(io, k)\n",
    "            write(io, \",\")\n",
    "            write(io, string(length(pre_comm)))\n",
    "            write(io, \",\")\n",
    "            write(io, string(length(post_comm)))\n",
    "            write(io, \",\")\n",
    "            write(io, string(length(intersezione)))\n",
    "            write(io, \",\")\n",
    "            write(io, string(perc))\n",
    "            write(io, \"\\n\")\n",
    "        end\n",
    "    end\n",
    "    write(io, \"-------\\n\\n\")\n",
    "    write(io, \"Migration \\n\")\n",
    "    # find how many user move from each community to another\n",
    "    for (k, v) in all_communities_aggregated[trim]\n",
    "        if haskey(all_communities_aggregated[trim+1], k)\n",
    "            pre_comm = all_communities_aggregated[trim][k]\n",
    "            post_comm = all_communities_aggregated[trim+1][k]\n",
    "            pre_comm = [get_vertex_meta(hgs[trim], elem) for elem in pre_comm]\n",
    "            post_comm = [get_vertex_meta(hgs[trim+1], elem) for elem in post_comm]\n",
    "            pre_comm = unique(pre_comm)\n",
    "            post_comm = unique(post_comm)\n",
    "            possible_moved = setdiff(pre_comm, post_comm)\n",
    "            for (k2, v2) in all_communities_aggregated[trim+1]\n",
    "                pp_comm = all_communities_aggregated[trim+1][k2]\n",
    "                pp_comm = [get_vertex_meta(hgs[trim+1], elem) for elem in pp_comm]\n",
    "                intersezione = intersect(possible_moved, pp_comm)\n",
    "                if length(intersezione) > 0\n",
    "                    # println(\"MOving from \", k, \" \", length(possible_moved), \" to \", k2, \" \", length(all_communities_aggregated[trim+1][k2]), \" Intersezione \", length(intersezione))\n",
    "                    write(io, k)\n",
    "                    write(io, \",\")\n",
    "                    write(io, string(length(possible_moved)))\n",
    "                    write(io, \",\")\n",
    "                    write(io, k2)\n",
    "                    write(io, \",\")\n",
    "                    write(io, string(length(pp_comm)))\n",
    "                    write(io, \",\")\n",
    "                    write(io, string(length(intersezione)))\n",
    "                    write(io, \"\\n\")\n",
    "                end\n",
    "            end\n",
    "        end\n",
    "        write(io, \"*****\\n\")\n",
    "    end\n",
    "\n",
    "    # user that disappeared from the community\n",
    "    possible_ghost = Set()\n",
    "    set_user1 = Set()\n",
    "    set_user2 = Set()\n",
    "    for (k, v) in all_communities_aggregated[trim]\n",
    "        pre_comm = all_communities_aggregated[trim][k]\n",
    "        pre_comm = [get_vertex_meta(hgs[trim], elem) for elem in pre_comm]\n",
    "        set_user1 = union(set_user1, pre_comm)\n",
    "    end\n",
    "    for (k2, v2) in all_communities_aggregated[trim+1]\n",
    "        post_comm = all_communities_aggregated[trim+1][k2]\n",
    "        post_comm = [get_vertex_meta(hgs[trim+1], elem) for elem in post_comm]\n",
    "        set_user2 = union(set_user2, post_comm)  \n",
    "    end\n",
    "    possible_ghost = setdiff(set_user1, set_user2)\n",
    "    # if length(possible_ghost) > 0\n",
    "        # println(\"User disappeared \", length(possible_ghost))\n",
    "        write(io, \"User disappeared \")\n",
    "        write(io, string(length(possible_ghost)))\n",
    "        write(io, \"\\n\")\n",
    "    # end\n",
    "\n",
    "    new_users = setdiff(set_user2, set_user1)\n",
    "    # if length(new_users) > 0\n",
    "        # println(\"New users \", length(new_users))\n",
    "        write(io, \"New users \")\n",
    "        write(io, string(length(new_users)))\n",
    "        write(io, \"\\n\")\n",
    "    # end\n",
    "end"
   ]
  },
  {
   "attachments": {},
   "cell_type": "markdown",
   "metadata": {},
   "source": [
    "Quantiles"
   ]
  },
  {
   "cell_type": "code",
   "execution_count": null,
   "metadata": {},
   "outputs": [],
   "source": [
    "for i in 1:8\n",
    "    size_communities = length.(cds_reddit[i].np)\n",
    "    v = quantile(size_communities, [0.25, 0.5, 0.75, 0.9])\n",
    "    display(\"trim \" * string(i))\n",
    "    for j in 1:4\n",
    "        display(v[j] * \" \")\n",
    "    end\n",
    "end"
   ]
  }
 ],
 "metadata": {
  "kernelspec": {
   "display_name": "Julia 1.8.3",
   "language": "julia",
   "name": "julia-1.8"
  },
  "language_info": {
   "file_extension": ".jl",
   "mimetype": "application/julia",
   "name": "julia",
   "version": "1.8.3"
  },
  "orig_nbformat": 4,
  "vscode": {
   "interpreter": {
    "hash": "b0fa6594d8f4cbf19f97940f81e996739fb7646882a419484c72d19e05852a7e"
   }
  }
 },
 "nbformat": 4,
 "nbformat_minor": 2
}
