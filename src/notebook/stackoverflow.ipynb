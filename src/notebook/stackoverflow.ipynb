{
 "cells": [
  {
   "cell_type": "code",
   "execution_count": null,
   "metadata": {},
   "outputs": [],
   "source": [
    "using DevCommunities"
   ]
  },
  {
   "cell_type": "code",
   "execution_count": null,
   "metadata": {},
   "outputs": [],
   "source": [
    "##\n",
    "## build of all structures \n",
    "##\n",
    "\n",
    "hgs_stackoverflow = build_all_hgs(\"stackoverflow\")\n",
    "dfs_raw_stackoverflow = build_raw_dfs(\"stackoverflow\")\n",
    "dfs_processed_stackoverflow = build_all_dfs(\"stackoverflow\")\n",
    "hgs_stackoverflow_labelled = build_all_hgs_labeled_stackoverflow(dfs_processed_stackoverflow, dfs_raw_stackoverflow)\n",
    "\n",
    "############################################\n",
    "# check if the hgs don't have empty label for each vertex or hyperedge\n",
    "check_hgs_labelled(hgs_stackoverflow_labelled)\n",
    "############################################"
   ]
  },
  {
   "cell_type": "code",
   "execution_count": null,
   "metadata": {},
   "outputs": [],
   "source": [
    "##\n",
    "## community detection\n",
    "##\n",
    "my_tags_so = [\"rust\" \"elixir\" \"clojure\" \"typescript\" \"julia\" \"python\" \"delphi\" \"go\" \"sql\" \"c#\" \"kotlin\" \"swift\" \"dart\" \"html\" \"solidity\" \"javascript\" \"f#\" \"bash\" \"lisp\" \"apl\"]\n",
    "\n",
    "cds_stackoverflow = community_detection(hgs_stackoverflow_labelled)\n",
    "qs = quantiles(cds_stackoverflow, \"stackoverflow\")\n",
    "\n",
    "temporal_comms_s, percentages_s = temporal_communities(cds_stackoverflow, 0.05)\n",
    "all_communities_aggregated_s, all_tags = t_communities_aggregation_stackoverflow(temporal_comms_s, percentages_s, my_tags_so, dfs_processed_stackoverflow)\n",
    "\n",
    "communities_between_trimesters(all_communities_aggregated_s, hgs_stackoverflow_labelled, \"stackoverflow\")\n",
    "\n",
    "############################################\n",
    "\n",
    "##\n",
    "## stats on hgs and dfs\n",
    "## \n",
    "\n",
    "# operations on hgs\n",
    "dimension_hgs_bar_chart(hgs_stackoverflow)\n",
    "size_distribution_chart(hgs_stackoverflow)\n",
    "degree_distribution_chart(hgs_stackoverflow)\n",
    "\n",
    "# # operations on dfs processed\n",
    "popularity_stackoverflow(dfs_processed_stackoverflow)\n",
    "total_user_x_tag_stackoverflow(dfs_processed_stackoverflow)\n",
    "user_x_tag_over_time_stackoverflow(dfs_processed_stackoverflow)\n",
    "span_hours_stackoverflow(dfs_processed_stackoverflow)\n",
    "mean_total_comments_stackoverflow(dfs_processed_stackoverflow)\n",
    "\n"
   ]
  }
 ],
 "metadata": {
  "kernelspec": {
   "display_name": "Julia 1.8.3",
   "language": "julia",
   "name": "julia-1.8"
  },
  "language_info": {
   "name": "julia",
   "version": "3.10.10"
  },
  "orig_nbformat": 4,
  "vscode": {
   "interpreter": {
    "hash": "b0fa6594d8f4cbf19f97940f81e996739fb7646882a419484c72d19e05852a7e"
   }
  }
 },
 "nbformat": 4,
 "nbformat_minor": 2
}
