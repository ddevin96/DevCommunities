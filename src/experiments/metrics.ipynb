{
 "cells": [
  {
   "cell_type": "code",
   "execution_count": 5,
   "metadata": {},
   "outputs": [],
   "source": [
    "using CSV\n",
    "using DataFrames\n",
    "using Dates\n",
    "# df.head()"
   ]
  },
  {
   "cell_type": "code",
   "execution_count": 15,
   "metadata": {},
   "outputs": [
    {
     "data": {
      "text/html": [
       "<div><div style = \"float: left;\"><span>734827×4 DataFrame</span></div><div style = \"float: right;\"><span style = \"font-style: italic;\">734802 rows omitted</span></div><div style = \"clear: both;\"></div></div><div class = \"data-frame\" style = \"overflow-x: scroll;\"><table class = \"data-frame\" style = \"margin-bottom: 6px;\"><thead><tr class = \"header\"><th class = \"rowNumber\" style = \"font-weight: bold; text-align: right;\">Row</th><th style = \"text-align: left;\">id</th><th style = \"text-align: left;\">creation_date</th><th style = \"text-align: left;\">reputation</th><th style = \"text-align: left;\">last_access_date</th></tr><tr class = \"subheader headerLastRow\"><th class = \"rowNumber\" style = \"font-weight: bold; text-align: right;\"></th><th title = \"Int64\" style = \"text-align: left;\">Int64</th><th title = \"String\" style = \"text-align: left;\">String</th><th title = \"Int64\" style = \"text-align: left;\">Int64</th><th title = \"String\" style = \"text-align: left;\">String</th></tr></thead><tbody><tr><td class = \"rowNumber\" style = \"font-weight: bold; text-align: right;\">1</td><td style = \"text-align: right;\">1636458</td><td style = \"text-align: left;\">2012-08-30 15:24:43.500000+00:00</td><td style = \"text-align: right;\">364</td><td style = \"text-align: left;\">2022-04-13 22:06:04.530000+00:00</td></tr><tr><td class = \"rowNumber\" style = \"font-weight: bold; text-align: right;\">2</td><td style = \"text-align: right;\">12496888</td><td style = \"text-align: left;\">2019-12-07 16:07:27.443000+00:00</td><td style = \"text-align: right;\">65</td><td style = \"text-align: left;\">2022-09-20 02:26:29.900000+00:00</td></tr><tr><td class = \"rowNumber\" style = \"font-weight: bold; text-align: right;\">3</td><td style = \"text-align: right;\">4191561</td><td style = \"text-align: left;\">2014-10-28 20:28:13.520000+00:00</td><td style = \"text-align: right;\">1024</td><td style = \"text-align: left;\">2022-09-24 23:28:32.883000+00:00</td></tr><tr><td class = \"rowNumber\" style = \"font-weight: bold; text-align: right;\">4</td><td style = \"text-align: right;\">9467113</td><td style = \"text-align: left;\">2018-03-09 10:46:56.293000+00:00</td><td style = \"text-align: right;\">187</td><td style = \"text-align: left;\">2022-08-27 10:29:36.683000+00:00</td></tr><tr><td class = \"rowNumber\" style = \"font-weight: bold; text-align: right;\">5</td><td style = \"text-align: right;\">12165242</td><td style = \"text-align: left;\">2019-10-04 15:17:50.777000+00:00</td><td style = \"text-align: right;\">254</td><td style = \"text-align: left;\">2022-09-10 08:51:46.290000+00:00</td></tr><tr><td class = \"rowNumber\" style = \"font-weight: bold; text-align: right;\">6</td><td style = \"text-align: right;\">9220300</td><td style = \"text-align: left;\">2018-01-15 16:15:46.903000+00:00</td><td style = \"text-align: right;\">45</td><td style = \"text-align: left;\">2022-09-23 08:51:50.020000+00:00</td></tr><tr><td class = \"rowNumber\" style = \"font-weight: bold; text-align: right;\">7</td><td style = \"text-align: right;\">6130275</td><td style = \"text-align: left;\">2016-03-29 15:54:14.237000+00:00</td><td style = \"text-align: right;\">198</td><td style = \"text-align: left;\">2022-09-22 23:33:47.753000+00:00</td></tr><tr><td class = \"rowNumber\" style = \"font-weight: bold; text-align: right;\">8</td><td style = \"text-align: right;\">13518731</td><td style = \"text-align: left;\">2020-05-11 14:41:43.847000+00:00</td><td style = \"text-align: right;\">83</td><td style = \"text-align: left;\">2022-02-03 17:08:01.927000+00:00</td></tr><tr><td class = \"rowNumber\" style = \"font-weight: bold; text-align: right;\">9</td><td style = \"text-align: right;\">15777370</td><td style = \"text-align: left;\">2021-04-27 14:56:53.313000+00:00</td><td style = \"text-align: right;\">1918</td><td style = \"text-align: left;\">2022-09-24 20:33:36+00:00</td></tr><tr><td class = \"rowNumber\" style = \"font-weight: bold; text-align: right;\">10</td><td style = \"text-align: right;\">2302032</td><td style = \"text-align: left;\">2013-04-20 11:50:03.687000+00:00</td><td style = \"text-align: right;\">8241</td><td style = \"text-align: left;\">2022-09-24 18:39:41.560000+00:00</td></tr><tr><td class = \"rowNumber\" style = \"font-weight: bold; text-align: right;\">11</td><td style = \"text-align: right;\">16580236</td><td style = \"text-align: left;\">2021-08-02 18:46:06.350000+00:00</td><td style = \"text-align: right;\">81</td><td style = \"text-align: left;\">2022-09-20 13:32:07.980000+00:00</td></tr><tr><td class = \"rowNumber\" style = \"font-weight: bold; text-align: right;\">12</td><td style = \"text-align: right;\">11276416</td><td style = \"text-align: left;\">2019-03-29 08:25:04.760000+00:00</td><td style = \"text-align: right;\">6025</td><td style = \"text-align: left;\">2022-09-21 09:50:46.487000+00:00</td></tr><tr><td class = \"rowNumber\" style = \"font-weight: bold; text-align: right;\">13</td><td style = \"text-align: right;\">2080486</td><td style = \"text-align: left;\">2013-02-17 13:24:51.407000+00:00</td><td style = \"text-align: right;\">967</td><td style = \"text-align: left;\">2022-09-24 14:40:35.087000+00:00</td></tr><tr><td style = \"text-align: right;\">&vellip;</td><td style = \"text-align: right;\">&vellip;</td><td style = \"text-align: right;\">&vellip;</td><td style = \"text-align: right;\">&vellip;</td><td style = \"text-align: right;\">&vellip;</td></tr><tr><td class = \"rowNumber\" style = \"font-weight: bold; text-align: right;\">734816</td><td style = \"text-align: right;\">3643309</td><td style = \"text-align: left;\">2014-05-16 04:17:12.800000+00:00</td><td style = \"text-align: right;\">51</td><td style = \"text-align: left;\">2022-08-07 18:20:04.233000+00:00</td></tr><tr><td class = \"rowNumber\" style = \"font-weight: bold; text-align: right;\">734817</td><td style = \"text-align: right;\">14583597</td><td style = \"text-align: left;\">2020-11-05 12:36:41.063000+00:00</td><td style = \"text-align: right;\">51</td><td style = \"text-align: left;\">2022-05-01 18:31:36.803000+00:00</td></tr><tr><td class = \"rowNumber\" style = \"font-weight: bold; text-align: right;\">734818</td><td style = \"text-align: right;\">1714941</td><td style = \"text-align: left;\">2012-10-02 16:35:00.277000+00:00</td><td style = \"text-align: right;\">51</td><td style = \"text-align: left;\">2022-04-29 16:24:44.230000+00:00</td></tr><tr><td class = \"rowNumber\" style = \"font-weight: bold; text-align: right;\">734819</td><td style = \"text-align: right;\">15098457</td><td style = \"text-align: left;\">2021-01-28 11:28:03.123000+00:00</td><td style = \"text-align: right;\">51</td><td style = \"text-align: left;\">2022-02-07 10:22:09.297000+00:00</td></tr><tr><td class = \"rowNumber\" style = \"font-weight: bold; text-align: right;\">734820</td><td style = \"text-align: right;\">17618492</td><td style = \"text-align: left;\">2021-12-07 19:44:39.307000+00:00</td><td style = \"text-align: right;\">51</td><td style = \"text-align: left;\">2022-08-14 23:04:45.353000+00:00</td></tr><tr><td class = \"rowNumber\" style = \"font-weight: bold; text-align: right;\">734821</td><td style = \"text-align: right;\">7807533</td><td style = \"text-align: left;\">2017-04-03 08:35:59.950000+00:00</td><td style = \"text-align: right;\">51</td><td style = \"text-align: left;\">2022-09-19 11:33:13.793000+00:00</td></tr><tr><td class = \"rowNumber\" style = \"font-weight: bold; text-align: right;\">734822</td><td style = \"text-align: right;\">6293370</td><td style = \"text-align: left;\">2016-05-05 01:04:51.953000+00:00</td><td style = \"text-align: right;\">51</td><td style = \"text-align: left;\">2021-06-24 15:18:13.887000+00:00</td></tr><tr><td class = \"rowNumber\" style = \"font-weight: bold; text-align: right;\">734823</td><td style = \"text-align: right;\">13598744</td><td style = \"text-align: left;\">2020-05-22 19:19:42.860000+00:00</td><td style = \"text-align: right;\">51</td><td style = \"text-align: left;\">2022-09-21 05:53:12.890000+00:00</td></tr><tr><td class = \"rowNumber\" style = \"font-weight: bold; text-align: right;\">734824</td><td style = \"text-align: right;\">16485394</td><td style = \"text-align: left;\">2021-07-20 05:20:22.030000+00:00</td><td style = \"text-align: right;\">51</td><td style = \"text-align: left;\">2021-07-20 06:31:57.823000+00:00</td></tr><tr><td class = \"rowNumber\" style = \"font-weight: bold; text-align: right;\">734825</td><td style = \"text-align: right;\">15516339</td><td style = \"text-align: left;\">2021-03-30 17:53:58.893000+00:00</td><td style = \"text-align: right;\">51</td><td style = \"text-align: left;\">2022-09-19 08:40:34.070000+00:00</td></tr><tr><td class = \"rowNumber\" style = \"font-weight: bold; text-align: right;\">734826</td><td style = \"text-align: right;\">17457067</td><td style = \"text-align: left;\">2021-11-19 13:20:13.770000+00:00</td><td style = \"text-align: right;\">51</td><td style = \"text-align: left;\">2022-09-23 14:29:37.447000+00:00</td></tr><tr><td class = \"rowNumber\" style = \"font-weight: bold; text-align: right;\">734827</td><td style = \"text-align: right;\">14838387</td><td style = \"text-align: left;\">2020-12-16 15:52:43.587000+00:00</td><td style = \"text-align: right;\">51</td><td style = \"text-align: left;\">2022-08-09 03:14:52.283000+00:00</td></tr></tbody></table></div>"
      ],
      "text/latex": [
       "\\begin{tabular}{r|cccc}\n",
       "\t& id & creation\\_date & reputation & last\\_access\\_date\\\\\n",
       "\t\\hline\n",
       "\t& Int64 & String & Int64 & String\\\\\n",
       "\t\\hline\n",
       "\t1 & 1636458 & 2012-08-30 15:24:43.500000+00:00 & 364 & 2022-04-13 22:06:04.530000+00:00 \\\\\n",
       "\t2 & 12496888 & 2019-12-07 16:07:27.443000+00:00 & 65 & 2022-09-20 02:26:29.900000+00:00 \\\\\n",
       "\t3 & 4191561 & 2014-10-28 20:28:13.520000+00:00 & 1024 & 2022-09-24 23:28:32.883000+00:00 \\\\\n",
       "\t4 & 9467113 & 2018-03-09 10:46:56.293000+00:00 & 187 & 2022-08-27 10:29:36.683000+00:00 \\\\\n",
       "\t5 & 12165242 & 2019-10-04 15:17:50.777000+00:00 & 254 & 2022-09-10 08:51:46.290000+00:00 \\\\\n",
       "\t6 & 9220300 & 2018-01-15 16:15:46.903000+00:00 & 45 & 2022-09-23 08:51:50.020000+00:00 \\\\\n",
       "\t7 & 6130275 & 2016-03-29 15:54:14.237000+00:00 & 198 & 2022-09-22 23:33:47.753000+00:00 \\\\\n",
       "\t8 & 13518731 & 2020-05-11 14:41:43.847000+00:00 & 83 & 2022-02-03 17:08:01.927000+00:00 \\\\\n",
       "\t9 & 15777370 & 2021-04-27 14:56:53.313000+00:00 & 1918 & 2022-09-24 20:33:36+00:00 \\\\\n",
       "\t10 & 2302032 & 2013-04-20 11:50:03.687000+00:00 & 8241 & 2022-09-24 18:39:41.560000+00:00 \\\\\n",
       "\t11 & 16580236 & 2021-08-02 18:46:06.350000+00:00 & 81 & 2022-09-20 13:32:07.980000+00:00 \\\\\n",
       "\t12 & 11276416 & 2019-03-29 08:25:04.760000+00:00 & 6025 & 2022-09-21 09:50:46.487000+00:00 \\\\\n",
       "\t13 & 2080486 & 2013-02-17 13:24:51.407000+00:00 & 967 & 2022-09-24 14:40:35.087000+00:00 \\\\\n",
       "\t14 & 14026460 & 2020-07-31 04:07:00.577000+00:00 & 417 & 2021-09-19 06:40:29.383000+00:00 \\\\\n",
       "\t15 & 11223547 & 2019-03-19 00:26:50.200000+00:00 & 329 & 2022-09-24 14:58:08.023000+00:00 \\\\\n",
       "\t16 & 2708519 & 2013-08-22 18:22:09.847000+00:00 & 1398 & 2022-09-23 00:20:56.383000+00:00 \\\\\n",
       "\t17 & 16692041 & 2021-08-17 22:14:23.660000+00:00 & 93 & 2022-05-08 20:12:03.140000+00:00 \\\\\n",
       "\t18 & 12348584 & 2019-11-09 18:45:01.393000+00:00 & 3388 & 2022-09-25 03:59:47.933000+00:00 \\\\\n",
       "\t19 & 14280831 & 2020-09-15 11:06:44.687000+00:00 & 1746 & 2022-09-13 11:19:15.153000+00:00 \\\\\n",
       "\t20 & 2780744 & 2013-09-15 07:14:23.027000+00:00 & 2171 & 2022-09-23 16:48:13.657000+00:00 \\\\\n",
       "\t21 & 5481621 & 2015-10-23 20:05:14.253000+00:00 & 1654 & 2022-09-23 12:41:58.497000+00:00 \\\\\n",
       "\t22 & 15695085 & 2021-04-19 15:51:05.373000+00:00 & 176 & 2022-09-05 05:38:22.097000+00:00 \\\\\n",
       "\t23 & 16245716 & 2021-06-16 17:25:34.620000+00:00 & 28 & 2021-11-24 03:47:19.133000+00:00 \\\\\n",
       "\t24 & 11469656 & 2019-05-08 10:43:11.540000+00:00 & 414 & 2022-09-16 15:52:48.793000+00:00 \\\\\n",
       "\t$\\dots$ & $\\dots$ & $\\dots$ & $\\dots$ & $\\dots$ \\\\\n",
       "\\end{tabular}\n"
      ],
      "text/plain": [
       "\u001b[1m734827×4 DataFrame\u001b[0m\n",
       "\u001b[1m    Row \u001b[0m│\u001b[1m id       \u001b[0m\u001b[1m creation_date                    \u001b[0m\u001b[1m reputation \u001b[0m\u001b[1m last_access_\u001b[0m ⋯\n",
       "        │\u001b[90m Int64    \u001b[0m\u001b[90m String                           \u001b[0m\u001b[90m Int64      \u001b[0m\u001b[90m String      \u001b[0m ⋯\n",
       "────────┼───────────────────────────────────────────────────────────────────────\n",
       "      1 │  1636458  2012-08-30 15:24:43.500000+00:00         364  2022-04-13 2 ⋯\n",
       "      2 │ 12496888  2019-12-07 16:07:27.443000+00:00          65  2022-09-20 0\n",
       "      3 │  4191561  2014-10-28 20:28:13.520000+00:00        1024  2022-09-24 2\n",
       "      4 │  9467113  2018-03-09 10:46:56.293000+00:00         187  2022-08-27 1\n",
       "      5 │ 12165242  2019-10-04 15:17:50.777000+00:00         254  2022-09-10 0 ⋯\n",
       "      6 │  9220300  2018-01-15 16:15:46.903000+00:00          45  2022-09-23 0\n",
       "      7 │  6130275  2016-03-29 15:54:14.237000+00:00         198  2022-09-22 2\n",
       "      8 │ 13518731  2020-05-11 14:41:43.847000+00:00          83  2022-02-03 1\n",
       "   ⋮    │    ⋮                     ⋮                      ⋮                    ⋱\n",
       " 734821 │  7807533  2017-04-03 08:35:59.950000+00:00          51  2022-09-19 1 ⋯\n",
       " 734822 │  6293370  2016-05-05 01:04:51.953000+00:00          51  2021-06-24 1\n",
       " 734823 │ 13598744  2020-05-22 19:19:42.860000+00:00          51  2022-09-21 0\n",
       " 734824 │ 16485394  2021-07-20 05:20:22.030000+00:00          51  2021-07-20 0\n",
       " 734825 │ 15516339  2021-03-30 17:53:58.893000+00:00          51  2022-09-19 0 ⋯\n",
       " 734826 │ 17457067  2021-11-19 13:20:13.770000+00:00          51  2022-09-23 1\n",
       " 734827 │ 14838387  2020-12-16 15:52:43.587000+00:00          51  2022-08-09 0\n",
       "\u001b[36m                                                1 column and 734812 rows omitted\u001b[0m"
      ]
     },
     "metadata": {},
     "output_type": "display_data"
    }
   ],
   "source": [
    "path = \"/Users/ddevin/Documents/vscode/DevCommunities/data/stackoverflow/userTRUE.csv\"\n",
    "df = DataFrame(CSV.File(path))"
   ]
  },
  {
   "cell_type": "code",
   "execution_count": 16,
   "metadata": {},
   "outputs": [
    {
     "data": {
      "text/plain": [
       "\"/Users/ddevin/Documents/vscode/DevCommunities/data/stackoverflow/userTRUE_span.csv\""
      ]
     },
     "metadata": {},
     "output_type": "display_data"
    }
   ],
   "source": [
    "df.creation_date = replace.(df.creation_date, r\"\\..*\" => \"\")\n",
    "df.creation_date = replace.(df.creation_date, r\"\\+00:00\" => \"\")\n",
    "df.last_access_date = replace.(df.last_access_date, r\"\\..*\" => \"\")\n",
    "df.last_access_date = replace.(df.last_access_date, r\"\\+00:00\" => \"\")\n",
    "myFormat = Dates.DateFormat(\"yyyy-mm-dd HH:MM:SS\")\n",
    "df.creation_date = Dates.DateTime.(df.creation_date , myFormat) # 185722\n",
    "df.last_access_date = Dates.DateTime.(df.last_access_date , myFormat)\n",
    "df.temporal_hours = (df.last_access_date .- df.creation_date)\n",
    "# # CONVERSION TO HOURS\n",
    "df.temporal_hours = (df.temporal_hours .÷ 3600000)\n",
    "# # CONVERSION TO DAYS\n",
    "df.temporal_days = (df.last_access_date .- df.creation_date)\n",
    "df.temporal_days = (df.temporal_days .÷ 86400000)\n",
    "df.temporal_hours = Dates.value.(df.temporal_hours)\n",
    "df.temporal_days = Dates.value.(df.temporal_days)\n",
    "\n",
    "# save to csv\n",
    "CSV.write(\"/Users/ddevin/Documents/vscode/DevCommunities/data/stackoverflow/userTRUE_span.csv\", df)"
   ]
  }
 ],
 "metadata": {
  "kernelspec": {
   "display_name": "Julia 1.8.3",
   "language": "julia",
   "name": "julia-1.8"
  },
  "language_info": {
   "file_extension": ".jl",
   "mimetype": "application/julia",
   "name": "julia",
   "version": "1.8.3"
  }
 },
 "nbformat": 4,
 "nbformat_minor": 2
}
